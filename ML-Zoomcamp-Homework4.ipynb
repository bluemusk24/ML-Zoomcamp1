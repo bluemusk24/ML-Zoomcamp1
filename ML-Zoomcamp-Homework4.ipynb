{
 "cells": [
  {
   "cell_type": "code",
   "execution_count": 78,
   "id": "622b6bfe",
   "metadata": {},
   "outputs": [],
   "source": [
    "import pandas as pd\n",
    "import numpy as np\n",
    "from matplotlib import pyplot as plt\n",
    "%matplotlib inline\n",
    "import seaborn as sns "
   ]
  },
  {
   "cell_type": "code",
   "execution_count": 410,
   "id": "3f12eb66",
   "metadata": {},
   "outputs": [
    {
     "data": {
      "text/html": [
       "<div>\n",
       "<style scoped>\n",
       "    .dataframe tbody tr th:only-of-type {\n",
       "        vertical-align: middle;\n",
       "    }\n",
       "\n",
       "    .dataframe tbody tr th {\n",
       "        vertical-align: top;\n",
       "    }\n",
       "\n",
       "    .dataframe thead th {\n",
       "        text-align: right;\n",
       "    }\n",
       "</style>\n",
       "<table border=\"1\" class=\"dataframe\">\n",
       "  <thead>\n",
       "    <tr style=\"text-align: right;\">\n",
       "      <th></th>\n",
       "      <th>Make</th>\n",
       "      <th>Model</th>\n",
       "      <th>Year</th>\n",
       "      <th>Engine Fuel Type</th>\n",
       "      <th>Engine HP</th>\n",
       "      <th>Engine Cylinders</th>\n",
       "      <th>Transmission Type</th>\n",
       "      <th>Driven_Wheels</th>\n",
       "      <th>Number of Doors</th>\n",
       "      <th>Market Category</th>\n",
       "      <th>Vehicle Size</th>\n",
       "      <th>Vehicle Style</th>\n",
       "      <th>highway MPG</th>\n",
       "      <th>city mpg</th>\n",
       "      <th>Popularity</th>\n",
       "      <th>MSRP</th>\n",
       "    </tr>\n",
       "  </thead>\n",
       "  <tbody>\n",
       "    <tr>\n",
       "      <th>0</th>\n",
       "      <td>BMW</td>\n",
       "      <td>1 Series M</td>\n",
       "      <td>2011</td>\n",
       "      <td>premium unleaded (required)</td>\n",
       "      <td>335.0</td>\n",
       "      <td>6.0</td>\n",
       "      <td>MANUAL</td>\n",
       "      <td>rear wheel drive</td>\n",
       "      <td>2.0</td>\n",
       "      <td>Factory Tuner,Luxury,High-Performance</td>\n",
       "      <td>Compact</td>\n",
       "      <td>Coupe</td>\n",
       "      <td>26</td>\n",
       "      <td>19</td>\n",
       "      <td>3916</td>\n",
       "      <td>46135</td>\n",
       "    </tr>\n",
       "    <tr>\n",
       "      <th>1</th>\n",
       "      <td>BMW</td>\n",
       "      <td>1 Series</td>\n",
       "      <td>2011</td>\n",
       "      <td>premium unleaded (required)</td>\n",
       "      <td>300.0</td>\n",
       "      <td>6.0</td>\n",
       "      <td>MANUAL</td>\n",
       "      <td>rear wheel drive</td>\n",
       "      <td>2.0</td>\n",
       "      <td>Luxury,Performance</td>\n",
       "      <td>Compact</td>\n",
       "      <td>Convertible</td>\n",
       "      <td>28</td>\n",
       "      <td>19</td>\n",
       "      <td>3916</td>\n",
       "      <td>40650</td>\n",
       "    </tr>\n",
       "    <tr>\n",
       "      <th>2</th>\n",
       "      <td>BMW</td>\n",
       "      <td>1 Series</td>\n",
       "      <td>2011</td>\n",
       "      <td>premium unleaded (required)</td>\n",
       "      <td>300.0</td>\n",
       "      <td>6.0</td>\n",
       "      <td>MANUAL</td>\n",
       "      <td>rear wheel drive</td>\n",
       "      <td>2.0</td>\n",
       "      <td>Luxury,High-Performance</td>\n",
       "      <td>Compact</td>\n",
       "      <td>Coupe</td>\n",
       "      <td>28</td>\n",
       "      <td>20</td>\n",
       "      <td>3916</td>\n",
       "      <td>36350</td>\n",
       "    </tr>\n",
       "    <tr>\n",
       "      <th>3</th>\n",
       "      <td>BMW</td>\n",
       "      <td>1 Series</td>\n",
       "      <td>2011</td>\n",
       "      <td>premium unleaded (required)</td>\n",
       "      <td>230.0</td>\n",
       "      <td>6.0</td>\n",
       "      <td>MANUAL</td>\n",
       "      <td>rear wheel drive</td>\n",
       "      <td>2.0</td>\n",
       "      <td>Luxury,Performance</td>\n",
       "      <td>Compact</td>\n",
       "      <td>Coupe</td>\n",
       "      <td>28</td>\n",
       "      <td>18</td>\n",
       "      <td>3916</td>\n",
       "      <td>29450</td>\n",
       "    </tr>\n",
       "    <tr>\n",
       "      <th>4</th>\n",
       "      <td>BMW</td>\n",
       "      <td>1 Series</td>\n",
       "      <td>2011</td>\n",
       "      <td>premium unleaded (required)</td>\n",
       "      <td>230.0</td>\n",
       "      <td>6.0</td>\n",
       "      <td>MANUAL</td>\n",
       "      <td>rear wheel drive</td>\n",
       "      <td>2.0</td>\n",
       "      <td>Luxury</td>\n",
       "      <td>Compact</td>\n",
       "      <td>Convertible</td>\n",
       "      <td>28</td>\n",
       "      <td>18</td>\n",
       "      <td>3916</td>\n",
       "      <td>34500</td>\n",
       "    </tr>\n",
       "  </tbody>\n",
       "</table>\n",
       "</div>"
      ],
      "text/plain": [
       "  Make       Model  Year             Engine Fuel Type  Engine HP  \\\n",
       "0  BMW  1 Series M  2011  premium unleaded (required)      335.0   \n",
       "1  BMW    1 Series  2011  premium unleaded (required)      300.0   \n",
       "2  BMW    1 Series  2011  premium unleaded (required)      300.0   \n",
       "3  BMW    1 Series  2011  premium unleaded (required)      230.0   \n",
       "4  BMW    1 Series  2011  premium unleaded (required)      230.0   \n",
       "\n",
       "   Engine Cylinders Transmission Type     Driven_Wheels  Number of Doors  \\\n",
       "0               6.0            MANUAL  rear wheel drive              2.0   \n",
       "1               6.0            MANUAL  rear wheel drive              2.0   \n",
       "2               6.0            MANUAL  rear wheel drive              2.0   \n",
       "3               6.0            MANUAL  rear wheel drive              2.0   \n",
       "4               6.0            MANUAL  rear wheel drive              2.0   \n",
       "\n",
       "                         Market Category Vehicle Size Vehicle Style  \\\n",
       "0  Factory Tuner,Luxury,High-Performance      Compact         Coupe   \n",
       "1                     Luxury,Performance      Compact   Convertible   \n",
       "2                Luxury,High-Performance      Compact         Coupe   \n",
       "3                     Luxury,Performance      Compact         Coupe   \n",
       "4                                 Luxury      Compact   Convertible   \n",
       "\n",
       "   highway MPG  city mpg  Popularity   MSRP  \n",
       "0           26        19        3916  46135  \n",
       "1           28        19        3916  40650  \n",
       "2           28        20        3916  36350  \n",
       "3           28        18        3916  29450  \n",
       "4           28        18        3916  34500  "
      ]
     },
     "execution_count": 410,
     "metadata": {},
     "output_type": "execute_result"
    }
   ],
   "source": [
    "df = pd.read_csv(\"C:\\\\Users\\\\emman\\\\Desktop\\\\ML-Zoomcamp  projects\\\\car price prediction data.csv\")\n",
    "df.head()"
   ]
  },
  {
   "cell_type": "markdown",
   "id": "27594b11",
   "metadata": {},
   "source": [
    "#Data prep:\n",
    "\n",
    "#Keep only the columns needed\n",
    "\n",
    "#Lowercase the column names and replace spaces with underscores\n",
    "\n",
    "#Fill the missing values with 0\n",
    "\n",
    "#Make the price binary (1 if above the average, 0 otherwise) - this will be our target variable above_average\n",
    "\n",
    "#Split the data into 3 parts: train/validation/test with 60%/20%/20% distribution. Use train_test_split function for that with random_state=1"
   ]
  },
  {
   "cell_type": "code",
   "execution_count": 411,
   "id": "c07eee85",
   "metadata": {},
   "outputs": [
    {
     "name": "stdout",
     "output_type": "stream",
     "text": [
      "<class 'pandas.core.frame.DataFrame'>\n",
      "RangeIndex: 11914 entries, 0 to 11913\n",
      "Data columns (total 10 columns):\n",
      " #   Column             Non-Null Count  Dtype  \n",
      "---  ------             --------------  -----  \n",
      " 0   Make               11914 non-null  object \n",
      " 1   Model              11914 non-null  object \n",
      " 2   Year               11914 non-null  int64  \n",
      " 3   Engine HP          11845 non-null  float64\n",
      " 4   Engine Cylinders   11884 non-null  float64\n",
      " 5   Transmission Type  11914 non-null  object \n",
      " 6   Vehicle Style      11914 non-null  object \n",
      " 7   highway MPG        11914 non-null  int64  \n",
      " 8   city mpg           11914 non-null  int64  \n",
      " 9   MSRP               11914 non-null  int64  \n",
      "dtypes: float64(2), int64(4), object(4)\n",
      "memory usage: 930.9+ KB\n"
     ]
    }
   ],
   "source": [
    "data = df.drop(['Engine Fuel Type','Driven_Wheels',\n",
    "       'Number of Doors', 'Market Category', 'Vehicle Size', 'Popularity'], axis=1)\n",
    "data.info()"
   ]
  },
  {
   "cell_type": "code",
   "execution_count": 412,
   "id": "a5c98a9a",
   "metadata": {},
   "outputs": [],
   "source": [
    "data.columns = data.columns.str.lower().str.replace(' ','_')\n",
    "data = data.rename(columns={'msrp':'price'})"
   ]
  },
  {
   "cell_type": "code",
   "execution_count": 413,
   "id": "14af9da5",
   "metadata": {},
   "outputs": [
    {
     "data": {
      "text/plain": [
       "make                  0\n",
       "model                 0\n",
       "year                  0\n",
       "engine_hp            69\n",
       "engine_cylinders     30\n",
       "transmission_type     0\n",
       "vehicle_style         0\n",
       "highway_mpg           0\n",
       "city_mpg              0\n",
       "price                 0\n",
       "dtype: int64"
      ]
     },
     "execution_count": 413,
     "metadata": {},
     "output_type": "execute_result"
    }
   ],
   "source": [
    "data.isnull().sum()"
   ]
  },
  {
   "cell_type": "code",
   "execution_count": 414,
   "id": "86e59ff5",
   "metadata": {},
   "outputs": [
    {
     "data": {
      "text/plain": [
       "make                 0\n",
       "model                0\n",
       "year                 0\n",
       "engine_hp            0\n",
       "engine_cylinders     0\n",
       "transmission_type    0\n",
       "vehicle_style        0\n",
       "highway_mpg          0\n",
       "city_mpg             0\n",
       "price                0\n",
       "dtype: int64"
      ]
     },
     "execution_count": 414,
     "metadata": {},
     "output_type": "execute_result"
    }
   ],
   "source": [
    "data['engine_cylinders'] = data['engine_cylinders'].fillna(0)\n",
    "data['engine_hp'] = data['engine_hp'].fillna(0)\n",
    "data.isna().sum()"
   ]
  },
  {
   "cell_type": "code",
   "execution_count": 415,
   "id": "a0dca4f0",
   "metadata": {},
   "outputs": [
    {
     "data": {
      "text/plain": [
       "40594.737032063116"
      ]
     },
     "execution_count": 415,
     "metadata": {},
     "output_type": "execute_result"
    }
   ],
   "source": [
    "price_mean = data['price'].mean()\n",
    "price_mean"
   ]
  },
  {
   "cell_type": "code",
   "execution_count": 416,
   "id": "3357174d",
   "metadata": {},
   "outputs": [
    {
     "data": {
      "text/html": [
       "<div>\n",
       "<style scoped>\n",
       "    .dataframe tbody tr th:only-of-type {\n",
       "        vertical-align: middle;\n",
       "    }\n",
       "\n",
       "    .dataframe tbody tr th {\n",
       "        vertical-align: top;\n",
       "    }\n",
       "\n",
       "    .dataframe thead th {\n",
       "        text-align: right;\n",
       "    }\n",
       "</style>\n",
       "<table border=\"1\" class=\"dataframe\">\n",
       "  <thead>\n",
       "    <tr style=\"text-align: right;\">\n",
       "      <th></th>\n",
       "      <th>make</th>\n",
       "      <th>model</th>\n",
       "      <th>year</th>\n",
       "      <th>engine_hp</th>\n",
       "      <th>engine_cylinders</th>\n",
       "      <th>transmission_type</th>\n",
       "      <th>vehicle_style</th>\n",
       "      <th>highway_mpg</th>\n",
       "      <th>city_mpg</th>\n",
       "      <th>price</th>\n",
       "      <th>above_avg</th>\n",
       "    </tr>\n",
       "  </thead>\n",
       "  <tbody>\n",
       "    <tr>\n",
       "      <th>0</th>\n",
       "      <td>BMW</td>\n",
       "      <td>1 Series M</td>\n",
       "      <td>2011</td>\n",
       "      <td>335.0</td>\n",
       "      <td>6.0</td>\n",
       "      <td>MANUAL</td>\n",
       "      <td>Coupe</td>\n",
       "      <td>26</td>\n",
       "      <td>19</td>\n",
       "      <td>46135</td>\n",
       "      <td>1</td>\n",
       "    </tr>\n",
       "    <tr>\n",
       "      <th>1</th>\n",
       "      <td>BMW</td>\n",
       "      <td>1 Series</td>\n",
       "      <td>2011</td>\n",
       "      <td>300.0</td>\n",
       "      <td>6.0</td>\n",
       "      <td>MANUAL</td>\n",
       "      <td>Convertible</td>\n",
       "      <td>28</td>\n",
       "      <td>19</td>\n",
       "      <td>40650</td>\n",
       "      <td>1</td>\n",
       "    </tr>\n",
       "    <tr>\n",
       "      <th>2</th>\n",
       "      <td>BMW</td>\n",
       "      <td>1 Series</td>\n",
       "      <td>2011</td>\n",
       "      <td>300.0</td>\n",
       "      <td>6.0</td>\n",
       "      <td>MANUAL</td>\n",
       "      <td>Coupe</td>\n",
       "      <td>28</td>\n",
       "      <td>20</td>\n",
       "      <td>36350</td>\n",
       "      <td>0</td>\n",
       "    </tr>\n",
       "    <tr>\n",
       "      <th>3</th>\n",
       "      <td>BMW</td>\n",
       "      <td>1 Series</td>\n",
       "      <td>2011</td>\n",
       "      <td>230.0</td>\n",
       "      <td>6.0</td>\n",
       "      <td>MANUAL</td>\n",
       "      <td>Coupe</td>\n",
       "      <td>28</td>\n",
       "      <td>18</td>\n",
       "      <td>29450</td>\n",
       "      <td>0</td>\n",
       "    </tr>\n",
       "    <tr>\n",
       "      <th>4</th>\n",
       "      <td>BMW</td>\n",
       "      <td>1 Series</td>\n",
       "      <td>2011</td>\n",
       "      <td>230.0</td>\n",
       "      <td>6.0</td>\n",
       "      <td>MANUAL</td>\n",
       "      <td>Convertible</td>\n",
       "      <td>28</td>\n",
       "      <td>18</td>\n",
       "      <td>34500</td>\n",
       "      <td>0</td>\n",
       "    </tr>\n",
       "  </tbody>\n",
       "</table>\n",
       "</div>"
      ],
      "text/plain": [
       "  make       model  year  engine_hp  engine_cylinders transmission_type  \\\n",
       "0  BMW  1 Series M  2011      335.0               6.0            MANUAL   \n",
       "1  BMW    1 Series  2011      300.0               6.0            MANUAL   \n",
       "2  BMW    1 Series  2011      300.0               6.0            MANUAL   \n",
       "3  BMW    1 Series  2011      230.0               6.0            MANUAL   \n",
       "4  BMW    1 Series  2011      230.0               6.0            MANUAL   \n",
       "\n",
       "  vehicle_style  highway_mpg  city_mpg  price  above_avg  \n",
       "0         Coupe           26        19  46135          1  \n",
       "1   Convertible           28        19  40650          1  \n",
       "2         Coupe           28        20  36350          0  \n",
       "3         Coupe           28        18  29450          0  \n",
       "4   Convertible           28        18  34500          0  "
      ]
     },
     "execution_count": 416,
     "metadata": {},
     "output_type": "execute_result"
    }
   ],
   "source": [
    "data['above_avg'] = np.where(data['price'] >= price_mean,1,0)\n",
    "data.head()"
   ]
  },
  {
   "cell_type": "code",
   "execution_count": 417,
   "id": "6831b791",
   "metadata": {},
   "outputs": [],
   "source": [
    "data = data.drop('price', axis=1)"
   ]
  },
  {
   "cell_type": "code",
   "execution_count": 418,
   "id": "b201aee5",
   "metadata": {},
   "outputs": [
    {
     "data": {
      "text/html": [
       "<div>\n",
       "<style scoped>\n",
       "    .dataframe tbody tr th:only-of-type {\n",
       "        vertical-align: middle;\n",
       "    }\n",
       "\n",
       "    .dataframe tbody tr th {\n",
       "        vertical-align: top;\n",
       "    }\n",
       "\n",
       "    .dataframe thead th {\n",
       "        text-align: right;\n",
       "    }\n",
       "</style>\n",
       "<table border=\"1\" class=\"dataframe\">\n",
       "  <thead>\n",
       "    <tr style=\"text-align: right;\">\n",
       "      <th></th>\n",
       "      <th>make</th>\n",
       "      <th>model</th>\n",
       "      <th>year</th>\n",
       "      <th>engine_hp</th>\n",
       "      <th>engine_cylinders</th>\n",
       "      <th>transmission_type</th>\n",
       "      <th>vehicle_style</th>\n",
       "      <th>highway_mpg</th>\n",
       "      <th>city_mpg</th>\n",
       "      <th>above_avg</th>\n",
       "    </tr>\n",
       "  </thead>\n",
       "  <tbody>\n",
       "    <tr>\n",
       "      <th>0</th>\n",
       "      <td>BMW</td>\n",
       "      <td>1 Series M</td>\n",
       "      <td>2011</td>\n",
       "      <td>335.0</td>\n",
       "      <td>6.0</td>\n",
       "      <td>MANUAL</td>\n",
       "      <td>Coupe</td>\n",
       "      <td>26</td>\n",
       "      <td>19</td>\n",
       "      <td>1</td>\n",
       "    </tr>\n",
       "    <tr>\n",
       "      <th>1</th>\n",
       "      <td>BMW</td>\n",
       "      <td>1 Series</td>\n",
       "      <td>2011</td>\n",
       "      <td>300.0</td>\n",
       "      <td>6.0</td>\n",
       "      <td>MANUAL</td>\n",
       "      <td>Convertible</td>\n",
       "      <td>28</td>\n",
       "      <td>19</td>\n",
       "      <td>1</td>\n",
       "    </tr>\n",
       "    <tr>\n",
       "      <th>2</th>\n",
       "      <td>BMW</td>\n",
       "      <td>1 Series</td>\n",
       "      <td>2011</td>\n",
       "      <td>300.0</td>\n",
       "      <td>6.0</td>\n",
       "      <td>MANUAL</td>\n",
       "      <td>Coupe</td>\n",
       "      <td>28</td>\n",
       "      <td>20</td>\n",
       "      <td>0</td>\n",
       "    </tr>\n",
       "    <tr>\n",
       "      <th>3</th>\n",
       "      <td>BMW</td>\n",
       "      <td>1 Series</td>\n",
       "      <td>2011</td>\n",
       "      <td>230.0</td>\n",
       "      <td>6.0</td>\n",
       "      <td>MANUAL</td>\n",
       "      <td>Coupe</td>\n",
       "      <td>28</td>\n",
       "      <td>18</td>\n",
       "      <td>0</td>\n",
       "    </tr>\n",
       "    <tr>\n",
       "      <th>4</th>\n",
       "      <td>BMW</td>\n",
       "      <td>1 Series</td>\n",
       "      <td>2011</td>\n",
       "      <td>230.0</td>\n",
       "      <td>6.0</td>\n",
       "      <td>MANUAL</td>\n",
       "      <td>Convertible</td>\n",
       "      <td>28</td>\n",
       "      <td>18</td>\n",
       "      <td>0</td>\n",
       "    </tr>\n",
       "  </tbody>\n",
       "</table>\n",
       "</div>"
      ],
      "text/plain": [
       "  make       model  year  engine_hp  engine_cylinders transmission_type  \\\n",
       "0  BMW  1 Series M  2011      335.0               6.0            MANUAL   \n",
       "1  BMW    1 Series  2011      300.0               6.0            MANUAL   \n",
       "2  BMW    1 Series  2011      300.0               6.0            MANUAL   \n",
       "3  BMW    1 Series  2011      230.0               6.0            MANUAL   \n",
       "4  BMW    1 Series  2011      230.0               6.0            MANUAL   \n",
       "\n",
       "  vehicle_style  highway_mpg  city_mpg  above_avg  \n",
       "0         Coupe           26        19          1  \n",
       "1   Convertible           28        19          1  \n",
       "2         Coupe           28        20          0  \n",
       "3         Coupe           28        18          0  \n",
       "4   Convertible           28        18          0  "
      ]
     },
     "execution_count": 418,
     "metadata": {},
     "output_type": "execute_result"
    }
   ],
   "source": [
    "data.head()"
   ]
  },
  {
   "cell_type": "code",
   "execution_count": 419,
   "id": "d2e84126",
   "metadata": {},
   "outputs": [
    {
     "data": {
      "text/plain": [
       "make                  object\n",
       "model                 object\n",
       "year                   int64\n",
       "engine_hp            float64\n",
       "engine_cylinders     float64\n",
       "transmission_type     object\n",
       "vehicle_style         object\n",
       "highway_mpg            int64\n",
       "city_mpg               int64\n",
       "above_avg              int32\n",
       "dtype: object"
      ]
     },
     "execution_count": 419,
     "metadata": {},
     "output_type": "execute_result"
    }
   ],
   "source": [
    "data.dtypes"
   ]
  },
  {
   "cell_type": "code",
   "execution_count": 420,
   "id": "c5a6302a",
   "metadata": {},
   "outputs": [],
   "source": [
    "num_var = ['year','engine_hp','engine_cylinders','highway_mpg','city_mpg']\n",
    "cat_var = ['make','model','transmission_type','vehicle_style']"
   ]
  },
  {
   "cell_type": "code",
   "execution_count": 581,
   "id": "860e671c",
   "metadata": {},
   "outputs": [],
   "source": [
    "from sklearn.model_selection import train_test_split"
   ]
  },
  {
   "cell_type": "code",
   "execution_count": 582,
   "id": "9b576ecf",
   "metadata": {},
   "outputs": [],
   "source": [
    "data_full_train, data_test = train_test_split(data, test_size=0.2, random_state=1)"
   ]
  },
  {
   "cell_type": "code",
   "execution_count": 583,
   "id": "582f43cd",
   "metadata": {},
   "outputs": [],
   "source": [
    "data_train, data_val = train_test_split(data_full_train, test_size=0.25, random_state=1)"
   ]
  },
  {
   "cell_type": "code",
   "execution_count": 584,
   "id": "b1e5d391",
   "metadata": {},
   "outputs": [],
   "source": [
    "assert len(data) == len(data_train) + len(data_val) + len(data_test)"
   ]
  },
  {
   "cell_type": "code",
   "execution_count": 585,
   "id": "efa697ed",
   "metadata": {},
   "outputs": [
    {
     "data": {
      "text/plain": [
       "(7148, 2383, 2383)"
      ]
     },
     "execution_count": 585,
     "metadata": {},
     "output_type": "execute_result"
    }
   ],
   "source": [
    "len(data_train), len(data_val), len(data_test)"
   ]
  },
  {
   "cell_type": "code",
   "execution_count": 586,
   "id": "5ca63ad8",
   "metadata": {},
   "outputs": [],
   "source": [
    "y_train = data_train['above_avg'].values\n",
    "y_val = data_val['above_avg'].values\n",
    "y_test = data_test['above_avg'].values"
   ]
  },
  {
   "cell_type": "code",
   "execution_count": 543,
   "id": "c657e2d7",
   "metadata": {},
   "outputs": [],
   "source": [
    "data_train = data_train.reset_index(drop=True)\n",
    "data_val = data_val.reset_index(drop=True)\n",
    "data_test = data_test.reset_index(drop=True)"
   ]
  },
  {
   "cell_type": "code",
   "execution_count": 544,
   "id": "78c3a86a",
   "metadata": {},
   "outputs": [],
   "source": [
    "data_train = data_train.drop('above_avg', axis=1)              \n",
    "data_val = data_val.drop('above_avg', axis=1)\n",
    "data_test = data_test.drop('above_avg', axis=1)\n",
    "\n",
    "assert 'above_avg' not in data_train.columns\n",
    "assert 'above_avg' not in data_val.columns\n",
    "assert 'above_avg' not in data_test.columns"
   ]
  },
  {
   "cell_type": "code",
   "execution_count": 545,
   "id": "ada038de",
   "metadata": {},
   "outputs": [
    {
     "data": {
      "text/plain": [
       "((7148,), (2383,), (2383,))"
      ]
     },
     "execution_count": 545,
     "metadata": {},
     "output_type": "execute_result"
    }
   ],
   "source": [
    "y_train.shape, y_val.shape, y_test.shape"
   ]
  },
  {
   "cell_type": "code",
   "execution_count": 546,
   "id": "4342cef4",
   "metadata": {},
   "outputs": [
    {
     "data": {
      "text/plain": [
       "['year', 'engine_hp', 'engine_cylinders', 'highway_mpg', 'city_mpg']"
      ]
     },
     "execution_count": 546,
     "metadata": {},
     "output_type": "execute_result"
    }
   ],
   "source": [
    "num_var"
   ]
  },
  {
   "cell_type": "code",
   "execution_count": 547,
   "id": "1eff8378",
   "metadata": {},
   "outputs": [
    {
     "data": {
      "text/plain": [
       "(7148, 5)"
      ]
     },
     "execution_count": 547,
     "metadata": {},
     "output_type": "execute_result"
    }
   ],
   "source": [
    "data_train[num_var].shape"
   ]
  },
  {
   "cell_type": "code",
   "execution_count": 548,
   "id": "4ce69be1",
   "metadata": {},
   "outputs": [],
   "source": [
    "from sklearn.preprocessing import StandardScaler"
   ]
  },
  {
   "cell_type": "code",
   "execution_count": 549,
   "id": "4ff50aee",
   "metadata": {},
   "outputs": [],
   "source": [
    "sc = StandardScaler()"
   ]
  },
  {
   "cell_type": "code",
   "execution_count": 550,
   "id": "310fc006",
   "metadata": {},
   "outputs": [],
   "source": [
    "num_var_trans = sc.fit_transform(data_train[num_var])"
   ]
  },
  {
   "cell_type": "code",
   "execution_count": 551,
   "id": "c456584f",
   "metadata": {},
   "outputs": [
    {
     "data": {
      "text/plain": [
       "array([[ 0.74687366,  0.28819104,  0.20885012,  0.15277794,  0.80060489],\n",
       "       [ 0.48514933,  0.46801719,  0.20885012,  0.36874881, -0.18643089],\n",
       "       [ 0.74687366,  0.09937357, -0.89452064,  0.0447925 , -0.07676024],\n",
       "       ...,\n",
       "       [ 0.87773583, -1.06050513, -0.89452064,  1.12464685,  1.3489581 ],\n",
       "       [-2.5246805 , -0.77278328, -0.34283526, -0.71110554, -0.40577217],\n",
       "       [-0.9543345 , -0.07146127,  0.20885012, -0.92707641, -0.62511345]])"
      ]
     },
     "execution_count": 551,
     "metadata": {},
     "output_type": "execute_result"
    }
   ],
   "source": [
    "num_var_trans"
   ]
  },
  {
   "cell_type": "code",
   "execution_count": 552,
   "id": "e31c14a3",
   "metadata": {},
   "outputs": [
    {
     "data": {
      "text/plain": [
       "(7148, 5)"
      ]
     },
     "execution_count": 552,
     "metadata": {},
     "output_type": "execute_result"
    }
   ],
   "source": [
    "num_var_trans.shape"
   ]
  },
  {
   "cell_type": "code",
   "execution_count": 553,
   "id": "9f25e9e4",
   "metadata": {},
   "outputs": [
    {
     "data": {
      "text/plain": [
       "array([[ 0.28819104],\n",
       "       [ 0.46801719],\n",
       "       [ 0.09937357],\n",
       "       ...,\n",
       "       [-1.06050513],\n",
       "       [-0.77278328],\n",
       "       [-0.07146127]])"
      ]
     },
     "execution_count": 553,
     "metadata": {},
     "output_type": "execute_result"
    }
   ],
   "source": [
    "X = num_var_trans[:,1].reshape(-1,1)\n",
    "X"
   ]
  },
  {
   "cell_type": "code",
   "execution_count": 554,
   "id": "3f44ac69",
   "metadata": {},
   "outputs": [
    {
     "data": {
      "text/plain": [
       "(7148,)"
      ]
     },
     "execution_count": 554,
     "metadata": {},
     "output_type": "execute_result"
    }
   ],
   "source": [
    "y_year = y_train\n",
    "y_year.shape"
   ]
  },
  {
   "cell_type": "code",
   "execution_count": 555,
   "id": "3ab97cd5",
   "metadata": {},
   "outputs": [],
   "source": [
    "X_train_year, X_test_year, y_train_year, y_test_year = train_test_split(X, y_year, test_size=0.2, random_state=1)"
   ]
  },
  {
   "cell_type": "code",
   "execution_count": 556,
   "id": "924cf052",
   "metadata": {},
   "outputs": [],
   "source": [
    "from sklearn.linear_model import LogisticRegression"
   ]
  },
  {
   "cell_type": "code",
   "execution_count": 557,
   "id": "0f475fa0",
   "metadata": {},
   "outputs": [
    {
     "data": {
      "text/plain": [
       "LogisticRegression()"
      ]
     },
     "execution_count": 557,
     "metadata": {},
     "output_type": "execute_result"
    }
   ],
   "source": [
    "LR = LogisticRegression().fit(X_train_year, y_train_year)\n",
    "LR"
   ]
  },
  {
   "cell_type": "code",
   "execution_count": 558,
   "id": "befd83b3",
   "metadata": {},
   "outputs": [],
   "source": [
    "y_pred = LR.predict(X_test_year)"
   ]
  },
  {
   "cell_type": "code",
   "execution_count": 559,
   "id": "b3ea09ab",
   "metadata": {},
   "outputs": [
    {
     "data": {
      "text/plain": [
       "((1430,), (1430,))"
      ]
     },
     "execution_count": 559,
     "metadata": {},
     "output_type": "execute_result"
    }
   ],
   "source": [
    "y_test_year.shape, y_pred.shape"
   ]
  },
  {
   "cell_type": "code",
   "execution_count": 560,
   "id": "0504bcf7",
   "metadata": {},
   "outputs": [],
   "source": [
    "from sklearn.metrics import roc_auc_score"
   ]
  },
  {
   "cell_type": "code",
   "execution_count": 561,
   "id": "f68fb23a",
   "metadata": {},
   "outputs": [
    {
     "data": {
      "text/plain": [
       "0.8218595683467685"
      ]
     },
     "execution_count": 561,
     "metadata": {},
     "output_type": "execute_result"
    }
   ],
   "source": [
    "auc = roc_auc_score(y_test_year, y_pred)\n",
    "auc"
   ]
  },
  {
   "cell_type": "code",
   "execution_count": 562,
   "id": "9d5c3adb",
   "metadata": {},
   "outputs": [
    {
     "name": "stdout",
     "output_type": "stream",
     "text": [
      "year 0.8218595683467685\n",
      "engine_hp 0.687082788348325\n",
      "engine_cylinders 0.5\n",
      "highway_mpg 0.5013192612137203\n"
     ]
    },
    {
     "ename": "IndexError",
     "evalue": "index 5 is out of bounds for axis 1 with size 5",
     "output_type": "error",
     "traceback": [
      "\u001b[1;31m---------------------------------------------------------------------------\u001b[0m",
      "\u001b[1;31mIndexError\u001b[0m                                Traceback (most recent call last)",
      "Input \u001b[1;32mIn [562]\u001b[0m, in \u001b[0;36m<cell line: 3>\u001b[1;34m()\u001b[0m\n\u001b[0;32m      8\u001b[0m num_var_trans \u001b[38;5;241m=\u001b[39m sc\u001b[38;5;241m.\u001b[39mfit_transform(data_train[num_var])\n\u001b[0;32m     10\u001b[0m n \u001b[38;5;241m=\u001b[39m  n \u001b[38;5;241m+\u001b[39m \u001b[38;5;241m1\u001b[39m\n\u001b[1;32m---> 11\u001b[0m X \u001b[38;5;241m=\u001b[39m \u001b[43mnum_var_trans\u001b[49m\u001b[43m[\u001b[49m\u001b[43m:\u001b[49m\u001b[43m,\u001b[49m\u001b[43mn\u001b[49m\u001b[43m]\u001b[49m\u001b[38;5;241m.\u001b[39mreshape(\u001b[38;5;241m-\u001b[39m\u001b[38;5;241m1\u001b[39m,\u001b[38;5;241m1\u001b[39m)\n\u001b[0;32m     12\u001b[0m y \u001b[38;5;241m=\u001b[39m y_train\n\u001b[0;32m     13\u001b[0m X_train, X_test, y_train, y_test \u001b[38;5;241m=\u001b[39m train_test_split(X, y_year, test_size\u001b[38;5;241m=\u001b[39m\u001b[38;5;241m0.2\u001b[39m, random_state\u001b[38;5;241m=\u001b[39m\u001b[38;5;241m1\u001b[39m)\n",
      "\u001b[1;31mIndexError\u001b[0m: index 5 is out of bounds for axis 1 with size 5"
     ]
    }
   ],
   "source": [
    "n = 0\n",
    "\n",
    "for num in num_var:\n",
    "    \n",
    "    data_train[num].shape\n",
    "    sc = StandardScaler()\n",
    "    \n",
    "    num_var_trans = sc.fit_transform(data_train[num_var])\n",
    "    \n",
    "    n =  n + 1\n",
    "    X = num_var_trans[:,n].reshape(-1,1)\n",
    "    y = y_train\n",
    "    X_train, X_test, y_train, y_test = train_test_split(X, y_year, test_size=0.2, random_state=1)\n",
    "    \n",
    "    LR = LogisticRegression().fit(X_train, y_train)\n",
    "    y_pred = LR.predict(X_test)\n",
    "    \n",
    "    auc = roc_auc_score(y_test, y_pred)\n",
    "    \n",
    "    print(num, auc)"
   ]
  },
  {
   "cell_type": "markdown",
   "id": "3047255d",
   "metadata": {},
   "source": [
    "#Apply one-hot-encoding using DictVectorizer and train the logistic regression with these parameters:\n",
    "\n",
    "#LogisticRegression(solver='liblinear', C=1.0, max_iter=1000)\n"
   ]
  },
  {
   "cell_type": "code",
   "execution_count": 564,
   "id": "fde3e3a6",
   "metadata": {},
   "outputs": [
    {
     "data": {
      "text/plain": [
       "['make', 'model', 'transmission_type', 'vehicle_style']"
      ]
     },
     "execution_count": 564,
     "metadata": {},
     "output_type": "execute_result"
    }
   ],
   "source": [
    "cat_var"
   ]
  },
  {
   "cell_type": "code",
   "execution_count": 565,
   "id": "7eb6652d",
   "metadata": {},
   "outputs": [
    {
     "data": {
      "text/plain": [
       "['year', 'engine_hp', 'engine_cylinders', 'highway_mpg', 'city_mpg']"
      ]
     },
     "execution_count": 565,
     "metadata": {},
     "output_type": "execute_result"
    }
   ],
   "source": [
    "num_var"
   ]
  },
  {
   "cell_type": "code",
   "execution_count": 568,
   "id": "4b34314c",
   "metadata": {},
   "outputs": [],
   "source": [
    "dict_train = data_train.to_dict(orient='records')"
   ]
  },
  {
   "cell_type": "code",
   "execution_count": 569,
   "id": "ea1cf036",
   "metadata": {},
   "outputs": [],
   "source": [
    "from sklearn.feature_extraction import DictVectorizer"
   ]
  },
  {
   "cell_type": "code",
   "execution_count": 572,
   "id": "a5be9772",
   "metadata": {},
   "outputs": [],
   "source": [
    "dv = DictVectorizer(sparse=False)"
   ]
  },
  {
   "cell_type": "code",
   "execution_count": 574,
   "id": "a91ddb58",
   "metadata": {},
   "outputs": [],
   "source": [
    "X_train = dv.fit_transform(dict_train)"
   ]
  },
  {
   "cell_type": "code",
   "execution_count": 577,
   "id": "1896a39c",
   "metadata": {},
   "outputs": [],
   "source": [
    "dict_val = data_val.to_dict(orient='records')"
   ]
  },
  {
   "cell_type": "code",
   "execution_count": 578,
   "id": "72af3fa5",
   "metadata": {},
   "outputs": [],
   "source": [
    "X_val = dv.transform(dict_val)"
   ]
  },
  {
   "cell_type": "code",
   "execution_count": 579,
   "id": "2f0698e5",
   "metadata": {},
   "outputs": [],
   "source": [
    "LR = LogisticRegression(solver='liblinear', C=1.0, max_iter=1000)"
   ]
  },
  {
   "cell_type": "code",
   "execution_count": 587,
   "id": "b9c3b192",
   "metadata": {},
   "outputs": [
    {
     "data": {
      "text/plain": [
       "LogisticRegression(max_iter=1000, solver='liblinear')"
      ]
     },
     "execution_count": 587,
     "metadata": {},
     "output_type": "execute_result"
    }
   ],
   "source": [
    "LR.fit(X_train, y_train)"
   ]
  },
  {
   "cell_type": "code",
   "execution_count": 598,
   "id": "ac5c21af",
   "metadata": {},
   "outputs": [
    {
     "data": {
      "text/plain": [
       "array([0.67420108, 0.00721517, 0.34472323, ..., 0.00430849, 0.99999448,\n",
       "       0.05153637])"
      ]
     },
     "execution_count": 598,
     "metadata": {},
     "output_type": "execute_result"
    }
   ],
   "source": [
    "y_pred = LR.predict_proba(X_val)[:,1]\n",
    "y_pred >= 0.5\n",
    "y_pred"
   ]
  },
  {
   "cell_type": "code",
   "execution_count": 599,
   "id": "68c83ccb",
   "metadata": {},
   "outputs": [
    {
     "data": {
      "text/plain": [
       "0.979"
      ]
     },
     "execution_count": 599,
     "metadata": {},
     "output_type": "execute_result"
    }
   ],
   "source": [
    "auc = roc_auc_score(y_val, y_pred)\n",
    "auc.round(3)"
   ]
  },
  {
   "cell_type": "markdown",
   "id": "33967eb8",
   "metadata": {},
   "source": [
    "#Now let's compute precision and recall for our model.\n",
    "\n",
    "#Evaluate the model on all thresholds from 0.0 to 1.0 with step 0.01\n",
    "\n",
    "#For each threshold, compute precision and recall\n",
    "\n",
    "#Plot them\n",
    "\n",
    "#At which threshold precision and recall curves intersect?"
   ]
  },
  {
   "cell_type": "code",
   "execution_count": 607,
   "id": "8cdd3e07",
   "metadata": {},
   "outputs": [],
   "source": [
    "threshhold = np.arange(0,1,0.01)"
   ]
  },
  {
   "cell_type": "code",
   "execution_count": 608,
   "id": "45eb7575",
   "metadata": {},
   "outputs": [
    {
     "data": {
      "text/plain": [
       "array([0.  , 0.01, 0.02, 0.03, 0.04, 0.05, 0.06, 0.07, 0.08, 0.09, 0.1 ,\n",
       "       0.11, 0.12, 0.13, 0.14, 0.15, 0.16, 0.17, 0.18, 0.19, 0.2 , 0.21,\n",
       "       0.22, 0.23, 0.24, 0.25, 0.26, 0.27, 0.28, 0.29, 0.3 , 0.31, 0.32,\n",
       "       0.33, 0.34, 0.35, 0.36, 0.37, 0.38, 0.39, 0.4 , 0.41, 0.42, 0.43,\n",
       "       0.44, 0.45, 0.46, 0.47, 0.48, 0.49, 0.5 , 0.51, 0.52, 0.53, 0.54,\n",
       "       0.55, 0.56, 0.57, 0.58, 0.59, 0.6 , 0.61, 0.62, 0.63, 0.64, 0.65,\n",
       "       0.66, 0.67, 0.68, 0.69, 0.7 , 0.71, 0.72, 0.73, 0.74, 0.75, 0.76,\n",
       "       0.77, 0.78, 0.79, 0.8 , 0.81, 0.82, 0.83, 0.84, 0.85, 0.86, 0.87,\n",
       "       0.88, 0.89, 0.9 , 0.91, 0.92, 0.93, 0.94, 0.95, 0.96, 0.97, 0.98,\n",
       "       0.99])"
      ]
     },
     "execution_count": 608,
     "metadata": {},
     "output_type": "execute_result"
    }
   ],
   "source": [
    "threshhold"
   ]
  },
  {
   "cell_type": "code",
   "execution_count": 617,
   "id": "4e1abacb",
   "metadata": {},
   "outputs": [],
   "source": [
    "scores = []\n",
    "threshold = np.arange(0,1,0.01)\n",
    "\n",
    "for t in threshold:\n",
    "    actual_positive = (y_val == 1)\n",
    "    actual_negative = (y_val == 0)\n",
    "    \n",
    "    predict_positive = (y_pred >= t)\n",
    "    predict_negative = (y_pred < t)\n",
    "    \n",
    "    TP = (predict_positive & actual_positive).sum()        \n",
    "    TN = (predict_negative & actual_negative).sum()\n",
    "    \n",
    "    FP = (predict_positive & actual_negative).sum()        \n",
    "    FN = (predict_negative & actual_positive).sum()\n",
    "    \n",
    "    #Precision = TP / (TP + FP)\n",
    "    #Recall = TP / (TP + FN)\n",
    "    \n",
    "    scores.append((t, TP, FP, FN, TN))\n",
    "    columns = ['threshold','TP','FP','FN','TN']\n",
    "    df_scores = pd.DataFrame(scores, columns=columns)"
   ]
  },
  {
   "cell_type": "code",
   "execution_count": 618,
   "id": "1dd89df7",
   "metadata": {},
   "outputs": [],
   "source": [
    "df_scores['Precision'] = df_scores['TP'] / (df_scores['TP'] + df_scores['FP'])\n",
    "df_scores['Recall'] = df_scores['TP'] / (df_scores['TP'] + df_scores['FN'])"
   ]
  },
  {
   "cell_type": "code",
   "execution_count": 619,
   "id": "0f3b6e7b",
   "metadata": {},
   "outputs": [
    {
     "data": {
      "text/html": [
       "<div>\n",
       "<style scoped>\n",
       "    .dataframe tbody tr th:only-of-type {\n",
       "        vertical-align: middle;\n",
       "    }\n",
       "\n",
       "    .dataframe tbody tr th {\n",
       "        vertical-align: top;\n",
       "    }\n",
       "\n",
       "    .dataframe thead th {\n",
       "        text-align: right;\n",
       "    }\n",
       "</style>\n",
       "<table border=\"1\" class=\"dataframe\">\n",
       "  <thead>\n",
       "    <tr style=\"text-align: right;\">\n",
       "      <th></th>\n",
       "      <th>threshold</th>\n",
       "      <th>TP</th>\n",
       "      <th>FP</th>\n",
       "      <th>FN</th>\n",
       "      <th>TN</th>\n",
       "      <th>Precision</th>\n",
       "      <th>Recall</th>\n",
       "    </tr>\n",
       "  </thead>\n",
       "  <tbody>\n",
       "    <tr>\n",
       "      <th>0</th>\n",
       "      <td>0.0</td>\n",
       "      <td>654</td>\n",
       "      <td>1729</td>\n",
       "      <td>0</td>\n",
       "      <td>0</td>\n",
       "      <td>0.274444</td>\n",
       "      <td>1.000000</td>\n",
       "    </tr>\n",
       "    <tr>\n",
       "      <th>10</th>\n",
       "      <td>0.1</td>\n",
       "      <td>644</td>\n",
       "      <td>332</td>\n",
       "      <td>10</td>\n",
       "      <td>1397</td>\n",
       "      <td>0.659836</td>\n",
       "      <td>0.984709</td>\n",
       "    </tr>\n",
       "    <tr>\n",
       "      <th>20</th>\n",
       "      <td>0.2</td>\n",
       "      <td>623</td>\n",
       "      <td>201</td>\n",
       "      <td>31</td>\n",
       "      <td>1528</td>\n",
       "      <td>0.756068</td>\n",
       "      <td>0.952599</td>\n",
       "    </tr>\n",
       "    <tr>\n",
       "      <th>30</th>\n",
       "      <td>0.3</td>\n",
       "      <td>606</td>\n",
       "      <td>143</td>\n",
       "      <td>48</td>\n",
       "      <td>1586</td>\n",
       "      <td>0.809079</td>\n",
       "      <td>0.926606</td>\n",
       "    </tr>\n",
       "    <tr>\n",
       "      <th>40</th>\n",
       "      <td>0.4</td>\n",
       "      <td>590</td>\n",
       "      <td>106</td>\n",
       "      <td>64</td>\n",
       "      <td>1623</td>\n",
       "      <td>0.847701</td>\n",
       "      <td>0.902141</td>\n",
       "    </tr>\n",
       "    <tr>\n",
       "      <th>50</th>\n",
       "      <td>0.5</td>\n",
       "      <td>569</td>\n",
       "      <td>75</td>\n",
       "      <td>85</td>\n",
       "      <td>1654</td>\n",
       "      <td>0.883540</td>\n",
       "      <td>0.870031</td>\n",
       "    </tr>\n",
       "    <tr>\n",
       "      <th>60</th>\n",
       "      <td>0.6</td>\n",
       "      <td>550</td>\n",
       "      <td>51</td>\n",
       "      <td>104</td>\n",
       "      <td>1678</td>\n",
       "      <td>0.915141</td>\n",
       "      <td>0.840979</td>\n",
       "    </tr>\n",
       "    <tr>\n",
       "      <th>70</th>\n",
       "      <td>0.7</td>\n",
       "      <td>506</td>\n",
       "      <td>30</td>\n",
       "      <td>148</td>\n",
       "      <td>1699</td>\n",
       "      <td>0.944030</td>\n",
       "      <td>0.773700</td>\n",
       "    </tr>\n",
       "    <tr>\n",
       "      <th>80</th>\n",
       "      <td>0.8</td>\n",
       "      <td>464</td>\n",
       "      <td>21</td>\n",
       "      <td>190</td>\n",
       "      <td>1708</td>\n",
       "      <td>0.956701</td>\n",
       "      <td>0.709480</td>\n",
       "    </tr>\n",
       "    <tr>\n",
       "      <th>90</th>\n",
       "      <td>0.9</td>\n",
       "      <td>376</td>\n",
       "      <td>3</td>\n",
       "      <td>278</td>\n",
       "      <td>1726</td>\n",
       "      <td>0.992084</td>\n",
       "      <td>0.574924</td>\n",
       "    </tr>\n",
       "  </tbody>\n",
       "</table>\n",
       "</div>"
      ],
      "text/plain": [
       "    threshold   TP    FP   FN    TN  Precision    Recall\n",
       "0         0.0  654  1729    0     0   0.274444  1.000000\n",
       "10        0.1  644   332   10  1397   0.659836  0.984709\n",
       "20        0.2  623   201   31  1528   0.756068  0.952599\n",
       "30        0.3  606   143   48  1586   0.809079  0.926606\n",
       "40        0.4  590   106   64  1623   0.847701  0.902141\n",
       "50        0.5  569    75   85  1654   0.883540  0.870031\n",
       "60        0.6  550    51  104  1678   0.915141  0.840979\n",
       "70        0.7  506    30  148  1699   0.944030  0.773700\n",
       "80        0.8  464    21  190  1708   0.956701  0.709480\n",
       "90        0.9  376     3  278  1726   0.992084  0.574924"
      ]
     },
     "execution_count": 619,
     "metadata": {},
     "output_type": "execute_result"
    }
   ],
   "source": [
    "df_scores[::10]"
   ]
  },
  {
   "cell_type": "code",
   "execution_count": 627,
   "id": "a6b8c2c7",
   "metadata": {},
   "outputs": [
    {
     "data": {
      "text/plain": [
       "<matplotlib.legend.Legend at 0x17586fda310>"
      ]
     },
     "execution_count": 627,
     "metadata": {},
     "output_type": "execute_result"
    },
    {
     "data": {
      "image/png": "[encoded data removed]",
      "text/plain": [
       "<Figure size 360x360 with 1 Axes>"
      ]
     },
     "metadata": {
      "needs_background": "light"
     },
     "output_type": "display_data"
    }
   ],
   "source": [
    "plt.figure(figsize=(5,5))\n",
    "\n",
    "plt.plot(df_scores['Precision'], df_scores['threshold'], label = 'Pre-thres')\n",
    "plt.plot(df_scores['Recall'], df_scores['threshold'], label = 'Rec-thres')\n",
    "\n",
    "plt.xlabel('threshold')\n",
    "plt.legend(bbox_to_anchor=(1.1, 1.05))"
   ]
  },
  {
   "cell_type": "markdown",
   "id": "4a9d51f8",
   "metadata": {},
   "source": [
    "#Precision and recall are conflicting - when one grows, the other goes down. That's why they are often combined into the F1 score - a metrics that takes into account both\n",
    "\n",
    "#Let's compute F1 for all thresholds from 0.0 to 1.0 with increment 0.01"
   ]
  },
  {
   "cell_type": "markdown",
   "id": "b360e170",
   "metadata": {},
   "source": [
    "#F1 = 2 . ((Precision * Recall) / (Precision + Recall))\n",
    "\n",
    "#At which threshold F1 is maximal?"
   ]
  },
  {
   "cell_type": "code",
   "execution_count": 631,
   "id": "e8c7894f",
   "metadata": {},
   "outputs": [
    {
     "data": {
      "text/html": [
       "<div>\n",
       "<style scoped>\n",
       "    .dataframe tbody tr th:only-of-type {\n",
       "        vertical-align: middle;\n",
       "    }\n",
       "\n",
       "    .dataframe tbody tr th {\n",
       "        vertical-align: top;\n",
       "    }\n",
       "\n",
       "    .dataframe thead th {\n",
       "        text-align: right;\n",
       "    }\n",
       "</style>\n",
       "<table border=\"1\" class=\"dataframe\">\n",
       "  <thead>\n",
       "    <tr style=\"text-align: right;\">\n",
       "      <th></th>\n",
       "      <th>threshold</th>\n",
       "      <th>TP</th>\n",
       "      <th>FP</th>\n",
       "      <th>FN</th>\n",
       "      <th>TN</th>\n",
       "      <th>Precision</th>\n",
       "      <th>Recall</th>\n",
       "      <th>F1</th>\n",
       "    </tr>\n",
       "  </thead>\n",
       "  <tbody>\n",
       "    <tr>\n",
       "      <th>0</th>\n",
       "      <td>0.0</td>\n",
       "      <td>654</td>\n",
       "      <td>1729</td>\n",
       "      <td>0</td>\n",
       "      <td>0</td>\n",
       "      <td>0.274444</td>\n",
       "      <td>1.000000</td>\n",
       "      <td>0.430688</td>\n",
       "    </tr>\n",
       "    <tr>\n",
       "      <th>20</th>\n",
       "      <td>0.2</td>\n",
       "      <td>623</td>\n",
       "      <td>201</td>\n",
       "      <td>31</td>\n",
       "      <td>1528</td>\n",
       "      <td>0.756068</td>\n",
       "      <td>0.952599</td>\n",
       "      <td>0.843031</td>\n",
       "    </tr>\n",
       "    <tr>\n",
       "      <th>40</th>\n",
       "      <td>0.4</td>\n",
       "      <td>590</td>\n",
       "      <td>106</td>\n",
       "      <td>64</td>\n",
       "      <td>1623</td>\n",
       "      <td>0.847701</td>\n",
       "      <td>0.902141</td>\n",
       "      <td>0.874074</td>\n",
       "    </tr>\n",
       "    <tr>\n",
       "      <th>60</th>\n",
       "      <td>0.6</td>\n",
       "      <td>550</td>\n",
       "      <td>51</td>\n",
       "      <td>104</td>\n",
       "      <td>1678</td>\n",
       "      <td>0.915141</td>\n",
       "      <td>0.840979</td>\n",
       "      <td>0.876494</td>\n",
       "    </tr>\n",
       "    <tr>\n",
       "      <th>80</th>\n",
       "      <td>0.8</td>\n",
       "      <td>464</td>\n",
       "      <td>21</td>\n",
       "      <td>190</td>\n",
       "      <td>1708</td>\n",
       "      <td>0.956701</td>\n",
       "      <td>0.709480</td>\n",
       "      <td>0.814750</td>\n",
       "    </tr>\n",
       "  </tbody>\n",
       "</table>\n",
       "</div>"
      ],
      "text/plain": [
       "    threshold   TP    FP   FN    TN  Precision    Recall        F1\n",
       "0         0.0  654  1729    0     0   0.274444  1.000000  0.430688\n",
       "20        0.2  623   201   31  1528   0.756068  0.952599  0.843031\n",
       "40        0.4  590   106   64  1623   0.847701  0.902141  0.874074\n",
       "60        0.6  550    51  104  1678   0.915141  0.840979  0.876494\n",
       "80        0.8  464    21  190  1708   0.956701  0.709480  0.814750"
      ]
     },
     "execution_count": 631,
     "metadata": {},
     "output_type": "execute_result"
    }
   ],
   "source": [
    "df_scores['F1'] = 2 * ((df_scores['Precision'] * df_scores['Recall']) / (df_scores['Precision'] + df_scores['Recall']))\n",
    "df_scores[::20]"
   ]
  },
  {
   "cell_type": "code",
   "execution_count": 642,
   "id": "caf87a0d",
   "metadata": {},
   "outputs": [
    {
     "data": {
      "text/plain": [
       "<matplotlib.legend.Legend at 0x175876238e0>"
      ]
     },
     "execution_count": 642,
     "metadata": {},
     "output_type": "execute_result"
    },
    {
     "data": {
      "image/png": "[encoded data removed]",
      "text/plain": [
       "<Figure size 360x360 with 1 Axes>"
      ]
     },
     "metadata": {
      "needs_background": "light"
     },
     "output_type": "display_data"
    }
   ],
   "source": [
    "plt.figure(figsize=(5,5))\n",
    "\n",
    "plt.plot(df_scores['F1'], df_scores['threshold'], label = 'F1-thres')\n",
    "#plt.plot([0,1],[0,1], label = 'line')\n",
    "\n",
    "plt.xlabel('threshold')\n",
    "plt.legend(bbox_to_anchor=(1.4, 1.02))"
   ]
  },
  {
   "cell_type": "code",
   "execution_count": 634,
   "id": "d24490b1",
   "metadata": {},
   "outputs": [
    {
     "data": {
      "text/plain": [
       "<AxesSubplot:xlabel='threshold', ylabel='F1'>"
      ]
     },
     "execution_count": 634,
     "metadata": {},
     "output_type": "execute_result"
    },
    {
     "data": {
      "image/png": "[encoded data removed]",
      "text/plain": [
       "<Figure size 432x288 with 1 Axes>"
      ]
     },
     "metadata": {
      "needs_background": "light"
     },
     "output_type": "display_data"
    }
   ],
   "source": [
    "sns.lineplot(data=df_scores, x='threshold', y='F1')"
   ]
  },
  {
   "cell_type": "markdown",
   "id": "097dce2c",
   "metadata": {},
   "source": [
    "#Use the KFold class from Scikit-Learn to evaluate our model on 5 different folds:\n",
    "\n",
    "#KFold(n_splits=5, shuffle=True, random_state=1)\n",
    "\n",
    "#Iterate over different folds of df_full_train\n",
    "\n",
    "#Split the data into train and validation\n",
    "\n",
    "#Train the model on train with these parameters: LogisticRegression(solver='liblinear', C=1.0, max_iter=1000)\n",
    "\n",
    "#Use AUC to evaluate the model on validation\n",
    "\n",
    "#How large is standard devidation of the scores across different folds?"
   ]
  },
  {
   "cell_type": "code",
   "execution_count": 643,
   "id": "70638137",
   "metadata": {},
   "outputs": [],
   "source": [
    "from sklearn.model_selection import KFold"
   ]
  },
  {
   "cell_type": "code",
   "execution_count": 644,
   "id": "80a86941",
   "metadata": {},
   "outputs": [],
   "source": [
    "kfold = KFold(n_splits=5, shuffle=True, random_state=1)"
   ]
  },
  {
   "cell_type": "code",
   "execution_count": 646,
   "id": "f9b6c139",
   "metadata": {},
   "outputs": [],
   "source": [
    "train_data, val_data = next(kfold.split(data_full_train))"
   ]
  },
  {
   "cell_type": "code",
   "execution_count": 648,
   "id": "c4358039",
   "metadata": {},
   "outputs": [],
   "source": [
    "df_train = data_full_train.iloc[train_data]\n",
    "df_val = data_full_train.iloc[val_data]"
   ]
  },
  {
   "cell_type": "code",
   "execution_count": 652,
   "id": "38f71873",
   "metadata": {},
   "outputs": [],
   "source": [
    "y_df_train = df_train['above_avg']\n",
    "y_df_val = df_val['above_avg']"
   ]
  },
  {
   "cell_type": "code",
   "execution_count": 653,
   "id": "57a2aa02",
   "metadata": {},
   "outputs": [],
   "source": [
    "del df_train['above_avg']\n",
    "del df_val['above_avg']"
   ]
  },
  {
   "cell_type": "code",
   "execution_count": 660,
   "id": "82d32dad",
   "metadata": {},
   "outputs": [],
   "source": [
    "dict_df_train = df_train.to_dict(orient='records')\n",
    "dict_df_val = df_val.to_dict(orient='records')"
   ]
  },
  {
   "cell_type": "code",
   "execution_count": 661,
   "id": "ca36772e",
   "metadata": {},
   "outputs": [],
   "source": [
    "dv = DictVectorizer(sparse=False)"
   ]
  },
  {
   "cell_type": "code",
   "execution_count": 662,
   "id": "241a5817",
   "metadata": {},
   "outputs": [],
   "source": [
    "X_df_train = dv.fit_transform(dict_df_train)"
   ]
  },
  {
   "cell_type": "code",
   "execution_count": 666,
   "id": "8bbb8d0c",
   "metadata": {},
   "outputs": [],
   "source": [
    "X_df_val = dv.transform(dict_df_val)"
   ]
  },
  {
   "cell_type": "code",
   "execution_count": 667,
   "id": "77e51bf7",
   "metadata": {},
   "outputs": [],
   "source": [
    "LR = LogisticRegression(solver='liblinear', C=1.0, max_iter=1000)"
   ]
  },
  {
   "cell_type": "code",
   "execution_count": 668,
   "id": "04a3acd9",
   "metadata": {},
   "outputs": [
    {
     "data": {
      "text/plain": [
       "LogisticRegression(max_iter=1000, solver='liblinear')"
      ]
     },
     "execution_count": 668,
     "metadata": {},
     "output_type": "execute_result"
    }
   ],
   "source": [
    "LR.fit(X_df_train, y_df_train)"
   ]
  },
  {
   "cell_type": "code",
   "execution_count": 674,
   "id": "1e0ef80e",
   "metadata": {},
   "outputs": [],
   "source": [
    "y_val_pred = LR.predict_proba(X_df_val)"
   ]
  },
  {
   "cell_type": "code",
   "execution_count": 675,
   "id": "22abfc30",
   "metadata": {},
   "outputs": [],
   "source": [
    "from tqdm.auto import tqdm"
   ]
  },
  {
   "cell_type": "code",
   "execution_count": 692,
   "id": "3d7a7215",
   "metadata": {},
   "outputs": [
    {
     "data": {
      "application/vnd.jupyter.widget-view+json": {
       "model_id": "1cee1e536c534dc1af4b0e76fac9877b",
       "version_major": 2,
       "version_minor": 0
      },
      "text/plain": [
       "0it [00:00, ?it/s]"
      ]
     },
     "metadata": {},
     "output_type": "display_data"
    },
    {
     "name": "stdout",
     "output_type": "stream",
     "text": [
      "1.00000 +- 0.00000\n",
      "0.99953 +- 0.00047\n",
      "0.99904 +- 0.00079\n",
      "0.99904 +- 0.00069\n",
      "0.99923 +- 0.00072\n"
     ]
    }
   ],
   "source": [
    "n = 5\n",
    "\n",
    "scores = []\n",
    "\n",
    "kfold = KFold(n_splits=n, shuffle=True, random_state=1)\n",
    "\n",
    "for train_data, val_data in tqdm(kfold.split(data_full_train)):\n",
    "    df_train = data_full_train.iloc[train_data]\n",
    "    df_val = data_full_train.iloc[val_data]\n",
    "    \n",
    "    y_df_train = df_train['above_avg']\n",
    "    y_df_val = df_val['above_avg']\n",
    "    \n",
    "    dict_df_train = df_train.to_dict(orient='records')\n",
    "    dict_df_val = df_val.to_dict(orient='records')\n",
    "    \n",
    "    X_df_train = dv.fit_transform(dict_df_train)\n",
    "    X_df_val = dv.transform(dict_df_val)\n",
    "    \n",
    "    LR.fit(X_df_train, y_df_train)\n",
    "    y_val_pred = LR.predict(X_df_val)\n",
    "    \n",
    "    auc = roc_auc_score(y_df_val, y_val_pred)\n",
    "    scores.append(auc)\n",
    "    \n",
    "    print('%.5f +- %.5f' % (np.mean(scores), np.sum(np.std(scores))))"
   ]
  },
  {
   "cell_type": "code",
   "execution_count": 686,
   "id": "70635390",
   "metadata": {},
   "outputs": [
    {
     "data": {
      "application/vnd.jupyter.widget-view+json": {
       "model_id": "94978b002cb643a4bf6ba5b6fe1adbf6",
       "version_major": 2,
       "version_minor": 0
      },
      "text/plain": [
       "  0%|          | 0/4 [00:00<?, ?it/s]"
      ]
     },
     "metadata": {},
     "output_type": "display_data"
    },
    {
     "name": "stdout",
     "output_type": "stream",
     "text": [
      "C=0.01 0.986 +- 0.002\n",
      "C=0.1 0.999 +- 0.001\n",
      "C=0.5 0.999 +- 0.001\n",
      "C=10 0.999 +- 0.001\n"
     ]
    }
   ],
   "source": [
    "#combining all functions above and the kfold.split() method into a loop\n",
    "\n",
    "n_splits = 5\n",
    "\n",
    "for C in tqdm([0.01, 0.1, 0.5, 10]):\n",
    "    kfold = KFold(n_splits=n_splits, shuffle=True, random_state=1)\n",
    "    \n",
    "    scores = []\n",
    "\n",
    "    for train_idx, val_idx in kfold.split(data_full_train):\n",
    "        df_train = data_full_train.iloc[train_idx]\n",
    "        df_val = data_full_train.iloc[val_idx]\n",
    "        \n",
    "        y_df_train = df_train['above_avg']\n",
    "        y_df_val = df_val['above_avg']\n",
    "    \n",
    "        dict_df_train = df_train.to_dict(orient='records')\n",
    "        dict_df_val = df_val.to_dict(orient='records')\n",
    "    \n",
    "        X_df_train = dv.fit_transform(dict_df_train)\n",
    "        X_df_val = dv.transform(dict_df_val)\n",
    "    \n",
    "        LR = LogisticRegression(solver='liblinear', C=C, max_iter=1000)\n",
    "        LR.fit(X_df_train, y_df_train)\n",
    "        y_val_pred = LR.predict(X_df_val)\n",
    "    \n",
    "        auc = roc_auc_score(y_df_val, y_val_pred)\n",
    "        scores.append(auc)\n",
    "    \n",
    "    print('C=%s %.3f +- %.3f' % (C, np.mean(scores), np.std(scores))) "
   ]
  },
  {
   "cell_type": "code",
   "execution_count": null,
   "id": "18d6c8cd",
   "metadata": {},
   "outputs": [],
   "source": []
  }
 ],
 "metadata": {
  "kernelspec": {
   "display_name": "Python 3 (ipykernel)",
   "language": "python",
   "name": "python3"
  },
  "language_info": {
   "codemirror_mode": {
    "name": "ipython",
    "version": 3
   },
   "file_extension": ".py",
   "mimetype": "text/x-python",
   "name": "python",
   "nbconvert_exporter": "python",
   "pygments_lexer": "ipython3",
   "version": "3.9.12"
  }
 },
 "nbformat": 4,
 "nbformat_minor": 5
}
