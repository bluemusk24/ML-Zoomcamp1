{
 "cells": [
  {
   "cell_type": "markdown",
   "id": "adbe4dc3",
   "metadata": {},
   "source": [
    "# Goal of this project is to predict Manufacturer Suggested Retail Price(MSRP) of a car."
   ]
  },
  {
   "cell_type": "code",
   "execution_count": 1,
   "id": "b2836b65",
   "metadata": {},
   "outputs": [],
   "source": [
    "import numpy as np\n",
    "import pandas as pd\n",
    "import seaborn as sns\n",
    "import matplotlib.pyplot as plt\n",
    "%matplotlib inline"
   ]
  },
  {
   "cell_type": "code",
   "execution_count": 2,
   "id": "1ac6bb86",
   "metadata": {},
   "outputs": [],
   "source": [
    "# read the data\n",
    "\n",
    "df = pd.read_csv(\"C:\\\\Users\\\\emman\\\\Desktop\\\\ML-Zoomcamp  projects\\\\car price prediction data.csv\")"
   ]
  },
  {
   "cell_type": "code",
   "execution_count": 3,
   "id": "0d782a2e",
   "metadata": {},
   "outputs": [
    {
     "data": {
      "text/html": [
       "<div>\n",
       "<style scoped>\n",
       "    .dataframe tbody tr th:only-of-type {\n",
       "        vertical-align: middle;\n",
       "    }\n",
       "\n",
       "    .dataframe tbody tr th {\n",
       "        vertical-align: top;\n",
       "    }\n",
       "\n",
       "    .dataframe thead th {\n",
       "        text-align: right;\n",
       "    }\n",
       "</style>\n",
       "<table border=\"1\" class=\"dataframe\">\n",
       "  <thead>\n",
       "    <tr style=\"text-align: right;\">\n",
       "      <th></th>\n",
       "      <th>Make</th>\n",
       "      <th>Model</th>\n",
       "      <th>Year</th>\n",
       "      <th>Engine Fuel Type</th>\n",
       "      <th>Engine HP</th>\n",
       "      <th>Engine Cylinders</th>\n",
       "      <th>Transmission Type</th>\n",
       "      <th>Driven_Wheels</th>\n",
       "      <th>Number of Doors</th>\n",
       "      <th>Market Category</th>\n",
       "      <th>Vehicle Size</th>\n",
       "      <th>Vehicle Style</th>\n",
       "      <th>highway MPG</th>\n",
       "      <th>city mpg</th>\n",
       "      <th>Popularity</th>\n",
       "      <th>MSRP</th>\n",
       "    </tr>\n",
       "  </thead>\n",
       "  <tbody>\n",
       "    <tr>\n",
       "      <th>0</th>\n",
       "      <td>BMW</td>\n",
       "      <td>1 Series M</td>\n",
       "      <td>2011</td>\n",
       "      <td>premium unleaded (required)</td>\n",
       "      <td>335.0</td>\n",
       "      <td>6.0</td>\n",
       "      <td>MANUAL</td>\n",
       "      <td>rear wheel drive</td>\n",
       "      <td>2.0</td>\n",
       "      <td>Factory Tuner,Luxury,High-Performance</td>\n",
       "      <td>Compact</td>\n",
       "      <td>Coupe</td>\n",
       "      <td>26</td>\n",
       "      <td>19</td>\n",
       "      <td>3916</td>\n",
       "      <td>46135</td>\n",
       "    </tr>\n",
       "    <tr>\n",
       "      <th>1</th>\n",
       "      <td>BMW</td>\n",
       "      <td>1 Series</td>\n",
       "      <td>2011</td>\n",
       "      <td>premium unleaded (required)</td>\n",
       "      <td>300.0</td>\n",
       "      <td>6.0</td>\n",
       "      <td>MANUAL</td>\n",
       "      <td>rear wheel drive</td>\n",
       "      <td>2.0</td>\n",
       "      <td>Luxury,Performance</td>\n",
       "      <td>Compact</td>\n",
       "      <td>Convertible</td>\n",
       "      <td>28</td>\n",
       "      <td>19</td>\n",
       "      <td>3916</td>\n",
       "      <td>40650</td>\n",
       "    </tr>\n",
       "    <tr>\n",
       "      <th>2</th>\n",
       "      <td>BMW</td>\n",
       "      <td>1 Series</td>\n",
       "      <td>2011</td>\n",
       "      <td>premium unleaded (required)</td>\n",
       "      <td>300.0</td>\n",
       "      <td>6.0</td>\n",
       "      <td>MANUAL</td>\n",
       "      <td>rear wheel drive</td>\n",
       "      <td>2.0</td>\n",
       "      <td>Luxury,High-Performance</td>\n",
       "      <td>Compact</td>\n",
       "      <td>Coupe</td>\n",
       "      <td>28</td>\n",
       "      <td>20</td>\n",
       "      <td>3916</td>\n",
       "      <td>36350</td>\n",
       "    </tr>\n",
       "    <tr>\n",
       "      <th>3</th>\n",
       "      <td>BMW</td>\n",
       "      <td>1 Series</td>\n",
       "      <td>2011</td>\n",
       "      <td>premium unleaded (required)</td>\n",
       "      <td>230.0</td>\n",
       "      <td>6.0</td>\n",
       "      <td>MANUAL</td>\n",
       "      <td>rear wheel drive</td>\n",
       "      <td>2.0</td>\n",
       "      <td>Luxury,Performance</td>\n",
       "      <td>Compact</td>\n",
       "      <td>Coupe</td>\n",
       "      <td>28</td>\n",
       "      <td>18</td>\n",
       "      <td>3916</td>\n",
       "      <td>29450</td>\n",
       "    </tr>\n",
       "    <tr>\n",
       "      <th>4</th>\n",
       "      <td>BMW</td>\n",
       "      <td>1 Series</td>\n",
       "      <td>2011</td>\n",
       "      <td>premium unleaded (required)</td>\n",
       "      <td>230.0</td>\n",
       "      <td>6.0</td>\n",
       "      <td>MANUAL</td>\n",
       "      <td>rear wheel drive</td>\n",
       "      <td>2.0</td>\n",
       "      <td>Luxury</td>\n",
       "      <td>Compact</td>\n",
       "      <td>Convertible</td>\n",
       "      <td>28</td>\n",
       "      <td>18</td>\n",
       "      <td>3916</td>\n",
       "      <td>34500</td>\n",
       "    </tr>\n",
       "  </tbody>\n",
       "</table>\n",
       "</div>"
      ],
      "text/plain": [
       "  Make       Model  Year             Engine Fuel Type  Engine HP  \\\n",
       "0  BMW  1 Series M  2011  premium unleaded (required)      335.0   \n",
       "1  BMW    1 Series  2011  premium unleaded (required)      300.0   \n",
       "2  BMW    1 Series  2011  premium unleaded (required)      300.0   \n",
       "3  BMW    1 Series  2011  premium unleaded (required)      230.0   \n",
       "4  BMW    1 Series  2011  premium unleaded (required)      230.0   \n",
       "\n",
       "   Engine Cylinders Transmission Type     Driven_Wheels  Number of Doors  \\\n",
       "0               6.0            MANUAL  rear wheel drive              2.0   \n",
       "1               6.0            MANUAL  rear wheel drive              2.0   \n",
       "2               6.0            MANUAL  rear wheel drive              2.0   \n",
       "3               6.0            MANUAL  rear wheel drive              2.0   \n",
       "4               6.0            MANUAL  rear wheel drive              2.0   \n",
       "\n",
       "                         Market Category Vehicle Size Vehicle Style  \\\n",
       "0  Factory Tuner,Luxury,High-Performance      Compact         Coupe   \n",
       "1                     Luxury,Performance      Compact   Convertible   \n",
       "2                Luxury,High-Performance      Compact         Coupe   \n",
       "3                     Luxury,Performance      Compact         Coupe   \n",
       "4                                 Luxury      Compact   Convertible   \n",
       "\n",
       "   highway MPG  city mpg  Popularity   MSRP  \n",
       "0           26        19        3916  46135  \n",
       "1           28        19        3916  40650  \n",
       "2           28        20        3916  36350  \n",
       "3           28        18        3916  29450  \n",
       "4           28        18        3916  34500  "
      ]
     },
     "execution_count": 3,
     "metadata": {},
     "output_type": "execute_result"
    }
   ],
   "source": [
    "# open the first 5 rows\n",
    "\n",
    "df.head()"
   ]
  },
  {
   "cell_type": "code",
   "execution_count": 4,
   "id": "75c0a389",
   "metadata": {},
   "outputs": [],
   "source": [
    "# change the columns texts to lower cases and put an hyphen between spaced texts\n",
    "\n",
    "df.columns = df.columns.str.lower().str.replace(' ','_')"
   ]
  },
  {
   "cell_type": "code",
   "execution_count": 5,
   "id": "e57be1a0",
   "metadata": {},
   "outputs": [
    {
     "data": {
      "text/plain": [
       "Index(['make', 'model', 'year', 'engine_fuel_type', 'engine_hp',\n",
       "       'engine_cylinders', 'transmission_type', 'driven_wheels',\n",
       "       'number_of_doors', 'market_category', 'vehicle_size', 'vehicle_style',\n",
       "       'highway_mpg', 'city_mpg', 'popularity', 'msrp'],\n",
       "      dtype='object')"
      ]
     },
     "execution_count": 5,
     "metadata": {},
     "output_type": "execute_result"
    }
   ],
   "source": [
    "df.columns"
   ]
  },
  {
   "cell_type": "code",
   "execution_count": 6,
   "id": "05129c84",
   "metadata": {},
   "outputs": [
    {
     "data": {
      "text/html": [
       "<div>\n",
       "<style scoped>\n",
       "    .dataframe tbody tr th:only-of-type {\n",
       "        vertical-align: middle;\n",
       "    }\n",
       "\n",
       "    .dataframe tbody tr th {\n",
       "        vertical-align: top;\n",
       "    }\n",
       "\n",
       "    .dataframe thead th {\n",
       "        text-align: right;\n",
       "    }\n",
       "</style>\n",
       "<table border=\"1\" class=\"dataframe\">\n",
       "  <thead>\n",
       "    <tr style=\"text-align: right;\">\n",
       "      <th></th>\n",
       "      <th>make</th>\n",
       "      <th>model</th>\n",
       "      <th>year</th>\n",
       "      <th>engine_fuel_type</th>\n",
       "      <th>engine_hp</th>\n",
       "      <th>engine_cylinders</th>\n",
       "      <th>transmission_type</th>\n",
       "      <th>driven_wheels</th>\n",
       "      <th>number_of_doors</th>\n",
       "      <th>market_category</th>\n",
       "      <th>vehicle_size</th>\n",
       "      <th>vehicle_style</th>\n",
       "      <th>highway_mpg</th>\n",
       "      <th>city_mpg</th>\n",
       "      <th>popularity</th>\n",
       "      <th>msrp</th>\n",
       "    </tr>\n",
       "  </thead>\n",
       "  <tbody>\n",
       "    <tr>\n",
       "      <th>0</th>\n",
       "      <td>BMW</td>\n",
       "      <td>1 Series M</td>\n",
       "      <td>2011</td>\n",
       "      <td>premium unleaded (required)</td>\n",
       "      <td>335.0</td>\n",
       "      <td>6.0</td>\n",
       "      <td>MANUAL</td>\n",
       "      <td>rear wheel drive</td>\n",
       "      <td>2.0</td>\n",
       "      <td>Factory Tuner,Luxury,High-Performance</td>\n",
       "      <td>Compact</td>\n",
       "      <td>Coupe</td>\n",
       "      <td>26</td>\n",
       "      <td>19</td>\n",
       "      <td>3916</td>\n",
       "      <td>46135</td>\n",
       "    </tr>\n",
       "    <tr>\n",
       "      <th>1</th>\n",
       "      <td>BMW</td>\n",
       "      <td>1 Series</td>\n",
       "      <td>2011</td>\n",
       "      <td>premium unleaded (required)</td>\n",
       "      <td>300.0</td>\n",
       "      <td>6.0</td>\n",
       "      <td>MANUAL</td>\n",
       "      <td>rear wheel drive</td>\n",
       "      <td>2.0</td>\n",
       "      <td>Luxury,Performance</td>\n",
       "      <td>Compact</td>\n",
       "      <td>Convertible</td>\n",
       "      <td>28</td>\n",
       "      <td>19</td>\n",
       "      <td>3916</td>\n",
       "      <td>40650</td>\n",
       "    </tr>\n",
       "    <tr>\n",
       "      <th>2</th>\n",
       "      <td>BMW</td>\n",
       "      <td>1 Series</td>\n",
       "      <td>2011</td>\n",
       "      <td>premium unleaded (required)</td>\n",
       "      <td>300.0</td>\n",
       "      <td>6.0</td>\n",
       "      <td>MANUAL</td>\n",
       "      <td>rear wheel drive</td>\n",
       "      <td>2.0</td>\n",
       "      <td>Luxury,High-Performance</td>\n",
       "      <td>Compact</td>\n",
       "      <td>Coupe</td>\n",
       "      <td>28</td>\n",
       "      <td>20</td>\n",
       "      <td>3916</td>\n",
       "      <td>36350</td>\n",
       "    </tr>\n",
       "    <tr>\n",
       "      <th>3</th>\n",
       "      <td>BMW</td>\n",
       "      <td>1 Series</td>\n",
       "      <td>2011</td>\n",
       "      <td>premium unleaded (required)</td>\n",
       "      <td>230.0</td>\n",
       "      <td>6.0</td>\n",
       "      <td>MANUAL</td>\n",
       "      <td>rear wheel drive</td>\n",
       "      <td>2.0</td>\n",
       "      <td>Luxury,Performance</td>\n",
       "      <td>Compact</td>\n",
       "      <td>Coupe</td>\n",
       "      <td>28</td>\n",
       "      <td>18</td>\n",
       "      <td>3916</td>\n",
       "      <td>29450</td>\n",
       "    </tr>\n",
       "    <tr>\n",
       "      <th>4</th>\n",
       "      <td>BMW</td>\n",
       "      <td>1 Series</td>\n",
       "      <td>2011</td>\n",
       "      <td>premium unleaded (required)</td>\n",
       "      <td>230.0</td>\n",
       "      <td>6.0</td>\n",
       "      <td>MANUAL</td>\n",
       "      <td>rear wheel drive</td>\n",
       "      <td>2.0</td>\n",
       "      <td>Luxury</td>\n",
       "      <td>Compact</td>\n",
       "      <td>Convertible</td>\n",
       "      <td>28</td>\n",
       "      <td>18</td>\n",
       "      <td>3916</td>\n",
       "      <td>34500</td>\n",
       "    </tr>\n",
       "  </tbody>\n",
       "</table>\n",
       "</div>"
      ],
      "text/plain": [
       "  make       model  year             engine_fuel_type  engine_hp  \\\n",
       "0  BMW  1 Series M  2011  premium unleaded (required)      335.0   \n",
       "1  BMW    1 Series  2011  premium unleaded (required)      300.0   \n",
       "2  BMW    1 Series  2011  premium unleaded (required)      300.0   \n",
       "3  BMW    1 Series  2011  premium unleaded (required)      230.0   \n",
       "4  BMW    1 Series  2011  premium unleaded (required)      230.0   \n",
       "\n",
       "   engine_cylinders transmission_type     driven_wheels  number_of_doors  \\\n",
       "0               6.0            MANUAL  rear wheel drive              2.0   \n",
       "1               6.0            MANUAL  rear wheel drive              2.0   \n",
       "2               6.0            MANUAL  rear wheel drive              2.0   \n",
       "3               6.0            MANUAL  rear wheel drive              2.0   \n",
       "4               6.0            MANUAL  rear wheel drive              2.0   \n",
       "\n",
       "                         market_category vehicle_size vehicle_style  \\\n",
       "0  Factory Tuner,Luxury,High-Performance      Compact         Coupe   \n",
       "1                     Luxury,Performance      Compact   Convertible   \n",
       "2                Luxury,High-Performance      Compact         Coupe   \n",
       "3                     Luxury,Performance      Compact         Coupe   \n",
       "4                                 Luxury      Compact   Convertible   \n",
       "\n",
       "   highway_mpg  city_mpg  popularity   msrp  \n",
       "0           26        19        3916  46135  \n",
       "1           28        19        3916  40650  \n",
       "2           28        20        3916  36350  \n",
       "3           28        18        3916  29450  \n",
       "4           28        18        3916  34500  "
      ]
     },
     "execution_count": 6,
     "metadata": {},
     "output_type": "execute_result"
    }
   ],
   "source": [
    "df.head()"
   ]
  },
  {
   "cell_type": "markdown",
   "id": "2a135a5e",
   "metadata": {},
   "source": [
    "#Get the object data types of dataframe df that we are interested in"
   ]
  },
  {
   "cell_type": "code",
   "execution_count": 7,
   "id": "37062054",
   "metadata": {},
   "outputs": [
    {
     "data": {
      "text/plain": [
       "make                  object\n",
       "model                 object\n",
       "year                   int64\n",
       "engine_fuel_type      object\n",
       "engine_hp            float64\n",
       "engine_cylinders     float64\n",
       "transmission_type     object\n",
       "driven_wheels         object\n",
       "number_of_doors      float64\n",
       "market_category       object\n",
       "vehicle_size          object\n",
       "vehicle_style         object\n",
       "highway_mpg            int64\n",
       "city_mpg               int64\n",
       "popularity             int64\n",
       "msrp                   int64\n",
       "dtype: object"
      ]
     },
     "execution_count": 7,
     "metadata": {},
     "output_type": "execute_result"
    }
   ],
   "source": [
    "df.dtypes"
   ]
  },
  {
   "cell_type": "code",
   "execution_count": 8,
   "id": "dacdc694",
   "metadata": {},
   "outputs": [
    {
     "data": {
      "text/plain": [
       "make                 object\n",
       "model                object\n",
       "engine_fuel_type     object\n",
       "transmission_type    object\n",
       "driven_wheels        object\n",
       "market_category      object\n",
       "vehicle_size         object\n",
       "vehicle_style        object\n",
       "dtype: object"
      ]
     },
     "execution_count": 8,
     "metadata": {},
     "output_type": "execute_result"
    }
   ],
   "source": [
    "df.dtypes[df.dtypes == 'object']          # this is a Series dataset with indes and values(data)."
   ]
  },
  {
   "cell_type": "code",
   "execution_count": 9,
   "id": "305556f6",
   "metadata": {},
   "outputs": [],
   "source": [
    "# convert objects index into a python list with variable strings.\n",
    "\n",
    "strings = list(df.dtypes[df.dtypes == 'object'].index)"
   ]
  },
  {
   "cell_type": "code",
   "execution_count": 10,
   "id": "e2d6ca52",
   "metadata": {},
   "outputs": [
    {
     "data": {
      "text/plain": [
       "['make',\n",
       " 'model',\n",
       " 'engine_fuel_type',\n",
       " 'transmission_type',\n",
       " 'driven_wheels',\n",
       " 'market_category',\n",
       " 'vehicle_size',\n",
       " 'vehicle_style']"
      ]
     },
     "execution_count": 10,
     "metadata": {},
     "output_type": "execute_result"
    }
   ],
   "source": [
    "strings"
   ]
  },
  {
   "cell_type": "code",
   "execution_count": 11,
   "id": "aa70aca5",
   "metadata": {},
   "outputs": [],
   "source": [
    "# change the elements of each index above into a lower case and replace spaces with hyphen\n",
    "\n",
    "for col in strings:\n",
    "    df[col] = df[col].str.lower().str.replace(' ','_')"
   ]
  },
  {
   "cell_type": "code",
   "execution_count": 12,
   "id": "9344093a",
   "metadata": {},
   "outputs": [
    {
     "data": {
      "text/html": [
       "<div>\n",
       "<style scoped>\n",
       "    .dataframe tbody tr th:only-of-type {\n",
       "        vertical-align: middle;\n",
       "    }\n",
       "\n",
       "    .dataframe tbody tr th {\n",
       "        vertical-align: top;\n",
       "    }\n",
       "\n",
       "    .dataframe thead th {\n",
       "        text-align: right;\n",
       "    }\n",
       "</style>\n",
       "<table border=\"1\" class=\"dataframe\">\n",
       "  <thead>\n",
       "    <tr style=\"text-align: right;\">\n",
       "      <th></th>\n",
       "      <th>make</th>\n",
       "      <th>model</th>\n",
       "      <th>year</th>\n",
       "      <th>engine_fuel_type</th>\n",
       "      <th>engine_hp</th>\n",
       "      <th>engine_cylinders</th>\n",
       "      <th>transmission_type</th>\n",
       "      <th>driven_wheels</th>\n",
       "      <th>number_of_doors</th>\n",
       "      <th>market_category</th>\n",
       "      <th>vehicle_size</th>\n",
       "      <th>vehicle_style</th>\n",
       "      <th>highway_mpg</th>\n",
       "      <th>city_mpg</th>\n",
       "      <th>popularity</th>\n",
       "      <th>msrp</th>\n",
       "    </tr>\n",
       "  </thead>\n",
       "  <tbody>\n",
       "    <tr>\n",
       "      <th>0</th>\n",
       "      <td>bmw</td>\n",
       "      <td>1_series_m</td>\n",
       "      <td>2011</td>\n",
       "      <td>premium_unleaded_(required)</td>\n",
       "      <td>335.0</td>\n",
       "      <td>6.0</td>\n",
       "      <td>manual</td>\n",
       "      <td>rear_wheel_drive</td>\n",
       "      <td>2.0</td>\n",
       "      <td>factory_tuner,luxury,high-performance</td>\n",
       "      <td>compact</td>\n",
       "      <td>coupe</td>\n",
       "      <td>26</td>\n",
       "      <td>19</td>\n",
       "      <td>3916</td>\n",
       "      <td>46135</td>\n",
       "    </tr>\n",
       "    <tr>\n",
       "      <th>1</th>\n",
       "      <td>bmw</td>\n",
       "      <td>1_series</td>\n",
       "      <td>2011</td>\n",
       "      <td>premium_unleaded_(required)</td>\n",
       "      <td>300.0</td>\n",
       "      <td>6.0</td>\n",
       "      <td>manual</td>\n",
       "      <td>rear_wheel_drive</td>\n",
       "      <td>2.0</td>\n",
       "      <td>luxury,performance</td>\n",
       "      <td>compact</td>\n",
       "      <td>convertible</td>\n",
       "      <td>28</td>\n",
       "      <td>19</td>\n",
       "      <td>3916</td>\n",
       "      <td>40650</td>\n",
       "    </tr>\n",
       "    <tr>\n",
       "      <th>2</th>\n",
       "      <td>bmw</td>\n",
       "      <td>1_series</td>\n",
       "      <td>2011</td>\n",
       "      <td>premium_unleaded_(required)</td>\n",
       "      <td>300.0</td>\n",
       "      <td>6.0</td>\n",
       "      <td>manual</td>\n",
       "      <td>rear_wheel_drive</td>\n",
       "      <td>2.0</td>\n",
       "      <td>luxury,high-performance</td>\n",
       "      <td>compact</td>\n",
       "      <td>coupe</td>\n",
       "      <td>28</td>\n",
       "      <td>20</td>\n",
       "      <td>3916</td>\n",
       "      <td>36350</td>\n",
       "    </tr>\n",
       "    <tr>\n",
       "      <th>3</th>\n",
       "      <td>bmw</td>\n",
       "      <td>1_series</td>\n",
       "      <td>2011</td>\n",
       "      <td>premium_unleaded_(required)</td>\n",
       "      <td>230.0</td>\n",
       "      <td>6.0</td>\n",
       "      <td>manual</td>\n",
       "      <td>rear_wheel_drive</td>\n",
       "      <td>2.0</td>\n",
       "      <td>luxury,performance</td>\n",
       "      <td>compact</td>\n",
       "      <td>coupe</td>\n",
       "      <td>28</td>\n",
       "      <td>18</td>\n",
       "      <td>3916</td>\n",
       "      <td>29450</td>\n",
       "    </tr>\n",
       "    <tr>\n",
       "      <th>4</th>\n",
       "      <td>bmw</td>\n",
       "      <td>1_series</td>\n",
       "      <td>2011</td>\n",
       "      <td>premium_unleaded_(required)</td>\n",
       "      <td>230.0</td>\n",
       "      <td>6.0</td>\n",
       "      <td>manual</td>\n",
       "      <td>rear_wheel_drive</td>\n",
       "      <td>2.0</td>\n",
       "      <td>luxury</td>\n",
       "      <td>compact</td>\n",
       "      <td>convertible</td>\n",
       "      <td>28</td>\n",
       "      <td>18</td>\n",
       "      <td>3916</td>\n",
       "      <td>34500</td>\n",
       "    </tr>\n",
       "  </tbody>\n",
       "</table>\n",
       "</div>"
      ],
      "text/plain": [
       "  make       model  year             engine_fuel_type  engine_hp  \\\n",
       "0  bmw  1_series_m  2011  premium_unleaded_(required)      335.0   \n",
       "1  bmw    1_series  2011  premium_unleaded_(required)      300.0   \n",
       "2  bmw    1_series  2011  premium_unleaded_(required)      300.0   \n",
       "3  bmw    1_series  2011  premium_unleaded_(required)      230.0   \n",
       "4  bmw    1_series  2011  premium_unleaded_(required)      230.0   \n",
       "\n",
       "   engine_cylinders transmission_type     driven_wheels  number_of_doors  \\\n",
       "0               6.0            manual  rear_wheel_drive              2.0   \n",
       "1               6.0            manual  rear_wheel_drive              2.0   \n",
       "2               6.0            manual  rear_wheel_drive              2.0   \n",
       "3               6.0            manual  rear_wheel_drive              2.0   \n",
       "4               6.0            manual  rear_wheel_drive              2.0   \n",
       "\n",
       "                         market_category vehicle_size vehicle_style  \\\n",
       "0  factory_tuner,luxury,high-performance      compact         coupe   \n",
       "1                     luxury,performance      compact   convertible   \n",
       "2                luxury,high-performance      compact         coupe   \n",
       "3                     luxury,performance      compact         coupe   \n",
       "4                                 luxury      compact   convertible   \n",
       "\n",
       "   highway_mpg  city_mpg  popularity   msrp  \n",
       "0           26        19        3916  46135  \n",
       "1           28        19        3916  40650  \n",
       "2           28        20        3916  36350  \n",
       "3           28        18        3916  29450  \n",
       "4           28        18        3916  34500  "
      ]
     },
     "execution_count": 12,
     "metadata": {},
     "output_type": "execute_result"
    }
   ],
   "source": [
    "# confirm the changes made with the first 5 rows of the dataset\n",
    "\n",
    "df.head()"
   ]
  },
  {
   "cell_type": "markdown",
   "id": "92a18003",
   "metadata": {},
   "source": [
    "# 2.3-Exploratory Data Analysis"
   ]
  },
  {
   "cell_type": "code",
   "execution_count": 13,
   "id": "7fb7a010",
   "metadata": {},
   "outputs": [
    {
     "name": "stdout",
     "output_type": "stream",
     "text": [
      "<class 'pandas.core.frame.DataFrame'>\n",
      "RangeIndex: 11914 entries, 0 to 11913\n",
      "Data columns (total 16 columns):\n",
      " #   Column             Non-Null Count  Dtype  \n",
      "---  ------             --------------  -----  \n",
      " 0   make               11914 non-null  object \n",
      " 1   model              11914 non-null  object \n",
      " 2   year               11914 non-null  int64  \n",
      " 3   engine_fuel_type   11911 non-null  object \n",
      " 4   engine_hp          11845 non-null  float64\n",
      " 5   engine_cylinders   11884 non-null  float64\n",
      " 6   transmission_type  11914 non-null  object \n",
      " 7   driven_wheels      11914 non-null  object \n",
      " 8   number_of_doors    11908 non-null  float64\n",
      " 9   market_category    8172 non-null   object \n",
      " 10  vehicle_size       11914 non-null  object \n",
      " 11  vehicle_style      11914 non-null  object \n",
      " 12  highway_mpg        11914 non-null  int64  \n",
      " 13  city_mpg           11914 non-null  int64  \n",
      " 14  popularity         11914 non-null  int64  \n",
      " 15  msrp               11914 non-null  int64  \n",
      "dtypes: float64(3), int64(5), object(8)\n",
      "memory usage: 1.5+ MB\n"
     ]
    }
   ],
   "source": [
    "# complete information about the dataset\n",
    "\n",
    "df.info()"
   ]
  },
  {
   "cell_type": "code",
   "execution_count": 14,
   "id": "88a7e40c",
   "metadata": {},
   "outputs": [
    {
     "data": {
      "text/plain": [
       "Index(['make', 'model', 'year', 'engine_fuel_type', 'engine_hp',\n",
       "       'engine_cylinders', 'transmission_type', 'driven_wheels',\n",
       "       'number_of_doors', 'market_category', 'vehicle_size', 'vehicle_style',\n",
       "       'highway_mpg', 'city_mpg', 'popularity', 'msrp'],\n",
       "      dtype='object')"
      ]
     },
     "execution_count": 14,
     "metadata": {},
     "output_type": "execute_result"
    }
   ],
   "source": [
    "df.columns"
   ]
  },
  {
   "cell_type": "code",
   "execution_count": 15,
   "id": "d74dbbe2",
   "metadata": {},
   "outputs": [
    {
     "data": {
      "text/plain": [
       "(array(['bmw', 'audi', 'fiat', 'mercedes-benz', 'chrysler', 'nissan',\n",
       "        'volvo', 'mazda', 'mitsubishi', 'ferrari', 'alfa_romeo', 'toyota',\n",
       "        'mclaren', 'maybach', 'pontiac', 'porsche', 'saab', 'gmc',\n",
       "        'hyundai', 'plymouth', 'honda', 'oldsmobile', 'suzuki', 'ford',\n",
       "        'cadillac', 'kia', 'bentley', 'chevrolet', 'dodge', 'lamborghini',\n",
       "        'lincoln', 'subaru', 'volkswagen', 'spyker', 'buick', 'acura',\n",
       "        'rolls-royce', 'maserati', 'lexus', 'aston_martin', 'land_rover',\n",
       "        'lotus', 'infiniti', 'scion', 'genesis', 'hummer', 'tesla',\n",
       "        'bugatti'], dtype=object),\n",
       " 48)"
      ]
     },
     "execution_count": 15,
     "metadata": {},
     "output_type": "execute_result"
    }
   ],
   "source": [
    "# get the different types columns make.\n",
    "\n",
    "df['make'].unique(), df['make'].nunique()"
   ]
  },
  {
   "cell_type": "code",
   "execution_count": 16,
   "id": "b000ff41",
   "metadata": {},
   "outputs": [
    {
     "name": "stdout",
     "output_type": "stream",
     "text": [
      "make\n",
      "\n",
      "\n",
      "['bmw' 'audi' 'fiat' 'mercedes-benz' 'chrysler' 'nissan' 'volvo' 'mazda'\n",
      " 'mitsubishi' 'ferrari' 'alfa_romeo' 'toyota' 'mclaren' 'maybach'\n",
      " 'pontiac' 'porsche' 'saab' 'gmc' 'hyundai' 'plymouth' 'honda'\n",
      " 'oldsmobile' 'suzuki' 'ford' 'cadillac' 'kia' 'bentley' 'chevrolet'\n",
      " 'dodge' 'lamborghini' 'lincoln' 'subaru' 'volkswagen' 'spyker' 'buick'\n",
      " 'acura' 'rolls-royce' 'maserati' 'lexus' 'aston_martin' 'land_rover'\n",
      " 'lotus' 'infiniti' 'scion' 'genesis' 'hummer' 'tesla' 'bugatti']\n",
      "\n",
      "\n",
      "48\n",
      "\n",
      "model\n",
      "\n",
      "\n",
      "['1_series_m' '1_series' '100' '124_spider' '190-class' '2_series' '200'\n",
      " '200sx' '240sx' '240' '2' '3_series_gran_turismo' '3_series' '300-class'\n",
      " '3000gt' '300' '300m' '300zx' '323' '350-class' '350z' '360' '370z' '3'\n",
      " '4_series_gran_coupe' '4_series' '400-class' '420-class' '456m'\n",
      " '458_italia' '4c' '4runner' '5_series_gran_turismo' '5_series'\n",
      " '500-class' '500e' '500' '500l' '500x' '550' '560-class' '570s' '575m'\n",
      " '57' '599' '5' '6_series_gran_coupe' '6_series' '600-class' '6000'\n",
      " '612_scaglietti' '626' '62' '650s_coupe' '650s_spider' '6' '7_series'\n",
      " '718_cayman' '740' '760' '780' '8_series' '80' '850' '86' '9-2x'\n",
      " '9-3_griffin' '9-3' '9-4x' '9-5' '9-7x' '9000' '900' '90' '911' '928'\n",
      " '929' '940' '944' '960' '968' 'a3' 'a4_allroad' 'a4' 'a5' 'a6' 'a7' 'a8'\n",
      " 'acadia_limited' 'acadia' 'accent' 'acclaim' 'accord_crosstour'\n",
      " 'accord_hybrid' 'accord_plug-in_hybrid' 'accord' 'achieva'\n",
      " 'activehybrid_5' 'activehybrid_7' 'activehybrid_x6' 'aerio' 'aerostar'\n",
      " 'alero' 'allante' 'allroad_quattro' 'allroad' 'alpina_b6_gran_coupe'\n",
      " 'alpina_b7' 'alpina' 'altima_hybrid' 'altima' 'amanti' 'amg_gt' 'armada'\n",
      " 'arnage' 'aspen' 'aspire' 'astro_cargo' 'astro' 'ats_coupe' 'ats-v' 'ats'\n",
      " 'aurora' 'avalanche' 'avalon_hybrid' 'avalon' 'avenger' 'aventador'\n",
      " 'aveo' 'aviator' 'axxess' 'azera' 'aztek' 'azure_t' 'azure'\n",
      " 'b-class_electric_drive' 'b-series_pickup' 'b-series_truck' 'b-series'\n",
      " 'b9_tribeca' 'baja' 'beetle_convertible' 'beetle' 'beretta'\n",
      " 'black_diamond_avalanche' 'blackwood' 'blazer' 'bolt_ev' 'bonneville'\n",
      " 'borrego' 'boxster' 'bravada' 'breeze' 'bronco_ii' 'bronco' 'brooklands'\n",
      " 'brougham' 'brz' 'c-class' 'c-max_hybrid' 'c30' 'c36_amg' 'c43_amg' 'c70'\n",
      " 'c8' 'cabriolet' 'cabrio' 'cadenza' 'caliber' 'california_t' 'california'\n",
      " 'camaro' 'camry_hybrid' 'camry_solara' 'camry' 'canyon' 'caprice'\n",
      " 'captiva_sport' 'caravan' 'carrera_gt' 'cascada' 'catera' 'cavalier'\n",
      " 'cayenne' 'cayman_s' 'cayman' 'cc' 'celebrity' 'celica' 'century'\n",
      " 'challenger' 'charger' 'chevy_van' 'ciera' 'cirrus' 'city_express'\n",
      " 'civic_crx' 'civic_del_sol' 'civic' 'c/k_1500_series' 'c/k_2500_series'\n",
      " 'cl-class' 'cla-class' 'cl' 'classic' 'clk-class' 'cls-class' 'cobalt'\n",
      " 'colorado' 'colt' 'concorde' 'continental_flying_spur_speed'\n",
      " 'continental_flying_spur' 'continental_gt_speed_convertible'\n",
      " 'continental_gt_speed' 'continental_gt3-r' 'continental_gt'\n",
      " 'continental_gtc_speed' 'continental_gtc'\n",
      " 'continental_supersports_convertible' 'continental_supersports'\n",
      " 'continental' 'contour_svt' 'contour' 'corniche' 'corolla_im' 'corolla'\n",
      " 'corrado' 'corsica' 'corvette_stingray' 'corvette' 'coupe' 'cr-v' 'cr-z'\n",
      " 'cressida' 'crossfire' 'crosstour' 'crosstrek' 'crown_victoria'\n",
      " 'cruze_limited' 'cruze' 'ct_200h' 'ct6' 'cts_coupe' 'cts-v_coupe'\n",
      " 'cts-v_wagon' 'cts-v' 'cts_wagon' 'cts' 'cube' 'custom_cruiser'\n",
      " 'cutlass_calais' 'cutlass_ciera' 'cutlass_supreme' 'cutlass' 'cx-3'\n",
      " 'cx-5' 'cx-7' 'cx-9' 'dakota' 'dart' 'dawn' 'daytona' 'db7' 'db9_gt'\n",
      " 'db9' 'dbs' 'defender' 'deville' 'diablo' 'diamante'\n",
      " 'discovery_series_ii' 'discovery_sport' 'discovery' 'dts' 'durango'\n",
      " 'dynasty' 'e-150' 'e-250' 'e-class' 'e-golf' 'e-series_van'\n",
      " 'e-series_wagon' 'e55_amg' 'echo' 'eclipse_spyder' 'eclipse' 'edge'\n",
      " 'eighty-eight_royale' 'eighty-eight' 'elantra_coupe' 'elantra_gt'\n",
      " 'elantra_touring' 'elantra' 'eldorado' 'electra' 'element' 'elise'\n",
      " 'enclave' 'encore' 'endeavor' 'entourage' 'envision' 'envoy_xl'\n",
      " 'envoy_xuv' 'envoy' 'enzo' 'eos' 'equator' 'equinox' 'equus' 'es_250'\n",
      " 'es_300h' 'es_300' 'es_330' 'es_350' 'escalade_esv' 'escalade_ext'\n",
      " 'escalade_hybrid' 'escalade' 'escape_hybrid' 'escape' 'escort' 'esprit'\n",
      " 'estate_wagon' 'esteem' 'eurovan' 'evora_400' 'evora' 'ex35' 'excel'\n",
      " 'exige' 'ex' 'expedition' 'explorer_sport_trac' 'explorer_sport'\n",
      " 'explorer' 'expo' 'express_cargo' 'express' 'f-150_heritage'\n",
      " 'f-150_svt_lightning' 'f-150' 'f-250' 'f12_berlinetta' 'f430' 'festiva'\n",
      " 'ff' 'fiesta' 'firebird' 'fit_ev' 'fit' 'five_hundred' 'fj_cruiser'\n",
      " 'fleetwood' 'flex' 'flying_spur' 'focus_rs' 'focus_st' 'focus' 'forenza'\n",
      " 'forester' 'forte' 'fox' 'fr-s' 'freelander' 'freestar' 'freestyle'\n",
      " 'frontier' 'fusion_hybrid' 'fusion' 'fx35' 'fx45' 'fx50' 'fx' 'g-class'\n",
      " 'g_convertible' 'g_coupe' 'g_sedan' 'g20' 'g35' 'g37_convertible'\n",
      " 'g37_coupe' 'g37_sedan' 'g37' 'g3' 'g5' 'g6' 'g80' 'g8' 'galant'\n",
      " 'gallardo' 'genesis_coupe' 'genesis' 'ghibli' 'ghost_series_ii' 'ghost'\n",
      " 'gl-class' 'gla-class' 'glc-class' 'gle-class_coupe' 'gle-class' 'gli'\n",
      " 'glk-class' 'gls-class' 'golf_alltrack' 'golf_gti' 'golf_r'\n",
      " 'golf_sportwagen' 'golf' 'grand_am' 'grand_caravan' 'grand_prix'\n",
      " 'grand_vitara' 'grand_voyager' 'gransport' 'granturismo_convertible'\n",
      " 'granturismo' 'gs_200t' 'gs_300' 'gs_350' 'gs_400' 'gs_430' 'gs_450h'\n",
      " 'gs_460' 'gs_f' 'gt-r' 'gt' 'gti' 'gto' 'gx_460' 'gx_470' 'h3' 'h3t'\n",
      " 'hhr' 'highlander_hybrid' 'highlander' 'horizon' 'hr-v' 'hs_250h'\n",
      " 'huracan' 'i-miev' 'i30' 'i35' 'i3' 'ia' 'ilx_hybrid' 'ilx'\n",
      " 'impala_limited' 'impala' 'imperial' 'impreza_wrx' 'impreza' 'im'\n",
      " 'insight' 'integra' 'intrepid' 'intrigue' 'iq' 'is_200t' 'is_250_c'\n",
      " 'is_250' 'is_300' 'is_350_c' 'is_350' 'is_f' 'j30' 'jetta_gli'\n",
      " 'jetta_hybrid' 'jetta_sportwagen' 'jetta' 'jimmy' 'journey' 'juke'\n",
      " 'justy' 'jx' 'k900' 'kizashi' 'lacrosse' 'lancer_evolution'\n",
      " 'lancer_sportback' 'lancer' 'land_cruiser' 'landaulet' 'laser' 'le_baron'\n",
      " 'le_mans' 'leaf' 'legacy' 'legend' 'lesabre' 'levante' 'lfa' 'lhs'\n",
      " 'loyale' 'lr2' 'lr3' 'lr4' 'ls_400' 'ls_430' 'ls_460' 'ls_600h_l' 'ls'\n",
      " 'lss' 'ltd_crown_victoria' 'lucerne' 'lumina_minivan' 'lumina' 'lx_450'\n",
      " 'lx_470' 'lx_570' 'm-class' 'm2' 'm30' 'm35' 'm37' 'm3' 'm4_gts' 'm45'\n",
      " 'm4' 'm56' 'm5' 'm6_gran_coupe' 'm6' 'macan' 'magnum' 'malibu_classic'\n",
      " 'malibu_hybrid' 'malibu_limited' 'malibu_maxx' 'malibu' 'mark_lt'\n",
      " 'mark_viii' 'mark_vii' 'matrix' 'maxima' 'maybach' 'mazdaspeed_3'\n",
      " 'mazdaspeed_6' 'mazdaspeed_mx-5_miata' 'mazdaspeed_protege' 'm' 'mdx'\n",
      " 'metris' 'metro' 'mighty_max_pickup' 'millenia' 'mirage_g4' 'mirage'\n",
      " 'mkc' 'mks' 'mkt' 'mkx' 'mkz_hybrid' 'mkz' 'ml55_amg' 'model_s' 'monaco'\n",
      " 'montana_sv6' 'montana' 'monte_carlo' 'montero_sport' 'montero' 'mp4-12c'\n",
      " 'mpv' 'mr2_spyder' 'mr2' 'mulsanne' 'murano_crosscabriolet' 'murano'\n",
      " 'murcielago' 'mustang_svt_cobra' 'mustang' 'mx-3' 'mx-5_miata' 'mx-6'\n",
      " 'navajo' 'navigator' 'neon' 'new_beetle' 'new_yorker' 'ninety-eight'\n",
      " 'nitro' 'nsx' 'nv200' 'nx_200t' 'nx_300h' 'nx' 'odyssey' 'omni'\n",
      " 'optima_hybrid' 'optima' 'outback' 'outlander_sport' 'outlander'\n",
      " 'pacifica' 'panamera' 'park_avenue' 'park_ward' 'paseo' 'passat'\n",
      " 'passport' 'pathfinder' 'phaeton' 'phantom_coupe'\n",
      " 'phantom_drophead_coupe' 'phantom' 'pickup' 'pilot' 'precis' 'prelude'\n",
      " 'previa' 'prius_c' 'prius_prime' 'prius_v' 'prius' 'prizm' 'probe'\n",
      " 'protege5' 'protege' 'prowler' 'pt_cruiser' 'pulsar' 'q3' 'q40' 'q45'\n",
      " 'q50' 'q5' 'q60_convertible' 'q60_coupe' 'q70' 'q7' 'quattroporte'\n",
      " 'quest' 'qx4' 'qx50' 'qx56' 'qx60' 'qx70' 'qx80' 'qx' 'r-class' 'r32'\n",
      " 'r8' 'rabbit' 'raider' 'rainier' 'rally_wagon' 'ram_150' 'ram_250'\n",
      " 'ram_50_pickup' 'ram_cargo' 'ram_pickup_1500' 'ram_van' 'ram_wagon'\n",
      " 'ramcharger' 'range_rover_evoque' 'range_rover_sport' 'range_rover'\n",
      " 'ranger' 'rapide_s' 'rapide' 'rav4_ev' 'rav4_hybrid' 'rav4' 'rc_200t'\n",
      " 'rc_300' 'rc_350' 'rc_f' 'rdx' 'reatta' 'regal' 'regency' 'rendezvous'\n",
      " 'reno' 'reventon' 'ridgeline' 'rio' 'riviera' 'rl' 'rlx' 'roadmaster'\n",
      " 'rogue_select' 'rogue' 'rondo' 'routan' 'rs_4' 'rs_5' 'rs_6' 'rs_7' 'rsx'\n",
      " 'rx_300' 'rx_330' 'rx_350' 'rx_400h' 'rx_450h' 'rx-7' 'rx-8'\n",
      " 's-10_blazer' 's-10' 's-15_jimmy' 's-15' 's-class' 's2000' 's3' 's40'\n",
      " 's4' 's5' 's60_cross_country' 's60' 's6' 's70' 's7' 's80' 's8' 's90'\n",
      " 'safari_cargo' 'safari' 'samurai' 'santa_fe_sport' 'santa_fe'\n",
      " 'savana_cargo' 'savana' 'sc_300' 'sc_400' 'sc_430' 'scoupe' 'sebring'\n",
      " 'sedona' 'sentra' 'sephia' 'sequoia' 'seville' 'shadow' 'shelby_gt350'\n",
      " 'shelby_gt500' 'sidekick' 'sienna' 'sierra_1500_classic'\n",
      " 'sierra_1500_hybrid' 'sierra_1500' 'sierra_1500hd' 'sierra_c3'\n",
      " 'sierra_classic_1500' 'sigma' 'silhouette' 'silver_seraph'\n",
      " 'silverado_1500_classic' 'silverado_1500_hybrid' 'silverado_1500'\n",
      " 'sixty_special' 'skylark' 'sl-class' 'slc-class' 'slk-class'\n",
      " 'slr_mclaren' 'sls_amg_gt_final_edition' 'sls_amg_gt' 'sls_amg' 'slx'\n",
      " 'solstice' 'sonata_hybrid' 'sonata' 'sonic' 'sonoma' 'sorento' 'soul_ev'\n",
      " 'soul' 'spark_ev' 'spark' 'spectra' 'spirit' 'sportage' 'sportvan'\n",
      " 'spyder' 'sq5' 'srt_viper' 'srx' 'ss' 'ssr' 'stanza' 'stealth' 'stratus'\n",
      " 'sts-v' 'sts' 'suburban' 'sunbird' 'sundance' 'sunfire' 'superamerica'\n",
      " 'supersports_convertible_isr' 'supra' 'svx' 'swift' 'sx4' 'syclone'\n",
      " 't100' 'tacoma' 'tahoe_hybrid' 'tahoe_limited/z71' 'tahoe' 'taurus_x'\n",
      " 'taurus' 'tc' 'tempo' 'tercel' 'terrain' 'terraza' 'thunderbird'\n",
      " 'tiburon' 'tiguan' 'titan' 'tl' 'tlx' 'toronado' 'torrent' 'touareg_2'\n",
      " 'touareg' 'town_and_country' 'town_car' 'tracker' 'trailblazer_ext'\n",
      " 'trailblazer' 'trans_sport' 'transit_connect' 'transit_wagon' 'traverse'\n",
      " 'trax' 'tribeca' 'tribute_hybrid' 'tribute' 'truck' 'tsx_sport_wagon'\n",
      " 'tsx' 'tt_rs' 'tt' 'tts' 'tucson' 'tundra' 'typhoon' 'uplander'\n",
      " 'v12_vanquish' 'v12_vantage_s' 'v12_vantage' 'v40' 'v50'\n",
      " 'v60_cross_country' 'v60' 'v70' 'v8_vantage' 'v8' 'v90' 'vanagon'\n",
      " 'vandura' 'van' 'vanquish' 'vanwagon' 'veloster' 'venture' 'venza'\n",
      " 'veracruz' 'verano' 'verona' 'versa_note' 'versa' 'veyron_16.4' 'vibe'\n",
      " 'vigor' 'viper' 'virage' 'vitara' 'voyager' 'windstar_cargo' 'windstar'\n",
      " 'wraith' 'wrx' 'x-90' 'x1' 'x3' 'x4' 'x5_m' 'x5' 'x6_m' 'x6' 'xa' 'xb'\n",
      " 'xc60' 'xc70' 'xc90' 'xc' 'xd' 'xg300' 'xg350' 'xl-7' 'xl7' 'xlr-v' 'xlr'\n",
      " 'xt5' 'xterra' 'xts' 'xt' 'xv_crosstrek' 'yaris_ia' 'yaris'\n",
      " 'yukon_denali' 'yukon_hybrid' 'yukon_xl' 'yukon' 'z3' 'z4_m' 'z4' 'z8'\n",
      " 'zdx' 'zephyr']\n",
      "\n",
      "\n",
      "914\n",
      "\n",
      "year\n",
      "\n",
      "\n",
      "[2011 2012 2013 1992 1993 1994 2017 1991 2016 1990 2015 1996 1997 1998\n",
      " 2014 1999 2002 2003 2004 1995 2007 2008 2009 2001 2010 2000 2005 2006]\n",
      "\n",
      "\n",
      "28\n",
      "\n",
      "engine_fuel_type\n",
      "\n",
      "\n",
      "['premium_unleaded_(required)' 'regular_unleaded'\n",
      " 'premium_unleaded_(recommended)' 'flex-fuel_(unleaded/e85)' 'diesel'\n",
      " 'electric' 'flex-fuel_(premium_unleaded_recommended/e85)' 'natural_gas'\n",
      " 'flex-fuel_(premium_unleaded_required/e85)'\n",
      " 'flex-fuel_(unleaded/natural_gas)' nan]\n",
      "\n",
      "\n",
      "10\n",
      "\n",
      "engine_hp\n",
      "\n",
      "\n",
      "[ 335.  300.  230.  320.  172.  160.  130.  158.  240.  248.  162.  217.\n",
      "  184.  295.  115.  140.  155.  114.  100.  241.  180.  177.  228.  121.\n",
      "  148.  194.  218.  161.  292.  250.  255.  222.   82.  134.  306.  400.\n",
      "  425.  350.  332.  268.  282.  275.  201.  442.  562.  597.  237.  270.\n",
      "  445.  443.  302.  322.  315.   nan  101.  135.  485.  238.  515.  543.\n",
      "  631.  604.  620.  611.  661.  157.  402.  389.  110.  532.  170.  165.\n",
      "  125.  641.  535.  153.  144.  188.  372.  108.  168.  190.  205.  200.\n",
      "  227.  173.  220.  210.  280.  207.  265.  260.  290.  285.  390.  225.\n",
      "  185.  150.  430.  520.  560.  475.  500.  540.  370.  580.  420.  345.\n",
      "  195.  193.  208.  181.  236.  186.  252.  310.  333.  340.  450.  281.\n",
      "  288.  138.  137.  106.  271.  196.  212.  278.  189.  480.  152.  600.\n",
      "  375.  198.  182.  179.  264.  503.  456.  317.  235.  385.  303.   63.\n",
      "  321.  272.  464.  202.  215.  283.  700.  720.  750.  107.  293.  119.\n",
      "  143.  245.  120.  337.  276.  330.  132.  199.  530.  451.  329.  469.\n",
      "  362.   94.  553.  453.  483.  323.  426.  505.  455.  650.  178.  242.\n",
      "  305.  605.  440.  570.  325.  175.  707.  131.   62.   92.  102.  127.\n",
      "  174.  621.  510.  429.  536.  355.  382.  577.  113.  136.  234.  552.\n",
      "  626.  616.  572.  521.  567.  582.  460.  164.  192.  224.  239.  404.\n",
      "  318.  556.  640.  122.  146.  244.  273.  563.  141.  435.  550.  360.\n",
      "  145.  349.  166.  147.  128.  197.  291.  660.  261.  156.  403.   95.\n",
      "  297.   81.  257.  365.  203.  231.  731.  651.  287.  123.  126.  416.\n",
      "  343.  348.  328.  298.  171.  219.  221.  311.  361.  256.  415.  274.\n",
      "  449.  395.  401.  454.  444.  338.  342.  467.  545.  565.  301.  263.\n",
      "   93.  187.  610.   66.  111.   98.  204.  211.   73.  304.  381.  142.\n",
      "   74.  424.  253.   90.  386.  359.  438.  232.  383.  518.  493.  259.\n",
      "  523.   55.   79.  116.  151.   78.  191.  592.  632.  670.   88.  167.\n",
      "  118.  380.  214.  573.  284.   99.  103.  525.  254.  470.  154.  176.\n",
      "  279.  377.  251.  223.  308.  105.  316.  124.  526.  662.  266.  296.\n",
      "  557.  617.  583.  622.   84.  163.  354.  159.   96.  206.  169.  133.\n",
      "  568.  109. 1001.  645.  490.  624.  410.   97.  394.]\n",
      "\n",
      "\n",
      "356\n",
      "\n",
      "engine_cylinders\n",
      "\n",
      "\n",
      "[ 6.  4.  5.  8. 12.  0. nan 10.  3. 16.]\n",
      "\n",
      "\n",
      "9\n",
      "\n",
      "transmission_type\n",
      "\n",
      "\n",
      "['manual' 'automatic' 'automated_manual' 'direct_drive' 'unknown']\n",
      "\n",
      "\n",
      "5\n",
      "\n",
      "driven_wheels\n",
      "\n",
      "\n",
      "['rear_wheel_drive' 'front_wheel_drive' 'all_wheel_drive'\n",
      " 'four_wheel_drive']\n",
      "\n",
      "\n",
      "4\n",
      "\n",
      "number_of_doors\n",
      "\n",
      "\n",
      "[ 2.  4.  3. nan]\n",
      "\n",
      "\n",
      "3\n",
      "\n",
      "market_category\n",
      "\n",
      "\n",
      "['factory_tuner,luxury,high-performance' 'luxury,performance'\n",
      " 'luxury,high-performance' 'luxury' 'performance' 'flex_fuel'\n",
      " 'flex_fuel,performance' nan 'hatchback' 'hatchback,luxury,performance'\n",
      " 'hatchback,luxury' 'luxury,high-performance,hybrid' 'diesel,luxury'\n",
      " 'hatchback,performance' 'hatchback,factory_tuner,performance'\n",
      " 'high-performance' 'factory_tuner,high-performance'\n",
      " 'exotic,high-performance' 'exotic,factory_tuner,high-performance'\n",
      " 'factory_tuner,performance' 'crossover' 'exotic,luxury'\n",
      " 'exotic,luxury,high-performance' 'exotic,luxury,performance'\n",
      " 'factory_tuner,luxury,performance' 'flex_fuel,luxury' 'crossover,luxury'\n",
      " 'hatchback,factory_tuner,luxury,performance' 'crossover,hatchback'\n",
      " 'hybrid' 'luxury,performance,hybrid'\n",
      " 'crossover,luxury,performance,hybrid' 'crossover,luxury,performance'\n",
      " 'exotic,factory_tuner,luxury,high-performance'\n",
      " 'flex_fuel,luxury,high-performance' 'crossover,flex_fuel' 'diesel'\n",
      " 'hatchback,diesel' 'crossover,luxury,diesel'\n",
      " 'crossover,luxury,high-performance'\n",
      " 'exotic,flex_fuel,factory_tuner,luxury,high-performance'\n",
      " 'exotic,flex_fuel,luxury,high-performance'\n",
      " 'exotic,factory_tuner,luxury,performance' 'hatchback,hybrid'\n",
      " 'crossover,hybrid' 'hatchback,luxury,hybrid'\n",
      " 'flex_fuel,luxury,performance' 'crossover,performance' 'luxury,hybrid'\n",
      " 'crossover,flex_fuel,luxury,performance' 'crossover,flex_fuel,luxury'\n",
      " 'crossover,flex_fuel,performance'\n",
      " 'hatchback,factory_tuner,high-performance' 'hatchback,flex_fuel'\n",
      " 'factory_tuner,luxury' 'crossover,factory_tuner,luxury,high-performance'\n",
      " 'crossover,factory_tuner,luxury,performance'\n",
      " 'crossover,hatchback,factory_tuner,performance'\n",
      " 'crossover,hatchback,performance' 'flex_fuel,hybrid'\n",
      " 'flex_fuel,performance,hybrid' 'crossover,exotic,luxury,high-performance'\n",
      " 'crossover,exotic,luxury,performance' 'exotic,performance'\n",
      " 'exotic,luxury,high-performance,hybrid' 'crossover,luxury,hybrid'\n",
      " 'flex_fuel,factory_tuner,luxury,high-performance' 'performance,hybrid'\n",
      " 'crossover,factory_tuner,performance' 'crossover,diesel'\n",
      " 'flex_fuel,diesel' 'crossover,hatchback,luxury']\n",
      "\n",
      "\n",
      "71\n",
      "\n",
      "vehicle_size\n",
      "\n",
      "\n",
      "['compact' 'midsize' 'large']\n",
      "\n",
      "\n",
      "3\n",
      "\n",
      "vehicle_style\n",
      "\n",
      "\n",
      "['coupe' 'convertible' 'sedan' 'wagon' '4dr_hatchback' '2dr_hatchback'\n",
      " '4dr_suv' 'passenger_minivan' 'cargo_minivan' 'crew_cab_pickup'\n",
      " 'regular_cab_pickup' 'extended_cab_pickup' '2dr_suv' 'cargo_van'\n",
      " 'convertible_suv' 'passenger_van']\n",
      "\n",
      "\n",
      "16\n",
      "\n",
      "highway_mpg\n",
      "\n",
      "\n",
      "[ 26  28  27  25  24  20  21  22  35  34  31  30  32  33  23  36  29  45\n",
      "  43  40  42  19  18  17  15  37  39  41  16  14  38 108 103  12 354  47\n",
      "  46  82 110  44  13 105  99 102 111 106  48 101  90  97  94  98 100 107\n",
      "  53  50  74  92 109]\n",
      "\n",
      "\n",
      "59\n",
      "\n",
      "city_mpg\n",
      "\n",
      "\n",
      "[ 19  20  18  17  16  26  23  22  21  24  15  25  29  28  32  31  30  14\n",
      "  10  27  12  13   9  11 122 121   8  50  49  47  35  33  40  85 128  42\n",
      "  43  36  44 126   7  34 132 110 137 129  39  41 124  37  88  94  86 101\n",
      "  95  89 102  98  92  97  91  53  55  51  54  58  78  38 120]\n",
      "\n",
      "\n",
      "69\n",
      "\n",
      "popularity\n",
      "\n",
      "\n",
      "[3916 3105  819  617 1013 2009  870  586  436 2774  113 2031  416   67\n",
      "  210 1715  376  549 1439  535 2202   26  481 5657 1624 1720  520 1385\n",
      " 1851 1158   61  640  873    2  155  204   86  238  454  259  258  613\n",
      "  190  105   21  130 1391  820]\n",
      "\n",
      "\n",
      "48\n",
      "\n",
      "msrp\n",
      "\n",
      "\n",
      "[46135 40650 36350 ... 46120 50620 50920]\n",
      "\n",
      "\n",
      "6049\n",
      "\n"
     ]
    }
   ],
   "source": [
    "# get types and unique values of each columns\n",
    "\n",
    "for col in df.columns:\n",
    "    print(col)\n",
    "    print('\\n')\n",
    "    print(df[col].unique())\n",
    "    print('\\n')\n",
    "    print(df[col].nunique())\n",
    "    print()"
   ]
  },
  {
   "cell_type": "code",
   "execution_count": 17,
   "id": "f9c00d00",
   "metadata": {},
   "outputs": [
    {
     "data": {
      "text/plain": [
       "<AxesSubplot:xlabel='msrp', ylabel='Count'>"
      ]
     },
     "execution_count": 17,
     "metadata": {},
     "output_type": "execute_result"
    },
    {
     "data": {
      "image/png": "[encoded data removed]",
      "text/plain": [
       "<Figure size 432x288 with 1 Axes>"
      ]
     },
     "metadata": {
      "needs_background": "light"
     },
     "output_type": "display_data"
    }
   ],
   "source": [
    "# PLot the msrp column and set bins(how many bars the plot should have)\n",
    "# Graph below shows most cars are cheaper to buy. This distribution is called long-tail distribution.\n",
    "\n",
    "sns.histplot(df['msrp'], bins=50)"
   ]
  },
  {
   "cell_type": "code",
   "execution_count": 18,
   "id": "f4283c7c",
   "metadata": {},
   "outputs": [
    {
     "data": {
      "text/plain": [
       "<AxesSubplot:xlabel='msrp', ylabel='Count'>"
      ]
     },
     "execution_count": 18,
     "metadata": {},
     "output_type": "execute_result"
    },
    {
     "data": {
      "image/png": "[encoded data removed]",
      "text/plain": [
       "<Figure size 432x288 with 1 Axes>"
      ]
     },
     "metadata": {
      "needs_background": "light"
     },
     "output_type": "display_data"
    }
   ],
   "source": [
    "# Graph of prices less than 100k\n",
    "\n",
    "sns.histplot(df['msrp'][df['msrp']<100000], bins=50)"
   ]
  },
  {
   "cell_type": "markdown",
   "id": "2be07c92",
   "metadata": {},
   "source": [
    "#Our plots above will not be useful for our price prediction because it's not uniformly distributed. Adjust price using numpy logarithms"
   ]
  },
  {
   "cell_type": "code",
   "execution_count": 19,
   "id": "791366e8",
   "metadata": {},
   "outputs": [
    {
     "data": {
      "text/plain": [
       "array([0.        , 0.69314718, 6.90875478, 9.21044037])"
      ]
     },
     "execution_count": 19,
     "metadata": {},
     "output_type": "execute_result"
    }
   ],
   "source": [
    "# Using numpy logarithms\n",
    "\n",
    "np.log1p([0,1,1000,10000])"
   ]
  },
  {
   "cell_type": "code",
   "execution_count": 20,
   "id": "d1c29246",
   "metadata": {},
   "outputs": [],
   "source": [
    "price_logs = np.log1p(df['msrp'])"
   ]
  },
  {
   "cell_type": "code",
   "execution_count": 21,
   "id": "d3187588",
   "metadata": {},
   "outputs": [
    {
     "data": {
      "text/plain": [
       "0        10.739349\n",
       "1        10.612779\n",
       "2        10.500977\n",
       "3        10.290483\n",
       "4        10.448744\n",
       "           ...    \n",
       "11909    10.739024\n",
       "11910    10.945018\n",
       "11911    10.832122\n",
       "11912    10.838031\n",
       "11913    10.274913\n",
       "Name: msrp, Length: 11914, dtype: float64"
      ]
     },
     "execution_count": 21,
     "metadata": {},
     "output_type": "execute_result"
    }
   ],
   "source": [
    "price_logs"
   ]
  },
  {
   "cell_type": "code",
   "execution_count": 22,
   "id": "37deb304",
   "metadata": {},
   "outputs": [
    {
     "data": {
      "text/plain": [
       "<AxesSubplot:xlabel='msrp', ylabel='Count'>"
      ]
     },
     "execution_count": 22,
     "metadata": {},
     "output_type": "execute_result"
    },
    {
     "data": {
      "image/png": "[encoded data removed]",
      "text/plain": [
       "<Figure size 432x288 with 1 Axes>"
      ]
     },
     "metadata": {
      "needs_background": "light"
     },
     "output_type": "display_data"
    }
   ],
   "source": [
    "# Plot new price that will be accepted by the model: normal or uniformly distributed\n",
    "\n",
    "sns.histplot(price_logs, bins=50)"
   ]
  },
  {
   "cell_type": "code",
   "execution_count": 23,
   "id": "9ccb98b3",
   "metadata": {},
   "outputs": [
    {
     "data": {
      "text/plain": [
       "make                    0\n",
       "model                   0\n",
       "year                    0\n",
       "engine_fuel_type        3\n",
       "engine_hp              69\n",
       "engine_cylinders       30\n",
       "transmission_type       0\n",
       "driven_wheels           0\n",
       "number_of_doors         6\n",
       "market_category      3742\n",
       "vehicle_size            0\n",
       "vehicle_style           0\n",
       "highway_mpg             0\n",
       "city_mpg                0\n",
       "popularity              0\n",
       "msrp                    0\n",
       "dtype: int64"
      ]
     },
     "execution_count": 23,
     "metadata": {},
     "output_type": "execute_result"
    }
   ],
   "source": [
    "# to get msiing values from the dataset\n",
    "\n",
    "df.isnull().sum()"
   ]
  },
  {
   "cell_type": "markdown",
   "id": "bf41a85b",
   "metadata": {},
   "source": [
    "# 2.4-Setting up Validation Framework"
   ]
  },
  {
   "cell_type": "markdown",
   "id": "ff15385b",
   "metadata": {},
   "source": [
    "#We split the data into training set (60% of data), validation set (20% of data) and test set (20% of data)"
   ]
  },
  {
   "cell_type": "code",
   "execution_count": 24,
   "id": "43ebf737",
   "metadata": {},
   "outputs": [],
   "source": [
    "# get the length of datafram df,set to variable n,get the 20% validation,20% test and 60% train data. int to remove decimal.\n",
    "\n",
    "n = len(df)\n",
    "\n",
    "n_val = int(n * 0.2)\n",
    "n_test = int(n * 0.2)\n",
    "n_train = n - n_val - n_test"
   ]
  },
  {
   "cell_type": "code",
   "execution_count": 25,
   "id": "6a7249c2",
   "metadata": {},
   "outputs": [
    {
     "data": {
      "text/plain": [
       "(11914, 2382, 2382, 7150)"
      ]
     },
     "execution_count": 25,
     "metadata": {},
     "output_type": "execute_result"
    }
   ],
   "source": [
    "n, n_val, n_test, n_train"
   ]
  },
  {
   "cell_type": "code",
   "execution_count": 26,
   "id": "d9f2a8e4",
   "metadata": {},
   "outputs": [
    {
     "data": {
      "text/html": [
       "<div>\n",
       "<style scoped>\n",
       "    .dataframe tbody tr th:only-of-type {\n",
       "        vertical-align: middle;\n",
       "    }\n",
       "\n",
       "    .dataframe tbody tr th {\n",
       "        vertical-align: top;\n",
       "    }\n",
       "\n",
       "    .dataframe thead th {\n",
       "        text-align: right;\n",
       "    }\n",
       "</style>\n",
       "<table border=\"1\" class=\"dataframe\">\n",
       "  <thead>\n",
       "    <tr style=\"text-align: right;\">\n",
       "      <th></th>\n",
       "      <th>make</th>\n",
       "      <th>model</th>\n",
       "      <th>year</th>\n",
       "      <th>engine_fuel_type</th>\n",
       "      <th>engine_hp</th>\n",
       "      <th>engine_cylinders</th>\n",
       "      <th>transmission_type</th>\n",
       "      <th>driven_wheels</th>\n",
       "      <th>number_of_doors</th>\n",
       "      <th>market_category</th>\n",
       "      <th>vehicle_size</th>\n",
       "      <th>vehicle_style</th>\n",
       "      <th>highway_mpg</th>\n",
       "      <th>city_mpg</th>\n",
       "      <th>popularity</th>\n",
       "      <th>msrp</th>\n",
       "    </tr>\n",
       "  </thead>\n",
       "  <tbody>\n",
       "    <tr>\n",
       "      <th>100</th>\n",
       "      <td>nissan</td>\n",
       "      <td>240sx</td>\n",
       "      <td>1997</td>\n",
       "      <td>regular_unleaded</td>\n",
       "      <td>155.0</td>\n",
       "      <td>4.0</td>\n",
       "      <td>manual</td>\n",
       "      <td>rear_wheel_drive</td>\n",
       "      <td>2.0</td>\n",
       "      <td>performance</td>\n",
       "      <td>compact</td>\n",
       "      <td>coupe</td>\n",
       "      <td>26</td>\n",
       "      <td>19</td>\n",
       "      <td>2009</td>\n",
       "      <td>4107</td>\n",
       "    </tr>\n",
       "    <tr>\n",
       "      <th>1</th>\n",
       "      <td>bmw</td>\n",
       "      <td>1_series</td>\n",
       "      <td>2011</td>\n",
       "      <td>premium_unleaded_(required)</td>\n",
       "      <td>300.0</td>\n",
       "      <td>6.0</td>\n",
       "      <td>manual</td>\n",
       "      <td>rear_wheel_drive</td>\n",
       "      <td>2.0</td>\n",
       "      <td>luxury,performance</td>\n",
       "      <td>compact</td>\n",
       "      <td>convertible</td>\n",
       "      <td>28</td>\n",
       "      <td>19</td>\n",
       "      <td>3916</td>\n",
       "      <td>40650</td>\n",
       "    </tr>\n",
       "    <tr>\n",
       "      <th>500</th>\n",
       "      <td>toyota</td>\n",
       "      <td>4runner</td>\n",
       "      <td>2016</td>\n",
       "      <td>regular_unleaded</td>\n",
       "      <td>270.0</td>\n",
       "      <td>6.0</td>\n",
       "      <td>automatic</td>\n",
       "      <td>rear_wheel_drive</td>\n",
       "      <td>4.0</td>\n",
       "      <td>NaN</td>\n",
       "      <td>midsize</td>\n",
       "      <td>4dr_suv</td>\n",
       "      <td>22</td>\n",
       "      <td>17</td>\n",
       "      <td>2031</td>\n",
       "      <td>42325</td>\n",
       "    </tr>\n",
       "    <tr>\n",
       "      <th>4000</th>\n",
       "      <td>gmc</td>\n",
       "      <td>envoy_xl</td>\n",
       "      <td>2006</td>\n",
       "      <td>regular_unleaded</td>\n",
       "      <td>300.0</td>\n",
       "      <td>8.0</td>\n",
       "      <td>automatic</td>\n",
       "      <td>rear_wheel_drive</td>\n",
       "      <td>4.0</td>\n",
       "      <td>NaN</td>\n",
       "      <td>large</td>\n",
       "      <td>4dr_suv</td>\n",
       "      <td>19</td>\n",
       "      <td>14</td>\n",
       "      <td>549</td>\n",
       "      <td>35350</td>\n",
       "    </tr>\n",
       "  </tbody>\n",
       "</table>\n",
       "</div>"
      ],
      "text/plain": [
       "        make     model  year             engine_fuel_type  engine_hp  \\\n",
       "100   nissan     240sx  1997             regular_unleaded      155.0   \n",
       "1        bmw  1_series  2011  premium_unleaded_(required)      300.0   \n",
       "500   toyota   4runner  2016             regular_unleaded      270.0   \n",
       "4000     gmc  envoy_xl  2006             regular_unleaded      300.0   \n",
       "\n",
       "      engine_cylinders transmission_type     driven_wheels  number_of_doors  \\\n",
       "100                4.0            manual  rear_wheel_drive              2.0   \n",
       "1                  6.0            manual  rear_wheel_drive              2.0   \n",
       "500                6.0         automatic  rear_wheel_drive              4.0   \n",
       "4000               8.0         automatic  rear_wheel_drive              4.0   \n",
       "\n",
       "         market_category vehicle_size vehicle_style  highway_mpg  city_mpg  \\\n",
       "100          performance      compact         coupe           26        19   \n",
       "1     luxury,performance      compact   convertible           28        19   \n",
       "500                  NaN      midsize       4dr_suv           22        17   \n",
       "4000                 NaN        large       4dr_suv           19        14   \n",
       "\n",
       "      popularity   msrp  \n",
       "100         2009   4107  \n",
       "1           3916  40650  \n",
       "500         2031  42325  \n",
       "4000         549  35350  "
      ]
     },
     "execution_count": 26,
     "metadata": {},
     "output_type": "execute_result"
    }
   ],
   "source": [
    "df.iloc[[100, 1, 500, 4000]]          # loc can also be used"
   ]
  },
  {
   "cell_type": "code",
   "execution_count": 138,
   "id": "4ba673b8",
   "metadata": {},
   "outputs": [],
   "source": [
    "# individual data of the different set above\n",
    "\n",
    "df_train = df.iloc[:n_train]\n",
    "df_val = df.iloc[n_train:n_train+n_val]\n",
    "df_test = df.iloc[n_train+n_val:]"
   ]
  },
  {
   "cell_type": "code",
   "execution_count": 139,
   "id": "9b2d2257",
   "metadata": {},
   "outputs": [
    {
     "data": {
      "text/plain": [
       "(7150, 2382, 2382)"
      ]
     },
     "execution_count": 139,
     "metadata": {},
     "output_type": "execute_result"
    }
   ],
   "source": [
    "len(df_train), len(df_val), len(df_test)"
   ]
  },
  {
   "cell_type": "code",
   "execution_count": 140,
   "id": "0430d810",
   "metadata": {},
   "outputs": [
    {
     "data": {
      "text/plain": [
       "(7150, 2382, 2382)"
      ]
     },
     "execution_count": 140,
     "metadata": {},
     "output_type": "execute_result"
    }
   ],
   "source": [
    "len(df.iloc[:n_train]), len(df.iloc[n_train:n_train+n_val]), len(df.iloc[n_train+n_val:])      # same as above"
   ]
  },
  {
   "cell_type": "markdown",
   "id": "1606b6be",
   "metadata": {},
   "source": [
    "#The below samples is not part of the class"
   ]
  },
  {
   "cell_type": "code",
   "execution_count": 141,
   "id": "3672eb4d",
   "metadata": {},
   "outputs": [
    {
     "data": {
      "text/html": [
       "<div>\n",
       "<style scoped>\n",
       "    .dataframe tbody tr th:only-of-type {\n",
       "        vertical-align: middle;\n",
       "    }\n",
       "\n",
       "    .dataframe tbody tr th {\n",
       "        vertical-align: top;\n",
       "    }\n",
       "\n",
       "    .dataframe thead th {\n",
       "        text-align: right;\n",
       "    }\n",
       "</style>\n",
       "<table border=\"1\" class=\"dataframe\">\n",
       "  <thead>\n",
       "    <tr style=\"text-align: right;\">\n",
       "      <th></th>\n",
       "      <th>make</th>\n",
       "      <th>model</th>\n",
       "      <th>year</th>\n",
       "      <th>engine_fuel_type</th>\n",
       "      <th>engine_hp</th>\n",
       "      <th>engine_cylinders</th>\n",
       "      <th>transmission_type</th>\n",
       "      <th>driven_wheels</th>\n",
       "      <th>number_of_doors</th>\n",
       "      <th>market_category</th>\n",
       "      <th>vehicle_size</th>\n",
       "      <th>vehicle_style</th>\n",
       "      <th>highway_mpg</th>\n",
       "      <th>city_mpg</th>\n",
       "      <th>popularity</th>\n",
       "      <th>msrp</th>\n",
       "    </tr>\n",
       "  </thead>\n",
       "  <tbody>\n",
       "    <tr>\n",
       "      <th>3901</th>\n",
       "      <td>honda</td>\n",
       "      <td>element</td>\n",
       "      <td>2010</td>\n",
       "      <td>regular_unleaded</td>\n",
       "      <td>166.0</td>\n",
       "      <td>4.0</td>\n",
       "      <td>automatic</td>\n",
       "      <td>all_wheel_drive</td>\n",
       "      <td>4.0</td>\n",
       "      <td>crossover</td>\n",
       "      <td>compact</td>\n",
       "      <td>4dr_suv</td>\n",
       "      <td>24</td>\n",
       "      <td>19</td>\n",
       "      <td>2202</td>\n",
       "      <td>23885</td>\n",
       "    </tr>\n",
       "    <tr>\n",
       "      <th>37</th>\n",
       "      <td>mercedes-benz</td>\n",
       "      <td>190-class</td>\n",
       "      <td>1992</td>\n",
       "      <td>regular_unleaded</td>\n",
       "      <td>158.0</td>\n",
       "      <td>6.0</td>\n",
       "      <td>manual</td>\n",
       "      <td>rear_wheel_drive</td>\n",
       "      <td>4.0</td>\n",
       "      <td>luxury</td>\n",
       "      <td>compact</td>\n",
       "      <td>sedan</td>\n",
       "      <td>25</td>\n",
       "      <td>17</td>\n",
       "      <td>617</td>\n",
       "      <td>2000</td>\n",
       "    </tr>\n",
       "    <tr>\n",
       "      <th>4132</th>\n",
       "      <td>cadillac</td>\n",
       "      <td>escalade_ext</td>\n",
       "      <td>2012</td>\n",
       "      <td>flex-fuel_(premium_unleaded_recommended/e85)</td>\n",
       "      <td>403.0</td>\n",
       "      <td>8.0</td>\n",
       "      <td>automatic</td>\n",
       "      <td>all_wheel_drive</td>\n",
       "      <td>4.0</td>\n",
       "      <td>crossover,flex_fuel,luxury,performance</td>\n",
       "      <td>large</td>\n",
       "      <td>crew_cab_pickup</td>\n",
       "      <td>18</td>\n",
       "      <td>13</td>\n",
       "      <td>1624</td>\n",
       "      <td>69640</td>\n",
       "    </tr>\n",
       "    <tr>\n",
       "      <th>5280</th>\n",
       "      <td>rolls-royce</td>\n",
       "      <td>ghost</td>\n",
       "      <td>2012</td>\n",
       "      <td>premium_unleaded_(required)</td>\n",
       "      <td>563.0</td>\n",
       "      <td>12.0</td>\n",
       "      <td>automatic</td>\n",
       "      <td>rear_wheel_drive</td>\n",
       "      <td>4.0</td>\n",
       "      <td>exotic,luxury,performance</td>\n",
       "      <td>large</td>\n",
       "      <td>sedan</td>\n",
       "      <td>20</td>\n",
       "      <td>13</td>\n",
       "      <td>86</td>\n",
       "      <td>290000</td>\n",
       "    </tr>\n",
       "    <tr>\n",
       "      <th>6822</th>\n",
       "      <td>infiniti</td>\n",
       "      <td>m</td>\n",
       "      <td>2013</td>\n",
       "      <td>premium_unleaded_(required)</td>\n",
       "      <td>330.0</td>\n",
       "      <td>6.0</td>\n",
       "      <td>automatic</td>\n",
       "      <td>rear_wheel_drive</td>\n",
       "      <td>4.0</td>\n",
       "      <td>luxury,performance</td>\n",
       "      <td>large</td>\n",
       "      <td>sedan</td>\n",
       "      <td>26</td>\n",
       "      <td>18</td>\n",
       "      <td>190</td>\n",
       "      <td>48700</td>\n",
       "    </tr>\n",
       "    <tr>\n",
       "      <th>...</th>\n",
       "      <td>...</td>\n",
       "      <td>...</td>\n",
       "      <td>...</td>\n",
       "      <td>...</td>\n",
       "      <td>...</td>\n",
       "      <td>...</td>\n",
       "      <td>...</td>\n",
       "      <td>...</td>\n",
       "      <td>...</td>\n",
       "      <td>...</td>\n",
       "      <td>...</td>\n",
       "      <td>...</td>\n",
       "      <td>...</td>\n",
       "      <td>...</td>\n",
       "      <td>...</td>\n",
       "      <td>...</td>\n",
       "    </tr>\n",
       "    <tr>\n",
       "      <th>6443</th>\n",
       "      <td>subaru</td>\n",
       "      <td>loyale</td>\n",
       "      <td>1992</td>\n",
       "      <td>regular_unleaded</td>\n",
       "      <td>90.0</td>\n",
       "      <td>4.0</td>\n",
       "      <td>manual</td>\n",
       "      <td>front_wheel_drive</td>\n",
       "      <td>4.0</td>\n",
       "      <td>NaN</td>\n",
       "      <td>compact</td>\n",
       "      <td>sedan</td>\n",
       "      <td>29</td>\n",
       "      <td>22</td>\n",
       "      <td>640</td>\n",
       "      <td>2000</td>\n",
       "    </tr>\n",
       "    <tr>\n",
       "      <th>3606</th>\n",
       "      <td>cadillac</td>\n",
       "      <td>dts</td>\n",
       "      <td>2011</td>\n",
       "      <td>premium_unleaded_(recommended)</td>\n",
       "      <td>292.0</td>\n",
       "      <td>8.0</td>\n",
       "      <td>automatic</td>\n",
       "      <td>front_wheel_drive</td>\n",
       "      <td>4.0</td>\n",
       "      <td>luxury</td>\n",
       "      <td>large</td>\n",
       "      <td>sedan</td>\n",
       "      <td>23</td>\n",
       "      <td>15</td>\n",
       "      <td>1624</td>\n",
       "      <td>59875</td>\n",
       "    </tr>\n",
       "    <tr>\n",
       "      <th>5704</th>\n",
       "      <td>hummer</td>\n",
       "      <td>h3t</td>\n",
       "      <td>2010</td>\n",
       "      <td>flex-fuel_(unleaded/e85)</td>\n",
       "      <td>300.0</td>\n",
       "      <td>8.0</td>\n",
       "      <td>automatic</td>\n",
       "      <td>four_wheel_drive</td>\n",
       "      <td>4.0</td>\n",
       "      <td>crossover,flex_fuel,luxury</td>\n",
       "      <td>compact</td>\n",
       "      <td>crew_cab_pickup</td>\n",
       "      <td>16</td>\n",
       "      <td>13</td>\n",
       "      <td>130</td>\n",
       "      <td>39205</td>\n",
       "    </tr>\n",
       "    <tr>\n",
       "      <th>6637</th>\n",
       "      <td>dodge</td>\n",
       "      <td>magnum</td>\n",
       "      <td>2006</td>\n",
       "      <td>regular_unleaded</td>\n",
       "      <td>250.0</td>\n",
       "      <td>6.0</td>\n",
       "      <td>automatic</td>\n",
       "      <td>all_wheel_drive</td>\n",
       "      <td>4.0</td>\n",
       "      <td>NaN</td>\n",
       "      <td>large</td>\n",
       "      <td>wagon</td>\n",
       "      <td>22</td>\n",
       "      <td>15</td>\n",
       "      <td>1851</td>\n",
       "      <td>29100</td>\n",
       "    </tr>\n",
       "    <tr>\n",
       "      <th>2575</th>\n",
       "      <td>honda</td>\n",
       "      <td>civic</td>\n",
       "      <td>2016</td>\n",
       "      <td>regular_unleaded</td>\n",
       "      <td>174.0</td>\n",
       "      <td>4.0</td>\n",
       "      <td>automatic</td>\n",
       "      <td>front_wheel_drive</td>\n",
       "      <td>4.0</td>\n",
       "      <td>NaN</td>\n",
       "      <td>midsize</td>\n",
       "      <td>sedan</td>\n",
       "      <td>42</td>\n",
       "      <td>31</td>\n",
       "      <td>2202</td>\n",
       "      <td>22200</td>\n",
       "    </tr>\n",
       "  </tbody>\n",
       "</table>\n",
       "<p>7150 rows × 16 columns</p>\n",
       "</div>"
      ],
      "text/plain": [
       "               make         model  year  \\\n",
       "3901          honda       element  2010   \n",
       "37    mercedes-benz     190-class  1992   \n",
       "4132       cadillac  escalade_ext  2012   \n",
       "5280    rolls-royce         ghost  2012   \n",
       "6822       infiniti             m  2013   \n",
       "...             ...           ...   ...   \n",
       "6443         subaru        loyale  1992   \n",
       "3606       cadillac           dts  2011   \n",
       "5704         hummer           h3t  2010   \n",
       "6637          dodge        magnum  2006   \n",
       "2575          honda         civic  2016   \n",
       "\n",
       "                                  engine_fuel_type  engine_hp  \\\n",
       "3901                              regular_unleaded      166.0   \n",
       "37                                regular_unleaded      158.0   \n",
       "4132  flex-fuel_(premium_unleaded_recommended/e85)      403.0   \n",
       "5280                   premium_unleaded_(required)      563.0   \n",
       "6822                   premium_unleaded_(required)      330.0   \n",
       "...                                            ...        ...   \n",
       "6443                              regular_unleaded       90.0   \n",
       "3606                premium_unleaded_(recommended)      292.0   \n",
       "5704                      flex-fuel_(unleaded/e85)      300.0   \n",
       "6637                              regular_unleaded      250.0   \n",
       "2575                              regular_unleaded      174.0   \n",
       "\n",
       "      engine_cylinders transmission_type      driven_wheels  number_of_doors  \\\n",
       "3901               4.0         automatic    all_wheel_drive              4.0   \n",
       "37                 6.0            manual   rear_wheel_drive              4.0   \n",
       "4132               8.0         automatic    all_wheel_drive              4.0   \n",
       "5280              12.0         automatic   rear_wheel_drive              4.0   \n",
       "6822               6.0         automatic   rear_wheel_drive              4.0   \n",
       "...                ...               ...                ...              ...   \n",
       "6443               4.0            manual  front_wheel_drive              4.0   \n",
       "3606               8.0         automatic  front_wheel_drive              4.0   \n",
       "5704               8.0         automatic   four_wheel_drive              4.0   \n",
       "6637               6.0         automatic    all_wheel_drive              4.0   \n",
       "2575               4.0         automatic  front_wheel_drive              4.0   \n",
       "\n",
       "                             market_category vehicle_size    vehicle_style  \\\n",
       "3901                               crossover      compact          4dr_suv   \n",
       "37                                    luxury      compact            sedan   \n",
       "4132  crossover,flex_fuel,luxury,performance        large  crew_cab_pickup   \n",
       "5280               exotic,luxury,performance        large            sedan   \n",
       "6822                      luxury,performance        large            sedan   \n",
       "...                                      ...          ...              ...   \n",
       "6443                                     NaN      compact            sedan   \n",
       "3606                                  luxury        large            sedan   \n",
       "5704              crossover,flex_fuel,luxury      compact  crew_cab_pickup   \n",
       "6637                                     NaN        large            wagon   \n",
       "2575                                     NaN      midsize            sedan   \n",
       "\n",
       "      highway_mpg  city_mpg  popularity    msrp  \n",
       "3901           24        19        2202   23885  \n",
       "37             25        17         617    2000  \n",
       "4132           18        13        1624   69640  \n",
       "5280           20        13          86  290000  \n",
       "6822           26        18         190   48700  \n",
       "...           ...       ...         ...     ...  \n",
       "6443           29        22         640    2000  \n",
       "3606           23        15        1624   59875  \n",
       "5704           16        13         130   39205  \n",
       "6637           22        15        1851   29100  \n",
       "2575           42        31        2202   22200  \n",
       "\n",
       "[7150 rows x 16 columns]"
      ]
     },
     "execution_count": 141,
     "metadata": {},
     "output_type": "execute_result"
    }
   ],
   "source": [
    "# to shuffle the dataset of the training data \n",
    "\n",
    "np.random.seed(2)\n",
    "df_train.sample(7150)"
   ]
  },
  {
   "cell_type": "code",
   "execution_count": 142,
   "id": "61dd42b5",
   "metadata": {},
   "outputs": [
    {
     "data": {
      "text/html": [
       "<div>\n",
       "<style scoped>\n",
       "    .dataframe tbody tr th:only-of-type {\n",
       "        vertical-align: middle;\n",
       "    }\n",
       "\n",
       "    .dataframe tbody tr th {\n",
       "        vertical-align: top;\n",
       "    }\n",
       "\n",
       "    .dataframe thead th {\n",
       "        text-align: right;\n",
       "    }\n",
       "</style>\n",
       "<table border=\"1\" class=\"dataframe\">\n",
       "  <thead>\n",
       "    <tr style=\"text-align: right;\">\n",
       "      <th></th>\n",
       "      <th>make</th>\n",
       "      <th>model</th>\n",
       "      <th>year</th>\n",
       "      <th>engine_fuel_type</th>\n",
       "      <th>engine_hp</th>\n",
       "      <th>engine_cylinders</th>\n",
       "      <th>transmission_type</th>\n",
       "      <th>driven_wheels</th>\n",
       "      <th>number_of_doors</th>\n",
       "      <th>market_category</th>\n",
       "      <th>vehicle_size</th>\n",
       "      <th>vehicle_style</th>\n",
       "      <th>highway_mpg</th>\n",
       "      <th>city_mpg</th>\n",
       "      <th>popularity</th>\n",
       "      <th>msrp</th>\n",
       "    </tr>\n",
       "  </thead>\n",
       "  <tbody>\n",
       "    <tr>\n",
       "      <th>7701</th>\n",
       "      <td>toyota</td>\n",
       "      <td>prius</td>\n",
       "      <td>2016</td>\n",
       "      <td>regular_unleaded</td>\n",
       "      <td>121.0</td>\n",
       "      <td>4.0</td>\n",
       "      <td>automatic</td>\n",
       "      <td>front_wheel_drive</td>\n",
       "      <td>4.0</td>\n",
       "      <td>hatchback,hybrid</td>\n",
       "      <td>compact</td>\n",
       "      <td>4dr_hatchback</td>\n",
       "      <td>53</td>\n",
       "      <td>58</td>\n",
       "      <td>2031</td>\n",
       "      <td>24700</td>\n",
       "    </tr>\n",
       "    <tr>\n",
       "      <th>7707</th>\n",
       "      <td>toyota</td>\n",
       "      <td>prius</td>\n",
       "      <td>2017</td>\n",
       "      <td>regular_unleaded</td>\n",
       "      <td>121.0</td>\n",
       "      <td>4.0</td>\n",
       "      <td>automatic</td>\n",
       "      <td>front_wheel_drive</td>\n",
       "      <td>4.0</td>\n",
       "      <td>hatchback,hybrid</td>\n",
       "      <td>compact</td>\n",
       "      <td>4dr_hatchback</td>\n",
       "      <td>50</td>\n",
       "      <td>54</td>\n",
       "      <td>2031</td>\n",
       "      <td>24685</td>\n",
       "    </tr>\n",
       "    <tr>\n",
       "      <th>7750</th>\n",
       "      <td>audi</td>\n",
       "      <td>q3</td>\n",
       "      <td>2015</td>\n",
       "      <td>premium_unleaded_(recommended)</td>\n",
       "      <td>200.0</td>\n",
       "      <td>4.0</td>\n",
       "      <td>automatic</td>\n",
       "      <td>front_wheel_drive</td>\n",
       "      <td>4.0</td>\n",
       "      <td>crossover,luxury</td>\n",
       "      <td>compact</td>\n",
       "      <td>4dr_suv</td>\n",
       "      <td>29</td>\n",
       "      <td>20</td>\n",
       "      <td>3105</td>\n",
       "      <td>32500</td>\n",
       "    </tr>\n",
       "    <tr>\n",
       "      <th>8851</th>\n",
       "      <td>audi</td>\n",
       "      <td>s3</td>\n",
       "      <td>2016</td>\n",
       "      <td>premium_unleaded_(required)</td>\n",
       "      <td>292.0</td>\n",
       "      <td>4.0</td>\n",
       "      <td>automated_manual</td>\n",
       "      <td>all_wheel_drive</td>\n",
       "      <td>4.0</td>\n",
       "      <td>factory_tuner,luxury,high-performance</td>\n",
       "      <td>compact</td>\n",
       "      <td>sedan</td>\n",
       "      <td>31</td>\n",
       "      <td>23</td>\n",
       "      <td>3105</td>\n",
       "      <td>42500</td>\n",
       "    </tr>\n",
       "    <tr>\n",
       "      <th>8880</th>\n",
       "      <td>audi</td>\n",
       "      <td>s5</td>\n",
       "      <td>2016</td>\n",
       "      <td>premium_unleaded_(required)</td>\n",
       "      <td>333.0</td>\n",
       "      <td>6.0</td>\n",
       "      <td>manual</td>\n",
       "      <td>all_wheel_drive</td>\n",
       "      <td>2.0</td>\n",
       "      <td>factory_tuner,luxury,high-performance</td>\n",
       "      <td>midsize</td>\n",
       "      <td>coupe</td>\n",
       "      <td>26</td>\n",
       "      <td>17</td>\n",
       "      <td>3105</td>\n",
       "      <td>53100</td>\n",
       "    </tr>\n",
       "    <tr>\n",
       "      <th>...</th>\n",
       "      <td>...</td>\n",
       "      <td>...</td>\n",
       "      <td>...</td>\n",
       "      <td>...</td>\n",
       "      <td>...</td>\n",
       "      <td>...</td>\n",
       "      <td>...</td>\n",
       "      <td>...</td>\n",
       "      <td>...</td>\n",
       "      <td>...</td>\n",
       "      <td>...</td>\n",
       "      <td>...</td>\n",
       "      <td>...</td>\n",
       "      <td>...</td>\n",
       "      <td>...</td>\n",
       "      <td>...</td>\n",
       "    </tr>\n",
       "    <tr>\n",
       "      <th>7583</th>\n",
       "      <td>toyota</td>\n",
       "      <td>pickup</td>\n",
       "      <td>1995</td>\n",
       "      <td>regular_unleaded</td>\n",
       "      <td>116.0</td>\n",
       "      <td>4.0</td>\n",
       "      <td>manual</td>\n",
       "      <td>rear_wheel_drive</td>\n",
       "      <td>2.0</td>\n",
       "      <td>NaN</td>\n",
       "      <td>compact</td>\n",
       "      <td>extended_cab_pickup</td>\n",
       "      <td>25</td>\n",
       "      <td>19</td>\n",
       "      <td>2031</td>\n",
       "      <td>2197</td>\n",
       "    </tr>\n",
       "    <tr>\n",
       "      <th>7824</th>\n",
       "      <td>audi</td>\n",
       "      <td>q5</td>\n",
       "      <td>2017</td>\n",
       "      <td>premium_unleaded_(required)</td>\n",
       "      <td>272.0</td>\n",
       "      <td>6.0</td>\n",
       "      <td>automatic</td>\n",
       "      <td>all_wheel_drive</td>\n",
       "      <td>4.0</td>\n",
       "      <td>crossover,luxury</td>\n",
       "      <td>midsize</td>\n",
       "      <td>4dr_suv</td>\n",
       "      <td>26</td>\n",
       "      <td>18</td>\n",
       "      <td>3105</td>\n",
       "      <td>46400</td>\n",
       "    </tr>\n",
       "    <tr>\n",
       "      <th>8249</th>\n",
       "      <td>land_rover</td>\n",
       "      <td>range_rover_evoque</td>\n",
       "      <td>2015</td>\n",
       "      <td>premium_unleaded_(recommended)</td>\n",
       "      <td>240.0</td>\n",
       "      <td>4.0</td>\n",
       "      <td>automatic</td>\n",
       "      <td>all_wheel_drive</td>\n",
       "      <td>2.0</td>\n",
       "      <td>crossover,luxury</td>\n",
       "      <td>compact</td>\n",
       "      <td>2dr_suv</td>\n",
       "      <td>30</td>\n",
       "      <td>21</td>\n",
       "      <td>258</td>\n",
       "      <td>49900</td>\n",
       "    </tr>\n",
       "    <tr>\n",
       "      <th>9497</th>\n",
       "      <td>chevrolet</td>\n",
       "      <td>silverado_1500</td>\n",
       "      <td>2015</td>\n",
       "      <td>regular_unleaded</td>\n",
       "      <td>355.0</td>\n",
       "      <td>8.0</td>\n",
       "      <td>automatic</td>\n",
       "      <td>four_wheel_drive</td>\n",
       "      <td>4.0</td>\n",
       "      <td>NaN</td>\n",
       "      <td>large</td>\n",
       "      <td>extended_cab_pickup</td>\n",
       "      <td>22</td>\n",
       "      <td>16</td>\n",
       "      <td>1385</td>\n",
       "      <td>43450</td>\n",
       "    </tr>\n",
       "    <tr>\n",
       "      <th>8758</th>\n",
       "      <td>chevrolet</td>\n",
       "      <td>s-10</td>\n",
       "      <td>2002</td>\n",
       "      <td>regular_unleaded</td>\n",
       "      <td>190.0</td>\n",
       "      <td>6.0</td>\n",
       "      <td>automatic</td>\n",
       "      <td>four_wheel_drive</td>\n",
       "      <td>4.0</td>\n",
       "      <td>NaN</td>\n",
       "      <td>compact</td>\n",
       "      <td>crew_cab_pickup</td>\n",
       "      <td>18</td>\n",
       "      <td>14</td>\n",
       "      <td>1385</td>\n",
       "      <td>24462</td>\n",
       "    </tr>\n",
       "  </tbody>\n",
       "</table>\n",
       "<p>2382 rows × 16 columns</p>\n",
       "</div>"
      ],
      "text/plain": [
       "            make               model  year                engine_fuel_type  \\\n",
       "7701      toyota               prius  2016                regular_unleaded   \n",
       "7707      toyota               prius  2017                regular_unleaded   \n",
       "7750        audi                  q3  2015  premium_unleaded_(recommended)   \n",
       "8851        audi                  s3  2016     premium_unleaded_(required)   \n",
       "8880        audi                  s5  2016     premium_unleaded_(required)   \n",
       "...          ...                 ...   ...                             ...   \n",
       "7583      toyota              pickup  1995                regular_unleaded   \n",
       "7824        audi                  q5  2017     premium_unleaded_(required)   \n",
       "8249  land_rover  range_rover_evoque  2015  premium_unleaded_(recommended)   \n",
       "9497   chevrolet      silverado_1500  2015                regular_unleaded   \n",
       "8758   chevrolet                s-10  2002                regular_unleaded   \n",
       "\n",
       "      engine_hp  engine_cylinders transmission_type      driven_wheels  \\\n",
       "7701      121.0               4.0         automatic  front_wheel_drive   \n",
       "7707      121.0               4.0         automatic  front_wheel_drive   \n",
       "7750      200.0               4.0         automatic  front_wheel_drive   \n",
       "8851      292.0               4.0  automated_manual    all_wheel_drive   \n",
       "8880      333.0               6.0            manual    all_wheel_drive   \n",
       "...         ...               ...               ...                ...   \n",
       "7583      116.0               4.0            manual   rear_wheel_drive   \n",
       "7824      272.0               6.0         automatic    all_wheel_drive   \n",
       "8249      240.0               4.0         automatic    all_wheel_drive   \n",
       "9497      355.0               8.0         automatic   four_wheel_drive   \n",
       "8758      190.0               6.0         automatic   four_wheel_drive   \n",
       "\n",
       "      number_of_doors                        market_category vehicle_size  \\\n",
       "7701              4.0                       hatchback,hybrid      compact   \n",
       "7707              4.0                       hatchback,hybrid      compact   \n",
       "7750              4.0                       crossover,luxury      compact   \n",
       "8851              4.0  factory_tuner,luxury,high-performance      compact   \n",
       "8880              2.0  factory_tuner,luxury,high-performance      midsize   \n",
       "...               ...                                    ...          ...   \n",
       "7583              2.0                                    NaN      compact   \n",
       "7824              4.0                       crossover,luxury      midsize   \n",
       "8249              2.0                       crossover,luxury      compact   \n",
       "9497              4.0                                    NaN        large   \n",
       "8758              4.0                                    NaN      compact   \n",
       "\n",
       "            vehicle_style  highway_mpg  city_mpg  popularity   msrp  \n",
       "7701        4dr_hatchback           53        58        2031  24700  \n",
       "7707        4dr_hatchback           50        54        2031  24685  \n",
       "7750              4dr_suv           29        20        3105  32500  \n",
       "8851                sedan           31        23        3105  42500  \n",
       "8880                coupe           26        17        3105  53100  \n",
       "...                   ...          ...       ...         ...    ...  \n",
       "7583  extended_cab_pickup           25        19        2031   2197  \n",
       "7824              4dr_suv           26        18        3105  46400  \n",
       "8249              2dr_suv           30        21         258  49900  \n",
       "9497  extended_cab_pickup           22        16        1385  43450  \n",
       "8758      crew_cab_pickup           18        14        1385  24462  \n",
       "\n",
       "[2382 rows x 16 columns]"
      ]
     },
     "execution_count": 142,
     "metadata": {},
     "output_type": "execute_result"
    }
   ],
   "source": [
    "# to shuffle the dataset of the validation data \n",
    "\n",
    "np.random.seed(2)\n",
    "df_val.sample(2382)"
   ]
  },
  {
   "cell_type": "code",
   "execution_count": 143,
   "id": "721ae487",
   "metadata": {},
   "outputs": [
    {
     "data": {
      "text/html": [
       "<div>\n",
       "<style scoped>\n",
       "    .dataframe tbody tr th:only-of-type {\n",
       "        vertical-align: middle;\n",
       "    }\n",
       "\n",
       "    .dataframe tbody tr th {\n",
       "        vertical-align: top;\n",
       "    }\n",
       "\n",
       "    .dataframe thead th {\n",
       "        text-align: right;\n",
       "    }\n",
       "</style>\n",
       "<table border=\"1\" class=\"dataframe\">\n",
       "  <thead>\n",
       "    <tr style=\"text-align: right;\">\n",
       "      <th></th>\n",
       "      <th>make</th>\n",
       "      <th>model</th>\n",
       "      <th>year</th>\n",
       "      <th>engine_fuel_type</th>\n",
       "      <th>engine_hp</th>\n",
       "      <th>engine_cylinders</th>\n",
       "      <th>transmission_type</th>\n",
       "      <th>driven_wheels</th>\n",
       "      <th>number_of_doors</th>\n",
       "      <th>market_category</th>\n",
       "      <th>vehicle_size</th>\n",
       "      <th>vehicle_style</th>\n",
       "      <th>highway_mpg</th>\n",
       "      <th>city_mpg</th>\n",
       "      <th>popularity</th>\n",
       "      <th>msrp</th>\n",
       "    </tr>\n",
       "  </thead>\n",
       "  <tbody>\n",
       "    <tr>\n",
       "      <th>10083</th>\n",
       "      <td>plymouth</td>\n",
       "      <td>sundance</td>\n",
       "      <td>1993</td>\n",
       "      <td>regular_unleaded</td>\n",
       "      <td>93.0</td>\n",
       "      <td>4.0</td>\n",
       "      <td>manual</td>\n",
       "      <td>front_wheel_drive</td>\n",
       "      <td>2.0</td>\n",
       "      <td>hatchback</td>\n",
       "      <td>compact</td>\n",
       "      <td>2dr_hatchback</td>\n",
       "      <td>29</td>\n",
       "      <td>23</td>\n",
       "      <td>535</td>\n",
       "      <td>2000</td>\n",
       "    </tr>\n",
       "    <tr>\n",
       "      <th>10089</th>\n",
       "      <td>pontiac</td>\n",
       "      <td>sunfire</td>\n",
       "      <td>2004</td>\n",
       "      <td>regular_unleaded</td>\n",
       "      <td>140.0</td>\n",
       "      <td>4.0</td>\n",
       "      <td>manual</td>\n",
       "      <td>front_wheel_drive</td>\n",
       "      <td>2.0</td>\n",
       "      <td>NaN</td>\n",
       "      <td>compact</td>\n",
       "      <td>coupe</td>\n",
       "      <td>33</td>\n",
       "      <td>23</td>\n",
       "      <td>210</td>\n",
       "      <td>10895</td>\n",
       "    </tr>\n",
       "    <tr>\n",
       "      <th>10132</th>\n",
       "      <td>suzuki</td>\n",
       "      <td>sx4</td>\n",
       "      <td>2012</td>\n",
       "      <td>regular_unleaded</td>\n",
       "      <td>148.0</td>\n",
       "      <td>4.0</td>\n",
       "      <td>automatic</td>\n",
       "      <td>all_wheel_drive</td>\n",
       "      <td>4.0</td>\n",
       "      <td>crossover,hatchback</td>\n",
       "      <td>compact</td>\n",
       "      <td>4dr_hatchback</td>\n",
       "      <td>29</td>\n",
       "      <td>23</td>\n",
       "      <td>481</td>\n",
       "      <td>18875</td>\n",
       "    </tr>\n",
       "    <tr>\n",
       "      <th>11233</th>\n",
       "      <td>hyundai</td>\n",
       "      <td>veloster</td>\n",
       "      <td>2015</td>\n",
       "      <td>regular_unleaded</td>\n",
       "      <td>138.0</td>\n",
       "      <td>4.0</td>\n",
       "      <td>manual</td>\n",
       "      <td>front_wheel_drive</td>\n",
       "      <td>3.0</td>\n",
       "      <td>hatchback</td>\n",
       "      <td>compact</td>\n",
       "      <td>2dr_hatchback</td>\n",
       "      <td>35</td>\n",
       "      <td>26</td>\n",
       "      <td>1439</td>\n",
       "      <td>18000</td>\n",
       "    </tr>\n",
       "    <tr>\n",
       "      <th>11262</th>\n",
       "      <td>chevrolet</td>\n",
       "      <td>venture</td>\n",
       "      <td>2004</td>\n",
       "      <td>regular_unleaded</td>\n",
       "      <td>185.0</td>\n",
       "      <td>6.0</td>\n",
       "      <td>automatic</td>\n",
       "      <td>front_wheel_drive</td>\n",
       "      <td>4.0</td>\n",
       "      <td>NaN</td>\n",
       "      <td>compact</td>\n",
       "      <td>passenger_minivan</td>\n",
       "      <td>24</td>\n",
       "      <td>17</td>\n",
       "      <td>1385</td>\n",
       "      <td>21475</td>\n",
       "    </tr>\n",
       "    <tr>\n",
       "      <th>...</th>\n",
       "      <td>...</td>\n",
       "      <td>...</td>\n",
       "      <td>...</td>\n",
       "      <td>...</td>\n",
       "      <td>...</td>\n",
       "      <td>...</td>\n",
       "      <td>...</td>\n",
       "      <td>...</td>\n",
       "      <td>...</td>\n",
       "      <td>...</td>\n",
       "      <td>...</td>\n",
       "      <td>...</td>\n",
       "      <td>...</td>\n",
       "      <td>...</td>\n",
       "      <td>...</td>\n",
       "      <td>...</td>\n",
       "    </tr>\n",
       "    <tr>\n",
       "      <th>9965</th>\n",
       "      <td>cadillac</td>\n",
       "      <td>srx</td>\n",
       "      <td>2014</td>\n",
       "      <td>regular_unleaded</td>\n",
       "      <td>308.0</td>\n",
       "      <td>6.0</td>\n",
       "      <td>automatic</td>\n",
       "      <td>all_wheel_drive</td>\n",
       "      <td>4.0</td>\n",
       "      <td>crossover,luxury</td>\n",
       "      <td>midsize</td>\n",
       "      <td>4dr_suv</td>\n",
       "      <td>23</td>\n",
       "      <td>16</td>\n",
       "      <td>1624</td>\n",
       "      <td>45375</td>\n",
       "    </tr>\n",
       "    <tr>\n",
       "      <th>10206</th>\n",
       "      <td>toyota</td>\n",
       "      <td>tacoma</td>\n",
       "      <td>2016</td>\n",
       "      <td>regular_unleaded</td>\n",
       "      <td>159.0</td>\n",
       "      <td>4.0</td>\n",
       "      <td>automatic</td>\n",
       "      <td>four_wheel_drive</td>\n",
       "      <td>4.0</td>\n",
       "      <td>NaN</td>\n",
       "      <td>compact</td>\n",
       "      <td>extended_cab_pickup</td>\n",
       "      <td>22</td>\n",
       "      <td>19</td>\n",
       "      <td>2031</td>\n",
       "      <td>28820</td>\n",
       "    </tr>\n",
       "    <tr>\n",
       "      <th>10631</th>\n",
       "      <td>chevrolet</td>\n",
       "      <td>trailblazer</td>\n",
       "      <td>2009</td>\n",
       "      <td>regular_unleaded</td>\n",
       "      <td>285.0</td>\n",
       "      <td>6.0</td>\n",
       "      <td>automatic</td>\n",
       "      <td>four_wheel_drive</td>\n",
       "      <td>4.0</td>\n",
       "      <td>NaN</td>\n",
       "      <td>midsize</td>\n",
       "      <td>4dr_suv</td>\n",
       "      <td>20</td>\n",
       "      <td>14</td>\n",
       "      <td>1385</td>\n",
       "      <td>31330</td>\n",
       "    </tr>\n",
       "    <tr>\n",
       "      <th>11879</th>\n",
       "      <td>gmc</td>\n",
       "      <td>yukon</td>\n",
       "      <td>2017</td>\n",
       "      <td>flex-fuel_(unleaded/e85)</td>\n",
       "      <td>355.0</td>\n",
       "      <td>8.0</td>\n",
       "      <td>automatic</td>\n",
       "      <td>four_wheel_drive</td>\n",
       "      <td>4.0</td>\n",
       "      <td>flex_fuel,performance</td>\n",
       "      <td>large</td>\n",
       "      <td>4dr_suv</td>\n",
       "      <td>22</td>\n",
       "      <td>16</td>\n",
       "      <td>549</td>\n",
       "      <td>60315</td>\n",
       "    </tr>\n",
       "    <tr>\n",
       "      <th>11140</th>\n",
       "      <td>volvo</td>\n",
       "      <td>v60</td>\n",
       "      <td>2017</td>\n",
       "      <td>regular_unleaded</td>\n",
       "      <td>240.0</td>\n",
       "      <td>4.0</td>\n",
       "      <td>automatic</td>\n",
       "      <td>front_wheel_drive</td>\n",
       "      <td>4.0</td>\n",
       "      <td>luxury,performance</td>\n",
       "      <td>midsize</td>\n",
       "      <td>wagon</td>\n",
       "      <td>36</td>\n",
       "      <td>25</td>\n",
       "      <td>870</td>\n",
       "      <td>41750</td>\n",
       "    </tr>\n",
       "  </tbody>\n",
       "</table>\n",
       "<p>2382 rows × 16 columns</p>\n",
       "</div>"
      ],
      "text/plain": [
       "            make        model  year          engine_fuel_type  engine_hp  \\\n",
       "10083   plymouth     sundance  1993          regular_unleaded       93.0   \n",
       "10089    pontiac      sunfire  2004          regular_unleaded      140.0   \n",
       "10132     suzuki          sx4  2012          regular_unleaded      148.0   \n",
       "11233    hyundai     veloster  2015          regular_unleaded      138.0   \n",
       "11262  chevrolet      venture  2004          regular_unleaded      185.0   \n",
       "...          ...          ...   ...                       ...        ...   \n",
       "9965    cadillac          srx  2014          regular_unleaded      308.0   \n",
       "10206     toyota       tacoma  2016          regular_unleaded      159.0   \n",
       "10631  chevrolet  trailblazer  2009          regular_unleaded      285.0   \n",
       "11879        gmc        yukon  2017  flex-fuel_(unleaded/e85)      355.0   \n",
       "11140      volvo          v60  2017          regular_unleaded      240.0   \n",
       "\n",
       "       engine_cylinders transmission_type      driven_wheels  number_of_doors  \\\n",
       "10083               4.0            manual  front_wheel_drive              2.0   \n",
       "10089               4.0            manual  front_wheel_drive              2.0   \n",
       "10132               4.0         automatic    all_wheel_drive              4.0   \n",
       "11233               4.0            manual  front_wheel_drive              3.0   \n",
       "11262               6.0         automatic  front_wheel_drive              4.0   \n",
       "...                 ...               ...                ...              ...   \n",
       "9965                6.0         automatic    all_wheel_drive              4.0   \n",
       "10206               4.0         automatic   four_wheel_drive              4.0   \n",
       "10631               6.0         automatic   four_wheel_drive              4.0   \n",
       "11879               8.0         automatic   four_wheel_drive              4.0   \n",
       "11140               4.0         automatic  front_wheel_drive              4.0   \n",
       "\n",
       "             market_category vehicle_size        vehicle_style  highway_mpg  \\\n",
       "10083              hatchback      compact        2dr_hatchback           29   \n",
       "10089                    NaN      compact                coupe           33   \n",
       "10132    crossover,hatchback      compact        4dr_hatchback           29   \n",
       "11233              hatchback      compact        2dr_hatchback           35   \n",
       "11262                    NaN      compact    passenger_minivan           24   \n",
       "...                      ...          ...                  ...          ...   \n",
       "9965        crossover,luxury      midsize              4dr_suv           23   \n",
       "10206                    NaN      compact  extended_cab_pickup           22   \n",
       "10631                    NaN      midsize              4dr_suv           20   \n",
       "11879  flex_fuel,performance        large              4dr_suv           22   \n",
       "11140     luxury,performance      midsize                wagon           36   \n",
       "\n",
       "       city_mpg  popularity   msrp  \n",
       "10083        23         535   2000  \n",
       "10089        23         210  10895  \n",
       "10132        23         481  18875  \n",
       "11233        26        1439  18000  \n",
       "11262        17        1385  21475  \n",
       "...         ...         ...    ...  \n",
       "9965         16        1624  45375  \n",
       "10206        19        2031  28820  \n",
       "10631        14        1385  31330  \n",
       "11879        16         549  60315  \n",
       "11140        25         870  41750  \n",
       "\n",
       "[2382 rows x 16 columns]"
      ]
     },
     "execution_count": 143,
     "metadata": {},
     "output_type": "execute_result"
    }
   ],
   "source": [
    "# to shuffle the dataset of the test data \n",
    "\n",
    "np.random.seed(2)\n",
    "df_test.sample(2382)"
   ]
  },
  {
   "cell_type": "markdown",
   "id": "26145d47",
   "metadata": {},
   "source": [
    "#Back to Tutorial shuffling method"
   ]
  },
  {
   "cell_type": "code",
   "execution_count": 144,
   "id": "1bbc9ff6",
   "metadata": {},
   "outputs": [],
   "source": [
    "# use np.arange,np.random.seed(2) and np.random.shuffle on the train, val and test dataset.\n",
    "\n",
    "idx = np.arange(n)"
   ]
  },
  {
   "cell_type": "code",
   "execution_count": 145,
   "id": "69b87ab3",
   "metadata": {},
   "outputs": [],
   "source": [
    "np.random.seed(2)\n",
    "np.random.shuffle(idx)"
   ]
  },
  {
   "cell_type": "code",
   "execution_count": 146,
   "id": "db72effb",
   "metadata": {},
   "outputs": [
    {
     "data": {
      "text/plain": [
       "array([2735, 6720, 5878, ..., 6637, 2575, 7336])"
      ]
     },
     "execution_count": 146,
     "metadata": {},
     "output_type": "execute_result"
    }
   ],
   "source": [
    "idx"
   ]
  },
  {
   "cell_type": "code",
   "execution_count": 147,
   "id": "30d70662",
   "metadata": {},
   "outputs": [],
   "source": [
    "df_train = df.iloc[idx[:n_train]]\n",
    "df_val = df.iloc[idx[n_train:n_train+n_val]]\n",
    "df_test = df.iloc[idx[n_train+n_val:]]"
   ]
  },
  {
   "cell_type": "code",
   "execution_count": 148,
   "id": "df58db55",
   "metadata": {},
   "outputs": [
    {
     "data": {
      "text/html": [
       "<div>\n",
       "<style scoped>\n",
       "    .dataframe tbody tr th:only-of-type {\n",
       "        vertical-align: middle;\n",
       "    }\n",
       "\n",
       "    .dataframe tbody tr th {\n",
       "        vertical-align: top;\n",
       "    }\n",
       "\n",
       "    .dataframe thead th {\n",
       "        text-align: right;\n",
       "    }\n",
       "</style>\n",
       "<table border=\"1\" class=\"dataframe\">\n",
       "  <thead>\n",
       "    <tr style=\"text-align: right;\">\n",
       "      <th></th>\n",
       "      <th>make</th>\n",
       "      <th>model</th>\n",
       "      <th>year</th>\n",
       "      <th>engine_fuel_type</th>\n",
       "      <th>engine_hp</th>\n",
       "      <th>engine_cylinders</th>\n",
       "      <th>transmission_type</th>\n",
       "      <th>driven_wheels</th>\n",
       "      <th>number_of_doors</th>\n",
       "      <th>market_category</th>\n",
       "      <th>vehicle_size</th>\n",
       "      <th>vehicle_style</th>\n",
       "      <th>highway_mpg</th>\n",
       "      <th>city_mpg</th>\n",
       "      <th>popularity</th>\n",
       "      <th>msrp</th>\n",
       "    </tr>\n",
       "  </thead>\n",
       "  <tbody>\n",
       "    <tr>\n",
       "      <th>2735</th>\n",
       "      <td>chevrolet</td>\n",
       "      <td>cobalt</td>\n",
       "      <td>2008</td>\n",
       "      <td>regular_unleaded</td>\n",
       "      <td>148.0</td>\n",
       "      <td>4.0</td>\n",
       "      <td>manual</td>\n",
       "      <td>front_wheel_drive</td>\n",
       "      <td>2.0</td>\n",
       "      <td>NaN</td>\n",
       "      <td>compact</td>\n",
       "      <td>coupe</td>\n",
       "      <td>33</td>\n",
       "      <td>24</td>\n",
       "      <td>1385</td>\n",
       "      <td>14410</td>\n",
       "    </tr>\n",
       "    <tr>\n",
       "      <th>6720</th>\n",
       "      <td>toyota</td>\n",
       "      <td>matrix</td>\n",
       "      <td>2012</td>\n",
       "      <td>regular_unleaded</td>\n",
       "      <td>132.0</td>\n",
       "      <td>4.0</td>\n",
       "      <td>automatic</td>\n",
       "      <td>front_wheel_drive</td>\n",
       "      <td>4.0</td>\n",
       "      <td>hatchback</td>\n",
       "      <td>compact</td>\n",
       "      <td>4dr_hatchback</td>\n",
       "      <td>32</td>\n",
       "      <td>25</td>\n",
       "      <td>2031</td>\n",
       "      <td>19685</td>\n",
       "    </tr>\n",
       "    <tr>\n",
       "      <th>5878</th>\n",
       "      <td>subaru</td>\n",
       "      <td>impreza</td>\n",
       "      <td>2016</td>\n",
       "      <td>regular_unleaded</td>\n",
       "      <td>148.0</td>\n",
       "      <td>4.0</td>\n",
       "      <td>automatic</td>\n",
       "      <td>all_wheel_drive</td>\n",
       "      <td>4.0</td>\n",
       "      <td>hatchback</td>\n",
       "      <td>compact</td>\n",
       "      <td>4dr_hatchback</td>\n",
       "      <td>37</td>\n",
       "      <td>28</td>\n",
       "      <td>640</td>\n",
       "      <td>19795</td>\n",
       "    </tr>\n",
       "    <tr>\n",
       "      <th>11190</th>\n",
       "      <td>volkswagen</td>\n",
       "      <td>vanagon</td>\n",
       "      <td>1991</td>\n",
       "      <td>regular_unleaded</td>\n",
       "      <td>90.0</td>\n",
       "      <td>4.0</td>\n",
       "      <td>manual</td>\n",
       "      <td>rear_wheel_drive</td>\n",
       "      <td>3.0</td>\n",
       "      <td>NaN</td>\n",
       "      <td>large</td>\n",
       "      <td>passenger_minivan</td>\n",
       "      <td>18</td>\n",
       "      <td>16</td>\n",
       "      <td>873</td>\n",
       "      <td>2000</td>\n",
       "    </tr>\n",
       "    <tr>\n",
       "      <th>4554</th>\n",
       "      <td>ford</td>\n",
       "      <td>f-150</td>\n",
       "      <td>2017</td>\n",
       "      <td>flex-fuel_(unleaded/e85)</td>\n",
       "      <td>385.0</td>\n",
       "      <td>8.0</td>\n",
       "      <td>automatic</td>\n",
       "      <td>four_wheel_drive</td>\n",
       "      <td>4.0</td>\n",
       "      <td>flex_fuel</td>\n",
       "      <td>large</td>\n",
       "      <td>crew_cab_pickup</td>\n",
       "      <td>21</td>\n",
       "      <td>15</td>\n",
       "      <td>5657</td>\n",
       "      <td>56260</td>\n",
       "    </tr>\n",
       "  </tbody>\n",
       "</table>\n",
       "</div>"
      ],
      "text/plain": [
       "             make    model  year          engine_fuel_type  engine_hp  \\\n",
       "2735    chevrolet   cobalt  2008          regular_unleaded      148.0   \n",
       "6720       toyota   matrix  2012          regular_unleaded      132.0   \n",
       "5878       subaru  impreza  2016          regular_unleaded      148.0   \n",
       "11190  volkswagen  vanagon  1991          regular_unleaded       90.0   \n",
       "4554         ford    f-150  2017  flex-fuel_(unleaded/e85)      385.0   \n",
       "\n",
       "       engine_cylinders transmission_type      driven_wheels  number_of_doors  \\\n",
       "2735                4.0            manual  front_wheel_drive              2.0   \n",
       "6720                4.0         automatic  front_wheel_drive              4.0   \n",
       "5878                4.0         automatic    all_wheel_drive              4.0   \n",
       "11190               4.0            manual   rear_wheel_drive              3.0   \n",
       "4554                8.0         automatic   four_wheel_drive              4.0   \n",
       "\n",
       "      market_category vehicle_size      vehicle_style  highway_mpg  city_mpg  \\\n",
       "2735              NaN      compact              coupe           33        24   \n",
       "6720        hatchback      compact      4dr_hatchback           32        25   \n",
       "5878        hatchback      compact      4dr_hatchback           37        28   \n",
       "11190             NaN        large  passenger_minivan           18        16   \n",
       "4554        flex_fuel        large    crew_cab_pickup           21        15   \n",
       "\n",
       "       popularity   msrp  \n",
       "2735         1385  14410  \n",
       "6720         2031  19685  \n",
       "5878          640  19795  \n",
       "11190         873   2000  \n",
       "4554         5657  56260  "
      ]
     },
     "execution_count": 148,
     "metadata": {},
     "output_type": "execute_result"
    }
   ],
   "source": [
    "df_train.head()"
   ]
  },
  {
   "cell_type": "code",
   "execution_count": 149,
   "id": "2b44f773",
   "metadata": {},
   "outputs": [
    {
     "data": {
      "text/html": [
       "<div>\n",
       "<style scoped>\n",
       "    .dataframe tbody tr th:only-of-type {\n",
       "        vertical-align: middle;\n",
       "    }\n",
       "\n",
       "    .dataframe tbody tr th {\n",
       "        vertical-align: top;\n",
       "    }\n",
       "\n",
       "    .dataframe thead th {\n",
       "        text-align: right;\n",
       "    }\n",
       "</style>\n",
       "<table border=\"1\" class=\"dataframe\">\n",
       "  <thead>\n",
       "    <tr style=\"text-align: right;\">\n",
       "      <th></th>\n",
       "      <th>make</th>\n",
       "      <th>model</th>\n",
       "      <th>year</th>\n",
       "      <th>engine_fuel_type</th>\n",
       "      <th>engine_hp</th>\n",
       "      <th>engine_cylinders</th>\n",
       "      <th>transmission_type</th>\n",
       "      <th>driven_wheels</th>\n",
       "      <th>number_of_doors</th>\n",
       "      <th>market_category</th>\n",
       "      <th>vehicle_size</th>\n",
       "      <th>vehicle_style</th>\n",
       "      <th>highway_mpg</th>\n",
       "      <th>city_mpg</th>\n",
       "      <th>popularity</th>\n",
       "      <th>msrp</th>\n",
       "    </tr>\n",
       "  </thead>\n",
       "  <tbody>\n",
       "    <tr>\n",
       "      <th>2779</th>\n",
       "      <td>chevrolet</td>\n",
       "      <td>colorado</td>\n",
       "      <td>2015</td>\n",
       "      <td>regular_unleaded</td>\n",
       "      <td>200.0</td>\n",
       "      <td>4.0</td>\n",
       "      <td>automatic</td>\n",
       "      <td>four_wheel_drive</td>\n",
       "      <td>4.0</td>\n",
       "      <td>NaN</td>\n",
       "      <td>compact</td>\n",
       "      <td>extended_cab_pickup</td>\n",
       "      <td>25</td>\n",
       "      <td>19</td>\n",
       "      <td>1385</td>\n",
       "      <td>26885</td>\n",
       "    </tr>\n",
       "    <tr>\n",
       "      <th>3708</th>\n",
       "      <td>mercedes-benz</td>\n",
       "      <td>e-class</td>\n",
       "      <td>2017</td>\n",
       "      <td>premium_unleaded_(required)</td>\n",
       "      <td>241.0</td>\n",
       "      <td>4.0</td>\n",
       "      <td>automatic</td>\n",
       "      <td>all_wheel_drive</td>\n",
       "      <td>4.0</td>\n",
       "      <td>luxury</td>\n",
       "      <td>midsize</td>\n",
       "      <td>sedan</td>\n",
       "      <td>29</td>\n",
       "      <td>22</td>\n",
       "      <td>617</td>\n",
       "      <td>54650</td>\n",
       "    </tr>\n",
       "    <tr>\n",
       "      <th>4794</th>\n",
       "      <td>ford</td>\n",
       "      <td>focus</td>\n",
       "      <td>2017</td>\n",
       "      <td>flex-fuel_(unleaded/e85)</td>\n",
       "      <td>160.0</td>\n",
       "      <td>4.0</td>\n",
       "      <td>manual</td>\n",
       "      <td>front_wheel_drive</td>\n",
       "      <td>4.0</td>\n",
       "      <td>flex_fuel</td>\n",
       "      <td>compact</td>\n",
       "      <td>sedan</td>\n",
       "      <td>36</td>\n",
       "      <td>26</td>\n",
       "      <td>5657</td>\n",
       "      <td>16775</td>\n",
       "    </tr>\n",
       "    <tr>\n",
       "      <th>10498</th>\n",
       "      <td>acura</td>\n",
       "      <td>tlx</td>\n",
       "      <td>2016</td>\n",
       "      <td>premium_unleaded_(recommended)</td>\n",
       "      <td>290.0</td>\n",
       "      <td>6.0</td>\n",
       "      <td>automatic</td>\n",
       "      <td>front_wheel_drive</td>\n",
       "      <td>4.0</td>\n",
       "      <td>luxury</td>\n",
       "      <td>midsize</td>\n",
       "      <td>sedan</td>\n",
       "      <td>34</td>\n",
       "      <td>21</td>\n",
       "      <td>204</td>\n",
       "      <td>42600</td>\n",
       "    </tr>\n",
       "    <tr>\n",
       "      <th>1880</th>\n",
       "      <td>volkswagen</td>\n",
       "      <td>beetle_convertible</td>\n",
       "      <td>2016</td>\n",
       "      <td>regular_unleaded</td>\n",
       "      <td>170.0</td>\n",
       "      <td>4.0</td>\n",
       "      <td>automatic</td>\n",
       "      <td>front_wheel_drive</td>\n",
       "      <td>2.0</td>\n",
       "      <td>NaN</td>\n",
       "      <td>compact</td>\n",
       "      <td>convertible</td>\n",
       "      <td>34</td>\n",
       "      <td>25</td>\n",
       "      <td>873</td>\n",
       "      <td>25995</td>\n",
       "    </tr>\n",
       "  </tbody>\n",
       "</table>\n",
       "</div>"
      ],
      "text/plain": [
       "                make               model  year  \\\n",
       "2779       chevrolet            colorado  2015   \n",
       "3708   mercedes-benz             e-class  2017   \n",
       "4794            ford               focus  2017   \n",
       "10498          acura                 tlx  2016   \n",
       "1880      volkswagen  beetle_convertible  2016   \n",
       "\n",
       "                     engine_fuel_type  engine_hp  engine_cylinders  \\\n",
       "2779                 regular_unleaded      200.0               4.0   \n",
       "3708      premium_unleaded_(required)      241.0               4.0   \n",
       "4794         flex-fuel_(unleaded/e85)      160.0               4.0   \n",
       "10498  premium_unleaded_(recommended)      290.0               6.0   \n",
       "1880                 regular_unleaded      170.0               4.0   \n",
       "\n",
       "      transmission_type      driven_wheels  number_of_doors market_category  \\\n",
       "2779          automatic   four_wheel_drive              4.0             NaN   \n",
       "3708          automatic    all_wheel_drive              4.0          luxury   \n",
       "4794             manual  front_wheel_drive              4.0       flex_fuel   \n",
       "10498         automatic  front_wheel_drive              4.0          luxury   \n",
       "1880          automatic  front_wheel_drive              2.0             NaN   \n",
       "\n",
       "      vehicle_size        vehicle_style  highway_mpg  city_mpg  popularity  \\\n",
       "2779       compact  extended_cab_pickup           25        19        1385   \n",
       "3708       midsize                sedan           29        22         617   \n",
       "4794       compact                sedan           36        26        5657   \n",
       "10498      midsize                sedan           34        21         204   \n",
       "1880       compact          convertible           34        25         873   \n",
       "\n",
       "        msrp  \n",
       "2779   26885  \n",
       "3708   54650  \n",
       "4794   16775  \n",
       "10498  42600  \n",
       "1880   25995  "
      ]
     },
     "execution_count": 149,
     "metadata": {},
     "output_type": "execute_result"
    }
   ],
   "source": [
    "df_val.head()"
   ]
  },
  {
   "cell_type": "code",
   "execution_count": 150,
   "id": "3ca89d67",
   "metadata": {},
   "outputs": [
    {
     "data": {
      "text/html": [
       "<div>\n",
       "<style scoped>\n",
       "    .dataframe tbody tr th:only-of-type {\n",
       "        vertical-align: middle;\n",
       "    }\n",
       "\n",
       "    .dataframe tbody tr th {\n",
       "        vertical-align: top;\n",
       "    }\n",
       "\n",
       "    .dataframe thead th {\n",
       "        text-align: right;\n",
       "    }\n",
       "</style>\n",
       "<table border=\"1\" class=\"dataframe\">\n",
       "  <thead>\n",
       "    <tr style=\"text-align: right;\">\n",
       "      <th></th>\n",
       "      <th>make</th>\n",
       "      <th>model</th>\n",
       "      <th>year</th>\n",
       "      <th>engine_fuel_type</th>\n",
       "      <th>engine_hp</th>\n",
       "      <th>engine_cylinders</th>\n",
       "      <th>transmission_type</th>\n",
       "      <th>driven_wheels</th>\n",
       "      <th>number_of_doors</th>\n",
       "      <th>market_category</th>\n",
       "      <th>vehicle_size</th>\n",
       "      <th>vehicle_style</th>\n",
       "      <th>highway_mpg</th>\n",
       "      <th>city_mpg</th>\n",
       "      <th>popularity</th>\n",
       "      <th>msrp</th>\n",
       "    </tr>\n",
       "  </thead>\n",
       "  <tbody>\n",
       "    <tr>\n",
       "      <th>11195</th>\n",
       "      <td>gmc</td>\n",
       "      <td>vandura</td>\n",
       "      <td>1994</td>\n",
       "      <td>regular_unleaded</td>\n",
       "      <td>165.0</td>\n",
       "      <td>6.0</td>\n",
       "      <td>automatic</td>\n",
       "      <td>rear_wheel_drive</td>\n",
       "      <td>3.0</td>\n",
       "      <td>NaN</td>\n",
       "      <td>compact</td>\n",
       "      <td>cargo_van</td>\n",
       "      <td>20</td>\n",
       "      <td>15</td>\n",
       "      <td>549</td>\n",
       "      <td>2000</td>\n",
       "    </tr>\n",
       "    <tr>\n",
       "      <th>673</th>\n",
       "      <td>mercedes-benz</td>\n",
       "      <td>600-class</td>\n",
       "      <td>1993</td>\n",
       "      <td>regular_unleaded</td>\n",
       "      <td>389.0</td>\n",
       "      <td>12.0</td>\n",
       "      <td>automatic</td>\n",
       "      <td>rear_wheel_drive</td>\n",
       "      <td>2.0</td>\n",
       "      <td>luxury</td>\n",
       "      <td>large</td>\n",
       "      <td>coupe</td>\n",
       "      <td>15</td>\n",
       "      <td>11</td>\n",
       "      <td>617</td>\n",
       "      <td>3211</td>\n",
       "    </tr>\n",
       "    <tr>\n",
       "      <th>11270</th>\n",
       "      <td>toyota</td>\n",
       "      <td>venza</td>\n",
       "      <td>2013</td>\n",
       "      <td>regular_unleaded</td>\n",
       "      <td>268.0</td>\n",
       "      <td>6.0</td>\n",
       "      <td>automatic</td>\n",
       "      <td>all_wheel_drive</td>\n",
       "      <td>4.0</td>\n",
       "      <td>crossover,performance</td>\n",
       "      <td>midsize</td>\n",
       "      <td>wagon</td>\n",
       "      <td>25</td>\n",
       "      <td>18</td>\n",
       "      <td>2031</td>\n",
       "      <td>31120</td>\n",
       "    </tr>\n",
       "    <tr>\n",
       "      <th>752</th>\n",
       "      <td>volvo</td>\n",
       "      <td>740</td>\n",
       "      <td>1992</td>\n",
       "      <td>regular_unleaded</td>\n",
       "      <td>114.0</td>\n",
       "      <td>4.0</td>\n",
       "      <td>automatic</td>\n",
       "      <td>rear_wheel_drive</td>\n",
       "      <td>4.0</td>\n",
       "      <td>luxury</td>\n",
       "      <td>midsize</td>\n",
       "      <td>sedan</td>\n",
       "      <td>26</td>\n",
       "      <td>18</td>\n",
       "      <td>870</td>\n",
       "      <td>2000</td>\n",
       "    </tr>\n",
       "    <tr>\n",
       "      <th>3137</th>\n",
       "      <td>ford</td>\n",
       "      <td>crown_victoria</td>\n",
       "      <td>2010</td>\n",
       "      <td>flex-fuel_(unleaded/e85)</td>\n",
       "      <td>224.0</td>\n",
       "      <td>8.0</td>\n",
       "      <td>automatic</td>\n",
       "      <td>rear_wheel_drive</td>\n",
       "      <td>4.0</td>\n",
       "      <td>flex_fuel</td>\n",
       "      <td>large</td>\n",
       "      <td>sedan</td>\n",
       "      <td>24</td>\n",
       "      <td>16</td>\n",
       "      <td>5657</td>\n",
       "      <td>29905</td>\n",
       "    </tr>\n",
       "  </tbody>\n",
       "</table>\n",
       "</div>"
      ],
      "text/plain": [
       "                make           model  year          engine_fuel_type  \\\n",
       "11195            gmc         vandura  1994          regular_unleaded   \n",
       "673    mercedes-benz       600-class  1993          regular_unleaded   \n",
       "11270         toyota           venza  2013          regular_unleaded   \n",
       "752            volvo             740  1992          regular_unleaded   \n",
       "3137            ford  crown_victoria  2010  flex-fuel_(unleaded/e85)   \n",
       "\n",
       "       engine_hp  engine_cylinders transmission_type     driven_wheels  \\\n",
       "11195      165.0               6.0         automatic  rear_wheel_drive   \n",
       "673        389.0              12.0         automatic  rear_wheel_drive   \n",
       "11270      268.0               6.0         automatic   all_wheel_drive   \n",
       "752        114.0               4.0         automatic  rear_wheel_drive   \n",
       "3137       224.0               8.0         automatic  rear_wheel_drive   \n",
       "\n",
       "       number_of_doors        market_category vehicle_size vehicle_style  \\\n",
       "11195              3.0                    NaN      compact     cargo_van   \n",
       "673                2.0                 luxury        large         coupe   \n",
       "11270              4.0  crossover,performance      midsize         wagon   \n",
       "752                4.0                 luxury      midsize         sedan   \n",
       "3137               4.0              flex_fuel        large         sedan   \n",
       "\n",
       "       highway_mpg  city_mpg  popularity   msrp  \n",
       "11195           20        15         549   2000  \n",
       "673             15        11         617   3211  \n",
       "11270           25        18        2031  31120  \n",
       "752             26        18         870   2000  \n",
       "3137            24        16        5657  29905  "
      ]
     },
     "execution_count": 150,
     "metadata": {},
     "output_type": "execute_result"
    }
   ],
   "source": [
    "df_test.head()"
   ]
  },
  {
   "cell_type": "code",
   "execution_count": 151,
   "id": "89cbda56",
   "metadata": {},
   "outputs": [],
   "source": [
    "# reset the index of each dataset\n",
    "\n",
    "df_train = df_train.reset_index(drop=True)\n",
    "\n",
    "df_val = df_val.reset_index(drop=True)\n",
    "\n",
    "df_test = df_test.reset_index(drop=True)"
   ]
  },
  {
   "cell_type": "code",
   "execution_count": 152,
   "id": "6fd174e5",
   "metadata": {},
   "outputs": [],
   "source": [
    "# get the target y for each dataset\n",
    "\n",
    "y_train = np.log1p(df_train['msrp'].values)\n",
    "\n",
    "y_val = np.log1p(df_val['msrp'].values)\n",
    "\n",
    "y_test = np.log1p(df_test['msrp'].values)"
   ]
  },
  {
   "cell_type": "code",
   "execution_count": 153,
   "id": "ad2e930a",
   "metadata": {},
   "outputs": [
    {
     "data": {
      "text/plain": [
       "(array([ 9.57574708,  9.887663  ,  9.89323518, ..., 10.45380308,\n",
       "        12.62248099, 10.54061978]),\n",
       " array([10.19936098, 10.90872279,  9.72770457, ..., 11.21756062,\n",
       "         9.77542688, 10.1924563 ]),\n",
       " array([ 7.60140233,  8.07464908, 10.34563811, ..., 10.27852782,\n",
       "        10.00789261, 10.40414162]))"
      ]
     },
     "execution_count": 153,
     "metadata": {},
     "output_type": "execute_result"
    }
   ],
   "source": [
    "y_train, y_val, y_test"
   ]
  },
  {
   "cell_type": "code",
   "execution_count": 154,
   "id": "4affb2ee",
   "metadata": {},
   "outputs": [
    {
     "data": {
      "text/plain": [
       "(7150, 2382, 2382)"
      ]
     },
     "execution_count": 154,
     "metadata": {},
     "output_type": "execute_result"
    }
   ],
   "source": [
    "len(y_train),len(y_val),len(y_test)    # verify if the lengths of target corresponds to length of each dataset"
   ]
  },
  {
   "cell_type": "code",
   "execution_count": 155,
   "id": "b626b386",
   "metadata": {},
   "outputs": [],
   "source": [
    "# delete the target y from the df data:  also use df_train.drop('msrp',axis=1)\n",
    "\n",
    "del df_train['msrp']\n",
    "\n",
    "del df_val['msrp']\n",
    "\n",
    "del df_test['msrp']"
   ]
  },
  {
   "cell_type": "markdown",
   "id": "895e14e3",
   "metadata": {},
   "source": [
    "# 2.5-Linear Regression"
   ]
  },
  {
   "cell_type": "code",
   "execution_count": 156,
   "id": "2f4a3c02",
   "metadata": {},
   "outputs": [],
   "source": [
    "#Linear regression formula : g(Xi) = Wo + W1.Xi1 + W2.Xi2 + W3.Xi3 ...... Wn.Xin\n",
    "# W refers to the bias weight while Xi are features of a car and g is the linear regression model\n",
    "\n",
    "# Linear regression in python code: the xi features were chosen randomly from a car. \n",
    "\n",
    "xi = [453,11,86]\n",
    "w0 = 0\n",
    "\n",
    "def linear_regression(xi):\n",
    "    \n",
    "    n = len(xi)\n",
    "    \n",
    "    pred = w0\n",
    "    w = [0.01, 0.04, 0.002]\n",
    "    for j in range(n):\n",
    "        pred = pred + w[j] * xi[j]\n",
    "    return pred"
   ]
  },
  {
   "cell_type": "code",
   "execution_count": 157,
   "id": "def28ab2",
   "metadata": {},
   "outputs": [
    {
     "data": {
      "text/plain": [
       "5.142"
      ]
     },
     "execution_count": 157,
     "metadata": {},
     "output_type": "execute_result"
    }
   ],
   "source": [
    "linear_regression(xi)"
   ]
  },
  {
   "cell_type": "code",
   "execution_count": 158,
   "id": "43d6f547",
   "metadata": {},
   "outputs": [
    {
     "data": {
      "text/plain": [
       "12.312"
      ]
     },
     "execution_count": 158,
     "metadata": {},
     "output_type": "execute_result"
    }
   ],
   "source": [
    "# if the weight changes, the price of the car is calculated below:\n",
    "\n",
    "w0 = 7.17\n",
    "linear_regression(xi)"
   ]
  },
  {
   "cell_type": "code",
   "execution_count": 159,
   "id": "306a0d39",
   "metadata": {},
   "outputs": [
    {
     "data": {
      "text/plain": [
       "(222347.2221101062, 222347.2221101062)"
      ]
     },
     "execution_count": 159,
     "metadata": {},
     "output_type": "execute_result"
    }
   ],
   "source": [
    "# since the price is in logarithm, we use exponential to get the actual price: np.exp(x)-1 == np.expm1(x)\n",
    "\n",
    "np.exp(12.312) - 1, np.expm1(12.312)"
   ]
  },
  {
   "cell_type": "code",
   "execution_count": 160,
   "id": "94b4251b",
   "metadata": {},
   "outputs": [
    {
     "data": {
      "text/plain": [
       "12.312"
      ]
     },
     "execution_count": 160,
     "metadata": {},
     "output_type": "execute_result"
    }
   ],
   "source": [
    "np.log1p(222347.2221101062)  # np.log1p(x) is the logarithm while np.expm1(x) or np.exp(x)-1 is the exponential"
   ]
  },
  {
   "cell_type": "markdown",
   "id": "efdc9581",
   "metadata": {},
   "source": [
    "# 2.6-Linear Regression Vector Form"
   ]
  },
  {
   "cell_type": "markdown",
   "id": "db91b54e",
   "metadata": {},
   "source": [
    "#The dot product function below, is applied to the linear regression function above."
   ]
  },
  {
   "cell_type": "code",
   "execution_count": 161,
   "id": "8e84d1c7",
   "metadata": {},
   "outputs": [],
   "source": [
    "w = [0.01, 0.04, 0.002]\n",
    "xi = [453,11,86]"
   ]
  },
  {
   "cell_type": "code",
   "execution_count": 162,
   "id": "d97d6bd9",
   "metadata": {},
   "outputs": [],
   "source": [
    "# xi has an imaginary 1 multiplied by w0 which still give w0\n",
    "\n",
    "w_new = [w0] + w\n",
    "xi = [1] + xi"
   ]
  },
  {
   "cell_type": "code",
   "execution_count": 163,
   "id": "038fe2d7",
   "metadata": {},
   "outputs": [],
   "source": [
    "def dot(xi,w):\n",
    "    n = len(xi)\n",
    "    \n",
    "    res = 0.0\n",
    "    \n",
    "    for j in range(n):\n",
    "        res = res + xi[j] * w[j]\n",
    "        \n",
    "    return res"
   ]
  },
  {
   "cell_type": "code",
   "execution_count": 164,
   "id": "02bd7276",
   "metadata": {},
   "outputs": [],
   "source": [
    "def linear_regression(xi):\n",
    "    return w0 + dot(xi,w)"
   ]
  },
  {
   "cell_type": "markdown",
   "id": "915639da",
   "metadata": {},
   "source": [
    "#to get prices(linear regression) using matrix-vector form: pick random features(matrix) and use dot product with vector w"
   ]
  },
  {
   "cell_type": "code",
   "execution_count": 165,
   "id": "1dbd22b7",
   "metadata": {},
   "outputs": [
    {
     "data": {
      "text/plain": [
       "([7.17, 0.01, 0.04, 0.002], [1, 453, 11, 86])"
      ]
     },
     "execution_count": 165,
     "metadata": {},
     "output_type": "execute_result"
    }
   ],
   "source": [
    "w_new, xi"
   ]
  },
  {
   "cell_type": "code",
   "execution_count": 166,
   "id": "0e6d84a7",
   "metadata": {},
   "outputs": [],
   "source": [
    "x1 = [1, 148, 24, 1385]\n",
    "x2 = [1, 132, 25, 2031]\n",
    "x3 = [1, 453, 11, 86]"
   ]
  },
  {
   "cell_type": "code",
   "execution_count": 167,
   "id": "30d14fb3",
   "metadata": {},
   "outputs": [
    {
     "data": {
      "text/plain": [
       "array([[   1,  148,   24, 1385],\n",
       "       [   1,  132,   25, 2031],\n",
       "       [   1,  453,   11,   86]])"
      ]
     },
     "execution_count": 167,
     "metadata": {},
     "output_type": "execute_result"
    }
   ],
   "source": [
    "X = np.array([x1,x2,x3])\n",
    "X"
   ]
  },
  {
   "cell_type": "code",
   "execution_count": 168,
   "id": "db631791",
   "metadata": {},
   "outputs": [
    {
     "data": {
      "text/plain": [
       "array([12.38 , 13.552, 12.312])"
      ]
     },
     "execution_count": 168,
     "metadata": {},
     "output_type": "execute_result"
    }
   ],
   "source": [
    "X.dot(w_new)"
   ]
  },
  {
   "cell_type": "code",
   "execution_count": 169,
   "id": "4fd382d6",
   "metadata": {},
   "outputs": [],
   "source": [
    "def linear_regression(X):\n",
    "    return X.dot(w_new)"
   ]
  },
  {
   "cell_type": "code",
   "execution_count": 170,
   "id": "72d5f8c1",
   "metadata": {},
   "outputs": [
    {
     "data": {
      "text/plain": [
       "array([12.38 , 13.552, 12.312])"
      ]
     },
     "execution_count": 170,
     "metadata": {},
     "output_type": "execute_result"
    }
   ],
   "source": [
    "linear_regression(X)"
   ]
  },
  {
   "cell_type": "markdown",
   "id": "ae3eec70",
   "metadata": {},
   "source": [
    "# 2.7-Training a Linear Regression Model"
   ]
  },
  {
   "cell_type": "markdown",
   "id": "80c19a61",
   "metadata": {},
   "source": [
    "#g(X) = X * w , X * w = y. g is the model, X is the feature matrix, w is the weight and y is the target. To get the weight, we use Gram matrix: w = (X(transpose) * X) to the power of -1 * X(transpose) * y. Gram matrix = X(transpose) * X"
   ]
  },
  {
   "cell_type": "code",
   "execution_count": 171,
   "id": "9a2eafc1",
   "metadata": {},
   "outputs": [],
   "source": [
    "a = np.arange(10).reshape(5,2)"
   ]
  },
  {
   "cell_type": "code",
   "execution_count": 172,
   "id": "be22378a",
   "metadata": {},
   "outputs": [
    {
     "data": {
      "text/plain": [
       "(array([[0, 1],\n",
       "        [2, 3],\n",
       "        [4, 5],\n",
       "        [6, 7],\n",
       "        [8, 9]]),\n",
       " array([8, 9]))"
      ]
     },
     "execution_count": 172,
     "metadata": {},
     "output_type": "execute_result"
    }
   ],
   "source": [
    "a, a[4,:]"
   ]
  },
  {
   "cell_type": "code",
   "execution_count": 191,
   "id": "54d68dd3",
   "metadata": {},
   "outputs": [
    {
     "data": {
      "text/plain": [
       "array([[ 148,   24, 1385],\n",
       "       [ 132,   25, 2301],\n",
       "       [ 453,   11,   86],\n",
       "       [ 158,   24,  185],\n",
       "       [ 172,   25,  201],\n",
       "       [ 413,   11,   86],\n",
       "       [  38,   54,  185],\n",
       "       [ 142,   25,  431],\n",
       "       [ 453,   31,   86]])"
      ]
     },
     "execution_count": 191,
     "metadata": {},
     "output_type": "execute_result"
    }
   ],
   "source": [
    "X = [\n",
    "    [148, 24, 1385],\n",
    "    [132, 25, 2301],\n",
    "    [453, 11, 86],\n",
    "    [158, 24, 185],\n",
    "    [172, 25, 201],\n",
    "    [413, 11, 86],\n",
    "    [38,  54, 185],\n",
    "    [142, 25, 431],\n",
    "    [453, 31, 86],\n",
    "]\n",
    "\n",
    "X = np.array(X)\n",
    "X"
   ]
  },
  {
   "cell_type": "code",
   "execution_count": 174,
   "id": "68a52339",
   "metadata": {},
   "outputs": [
    {
     "data": {
      "text/plain": [
       "array([[1., 0., 0.],\n",
       "       [0., 1., 0.],\n",
       "       [0., 0., 1.]])"
      ]
     },
     "execution_count": 174,
     "metadata": {},
     "output_type": "execute_result"
    }
   ],
   "source": [
    "np.eye(3)              # identity matrix can have any number."
   ]
  },
  {
   "cell_type": "markdown",
   "id": "6ffb0897",
   "metadata": {},
   "source": [
    "#find the Gram matrix. X.T is the transpose of X and get the inverse."
   ]
  },
  {
   "cell_type": "code",
   "execution_count": 175,
   "id": "2398dfc5",
   "metadata": {},
   "outputs": [
    {
     "data": {
      "text/plain": [
       "(array([[ 148,   24, 1385],\n",
       "        [ 132,   25, 2301],\n",
       "        [ 453,   11,   86],\n",
       "        [ 158,   24,  185],\n",
       "        [ 172,   25,  201],\n",
       "        [ 413,   11,   86],\n",
       "        [  38,   54,  185],\n",
       "        [ 142,   25,  431],\n",
       "        [ 453,   31,   86]]),\n",
       " array([[ 148,  132,  453,  158,  172,  413,   38,  142,  453],\n",
       "        [  24,   25,   11,   24,   25,   11,   54,   25,   31],\n",
       "        [1385, 2301,   86,  185,  201,   86,  185,  431,   86]]))"
      ]
     },
     "execution_count": 175,
     "metadata": {},
     "output_type": "execute_result"
    }
   ],
   "source": [
    "X, X.T"
   ]
  },
  {
   "cell_type": "code",
   "execution_count": 176,
   "id": "949420f3",
   "metadata": {},
   "outputs": [],
   "source": [
    "y = [100, 200, 150, 250, 100, 200, 150, 250, 120]"
   ]
  },
  {
   "cell_type": "code",
   "execution_count": 177,
   "id": "d635e5f4",
   "metadata": {},
   "outputs": [],
   "source": [
    "XTX = X.T.dot(X)                    #Gram matrix"
   ]
  },
  {
   "cell_type": "code",
   "execution_count": 178,
   "id": "d81b3246",
   "metadata": {},
   "outputs": [],
   "source": [
    "XTX_inv = np.linalg.inv(XTX)"
   ]
  },
  {
   "cell_type": "code",
   "execution_count": 179,
   "id": "794202bc",
   "metadata": {},
   "outputs": [],
   "source": [
    "w = XTX_inv.dot(X.T).dot(y)           # weight = inv(X.T.dot(X)).dot(X.T).dot(y)"
   ]
  },
  {
   "cell_type": "code",
   "execution_count": 180,
   "id": "04be30d5",
   "metadata": {},
   "outputs": [
    {
     "data": {
      "text/plain": [
       "array([0.2622938 , 3.07268567, 0.03418076])"
      ]
     },
     "execution_count": 180,
     "metadata": {},
     "output_type": "execute_result"
    }
   ],
   "source": [
    "w"
   ]
  },
  {
   "cell_type": "markdown",
   "id": "a750df8f",
   "metadata": {},
   "source": [
    "#add ones to the array X with np.column stack"
   ]
  },
  {
   "cell_type": "code",
   "execution_count": 181,
   "id": "fb7532aa",
   "metadata": {},
   "outputs": [
    {
     "data": {
      "text/plain": [
       "9"
      ]
     },
     "execution_count": 181,
     "metadata": {},
     "output_type": "execute_result"
    }
   ],
   "source": [
    "X.shape[0]"
   ]
  },
  {
   "cell_type": "code",
   "execution_count": 182,
   "id": "5609f236",
   "metadata": {},
   "outputs": [
    {
     "data": {
      "text/plain": [
       "array([1., 1., 1., 1., 1., 1., 1., 1., 1.])"
      ]
     },
     "execution_count": 182,
     "metadata": {},
     "output_type": "execute_result"
    }
   ],
   "source": [
    "ones = np.ones(X.shape[0])\n",
    "ones"
   ]
  },
  {
   "cell_type": "code",
   "execution_count": 183,
   "id": "9dc13216",
   "metadata": {},
   "outputs": [],
   "source": [
    "X = np.column_stack([ones, X])"
   ]
  },
  {
   "cell_type": "code",
   "execution_count": 184,
   "id": "c289f7b7",
   "metadata": {},
   "outputs": [],
   "source": [
    "XTX = X.T.dot(X)"
   ]
  },
  {
   "cell_type": "code",
   "execution_count": 185,
   "id": "a60c4fc2",
   "metadata": {},
   "outputs": [],
   "source": [
    "XTX_inv = np.linalg.inv(XTX)"
   ]
  },
  {
   "cell_type": "code",
   "execution_count": 186,
   "id": "73ca7368",
   "metadata": {},
   "outputs": [
    {
     "data": {
      "text/plain": [
       "array([ 2.91860448e+02, -2.14453284e-01, -2.47336270e+00, -1.73046165e-02])"
      ]
     },
     "execution_count": 186,
     "metadata": {},
     "output_type": "execute_result"
    }
   ],
   "source": [
    "w_full = XTX_inv.dot(X.T).dot(y)\n",
    "w_full"
   ]
  },
  {
   "cell_type": "code",
   "execution_count": 187,
   "id": "c5c5ab5a",
   "metadata": {},
   "outputs": [],
   "source": [
    "# Split the bias term w0 from w1, w2, w3.\n",
    "\n",
    "w0 = w_full[0], \n",
    "w = w_full[1:]"
   ]
  },
  {
   "cell_type": "code",
   "execution_count": 188,
   "id": "c6344aea",
   "metadata": {},
   "outputs": [
    {
     "data": {
      "text/plain": [
       "((291.86044791248213,), array([-0.21445328, -2.4733627 , -0.01730462]))"
      ]
     },
     "execution_count": 188,
     "metadata": {},
     "output_type": "execute_result"
    }
   ],
   "source": [
    "w0, w           # NEgative indicates price reduction if a feature goes up."
   ]
  },
  {
   "cell_type": "code",
   "execution_count": 189,
   "id": "23ece9f4",
   "metadata": {},
   "outputs": [],
   "source": [
    "# function of the above  solution:\n",
    "\n",
    "def train_linear_regression(X,y):\n",
    "    ones = np.ones(X.shape[0])\n",
    "    X = np.column_stack([ones, X])\n",
    "    \n",
    "    XTX = X.T.dot(X)\n",
    "    XTX_inv = np.linalg.inv(XTX)\n",
    "    w_full = XTX_inv.dot(X.T).dot(y)\n",
    "    \n",
    "    return w_full[0], w_full[1:]"
   ]
  },
  {
   "cell_type": "code",
   "execution_count": 192,
   "id": "83308ed7",
   "metadata": {},
   "outputs": [
    {
     "data": {
      "text/plain": [
       "(291.86044791248213, array([-0.21445328, -2.4733627 , -0.01730462]))"
      ]
     },
     "execution_count": 192,
     "metadata": {},
     "output_type": "execute_result"
    }
   ],
   "source": [
    "train_linear_regression(X,y)                     # Run the values without the ones."
   ]
  },
  {
   "cell_type": "markdown",
   "id": "89ee140f",
   "metadata": {},
   "source": [
    "# 2.8-Car Price Baseline Model"
   ]
  },
  {
   "cell_type": "markdown",
   "id": "a925c266",
   "metadata": {},
   "source": [
    "#we make use of some impotant numerical columns from the trained data"
   ]
  },
  {
   "cell_type": "code",
   "execution_count": 193,
   "id": "cc36527a",
   "metadata": {},
   "outputs": [
    {
     "data": {
      "text/plain": [
       "Index(['make', 'model', 'year', 'engine_fuel_type', 'engine_hp',\n",
       "       'engine_cylinders', 'transmission_type', 'driven_wheels',\n",
       "       'number_of_doors', 'market_category', 'vehicle_size', 'vehicle_style',\n",
       "       'highway_mpg', 'city_mpg', 'popularity'],\n",
       "      dtype='object')"
      ]
     },
     "execution_count": 193,
     "metadata": {},
     "output_type": "execute_result"
    }
   ],
   "source": [
    "df_train.columns"
   ]
  },
  {
   "cell_type": "code",
   "execution_count": 194,
   "id": "2b4df26c",
   "metadata": {},
   "outputs": [],
   "source": [
    "base = ['engine_hp','engine_cylinders','highway_mpg', 'city_mpg', 'popularity']"
   ]
  },
  {
   "cell_type": "code",
   "execution_count": 195,
   "id": "962a69de",
   "metadata": {},
   "outputs": [
    {
     "data": {
      "text/html": [
       "<div>\n",
       "<style scoped>\n",
       "    .dataframe tbody tr th:only-of-type {\n",
       "        vertical-align: middle;\n",
       "    }\n",
       "\n",
       "    .dataframe tbody tr th {\n",
       "        vertical-align: top;\n",
       "    }\n",
       "\n",
       "    .dataframe thead th {\n",
       "        text-align: right;\n",
       "    }\n",
       "</style>\n",
       "<table border=\"1\" class=\"dataframe\">\n",
       "  <thead>\n",
       "    <tr style=\"text-align: right;\">\n",
       "      <th></th>\n",
       "      <th>engine_hp</th>\n",
       "      <th>engine_cylinders</th>\n",
       "      <th>highway_mpg</th>\n",
       "      <th>city_mpg</th>\n",
       "      <th>popularity</th>\n",
       "    </tr>\n",
       "  </thead>\n",
       "  <tbody>\n",
       "    <tr>\n",
       "      <th>0</th>\n",
       "      <td>148.0</td>\n",
       "      <td>4.0</td>\n",
       "      <td>33</td>\n",
       "      <td>24</td>\n",
       "      <td>1385</td>\n",
       "    </tr>\n",
       "    <tr>\n",
       "      <th>1</th>\n",
       "      <td>132.0</td>\n",
       "      <td>4.0</td>\n",
       "      <td>32</td>\n",
       "      <td>25</td>\n",
       "      <td>2031</td>\n",
       "    </tr>\n",
       "    <tr>\n",
       "      <th>2</th>\n",
       "      <td>148.0</td>\n",
       "      <td>4.0</td>\n",
       "      <td>37</td>\n",
       "      <td>28</td>\n",
       "      <td>640</td>\n",
       "    </tr>\n",
       "    <tr>\n",
       "      <th>3</th>\n",
       "      <td>90.0</td>\n",
       "      <td>4.0</td>\n",
       "      <td>18</td>\n",
       "      <td>16</td>\n",
       "      <td>873</td>\n",
       "    </tr>\n",
       "    <tr>\n",
       "      <th>4</th>\n",
       "      <td>385.0</td>\n",
       "      <td>8.0</td>\n",
       "      <td>21</td>\n",
       "      <td>15</td>\n",
       "      <td>5657</td>\n",
       "    </tr>\n",
       "    <tr>\n",
       "      <th>...</th>\n",
       "      <td>...</td>\n",
       "      <td>...</td>\n",
       "      <td>...</td>\n",
       "      <td>...</td>\n",
       "      <td>...</td>\n",
       "    </tr>\n",
       "    <tr>\n",
       "      <th>7145</th>\n",
       "      <td>300.0</td>\n",
       "      <td>6.0</td>\n",
       "      <td>31</td>\n",
       "      <td>20</td>\n",
       "      <td>3916</td>\n",
       "    </tr>\n",
       "    <tr>\n",
       "      <th>7146</th>\n",
       "      <td>210.0</td>\n",
       "      <td>4.0</td>\n",
       "      <td>30</td>\n",
       "      <td>24</td>\n",
       "      <td>873</td>\n",
       "    </tr>\n",
       "    <tr>\n",
       "      <th>7147</th>\n",
       "      <td>285.0</td>\n",
       "      <td>6.0</td>\n",
       "      <td>22</td>\n",
       "      <td>17</td>\n",
       "      <td>549</td>\n",
       "    </tr>\n",
       "    <tr>\n",
       "      <th>7148</th>\n",
       "      <td>563.0</td>\n",
       "      <td>12.0</td>\n",
       "      <td>21</td>\n",
       "      <td>13</td>\n",
       "      <td>86</td>\n",
       "    </tr>\n",
       "    <tr>\n",
       "      <th>7149</th>\n",
       "      <td>200.0</td>\n",
       "      <td>4.0</td>\n",
       "      <td>31</td>\n",
       "      <td>22</td>\n",
       "      <td>873</td>\n",
       "    </tr>\n",
       "  </tbody>\n",
       "</table>\n",
       "<p>7150 rows × 5 columns</p>\n",
       "</div>"
      ],
      "text/plain": [
       "      engine_hp  engine_cylinders  highway_mpg  city_mpg  popularity\n",
       "0         148.0               4.0           33        24        1385\n",
       "1         132.0               4.0           32        25        2031\n",
       "2         148.0               4.0           37        28         640\n",
       "3          90.0               4.0           18        16         873\n",
       "4         385.0               8.0           21        15        5657\n",
       "...         ...               ...          ...       ...         ...\n",
       "7145      300.0               6.0           31        20        3916\n",
       "7146      210.0               4.0           30        24         873\n",
       "7147      285.0               6.0           22        17         549\n",
       "7148      563.0              12.0           21        13          86\n",
       "7149      200.0               4.0           31        22         873\n",
       "\n",
       "[7150 rows x 5 columns]"
      ]
     },
     "execution_count": 195,
     "metadata": {},
     "output_type": "execute_result"
    }
   ],
   "source": [
    "df_train[base]                 # to get the values of the chosen columns"
   ]
  },
  {
   "cell_type": "code",
   "execution_count": 196,
   "id": "d65346bb",
   "metadata": {},
   "outputs": [],
   "source": [
    "# extract the numpy array and get y_train\n",
    "\n",
    "X_train = df_train[base].values"
   ]
  },
  {
   "cell_type": "code",
   "execution_count": 197,
   "id": "25f2f1e5",
   "metadata": {},
   "outputs": [
    {
     "data": {
      "text/plain": [
       "array([[ 148.,    4.,   33.,   24., 1385.],\n",
       "       [ 132.,    4.,   32.,   25., 2031.],\n",
       "       [ 148.,    4.,   37.,   28.,  640.],\n",
       "       ...,\n",
       "       [ 285.,    6.,   22.,   17.,  549.],\n",
       "       [ 563.,   12.,   21.,   13.,   86.],\n",
       "       [ 200.,    4.,   31.,   22.,  873.]])"
      ]
     },
     "execution_count": 197,
     "metadata": {},
     "output_type": "execute_result"
    }
   ],
   "source": [
    "X_train"
   ]
  },
  {
   "cell_type": "code",
   "execution_count": 198,
   "id": "895922f3",
   "metadata": {},
   "outputs": [
    {
     "data": {
      "text/plain": [
       "array([ 9.57574708,  9.887663  ,  9.89323518, ..., 10.45380308,\n",
       "       12.62248099, 10.54061978])"
      ]
     },
     "execution_count": 198,
     "metadata": {},
     "output_type": "execute_result"
    }
   ],
   "source": [
    "y_train"
   ]
  },
  {
   "cell_type": "code",
   "execution_count": 199,
   "id": "bf8c9bf2",
   "metadata": {},
   "outputs": [
    {
     "data": {
      "text/plain": [
       "(nan, array([nan, nan, nan, nan, nan]))"
      ]
     },
     "execution_count": 199,
     "metadata": {},
     "output_type": "execute_result"
    }
   ],
   "source": [
    "train_linear_regression(X_train,y_train)"
   ]
  },
  {
   "cell_type": "code",
   "execution_count": 200,
   "id": "fd344f7b",
   "metadata": {},
   "outputs": [
    {
     "data": {
      "text/plain": [
       "engine_hp           40\n",
       "engine_cylinders    14\n",
       "highway_mpg          0\n",
       "city_mpg             0\n",
       "popularity           0\n",
       "dtype: int64"
      ]
     },
     "execution_count": 200,
     "metadata": {},
     "output_type": "execute_result"
    }
   ],
   "source": [
    "#nan above shows some missing values \n",
    "\n",
    "df_train[base].isnull().sum()"
   ]
  },
  {
   "cell_type": "code",
   "execution_count": 201,
   "id": "82b6a368",
   "metadata": {},
   "outputs": [
    {
     "data": {
      "text/plain": [
       "engine_hp           0\n",
       "engine_cylinders    0\n",
       "highway_mpg         0\n",
       "city_mpg            0\n",
       "popularity          0\n",
       "dtype: int64"
      ]
     },
     "execution_count": 201,
     "metadata": {},
     "output_type": "execute_result"
    }
   ],
   "source": [
    "#fill the missing values with 0\n",
    "\n",
    "df_train[base].fillna(value=0).isnull().sum()"
   ]
  },
  {
   "cell_type": "code",
   "execution_count": 202,
   "id": "48f22c51",
   "metadata": {},
   "outputs": [],
   "source": [
    "X_train = df_train[base].fillna(0).values"
   ]
  },
  {
   "cell_type": "code",
   "execution_count": 203,
   "id": "ea5dc93a",
   "metadata": {},
   "outputs": [
    {
     "data": {
      "text/plain": [
       "(7.927257388070001,\n",
       " array([ 9.70589522e-03, -1.59103494e-01,  1.43792133e-02,  1.49441072e-02,\n",
       "        -9.06908672e-06]))"
      ]
     },
     "execution_count": 203,
     "metadata": {},
     "output_type": "execute_result"
    }
   ],
   "source": [
    "train_linear_regression(X_train,y_train)"
   ]
  },
  {
   "cell_type": "code",
   "execution_count": 204,
   "id": "b4bda4d9",
   "metadata": {},
   "outputs": [],
   "source": [
    "w0,w = train_linear_regression(X_train,y_train)"
   ]
  },
  {
   "cell_type": "code",
   "execution_count": 205,
   "id": "7f3410f0",
   "metadata": {},
   "outputs": [],
   "source": [
    "y_pred = w0 + X_train.dot(w)"
   ]
  },
  {
   "cell_type": "code",
   "execution_count": 206,
   "id": "291e6792",
   "metadata": {},
   "outputs": [
    {
     "data": {
      "text/plain": [
       "<AxesSubplot:ylabel='Count'>"
      ]
     },
     "execution_count": 206,
     "metadata": {},
     "output_type": "execute_result"
    },
    {
     "data": {
      "image/png": "[encoded data removed]",
      "text/plain": [
       "<Figure size 432x288 with 1 Axes>"
      ]
     },
     "metadata": {
      "needs_background": "light"
     },
     "output_type": "display_data"
    }
   ],
   "source": [
    "# Plot y_pred vs y_train to see how close the predictions was:\n",
    "\n",
    "sns.histplot(y_pred, color='r', bins=50, alpha=0.5)\n",
    "sns.histplot(y_train, color='b', bins=50, alpha=0.5)\n"
   ]
  },
  {
   "cell_type": "markdown",
   "id": "b7c45564",
   "metadata": {},
   "source": [
    "#the plot above shows our model did not do good cos of the difference in the uniformity"
   ]
  },
  {
   "cell_type": "markdown",
   "id": "fc47f74b",
   "metadata": {},
   "source": [
    "# 2.9- Root Mean Square Error"
   ]
  },
  {
   "cell_type": "code",
   "execution_count": 207,
   "id": "fe735779",
   "metadata": {},
   "outputs": [],
   "source": [
    "# Formula is rmse = sqr(g(xi) - yi)mean, and sqrt of the divided mean.\n",
    "\n",
    "def rmse(y, y_pred):\n",
    "    error = y - y_pred\n",
    "    squared_error = error**2\n",
    "    mean_square_error = squared_error.mean()\n",
    "    return np.sqrt(mean_square_error)"
   ]
  },
  {
   "cell_type": "code",
   "execution_count": 208,
   "id": "045590c3",
   "metadata": {},
   "outputs": [
    {
     "data": {
      "text/plain": [
       "0.7554192603920132"
      ]
     },
     "execution_count": 208,
     "metadata": {},
     "output_type": "execute_result"
    }
   ],
   "source": [
    "rmse(y_train,y_pred)"
   ]
  },
  {
   "cell_type": "markdown",
   "id": "14924a2d",
   "metadata": {},
   "source": [
    "# 2.10- Validating the model"
   ]
  },
  {
   "cell_type": "markdown",
   "id": "dd8364c8",
   "metadata": {},
   "source": [
    "#define a function to get the validation dataset. Validation data could be either the train or val data"
   ]
  },
  {
   "cell_type": "code",
   "execution_count": 209,
   "id": "c01162b1",
   "metadata": {},
   "outputs": [],
   "source": [
    "# base = ['engine_hp','engine_cylinders','highway_mpg', 'city_mpg', 'popularity']\n",
    "\n",
    "# X_train = df_train[base].fillna(0).values\n",
    "\n",
    "# w0,w = train_linear_regression(X_train,y_train)\n",
    "\n",
    "# y_pred = w0 + X_train.dot(w)\n",
    "\n",
    "# use this details to define a function"
   ]
  },
  {
   "cell_type": "code",
   "execution_count": 210,
   "id": "927e80d1",
   "metadata": {},
   "outputs": [],
   "source": [
    "def prepare_X(df):\n",
    "    df_num = df[base]\n",
    "    X = df_num.fillna(0).values\n",
    "    return X"
   ]
  },
  {
   "cell_type": "code",
   "execution_count": 211,
   "id": "ddeac194",
   "metadata": {},
   "outputs": [
    {
     "data": {
      "text/plain": [
       "0.7616530991301594"
      ]
     },
     "execution_count": 211,
     "metadata": {},
     "output_type": "execute_result"
    }
   ],
   "source": [
    "# Apply the above function to the train and val dataset\n",
    "\n",
    "X_train = prepare_X(df_train)\n",
    "w0, w = train_linear_regression(X_train,y_train)\n",
    "\n",
    "X_val = prepare_X(df_val)\n",
    "#w0, w = train_linear_regression(X_val,y_val)\n",
    "y_pred = w0 + X_val.dot(w)\n",
    "\n",
    "rmse(y_val,y_pred)"
   ]
  },
  {
   "cell_type": "markdown",
   "id": "62691b1a",
   "metadata": {},
   "source": [
    "# 2.11- Simple Feature Engineering"
   ]
  },
  {
   "cell_type": "markdown",
   "id": "e099ff5c",
   "metadata": {},
   "source": [
    "#We add a new feature year to know the age of the car"
   ]
  },
  {
   "cell_type": "code",
   "execution_count": 212,
   "id": "ab71442c",
   "metadata": {},
   "outputs": [
    {
     "data": {
      "text/plain": [
       "2017"
      ]
     },
     "execution_count": 212,
     "metadata": {},
     "output_type": "execute_result"
    }
   ],
   "source": [
    "df_train['year'].max()              #highest year of all cars in training dataset"
   ]
  },
  {
   "cell_type": "code",
   "execution_count": 213,
   "id": "c3577312",
   "metadata": {},
   "outputs": [
    {
     "data": {
      "text/plain": [
       "0        9\n",
       "1        5\n",
       "2        1\n",
       "3       26\n",
       "4        0\n",
       "        ..\n",
       "7145     2\n",
       "7146     2\n",
       "7147     2\n",
       "7148     3\n",
       "7149     0\n",
       "Name: year, Length: 7150, dtype: int64"
      ]
     },
     "execution_count": 213,
     "metadata": {},
     "output_type": "execute_result"
    }
   ],
   "source": [
    "2017 - df_train['year']            #subtract all years from 2017"
   ]
  },
  {
   "cell_type": "code",
   "execution_count": 214,
   "id": "7028d7f6",
   "metadata": {},
   "outputs": [],
   "source": [
    "def prepare_X(df):\n",
    "    df = df.copy()                                       # a copy was created not to overwrite initial function\n",
    "    \n",
    "    df['age'] = 2017 - df['year']\n",
    "    features = base + ['age']\n",
    "    df_num = df[features]\n",
    "    X = df_num.fillna(0).values\n",
    "    \n",
    "    return X"
   ]
  },
  {
   "cell_type": "code",
   "execution_count": 216,
   "id": "9f0c343e",
   "metadata": {},
   "outputs": [],
   "source": [
    "X_train = prepare_X(df_train)"
   ]
  },
  {
   "cell_type": "code",
   "execution_count": 218,
   "id": "19c92fe4",
   "metadata": {},
   "outputs": [
    {
     "data": {
      "text/html": [
       "<div>\n",
       "<style scoped>\n",
       "    .dataframe tbody tr th:only-of-type {\n",
       "        vertical-align: middle;\n",
       "    }\n",
       "\n",
       "    .dataframe tbody tr th {\n",
       "        vertical-align: top;\n",
       "    }\n",
       "\n",
       "    .dataframe thead th {\n",
       "        text-align: right;\n",
       "    }\n",
       "</style>\n",
       "<table border=\"1\" class=\"dataframe\">\n",
       "  <thead>\n",
       "    <tr style=\"text-align: right;\">\n",
       "      <th></th>\n",
       "      <th>make</th>\n",
       "      <th>model</th>\n",
       "      <th>year</th>\n",
       "      <th>engine_fuel_type</th>\n",
       "      <th>engine_hp</th>\n",
       "      <th>engine_cylinders</th>\n",
       "      <th>transmission_type</th>\n",
       "      <th>driven_wheels</th>\n",
       "      <th>number_of_doors</th>\n",
       "      <th>market_category</th>\n",
       "      <th>vehicle_size</th>\n",
       "      <th>vehicle_style</th>\n",
       "      <th>highway_mpg</th>\n",
       "      <th>city_mpg</th>\n",
       "      <th>popularity</th>\n",
       "    </tr>\n",
       "  </thead>\n",
       "  <tbody>\n",
       "    <tr>\n",
       "      <th>0</th>\n",
       "      <td>chevrolet</td>\n",
       "      <td>cobalt</td>\n",
       "      <td>2008</td>\n",
       "      <td>regular_unleaded</td>\n",
       "      <td>148.0</td>\n",
       "      <td>4.0</td>\n",
       "      <td>manual</td>\n",
       "      <td>front_wheel_drive</td>\n",
       "      <td>2.0</td>\n",
       "      <td>NaN</td>\n",
       "      <td>compact</td>\n",
       "      <td>coupe</td>\n",
       "      <td>33</td>\n",
       "      <td>24</td>\n",
       "      <td>1385</td>\n",
       "    </tr>\n",
       "    <tr>\n",
       "      <th>1</th>\n",
       "      <td>toyota</td>\n",
       "      <td>matrix</td>\n",
       "      <td>2012</td>\n",
       "      <td>regular_unleaded</td>\n",
       "      <td>132.0</td>\n",
       "      <td>4.0</td>\n",
       "      <td>automatic</td>\n",
       "      <td>front_wheel_drive</td>\n",
       "      <td>4.0</td>\n",
       "      <td>hatchback</td>\n",
       "      <td>compact</td>\n",
       "      <td>4dr_hatchback</td>\n",
       "      <td>32</td>\n",
       "      <td>25</td>\n",
       "      <td>2031</td>\n",
       "    </tr>\n",
       "    <tr>\n",
       "      <th>2</th>\n",
       "      <td>subaru</td>\n",
       "      <td>impreza</td>\n",
       "      <td>2016</td>\n",
       "      <td>regular_unleaded</td>\n",
       "      <td>148.0</td>\n",
       "      <td>4.0</td>\n",
       "      <td>automatic</td>\n",
       "      <td>all_wheel_drive</td>\n",
       "      <td>4.0</td>\n",
       "      <td>hatchback</td>\n",
       "      <td>compact</td>\n",
       "      <td>4dr_hatchback</td>\n",
       "      <td>37</td>\n",
       "      <td>28</td>\n",
       "      <td>640</td>\n",
       "    </tr>\n",
       "    <tr>\n",
       "      <th>3</th>\n",
       "      <td>volkswagen</td>\n",
       "      <td>vanagon</td>\n",
       "      <td>1991</td>\n",
       "      <td>regular_unleaded</td>\n",
       "      <td>90.0</td>\n",
       "      <td>4.0</td>\n",
       "      <td>manual</td>\n",
       "      <td>rear_wheel_drive</td>\n",
       "      <td>3.0</td>\n",
       "      <td>NaN</td>\n",
       "      <td>large</td>\n",
       "      <td>passenger_minivan</td>\n",
       "      <td>18</td>\n",
       "      <td>16</td>\n",
       "      <td>873</td>\n",
       "    </tr>\n",
       "    <tr>\n",
       "      <th>4</th>\n",
       "      <td>ford</td>\n",
       "      <td>f-150</td>\n",
       "      <td>2017</td>\n",
       "      <td>flex-fuel_(unleaded/e85)</td>\n",
       "      <td>385.0</td>\n",
       "      <td>8.0</td>\n",
       "      <td>automatic</td>\n",
       "      <td>four_wheel_drive</td>\n",
       "      <td>4.0</td>\n",
       "      <td>flex_fuel</td>\n",
       "      <td>large</td>\n",
       "      <td>crew_cab_pickup</td>\n",
       "      <td>21</td>\n",
       "      <td>15</td>\n",
       "      <td>5657</td>\n",
       "    </tr>\n",
       "  </tbody>\n",
       "</table>\n",
       "</div>"
      ],
      "text/plain": [
       "         make    model  year          engine_fuel_type  engine_hp  \\\n",
       "0   chevrolet   cobalt  2008          regular_unleaded      148.0   \n",
       "1      toyota   matrix  2012          regular_unleaded      132.0   \n",
       "2      subaru  impreza  2016          regular_unleaded      148.0   \n",
       "3  volkswagen  vanagon  1991          regular_unleaded       90.0   \n",
       "4        ford    f-150  2017  flex-fuel_(unleaded/e85)      385.0   \n",
       "\n",
       "   engine_cylinders transmission_type      driven_wheels  number_of_doors  \\\n",
       "0               4.0            manual  front_wheel_drive              2.0   \n",
       "1               4.0         automatic  front_wheel_drive              4.0   \n",
       "2               4.0         automatic    all_wheel_drive              4.0   \n",
       "3               4.0            manual   rear_wheel_drive              3.0   \n",
       "4               8.0         automatic   four_wheel_drive              4.0   \n",
       "\n",
       "  market_category vehicle_size      vehicle_style  highway_mpg  city_mpg  \\\n",
       "0             NaN      compact              coupe           33        24   \n",
       "1       hatchback      compact      4dr_hatchback           32        25   \n",
       "2       hatchback      compact      4dr_hatchback           37        28   \n",
       "3             NaN        large  passenger_minivan           18        16   \n",
       "4       flex_fuel        large    crew_cab_pickup           21        15   \n",
       "\n",
       "   popularity  \n",
       "0        1385  \n",
       "1        2031  \n",
       "2         640  \n",
       "3         873  \n",
       "4        5657  "
      ]
     },
     "execution_count": 218,
     "metadata": {},
     "output_type": "execute_result"
    }
   ],
   "source": [
    "df_train.head()"
   ]
  },
  {
   "cell_type": "code",
   "execution_count": 220,
   "id": "3728d252",
   "metadata": {},
   "outputs": [],
   "source": [
    "# del df_train['age']"
   ]
  },
  {
   "cell_type": "code",
   "execution_count": 221,
   "id": "863e59d7",
   "metadata": {},
   "outputs": [
    {
     "data": {
      "text/plain": [
       "Index(['make', 'model', 'year', 'engine_fuel_type', 'engine_hp',\n",
       "       'engine_cylinders', 'transmission_type', 'driven_wheels',\n",
       "       'number_of_doors', 'market_category', 'vehicle_size', 'vehicle_style',\n",
       "       'highway_mpg', 'city_mpg', 'popularity'],\n",
       "      dtype='object')"
      ]
     },
     "execution_count": 221,
     "metadata": {},
     "output_type": "execute_result"
    }
   ],
   "source": [
    "df_train.columns              # to verify the addition of new feature age"
   ]
  },
  {
   "cell_type": "code",
   "execution_count": 222,
   "id": "08171a73",
   "metadata": {},
   "outputs": [
    {
     "data": {
      "text/plain": [
       "0.5172055461058324"
      ]
     },
     "execution_count": 222,
     "metadata": {},
     "output_type": "execute_result"
    }
   ],
   "source": [
    "X_train = prepare_X(df_train)\n",
    "w0, w = train_linear_regression(X_train,y_train)\n",
    "\n",
    "X_val = prepare_X(df_val)\n",
    "#w0, w = train_linear_regression(X_val,y_val)\n",
    "y_pred = w0 + X_val.dot(w)\n",
    "\n",
    "rmse(y_val,y_pred)"
   ]
  },
  {
   "cell_type": "code",
   "execution_count": 223,
   "id": "7fabec25",
   "metadata": {},
   "outputs": [
    {
     "data": {
      "text/plain": [
       "<AxesSubplot:ylabel='Count'>"
      ]
     },
     "execution_count": 223,
     "metadata": {},
     "output_type": "execute_result"
    },
    {
     "data": {
      "image/png": "[encoded data removed]",
      "text/plain": [
       "<Figure size 432x288 with 1 Axes>"
      ]
     },
     "metadata": {
      "needs_background": "light"
     },
     "output_type": "display_data"
    }
   ],
   "source": [
    "# Plot y_pred vs y_val to see how close the predictions was:\n",
    "\n",
    "sns.histplot(y_pred, color='r', bins=50, alpha=0.5)\n",
    "sns.histplot(y_val, color='b', bins=50, alpha=0.5)"
   ]
  },
  {
   "cell_type": "markdown",
   "id": "4ceb5543",
   "metadata": {},
   "source": [
    "# 2.12- Categorical Variables"
   ]
  },
  {
   "cell_type": "markdown",
   "id": "a2b8ed83",
   "metadata": {},
   "source": [
    "#Categorical variables are non-numerical variables. eg make,model, engine_fuel_type,transmission_type,driven_wheels,vehicle_size,vehicle_style."
   ]
  },
  {
   "cell_type": "code",
   "execution_count": 224,
   "id": "805153ad",
   "metadata": {},
   "outputs": [
    {
     "data": {
      "text/plain": [
       "make                  object\n",
       "model                 object\n",
       "year                   int64\n",
       "engine_fuel_type      object\n",
       "engine_hp            float64\n",
       "engine_cylinders     float64\n",
       "transmission_type     object\n",
       "driven_wheels         object\n",
       "number_of_doors      float64\n",
       "market_category       object\n",
       "vehicle_size          object\n",
       "vehicle_style         object\n",
       "highway_mpg            int64\n",
       "city_mpg               int64\n",
       "popularity             int64\n",
       "dtype: object"
      ]
     },
     "execution_count": 224,
     "metadata": {},
     "output_type": "execute_result"
    }
   ],
   "source": [
    "df_train.dtypes"
   ]
  },
  {
   "cell_type": "code",
   "execution_count": 225,
   "id": "d16d03ee",
   "metadata": {},
   "outputs": [],
   "source": [
    "#Considering the number of doors, which is a string in the form of integer\n",
    "\n",
    "df_train['num_of_2_doors'] = (df_train['number_of_doors'] == 2).astype('int')\n",
    "df_train['num_of_3_doors'] = (df_train['number_of_doors'] == 3).astype('int')\n",
    "df_train['num_of_4_doors'] = (df_train['number_of_doors'] == 4).astype('int')"
   ]
  },
  {
   "cell_type": "code",
   "execution_count": 226,
   "id": "1f028432",
   "metadata": {},
   "outputs": [
    {
     "data": {
      "text/plain": [
       "('num_of_doors_3', 'num_of_doors_4')"
      ]
     },
     "execution_count": 226,
     "metadata": {},
     "output_type": "execute_result"
    }
   ],
   "source": [
    "'num_of_doors_%s' %3, 'num_of_doors_%u' % 4              # this form of string is use for replacement."
   ]
  },
  {
   "cell_type": "code",
   "execution_count": 227,
   "id": "41e35a0e",
   "metadata": {},
   "outputs": [],
   "source": [
    "#use the above string format with for loop to get number of doors:\n",
    "\n",
    "for v in [2,3,4]:\n",
    "    df_train['num_of_doors_%s' % v] = (df_train['number_of_doors'] == v).astype('int')"
   ]
  },
  {
   "cell_type": "code",
   "execution_count": 228,
   "id": "36e092ad",
   "metadata": {},
   "outputs": [],
   "source": [
    "df_train.drop(['num_of_2_doors','num_of_3_doors','num_of_4_doors'], axis=1, inplace=True)    #delete the trial code "
   ]
  },
  {
   "cell_type": "code",
   "execution_count": 231,
   "id": "f3910679",
   "metadata": {},
   "outputs": [],
   "source": [
    "def prepare_X(df):\n",
    "    df = df.copy()\n",
    "    features = base.copy()\n",
    "    \n",
    "    df['age'] = 2017 - df['year']\n",
    "    features.append('age')\n",
    "    \n",
    "    for v in [2,3,4]:\n",
    "        df['num_of_doors_%s' % v] = (df['number_of_doors'] == v).astype('int')\n",
    "        features.append('num_of_doors_%s' % v)\n",
    "    \n",
    "    df_num = df[features]\n",
    "    X = df_num.fillna(0).values\n",
    "    \n",
    "    return X"
   ]
  },
  {
   "cell_type": "code",
   "execution_count": 232,
   "id": "b18ed8ac",
   "metadata": {},
   "outputs": [
    {
     "data": {
      "text/plain": [
       "array([[148.,   4.,  33., ...,   1.,   0.,   0.],\n",
       "       [132.,   4.,  32., ...,   0.,   0.,   1.],\n",
       "       [148.,   4.,  37., ...,   0.,   0.,   1.],\n",
       "       ...,\n",
       "       [285.,   6.,  22., ...,   0.,   0.,   1.],\n",
       "       [563.,  12.,  21., ...,   0.,   0.,   1.],\n",
       "       [200.,   4.,  31., ...,   0.,   0.,   1.]])"
      ]
     },
     "execution_count": 232,
     "metadata": {},
     "output_type": "execute_result"
    }
   ],
   "source": [
    "# call the function to verify if the num_of_dorrs columns were added\n",
    "\n",
    "prepare_X(df_train)"
   ]
  },
  {
   "cell_type": "code",
   "execution_count": 233,
   "id": "72b3a5f0",
   "metadata": {},
   "outputs": [
    {
     "data": {
      "text/plain": [
       "0.5157995641503085"
      ]
     },
     "execution_count": 233,
     "metadata": {},
     "output_type": "execute_result"
    }
   ],
   "source": [
    "X_train = prepare_X(df_train)\n",
    "w0, w = train_linear_regression(X_train,y_train)\n",
    "\n",
    "X_val = prepare_X(df_val)\n",
    "#w0, w = train_linear_regression(X_val,y_val)\n",
    "y_pred = w0 + X_val.dot(w)\n",
    "\n",
    "rmse(y_val,y_pred)"
   ]
  },
  {
   "cell_type": "code",
   "execution_count": 234,
   "id": "ff1bc804",
   "metadata": {},
   "outputs": [
    {
     "data": {
      "text/plain": [
       "['chevrolet', 'ford', 'volkswagen', 'toyota', 'dodge']"
      ]
     },
     "execution_count": 234,
     "metadata": {},
     "output_type": "execute_result"
    }
   ],
   "source": [
    "# no much difference between our rmse, meaning num_of_doors is not a good column. lets try make.\n",
    "\n",
    "makers = list(df_train['make'].value_counts().head().index)\n",
    "makers"
   ]
  },
  {
   "cell_type": "code",
   "execution_count": 239,
   "id": "d8ff599d",
   "metadata": {},
   "outputs": [],
   "source": [
    "def prepare_X(df):\n",
    "    df = df.copy()\n",
    "    features = base.copy()\n",
    "    \n",
    "    df['age'] = 2017 - df['year']\n",
    "    features.append('age')\n",
    "    \n",
    "    for v in [2,3,4]:\n",
    "        df['num_of_doors_%s' % v] = (df['number_of_doors'] == v).astype('int')\n",
    "        features.append('num_of_doors_%s' % v)\n",
    "        \n",
    "    for v in makers:\n",
    "        df['maker_%s' % v] = (df['make'] == v).astype('int')\n",
    "        features.append('maker_%s' % v)\n",
    "    \n",
    "    df_num = df[features]\n",
    "    X = df_num.fillna(0).values\n",
    "    \n",
    "    return X"
   ]
  },
  {
   "cell_type": "code",
   "execution_count": 241,
   "id": "87d78035",
   "metadata": {},
   "outputs": [],
   "source": [
    "# 'num_of_doors_%s' % v"
   ]
  },
  {
   "cell_type": "code",
   "execution_count": 242,
   "id": "7473cbc2",
   "metadata": {},
   "outputs": [
    {
     "data": {
      "text/plain": [
       "0.5076038849555671"
      ]
     },
     "execution_count": 242,
     "metadata": {},
     "output_type": "execute_result"
    }
   ],
   "source": [
    "X_train = prepare_X(df_train)\n",
    "w0, w = train_linear_regression(X_train,y_train)\n",
    "\n",
    "X_val = prepare_X(df_val)\n",
    "#w0, w = train_linear_regression(X_val,y_val)\n",
    "y_pred = w0 + X_val.dot(w)\n",
    "\n",
    "rmse(y_val,y_pred)"
   ]
  },
  {
   "cell_type": "markdown",
   "id": "0aa39a1f",
   "metadata": {},
   "source": [
    "#Adding all the objects columns to our model:"
   ]
  },
  {
   "cell_type": "code",
   "execution_count": 243,
   "id": "eec52cf6",
   "metadata": {},
   "outputs": [],
   "source": [
    "categorical_variables = list(df_train.dtypes[df_train.dtypes == 'object'].index)"
   ]
  },
  {
   "cell_type": "code",
   "execution_count": 244,
   "id": "6a43fe83",
   "metadata": {},
   "outputs": [
    {
     "data": {
      "text/plain": [
       "['make',\n",
       " 'model',\n",
       " 'engine_fuel_type',\n",
       " 'transmission_type',\n",
       " 'driven_wheels',\n",
       " 'market_category',\n",
       " 'vehicle_size',\n",
       " 'vehicle_style']"
      ]
     },
     "execution_count": 244,
     "metadata": {},
     "output_type": "execute_result"
    }
   ],
   "source": [
    "categorical_variables"
   ]
  },
  {
   "cell_type": "code",
   "execution_count": 245,
   "id": "177d090e",
   "metadata": {},
   "outputs": [],
   "source": [
    "# get the most common categories\n",
    "\n",
    "categories = {}\n",
    "\n",
    "for c in categorical_variables:\n",
    "    categories[c] = list(df_train[c].value_counts().head().index)"
   ]
  },
  {
   "cell_type": "code",
   "execution_count": 246,
   "id": "34582273",
   "metadata": {},
   "outputs": [
    {
     "data": {
      "text/plain": [
       "{'make': ['chevrolet', 'ford', 'volkswagen', 'toyota', 'dodge'],\n",
       " 'model': ['silverado_1500', 'tundra', 'f-150', 'sierra_1500', 'tacoma'],\n",
       " 'engine_fuel_type': ['regular_unleaded',\n",
       "  'premium_unleaded_(required)',\n",
       "  'premium_unleaded_(recommended)',\n",
       "  'flex-fuel_(unleaded/e85)',\n",
       "  'diesel'],\n",
       " 'transmission_type': ['automatic',\n",
       "  'manual',\n",
       "  'automated_manual',\n",
       "  'direct_drive',\n",
       "  'unknown'],\n",
       " 'driven_wheels': ['front_wheel_drive',\n",
       "  'rear_wheel_drive',\n",
       "  'all_wheel_drive',\n",
       "  'four_wheel_drive'],\n",
       " 'market_category': ['crossover',\n",
       "  'flex_fuel',\n",
       "  'luxury',\n",
       "  'hatchback',\n",
       "  'luxury,performance'],\n",
       " 'vehicle_size': ['compact', 'midsize', 'large'],\n",
       " 'vehicle_style': ['sedan',\n",
       "  '4dr_suv',\n",
       "  'coupe',\n",
       "  'convertible',\n",
       "  '4dr_hatchback']}"
      ]
     },
     "execution_count": 246,
     "metadata": {},
     "output_type": "execute_result"
    }
   ],
   "source": [
    "categories"
   ]
  },
  {
   "cell_type": "code",
   "execution_count": 247,
   "id": "3a4cfc6e",
   "metadata": {},
   "outputs": [],
   "source": [
    "def prepare_X(df):\n",
    "    df = df.copy()\n",
    "    features = base.copy()\n",
    "    \n",
    "    df['age'] = 2017 - df['year']\n",
    "    features.append('age')\n",
    "    \n",
    "    for v in [2,3,4]:\n",
    "        df['num_of_doors_%s' % v] = (df['number_of_doors'] == v).astype('int')\n",
    "        features.append('num_of_doors_%s' % v)\n",
    "        \n",
    "    for c,values in categories.items():\n",
    "        for v in values:\n",
    "            df['%s_%s' % (c,v)] = (df[c] == v).astype('int')\n",
    "            features.append('%s_%s' % (c,v))\n",
    "    \n",
    "    df_num = df[features]\n",
    "    X = df_num.fillna(0).values\n",
    "    \n",
    "    return X"
   ]
  },
  {
   "cell_type": "code",
   "execution_count": 256,
   "id": "864a1b6d",
   "metadata": {},
   "outputs": [
    {
     "data": {
      "text/plain": [
       "79.26194057225275"
      ]
     },
     "execution_count": 256,
     "metadata": {},
     "output_type": "execute_result"
    }
   ],
   "source": [
    "X_train = prepare_X(df_train)\n",
    "w0, w = train_linear_regression(X_train,y_train)\n",
    "\n",
    "X_val = prepare_X(df_val)\n",
    "#w0, w = train_linear_regression(X_val,y_val)\n",
    "y_pred = w0 + X_val.dot(w)\n",
    "\n",
    "rmse(y_val,y_pred)"
   ]
  },
  {
   "cell_type": "code",
   "execution_count": 259,
   "id": "7fa767be",
   "metadata": {},
   "outputs": [
    {
     "data": {
      "text/plain": [
       "(2.522697333563645e+16,\n",
       " array([ 2.01251368e-01,  8.11597269e+00,  8.38623149e-01, -3.15369580e+00,\n",
       "         3.91764236e-03, -3.72801783e-02, -2.72702734e+02, -2.51610424e+02,\n",
       "        -2.72475167e+02, -7.95006257e+00, -2.14806675e+01,  1.19936530e+01,\n",
       "         1.67318623e+01, -1.25981620e+01,  2.02023966e+01, -4.81161122e+01,\n",
       "        -1.86968079e+00,  1.17372141e+01, -5.56822585e+01,  5.66270202e+02,\n",
       "         5.31280958e+02,  5.61606681e+02,  5.40377015e+02,  6.00416356e+02,\n",
       "        -1.12606872e+16, -1.12606872e+16, -1.12606872e+16, -1.12606872e+16,\n",
       "        -1.12606872e+16, -1.39662861e+16, -1.39662861e+16, -1.39662861e+16,\n",
       "        -1.39662861e+16, -1.42152901e+01, -2.07376753e+00,  5.07179099e+00,\n",
       "        -7.01025535e+00,  8.85948987e-02, -4.06346841e+00, -2.50550554e+01,\n",
       "        -2.64082414e+01, -9.63971162e-02, -1.65377271e-02,  1.65381720e-01,\n",
       "         3.31158372e-01, -2.13380372e-01]))"
      ]
     },
     "execution_count": 259,
     "metadata": {},
     "output_type": "execute_result"
    }
   ],
   "source": [
    "w0, w"
   ]
  },
  {
   "cell_type": "markdown",
   "id": "4af74db1",
   "metadata": {},
   "source": [
    "#the high rmse above shows that something is wrong with our model"
   ]
  },
  {
   "cell_type": "markdown",
   "id": "7ffbca95",
   "metadata": {},
   "source": [
    "# 2.13- Regularization"
   ]
  },
  {
   "cell_type": "markdown",
   "id": "1cd11422",
   "metadata": {},
   "source": [
    "#Regularization deals with bringing down the bias weight ie controlling so it is not much."
   ]
  },
  {
   "cell_type": "code",
   "execution_count": 250,
   "id": "85bad362",
   "metadata": {},
   "outputs": [
    {
     "data": {
      "text/plain": [
       "array([[4, 4, 4],\n",
       "       [3, 5, 5],\n",
       "       [5, 1, 1],\n",
       "       [5, 4, 4],\n",
       "       [7, 5, 5],\n",
       "       [4, 5, 5]])"
      ]
     },
     "execution_count": 250,
     "metadata": {},
     "output_type": "execute_result"
    }
   ],
   "source": [
    "# Get new array for X, make sure there is no duplicate.\n",
    "\n",
    "X = [[4,4,4], [3,5,5], [5,1,1], [5,4,4], [7,5,5], [4,5,5]]\n",
    "\n",
    "X = np.array(X)\n",
    "X"
   ]
  },
  {
   "cell_type": "code",
   "execution_count": 252,
   "id": "06707035",
   "metadata": {},
   "outputs": [
    {
     "data": {
      "text/plain": [
       "array([[140, 111, 111],\n",
       "       [111, 108, 108],\n",
       "       [111, 108, 108]])"
      ]
     },
     "execution_count": 252,
     "metadata": {},
     "output_type": "execute_result"
    }
   ],
   "source": [
    "XTX = X.T.dot(X)\n",
    "XTX"
   ]
  },
  {
   "cell_type": "markdown",
   "id": "da3d49c0",
   "metadata": {},
   "source": [
    "#there is no inverse bcos columns 2 and 3 are the same. Adjust the X matrix\n",
    "#np.linalg.inv(XTX)"
   ]
  },
  {
   "cell_type": "code",
   "execution_count": 275,
   "id": "e1151fcc",
   "metadata": {},
   "outputs": [
    {
     "data": {
      "text/plain": [
       "array([[4.        , 4.        , 4.        ],\n",
       "       [3.        , 5.        , 5.        ],\n",
       "       [5.        , 1.        , 1.        ],\n",
       "       [5.        , 4.        , 4.        ],\n",
       "       [7.        , 5.        , 5.        ],\n",
       "       [4.        , 5.        , 5.00000001]])"
      ]
     },
     "execution_count": 275,
     "metadata": {},
     "output_type": "execute_result"
    }
   ],
   "source": [
    "X = [[4,4,4], [3,5,5], [5,1,1], [5,4,4], [7,5,5], [4,5,5.00000001]]\n",
    "X = np.array(X)\n",
    "X"
   ]
  },
  {
   "cell_type": "code",
   "execution_count": 276,
   "id": "e6a84b0a",
   "metadata": {},
   "outputs": [],
   "source": [
    "y = [1,2,3,1,2,3]"
   ]
  },
  {
   "cell_type": "code",
   "execution_count": 277,
   "id": "f7d0efaa",
   "metadata": {},
   "outputs": [
    {
     "data": {
      "text/plain": [
       "array([[140.        , 111.        , 111.00000004],\n",
       "       [111.        , 108.        , 108.00000005],\n",
       "       [111.00000004, 108.00000005, 108.0000001 ]])"
      ]
     },
     "execution_count": 277,
     "metadata": {},
     "output_type": "execute_result"
    }
   ],
   "source": [
    "XTX = X.T.dot(X)\n",
    "XTX"
   ]
  },
  {
   "cell_type": "code",
   "execution_count": 278,
   "id": "a2b5c74d",
   "metadata": {},
   "outputs": [
    {
     "data": {
      "text/plain": [
       "array([[ 3.86409478e-02, -1.26839821e+05,  1.26839770e+05],\n",
       "       [-1.26839767e+05,  2.88638033e+14, -2.88638033e+14],\n",
       "       [ 1.26839727e+05, -2.88638033e+14,  2.88638033e+14]])"
      ]
     },
     "execution_count": 278,
     "metadata": {},
     "output_type": "execute_result"
    }
   ],
   "source": [
    "XTX_inv = np.linalg.inv(XTX)\n",
    "XTX_inv"
   ]
  },
  {
   "cell_type": "code",
   "execution_count": 279,
   "id": "34888013",
   "metadata": {},
   "outputs": [
    {
     "data": {
      "text/plain": [
       "array([-1.93908876e-01, -3.61854400e+06,  3.61854712e+06])"
      ]
     },
     "execution_count": 279,
     "metadata": {},
     "output_type": "execute_result"
    }
   ],
   "source": [
    "XTX_inv.dot(X.T).dot(y)"
   ]
  },
  {
   "cell_type": "markdown",
   "id": "3bfd64ab",
   "metadata": {},
   "source": [
    "#since the weights are high, to solve the problem, add small number to XTX diagonally."
   ]
  },
  {
   "cell_type": "code",
   "execution_count": 282,
   "id": "fd9f80c5",
   "metadata": {},
   "outputs": [],
   "source": [
    "XTX = [\n",
    "    [1,2,2],\n",
    "    [2,1,1.0000001],\n",
    "    [2,1.0000001,1]\n",
    "]\n",
    "XTX = np.array(XTX)"
   ]
  },
  {
   "cell_type": "code",
   "execution_count": 283,
   "id": "c2f6086f",
   "metadata": {},
   "outputs": [
    {
     "data": {
      "text/plain": [
       "array([[-3.33333356e-01,  3.33333339e-01,  3.33333339e-01],\n",
       "       [ 3.33333339e-01, -5.00000008e+06,  4.99999991e+06],\n",
       "       [ 3.33333339e-01,  4.99999991e+06, -5.00000008e+06]])"
      ]
     },
     "execution_count": 283,
     "metadata": {},
     "output_type": "execute_result"
    }
   ],
   "source": [
    "np.linalg.inv(XTX)"
   ]
  },
  {
   "cell_type": "code",
   "execution_count": 284,
   "id": "b337dd8d",
   "metadata": {},
   "outputs": [],
   "source": [
    "XTX = [\n",
    "    [1.0001, 2, 2],\n",
    "    [2, 1.0001, 1.0000001],\n",
    "    [2, 1.0000001, 1.0001]\n",
    "]\n",
    "XTX = np.array(XTX)"
   ]
  },
  {
   "cell_type": "code",
   "execution_count": 285,
   "id": "be8b0f70",
   "metadata": {},
   "outputs": [
    {
     "data": {
      "text/plain": [
       "array([[-3.33366691e-01,  3.33350007e-01,  3.33350007e-01],\n",
       "       [ 3.33350007e-01,  5.00492166e+03, -5.00508835e+03],\n",
       "       [ 3.33350007e-01, -5.00508835e+03,  5.00492166e+03]])"
      ]
     },
     "execution_count": 285,
     "metadata": {},
     "output_type": "execute_result"
    }
   ],
   "source": [
    "np.linalg.inv(XTX)"
   ]
  },
  {
   "cell_type": "code",
   "execution_count": 294,
   "id": "8c4c89a3",
   "metadata": {},
   "outputs": [],
   "source": [
    "# you can also add number diagonally this way with identity matrix multiplied by tiny number\n",
    "\n",
    "XTX = [\n",
    "    [1, 2, 2],\n",
    "    [2, 1, 1.0000001],\n",
    "    [2, 1.0000001, 1]\n",
    "]"
   ]
  },
  {
   "cell_type": "code",
   "execution_count": 295,
   "id": "edf7f6eb",
   "metadata": {},
   "outputs": [
    {
     "data": {
      "text/plain": [
       "array([[1., 0., 0.],\n",
       "       [0., 1., 0.],\n",
       "       [0., 0., 1.]])"
      ]
     },
     "execution_count": 295,
     "metadata": {},
     "output_type": "execute_result"
    }
   ],
   "source": [
    "np.eye(3)"
   ]
  },
  {
   "cell_type": "code",
   "execution_count": 298,
   "id": "2198504f",
   "metadata": {},
   "outputs": [
    {
     "data": {
      "text/plain": [
       "array([[1.02     , 2.       , 2.       ],\n",
       "       [2.       , 1.02     , 1.0000001],\n",
       "       [2.       , 1.0000001, 1.02     ]])"
      ]
     },
     "execution_count": 298,
     "metadata": {},
     "output_type": "execute_result"
    }
   ],
   "source": [
    "XTX = XTX + 0.01 * np.eye(3)               # you could multiply with 0.1 or 1 to bring down the weights\n",
    "\n",
    "XTX"
   ]
  },
  {
   "cell_type": "code",
   "execution_count": 299,
   "id": "058e39b5",
   "metadata": {},
   "outputs": [
    {
     "data": {
      "text/plain": [
       "(3, 3)"
      ]
     },
     "execution_count": 299,
     "metadata": {},
     "output_type": "execute_result"
    }
   ],
   "source": [
    "XTX.shape"
   ]
  },
  {
   "cell_type": "code",
   "execution_count": 297,
   "id": "41e38280",
   "metadata": {},
   "outputs": [
    {
     "data": {
      "text/plain": [
       "array([[ -0.33668908,   0.33501399,   0.33501399],\n",
       "       [  0.33501399,  49.91590897, -50.08509104],\n",
       "       [  0.33501399, -50.08509104,  49.91590897]])"
      ]
     },
     "execution_count": 297,
     "metadata": {},
     "output_type": "execute_result"
    }
   ],
   "source": [
    "np.linalg.inv(XTX)"
   ]
  },
  {
   "cell_type": "code",
   "execution_count": 301,
   "id": "c299a0c7",
   "metadata": {},
   "outputs": [],
   "source": [
    "# function of the above  solution:\n",
    "\n",
    "def train_linear_regression_reg(X, y, r=0.001):\n",
    "    ones = np.ones(X.shape[0])\n",
    "    X = np.column_stack([ones, X])\n",
    "    \n",
    "    XTX = X.T.dot(X)\n",
    "    XTX = XTX + r * np.eye(XTX.shape[0])\n",
    "    \n",
    "    XTX_inv = np.linalg.inv(XTX)\n",
    "    w_full = XTX_inv.dot(X.T).dot(y)\n",
    "    \n",
    "    return w_full[0], w_full[1:]"
   ]
  },
  {
   "cell_type": "code",
   "execution_count": 308,
   "id": "e80b32c2",
   "metadata": {},
   "outputs": [
    {
     "data": {
      "text/plain": [
       "0.4516961589697941"
      ]
     },
     "execution_count": 308,
     "metadata": {},
     "output_type": "execute_result"
    }
   ],
   "source": [
    "X_train = prepare_X(df_train)\n",
    "w0, w = train_linear_regression_reg(X_train,y_train, r=0.01)\n",
    "\n",
    "X_val = prepare_X(df_val)\n",
    "#w0, w = train_linear_regression(X_val,y_val)\n",
    "y_pred = w0 + X_val.dot(w)\n",
    "\n",
    "rmse(y_val,y_pred)"
   ]
  },
  {
   "cell_type": "markdown",
   "id": "abf0c442",
   "metadata": {},
   "source": [
    "# 2.14 Tuning the Model"
   ]
  },
  {
   "cell_type": "markdown",
   "id": "7feda682",
   "metadata": {},
   "source": [
    "#SInce regularization r affects ourmodel, we find the best value of r by using the validation set"
   ]
  },
  {
   "cell_type": "code",
   "execution_count": 319,
   "id": "ed05f0fc",
   "metadata": {},
   "outputs": [
    {
     "name": "stdout",
     "output_type": "stream",
     "text": [
      "0.0 2.522697333563645e+16 79.26194057225275\n",
      "1e-05 11.385089840946154 0.45169187230051683\n",
      "0.0001 6.42245049428882 0.4516919225010034\n",
      "0.001 6.313666028484572 0.451692304150437\n",
      "0.01 6.306640703827746 0.4516961589697941\n",
      "0.1 6.2206249663546895 0.45173704531592673\n",
      "1 5.659773365910085 0.45232594667821213\n",
      "10 4.2945910513858685 0.4653582071675702\n"
     ]
    }
   ],
   "source": [
    "for r in [0.0, 0.00001, 0.0001, 0.001, 0.01, 0.1, 1, 10]:\n",
    "    X_train = prepare_X(df_train)\n",
    "    w0, w = train_linear_regression_reg(X_train,y_train, r=r)\n",
    "\n",
    "    X_val = prepare_X(df_val)\n",
    "    #w0, w = train_linear_regression(X_val, y_val,)\n",
    "    y_pred = w0 + X_val.dot(w)\n",
    "    score = rmse(y_val,y_pred)\n",
    "    \n",
    "    print(r, w0, score)"
   ]
  },
  {
   "cell_type": "code",
   "execution_count": 320,
   "id": "761d55d2",
   "metadata": {},
   "outputs": [
    {
     "data": {
      "text/plain": [
       "0.4516961589697941"
      ]
     },
     "execution_count": 320,
     "metadata": {},
     "output_type": "execute_result"
    }
   ],
   "source": [
    "r = 0.01\n",
    "X_train = prepare_X(df_train)\n",
    "w0, w = train_linear_regression_reg(X_train,y_train, r=r)\n",
    "\n",
    "X_val = prepare_X(df_val)\n",
    "#w0, w = train_linear_regression(X_val, y_val,)\n",
    "y_pred = w0 + X_val.dot(w)\n",
    "score = rmse(y_val,y_pred)\n",
    "score"
   ]
  },
  {
   "cell_type": "code",
   "execution_count": 314,
   "id": "d29d2efd",
   "metadata": {},
   "outputs": [],
   "source": [
    "from sklearn.metrics import r2_score         # using sckit-learn to get the accuracy of our model. not for the class though."
   ]
  },
  {
   "cell_type": "code",
   "execution_count": 318,
   "id": "22291f9d",
   "metadata": {},
   "outputs": [
    {
     "data": {
      "text/plain": [
       "0.8143172255129723"
      ]
     },
     "execution_count": 318,
     "metadata": {},
     "output_type": "execute_result"
    }
   ],
   "source": [
    "r2_score(y_val, y_pred)"
   ]
  },
  {
   "cell_type": "markdown",
   "id": "c0d33a4f",
   "metadata": {},
   "source": [
    "# 2.15- Using the Model"
   ]
  },
  {
   "cell_type": "markdown",
   "id": "1d3fcfb8",
   "metadata": {},
   "source": [
    "#Combine both the training and validation datasets to train our model and use test dataset with rmse on the trained model"
   ]
  },
  {
   "cell_type": "code",
   "execution_count": 321,
   "id": "ec7de549",
   "metadata": {},
   "outputs": [],
   "source": [
    "df_full_train = pd.concat([df_train, df_val])"
   ]
  },
  {
   "cell_type": "code",
   "execution_count": 322,
   "id": "416806c2",
   "metadata": {},
   "outputs": [
    {
     "data": {
      "text/html": [
       "<div>\n",
       "<style scoped>\n",
       "    .dataframe tbody tr th:only-of-type {\n",
       "        vertical-align: middle;\n",
       "    }\n",
       "\n",
       "    .dataframe tbody tr th {\n",
       "        vertical-align: top;\n",
       "    }\n",
       "\n",
       "    .dataframe thead th {\n",
       "        text-align: right;\n",
       "    }\n",
       "</style>\n",
       "<table border=\"1\" class=\"dataframe\">\n",
       "  <thead>\n",
       "    <tr style=\"text-align: right;\">\n",
       "      <th></th>\n",
       "      <th>make</th>\n",
       "      <th>model</th>\n",
       "      <th>year</th>\n",
       "      <th>engine_fuel_type</th>\n",
       "      <th>engine_hp</th>\n",
       "      <th>engine_cylinders</th>\n",
       "      <th>transmission_type</th>\n",
       "      <th>driven_wheels</th>\n",
       "      <th>number_of_doors</th>\n",
       "      <th>market_category</th>\n",
       "      <th>vehicle_size</th>\n",
       "      <th>vehicle_style</th>\n",
       "      <th>highway_mpg</th>\n",
       "      <th>city_mpg</th>\n",
       "      <th>popularity</th>\n",
       "      <th>num_of_doors_2</th>\n",
       "      <th>num_of_doors_3</th>\n",
       "      <th>num_of_doors_4</th>\n",
       "    </tr>\n",
       "  </thead>\n",
       "  <tbody>\n",
       "    <tr>\n",
       "      <th>0</th>\n",
       "      <td>chevrolet</td>\n",
       "      <td>cobalt</td>\n",
       "      <td>2008</td>\n",
       "      <td>regular_unleaded</td>\n",
       "      <td>148.0</td>\n",
       "      <td>4.0</td>\n",
       "      <td>manual</td>\n",
       "      <td>front_wheel_drive</td>\n",
       "      <td>2.0</td>\n",
       "      <td>NaN</td>\n",
       "      <td>compact</td>\n",
       "      <td>coupe</td>\n",
       "      <td>33</td>\n",
       "      <td>24</td>\n",
       "      <td>1385</td>\n",
       "      <td>1.0</td>\n",
       "      <td>0.0</td>\n",
       "      <td>0.0</td>\n",
       "    </tr>\n",
       "    <tr>\n",
       "      <th>1</th>\n",
       "      <td>toyota</td>\n",
       "      <td>matrix</td>\n",
       "      <td>2012</td>\n",
       "      <td>regular_unleaded</td>\n",
       "      <td>132.0</td>\n",
       "      <td>4.0</td>\n",
       "      <td>automatic</td>\n",
       "      <td>front_wheel_drive</td>\n",
       "      <td>4.0</td>\n",
       "      <td>hatchback</td>\n",
       "      <td>compact</td>\n",
       "      <td>4dr_hatchback</td>\n",
       "      <td>32</td>\n",
       "      <td>25</td>\n",
       "      <td>2031</td>\n",
       "      <td>0.0</td>\n",
       "      <td>0.0</td>\n",
       "      <td>1.0</td>\n",
       "    </tr>\n",
       "    <tr>\n",
       "      <th>2</th>\n",
       "      <td>subaru</td>\n",
       "      <td>impreza</td>\n",
       "      <td>2016</td>\n",
       "      <td>regular_unleaded</td>\n",
       "      <td>148.0</td>\n",
       "      <td>4.0</td>\n",
       "      <td>automatic</td>\n",
       "      <td>all_wheel_drive</td>\n",
       "      <td>4.0</td>\n",
       "      <td>hatchback</td>\n",
       "      <td>compact</td>\n",
       "      <td>4dr_hatchback</td>\n",
       "      <td>37</td>\n",
       "      <td>28</td>\n",
       "      <td>640</td>\n",
       "      <td>0.0</td>\n",
       "      <td>0.0</td>\n",
       "      <td>1.0</td>\n",
       "    </tr>\n",
       "    <tr>\n",
       "      <th>3</th>\n",
       "      <td>volkswagen</td>\n",
       "      <td>vanagon</td>\n",
       "      <td>1991</td>\n",
       "      <td>regular_unleaded</td>\n",
       "      <td>90.0</td>\n",
       "      <td>4.0</td>\n",
       "      <td>manual</td>\n",
       "      <td>rear_wheel_drive</td>\n",
       "      <td>3.0</td>\n",
       "      <td>NaN</td>\n",
       "      <td>large</td>\n",
       "      <td>passenger_minivan</td>\n",
       "      <td>18</td>\n",
       "      <td>16</td>\n",
       "      <td>873</td>\n",
       "      <td>0.0</td>\n",
       "      <td>1.0</td>\n",
       "      <td>0.0</td>\n",
       "    </tr>\n",
       "    <tr>\n",
       "      <th>4</th>\n",
       "      <td>ford</td>\n",
       "      <td>f-150</td>\n",
       "      <td>2017</td>\n",
       "      <td>flex-fuel_(unleaded/e85)</td>\n",
       "      <td>385.0</td>\n",
       "      <td>8.0</td>\n",
       "      <td>automatic</td>\n",
       "      <td>four_wheel_drive</td>\n",
       "      <td>4.0</td>\n",
       "      <td>flex_fuel</td>\n",
       "      <td>large</td>\n",
       "      <td>crew_cab_pickup</td>\n",
       "      <td>21</td>\n",
       "      <td>15</td>\n",
       "      <td>5657</td>\n",
       "      <td>0.0</td>\n",
       "      <td>0.0</td>\n",
       "      <td>1.0</td>\n",
       "    </tr>\n",
       "    <tr>\n",
       "      <th>...</th>\n",
       "      <td>...</td>\n",
       "      <td>...</td>\n",
       "      <td>...</td>\n",
       "      <td>...</td>\n",
       "      <td>...</td>\n",
       "      <td>...</td>\n",
       "      <td>...</td>\n",
       "      <td>...</td>\n",
       "      <td>...</td>\n",
       "      <td>...</td>\n",
       "      <td>...</td>\n",
       "      <td>...</td>\n",
       "      <td>...</td>\n",
       "      <td>...</td>\n",
       "      <td>...</td>\n",
       "      <td>...</td>\n",
       "      <td>...</td>\n",
       "      <td>...</td>\n",
       "    </tr>\n",
       "    <tr>\n",
       "      <th>2377</th>\n",
       "      <td>volvo</td>\n",
       "      <td>v60</td>\n",
       "      <td>2015</td>\n",
       "      <td>regular_unleaded</td>\n",
       "      <td>240.0</td>\n",
       "      <td>4.0</td>\n",
       "      <td>automatic</td>\n",
       "      <td>front_wheel_drive</td>\n",
       "      <td>4.0</td>\n",
       "      <td>luxury</td>\n",
       "      <td>midsize</td>\n",
       "      <td>wagon</td>\n",
       "      <td>37</td>\n",
       "      <td>25</td>\n",
       "      <td>870</td>\n",
       "      <td>NaN</td>\n",
       "      <td>NaN</td>\n",
       "      <td>NaN</td>\n",
       "    </tr>\n",
       "    <tr>\n",
       "      <th>2378</th>\n",
       "      <td>maserati</td>\n",
       "      <td>granturismo_convertible</td>\n",
       "      <td>2015</td>\n",
       "      <td>premium_unleaded_(required)</td>\n",
       "      <td>444.0</td>\n",
       "      <td>8.0</td>\n",
       "      <td>automatic</td>\n",
       "      <td>rear_wheel_drive</td>\n",
       "      <td>2.0</td>\n",
       "      <td>exotic,luxury,high-performance</td>\n",
       "      <td>midsize</td>\n",
       "      <td>convertible</td>\n",
       "      <td>20</td>\n",
       "      <td>13</td>\n",
       "      <td>238</td>\n",
       "      <td>NaN</td>\n",
       "      <td>NaN</td>\n",
       "      <td>NaN</td>\n",
       "    </tr>\n",
       "    <tr>\n",
       "      <th>2379</th>\n",
       "      <td>cadillac</td>\n",
       "      <td>escalade_hybrid</td>\n",
       "      <td>2013</td>\n",
       "      <td>regular_unleaded</td>\n",
       "      <td>332.0</td>\n",
       "      <td>8.0</td>\n",
       "      <td>automatic</td>\n",
       "      <td>rear_wheel_drive</td>\n",
       "      <td>4.0</td>\n",
       "      <td>luxury,hybrid</td>\n",
       "      <td>large</td>\n",
       "      <td>4dr_suv</td>\n",
       "      <td>23</td>\n",
       "      <td>20</td>\n",
       "      <td>1624</td>\n",
       "      <td>NaN</td>\n",
       "      <td>NaN</td>\n",
       "      <td>NaN</td>\n",
       "    </tr>\n",
       "    <tr>\n",
       "      <th>2380</th>\n",
       "      <td>mitsubishi</td>\n",
       "      <td>lancer</td>\n",
       "      <td>2016</td>\n",
       "      <td>regular_unleaded</td>\n",
       "      <td>148.0</td>\n",
       "      <td>4.0</td>\n",
       "      <td>manual</td>\n",
       "      <td>front_wheel_drive</td>\n",
       "      <td>4.0</td>\n",
       "      <td>NaN</td>\n",
       "      <td>compact</td>\n",
       "      <td>sedan</td>\n",
       "      <td>34</td>\n",
       "      <td>24</td>\n",
       "      <td>436</td>\n",
       "      <td>NaN</td>\n",
       "      <td>NaN</td>\n",
       "      <td>NaN</td>\n",
       "    </tr>\n",
       "    <tr>\n",
       "      <th>2381</th>\n",
       "      <td>kia</td>\n",
       "      <td>sorento</td>\n",
       "      <td>2015</td>\n",
       "      <td>regular_unleaded</td>\n",
       "      <td>290.0</td>\n",
       "      <td>6.0</td>\n",
       "      <td>automatic</td>\n",
       "      <td>front_wheel_drive</td>\n",
       "      <td>4.0</td>\n",
       "      <td>crossover</td>\n",
       "      <td>midsize</td>\n",
       "      <td>4dr_suv</td>\n",
       "      <td>25</td>\n",
       "      <td>18</td>\n",
       "      <td>1720</td>\n",
       "      <td>NaN</td>\n",
       "      <td>NaN</td>\n",
       "      <td>NaN</td>\n",
       "    </tr>\n",
       "  </tbody>\n",
       "</table>\n",
       "<p>9532 rows × 18 columns</p>\n",
       "</div>"
      ],
      "text/plain": [
       "            make                    model  year             engine_fuel_type  \\\n",
       "0      chevrolet                   cobalt  2008             regular_unleaded   \n",
       "1         toyota                   matrix  2012             regular_unleaded   \n",
       "2         subaru                  impreza  2016             regular_unleaded   \n",
       "3     volkswagen                  vanagon  1991             regular_unleaded   \n",
       "4           ford                    f-150  2017     flex-fuel_(unleaded/e85)   \n",
       "...          ...                      ...   ...                          ...   \n",
       "2377       volvo                      v60  2015             regular_unleaded   \n",
       "2378    maserati  granturismo_convertible  2015  premium_unleaded_(required)   \n",
       "2379    cadillac          escalade_hybrid  2013             regular_unleaded   \n",
       "2380  mitsubishi                   lancer  2016             regular_unleaded   \n",
       "2381         kia                  sorento  2015             regular_unleaded   \n",
       "\n",
       "      engine_hp  engine_cylinders transmission_type      driven_wheels  \\\n",
       "0         148.0               4.0            manual  front_wheel_drive   \n",
       "1         132.0               4.0         automatic  front_wheel_drive   \n",
       "2         148.0               4.0         automatic    all_wheel_drive   \n",
       "3          90.0               4.0            manual   rear_wheel_drive   \n",
       "4         385.0               8.0         automatic   four_wheel_drive   \n",
       "...         ...               ...               ...                ...   \n",
       "2377      240.0               4.0         automatic  front_wheel_drive   \n",
       "2378      444.0               8.0         automatic   rear_wheel_drive   \n",
       "2379      332.0               8.0         automatic   rear_wheel_drive   \n",
       "2380      148.0               4.0            manual  front_wheel_drive   \n",
       "2381      290.0               6.0         automatic  front_wheel_drive   \n",
       "\n",
       "      number_of_doors                 market_category vehicle_size  \\\n",
       "0                 2.0                             NaN      compact   \n",
       "1                 4.0                       hatchback      compact   \n",
       "2                 4.0                       hatchback      compact   \n",
       "3                 3.0                             NaN        large   \n",
       "4                 4.0                       flex_fuel        large   \n",
       "...               ...                             ...          ...   \n",
       "2377              4.0                          luxury      midsize   \n",
       "2378              2.0  exotic,luxury,high-performance      midsize   \n",
       "2379              4.0                   luxury,hybrid        large   \n",
       "2380              4.0                             NaN      compact   \n",
       "2381              4.0                       crossover      midsize   \n",
       "\n",
       "          vehicle_style  highway_mpg  city_mpg  popularity  num_of_doors_2  \\\n",
       "0                 coupe           33        24        1385             1.0   \n",
       "1         4dr_hatchback           32        25        2031             0.0   \n",
       "2         4dr_hatchback           37        28         640             0.0   \n",
       "3     passenger_minivan           18        16         873             0.0   \n",
       "4       crew_cab_pickup           21        15        5657             0.0   \n",
       "...                 ...          ...       ...         ...             ...   \n",
       "2377              wagon           37        25         870             NaN   \n",
       "2378        convertible           20        13         238             NaN   \n",
       "2379            4dr_suv           23        20        1624             NaN   \n",
       "2380              sedan           34        24         436             NaN   \n",
       "2381            4dr_suv           25        18        1720             NaN   \n",
       "\n",
       "      num_of_doors_3  num_of_doors_4  \n",
       "0                0.0             0.0  \n",
       "1                0.0             1.0  \n",
       "2                0.0             1.0  \n",
       "3                1.0             0.0  \n",
       "4                0.0             1.0  \n",
       "...              ...             ...  \n",
       "2377             NaN             NaN  \n",
       "2378             NaN             NaN  \n",
       "2379             NaN             NaN  \n",
       "2380             NaN             NaN  \n",
       "2381             NaN             NaN  \n",
       "\n",
       "[9532 rows x 18 columns]"
      ]
     },
     "execution_count": 322,
     "metadata": {},
     "output_type": "execute_result"
    }
   ],
   "source": [
    "df_full_train"
   ]
  },
  {
   "cell_type": "code",
   "execution_count": 324,
   "id": "789a73b5",
   "metadata": {},
   "outputs": [
    {
     "data": {
      "text/html": [
       "<div>\n",
       "<style scoped>\n",
       "    .dataframe tbody tr th:only-of-type {\n",
       "        vertical-align: middle;\n",
       "    }\n",
       "\n",
       "    .dataframe tbody tr th {\n",
       "        vertical-align: top;\n",
       "    }\n",
       "\n",
       "    .dataframe thead th {\n",
       "        text-align: right;\n",
       "    }\n",
       "</style>\n",
       "<table border=\"1\" class=\"dataframe\">\n",
       "  <thead>\n",
       "    <tr style=\"text-align: right;\">\n",
       "      <th></th>\n",
       "      <th>make</th>\n",
       "      <th>model</th>\n",
       "      <th>year</th>\n",
       "      <th>engine_fuel_type</th>\n",
       "      <th>engine_hp</th>\n",
       "      <th>engine_cylinders</th>\n",
       "      <th>transmission_type</th>\n",
       "      <th>driven_wheels</th>\n",
       "      <th>number_of_doors</th>\n",
       "      <th>market_category</th>\n",
       "      <th>vehicle_size</th>\n",
       "      <th>vehicle_style</th>\n",
       "      <th>highway_mpg</th>\n",
       "      <th>city_mpg</th>\n",
       "      <th>popularity</th>\n",
       "      <th>num_of_doors_2</th>\n",
       "      <th>num_of_doors_3</th>\n",
       "      <th>num_of_doors_4</th>\n",
       "    </tr>\n",
       "  </thead>\n",
       "  <tbody>\n",
       "    <tr>\n",
       "      <th>0</th>\n",
       "      <td>chevrolet</td>\n",
       "      <td>cobalt</td>\n",
       "      <td>2008</td>\n",
       "      <td>regular_unleaded</td>\n",
       "      <td>148.0</td>\n",
       "      <td>4.0</td>\n",
       "      <td>manual</td>\n",
       "      <td>front_wheel_drive</td>\n",
       "      <td>2.0</td>\n",
       "      <td>NaN</td>\n",
       "      <td>compact</td>\n",
       "      <td>coupe</td>\n",
       "      <td>33</td>\n",
       "      <td>24</td>\n",
       "      <td>1385</td>\n",
       "      <td>1.0</td>\n",
       "      <td>0.0</td>\n",
       "      <td>0.0</td>\n",
       "    </tr>\n",
       "    <tr>\n",
       "      <th>1</th>\n",
       "      <td>toyota</td>\n",
       "      <td>matrix</td>\n",
       "      <td>2012</td>\n",
       "      <td>regular_unleaded</td>\n",
       "      <td>132.0</td>\n",
       "      <td>4.0</td>\n",
       "      <td>automatic</td>\n",
       "      <td>front_wheel_drive</td>\n",
       "      <td>4.0</td>\n",
       "      <td>hatchback</td>\n",
       "      <td>compact</td>\n",
       "      <td>4dr_hatchback</td>\n",
       "      <td>32</td>\n",
       "      <td>25</td>\n",
       "      <td>2031</td>\n",
       "      <td>0.0</td>\n",
       "      <td>0.0</td>\n",
       "      <td>1.0</td>\n",
       "    </tr>\n",
       "    <tr>\n",
       "      <th>2</th>\n",
       "      <td>subaru</td>\n",
       "      <td>impreza</td>\n",
       "      <td>2016</td>\n",
       "      <td>regular_unleaded</td>\n",
       "      <td>148.0</td>\n",
       "      <td>4.0</td>\n",
       "      <td>automatic</td>\n",
       "      <td>all_wheel_drive</td>\n",
       "      <td>4.0</td>\n",
       "      <td>hatchback</td>\n",
       "      <td>compact</td>\n",
       "      <td>4dr_hatchback</td>\n",
       "      <td>37</td>\n",
       "      <td>28</td>\n",
       "      <td>640</td>\n",
       "      <td>0.0</td>\n",
       "      <td>0.0</td>\n",
       "      <td>1.0</td>\n",
       "    </tr>\n",
       "    <tr>\n",
       "      <th>3</th>\n",
       "      <td>volkswagen</td>\n",
       "      <td>vanagon</td>\n",
       "      <td>1991</td>\n",
       "      <td>regular_unleaded</td>\n",
       "      <td>90.0</td>\n",
       "      <td>4.0</td>\n",
       "      <td>manual</td>\n",
       "      <td>rear_wheel_drive</td>\n",
       "      <td>3.0</td>\n",
       "      <td>NaN</td>\n",
       "      <td>large</td>\n",
       "      <td>passenger_minivan</td>\n",
       "      <td>18</td>\n",
       "      <td>16</td>\n",
       "      <td>873</td>\n",
       "      <td>0.0</td>\n",
       "      <td>1.0</td>\n",
       "      <td>0.0</td>\n",
       "    </tr>\n",
       "    <tr>\n",
       "      <th>4</th>\n",
       "      <td>ford</td>\n",
       "      <td>f-150</td>\n",
       "      <td>2017</td>\n",
       "      <td>flex-fuel_(unleaded/e85)</td>\n",
       "      <td>385.0</td>\n",
       "      <td>8.0</td>\n",
       "      <td>automatic</td>\n",
       "      <td>four_wheel_drive</td>\n",
       "      <td>4.0</td>\n",
       "      <td>flex_fuel</td>\n",
       "      <td>large</td>\n",
       "      <td>crew_cab_pickup</td>\n",
       "      <td>21</td>\n",
       "      <td>15</td>\n",
       "      <td>5657</td>\n",
       "      <td>0.0</td>\n",
       "      <td>0.0</td>\n",
       "      <td>1.0</td>\n",
       "    </tr>\n",
       "    <tr>\n",
       "      <th>...</th>\n",
       "      <td>...</td>\n",
       "      <td>...</td>\n",
       "      <td>...</td>\n",
       "      <td>...</td>\n",
       "      <td>...</td>\n",
       "      <td>...</td>\n",
       "      <td>...</td>\n",
       "      <td>...</td>\n",
       "      <td>...</td>\n",
       "      <td>...</td>\n",
       "      <td>...</td>\n",
       "      <td>...</td>\n",
       "      <td>...</td>\n",
       "      <td>...</td>\n",
       "      <td>...</td>\n",
       "      <td>...</td>\n",
       "      <td>...</td>\n",
       "      <td>...</td>\n",
       "    </tr>\n",
       "    <tr>\n",
       "      <th>9527</th>\n",
       "      <td>volvo</td>\n",
       "      <td>v60</td>\n",
       "      <td>2015</td>\n",
       "      <td>regular_unleaded</td>\n",
       "      <td>240.0</td>\n",
       "      <td>4.0</td>\n",
       "      <td>automatic</td>\n",
       "      <td>front_wheel_drive</td>\n",
       "      <td>4.0</td>\n",
       "      <td>luxury</td>\n",
       "      <td>midsize</td>\n",
       "      <td>wagon</td>\n",
       "      <td>37</td>\n",
       "      <td>25</td>\n",
       "      <td>870</td>\n",
       "      <td>NaN</td>\n",
       "      <td>NaN</td>\n",
       "      <td>NaN</td>\n",
       "    </tr>\n",
       "    <tr>\n",
       "      <th>9528</th>\n",
       "      <td>maserati</td>\n",
       "      <td>granturismo_convertible</td>\n",
       "      <td>2015</td>\n",
       "      <td>premium_unleaded_(required)</td>\n",
       "      <td>444.0</td>\n",
       "      <td>8.0</td>\n",
       "      <td>automatic</td>\n",
       "      <td>rear_wheel_drive</td>\n",
       "      <td>2.0</td>\n",
       "      <td>exotic,luxury,high-performance</td>\n",
       "      <td>midsize</td>\n",
       "      <td>convertible</td>\n",
       "      <td>20</td>\n",
       "      <td>13</td>\n",
       "      <td>238</td>\n",
       "      <td>NaN</td>\n",
       "      <td>NaN</td>\n",
       "      <td>NaN</td>\n",
       "    </tr>\n",
       "    <tr>\n",
       "      <th>9529</th>\n",
       "      <td>cadillac</td>\n",
       "      <td>escalade_hybrid</td>\n",
       "      <td>2013</td>\n",
       "      <td>regular_unleaded</td>\n",
       "      <td>332.0</td>\n",
       "      <td>8.0</td>\n",
       "      <td>automatic</td>\n",
       "      <td>rear_wheel_drive</td>\n",
       "      <td>4.0</td>\n",
       "      <td>luxury,hybrid</td>\n",
       "      <td>large</td>\n",
       "      <td>4dr_suv</td>\n",
       "      <td>23</td>\n",
       "      <td>20</td>\n",
       "      <td>1624</td>\n",
       "      <td>NaN</td>\n",
       "      <td>NaN</td>\n",
       "      <td>NaN</td>\n",
       "    </tr>\n",
       "    <tr>\n",
       "      <th>9530</th>\n",
       "      <td>mitsubishi</td>\n",
       "      <td>lancer</td>\n",
       "      <td>2016</td>\n",
       "      <td>regular_unleaded</td>\n",
       "      <td>148.0</td>\n",
       "      <td>4.0</td>\n",
       "      <td>manual</td>\n",
       "      <td>front_wheel_drive</td>\n",
       "      <td>4.0</td>\n",
       "      <td>NaN</td>\n",
       "      <td>compact</td>\n",
       "      <td>sedan</td>\n",
       "      <td>34</td>\n",
       "      <td>24</td>\n",
       "      <td>436</td>\n",
       "      <td>NaN</td>\n",
       "      <td>NaN</td>\n",
       "      <td>NaN</td>\n",
       "    </tr>\n",
       "    <tr>\n",
       "      <th>9531</th>\n",
       "      <td>kia</td>\n",
       "      <td>sorento</td>\n",
       "      <td>2015</td>\n",
       "      <td>regular_unleaded</td>\n",
       "      <td>290.0</td>\n",
       "      <td>6.0</td>\n",
       "      <td>automatic</td>\n",
       "      <td>front_wheel_drive</td>\n",
       "      <td>4.0</td>\n",
       "      <td>crossover</td>\n",
       "      <td>midsize</td>\n",
       "      <td>4dr_suv</td>\n",
       "      <td>25</td>\n",
       "      <td>18</td>\n",
       "      <td>1720</td>\n",
       "      <td>NaN</td>\n",
       "      <td>NaN</td>\n",
       "      <td>NaN</td>\n",
       "    </tr>\n",
       "  </tbody>\n",
       "</table>\n",
       "<p>9532 rows × 18 columns</p>\n",
       "</div>"
      ],
      "text/plain": [
       "            make                    model  year             engine_fuel_type  \\\n",
       "0      chevrolet                   cobalt  2008             regular_unleaded   \n",
       "1         toyota                   matrix  2012             regular_unleaded   \n",
       "2         subaru                  impreza  2016             regular_unleaded   \n",
       "3     volkswagen                  vanagon  1991             regular_unleaded   \n",
       "4           ford                    f-150  2017     flex-fuel_(unleaded/e85)   \n",
       "...          ...                      ...   ...                          ...   \n",
       "9527       volvo                      v60  2015             regular_unleaded   \n",
       "9528    maserati  granturismo_convertible  2015  premium_unleaded_(required)   \n",
       "9529    cadillac          escalade_hybrid  2013             regular_unleaded   \n",
       "9530  mitsubishi                   lancer  2016             regular_unleaded   \n",
       "9531         kia                  sorento  2015             regular_unleaded   \n",
       "\n",
       "      engine_hp  engine_cylinders transmission_type      driven_wheels  \\\n",
       "0         148.0               4.0            manual  front_wheel_drive   \n",
       "1         132.0               4.0         automatic  front_wheel_drive   \n",
       "2         148.0               4.0         automatic    all_wheel_drive   \n",
       "3          90.0               4.0            manual   rear_wheel_drive   \n",
       "4         385.0               8.0         automatic   four_wheel_drive   \n",
       "...         ...               ...               ...                ...   \n",
       "9527      240.0               4.0         automatic  front_wheel_drive   \n",
       "9528      444.0               8.0         automatic   rear_wheel_drive   \n",
       "9529      332.0               8.0         automatic   rear_wheel_drive   \n",
       "9530      148.0               4.0            manual  front_wheel_drive   \n",
       "9531      290.0               6.0         automatic  front_wheel_drive   \n",
       "\n",
       "      number_of_doors                 market_category vehicle_size  \\\n",
       "0                 2.0                             NaN      compact   \n",
       "1                 4.0                       hatchback      compact   \n",
       "2                 4.0                       hatchback      compact   \n",
       "3                 3.0                             NaN        large   \n",
       "4                 4.0                       flex_fuel        large   \n",
       "...               ...                             ...          ...   \n",
       "9527              4.0                          luxury      midsize   \n",
       "9528              2.0  exotic,luxury,high-performance      midsize   \n",
       "9529              4.0                   luxury,hybrid        large   \n",
       "9530              4.0                             NaN      compact   \n",
       "9531              4.0                       crossover      midsize   \n",
       "\n",
       "          vehicle_style  highway_mpg  city_mpg  popularity  num_of_doors_2  \\\n",
       "0                 coupe           33        24        1385             1.0   \n",
       "1         4dr_hatchback           32        25        2031             0.0   \n",
       "2         4dr_hatchback           37        28         640             0.0   \n",
       "3     passenger_minivan           18        16         873             0.0   \n",
       "4       crew_cab_pickup           21        15        5657             0.0   \n",
       "...                 ...          ...       ...         ...             ...   \n",
       "9527              wagon           37        25         870             NaN   \n",
       "9528        convertible           20        13         238             NaN   \n",
       "9529            4dr_suv           23        20        1624             NaN   \n",
       "9530              sedan           34        24         436             NaN   \n",
       "9531            4dr_suv           25        18        1720             NaN   \n",
       "\n",
       "      num_of_doors_3  num_of_doors_4  \n",
       "0                0.0             0.0  \n",
       "1                0.0             1.0  \n",
       "2                0.0             1.0  \n",
       "3                1.0             0.0  \n",
       "4                0.0             1.0  \n",
       "...              ...             ...  \n",
       "9527             NaN             NaN  \n",
       "9528             NaN             NaN  \n",
       "9529             NaN             NaN  \n",
       "9530             NaN             NaN  \n",
       "9531             NaN             NaN  \n",
       "\n",
       "[9532 rows x 18 columns]"
      ]
     },
     "execution_count": 324,
     "metadata": {},
     "output_type": "execute_result"
    }
   ],
   "source": [
    "# reset the combined datasets to show the actual index\n",
    "\n",
    "df_full_train = df_full_train.reset_index(drop=True)\n",
    "df_full_train"
   ]
  },
  {
   "cell_type": "code",
   "execution_count": 325,
   "id": "b51bdeaa",
   "metadata": {},
   "outputs": [],
   "source": [
    "#get the full feature matrix\n",
    "\n",
    "X_full_train = prepare_X(df_full_train)"
   ]
  },
  {
   "cell_type": "code",
   "execution_count": 326,
   "id": "a5aeea56",
   "metadata": {},
   "outputs": [
    {
     "data": {
      "text/plain": [
       "array([[148.,   4.,  33., ...,   1.,   0.,   0.],\n",
       "       [132.,   4.,  32., ...,   0.,   0.,   1.],\n",
       "       [148.,   4.,  37., ...,   0.,   0.,   1.],\n",
       "       ...,\n",
       "       [332.,   8.,  23., ...,   0.,   0.,   0.],\n",
       "       [148.,   4.,  34., ...,   0.,   0.,   0.],\n",
       "       [290.,   6.,  25., ...,   0.,   0.,   0.]])"
      ]
     },
     "execution_count": 326,
     "metadata": {},
     "output_type": "execute_result"
    }
   ],
   "source": [
    "X_full_train"
   ]
  },
  {
   "cell_type": "code",
   "execution_count": 329,
   "id": "ca01a459",
   "metadata": {},
   "outputs": [
    {
     "data": {
      "text/plain": [
       "array([ 9.57574708,  9.887663  ,  9.89323518, ..., 11.21756062,\n",
       "        9.77542688, 10.1924563 ])"
      ]
     },
     "execution_count": 329,
     "metadata": {},
     "output_type": "execute_result"
    }
   ],
   "source": [
    "# combine y dataset\n",
    "\n",
    "y_full_train = np.concatenate([y_train, y_val])\n",
    "y_full_train"
   ]
  },
  {
   "cell_type": "code",
   "execution_count": 332,
   "id": "c4ff9a51",
   "metadata": {},
   "outputs": [],
   "source": [
    "# use the def function of linear regression to train the combined dataset\n",
    "\n",
    "w0, w = train_linear_regression_reg(X_full_train, y_full_train, r=0.01)"
   ]
  },
  {
   "cell_type": "code",
   "execution_count": 335,
   "id": "4e4be6cd",
   "metadata": {},
   "outputs": [
    {
     "data": {
      "text/plain": [
       "(6.354638537027491,\n",
       " array([ 1.62650148e-03,  1.13819989e-01, -6.76391353e-03, -6.11769581e-03,\n",
       "        -5.06325742e-05, -9.81770167e-02, -8.01602006e-01, -9.46247208e-01,\n",
       "        -6.08688842e-01, -4.71243141e-02,  1.81427814e-01,  7.00433448e-03,\n",
       "         4.31016486e-02, -1.23075559e-01, -2.66222782e-01, -6.82242517e-01,\n",
       "        -2.95842313e-01, -3.35383827e-01, -4.06118358e-01, -4.38190623e-01,\n",
       "         9.22901287e-02, -2.94679355e-01, -4.96201852e-01, -4.83419196e-02,\n",
       "         1.07896540e+00,  9.03824871e-01,  1.13475173e+00,  2.72352012e+00,\n",
       "         5.03641526e-01,  1.61752286e+00,  1.54091411e+00,  1.61151535e+00,\n",
       "         1.58007854e+00, -8.30164811e-02,  9.76676488e-02, -5.65113356e-02,\n",
       "         3.16059686e-03, -3.10795856e-02,  2.18798860e+00,  2.07592027e+00,\n",
       "         2.08856433e+00, -9.61686528e-02, -1.35511039e-02,  1.72216924e-01,\n",
       "         3.23268836e-01, -2.05103667e-01]))"
      ]
     },
     "execution_count": 335,
     "metadata": {},
     "output_type": "execute_result"
    }
   ],
   "source": [
    "w0, w                      # the weights and biases after the full trained."
   ]
  },
  {
   "cell_type": "code",
   "execution_count": 336,
   "id": "8e23be1b",
   "metadata": {},
   "outputs": [
    {
     "data": {
      "text/plain": [
       "0.44763897331736785"
      ]
     },
     "execution_count": 336,
     "metadata": {},
     "output_type": "execute_result"
    }
   ],
   "source": [
    "X_test = prepare_X(df_test)\n",
    "#w0, w = train_linear_regression(X_val, y_val,)\n",
    "y_pred = w0 + X_test.dot(w)\n",
    "score = rmse(y_test,y_pred)\n",
    "score"
   ]
  },
  {
   "cell_type": "code",
   "execution_count": 338,
   "id": "30cb16fb",
   "metadata": {},
   "outputs": [
    {
     "data": {
      "text/plain": [
       "0.44764216844639465"
      ]
     },
     "execution_count": 338,
     "metadata": {},
     "output_type": "execute_result"
    }
   ],
   "source": [
    "r = 0.01\n",
    "X_full_train = prepare_X(df_full_train)\n",
    "w0, w = train_linear_regression_reg(X_full_train,y_full_train, r=r)\n",
    "\n",
    "X_test = prepare_X(df_test)\n",
    "#w0, w = train_linear_regression(X_val, y_val,)\n",
    "y_pred = w0 + X_test.dot(w)\n",
    "score = rmse(y_test,y_pred)F\n",
    "score"
   ]
  },
  {
   "cell_type": "markdown",
   "id": "90e3f690",
   "metadata": {},
   "source": [
    "#we test our model to get price of a random car. convert the data to dictionary first and input to our model"
   ]
  },
  {
   "cell_type": "code",
   "execution_count": 341,
   "id": "53a9efbf",
   "metadata": {},
   "outputs": [
    {
     "data": {
      "text/plain": [
       "{'make': 'toyota',\n",
       " 'model': 'sienna',\n",
       " 'year': 2015,\n",
       " 'engine_fuel_type': 'regular_unleaded',\n",
       " 'engine_hp': 266.0,\n",
       " 'engine_cylinders': 6.0,\n",
       " 'transmission_type': 'automatic',\n",
       " 'driven_wheels': 'front_wheel_drive',\n",
       " 'number_of_doors': 4.0,\n",
       " 'market_category': nan,\n",
       " 'vehicle_size': 'large',\n",
       " 'vehicle_style': 'passenger_minivan',\n",
       " 'highway_mpg': 25,\n",
       " 'city_mpg': 18,\n",
       " 'popularity': 2031}"
      ]
     },
     "execution_count": 341,
     "metadata": {},
     "output_type": "execute_result"
    }
   ],
   "source": [
    "car = df_test.iloc[20].to_dict()\n",
    "car"
   ]
  },
  {
   "cell_type": "markdown",
   "id": "7bdfcf33",
   "metadata": {},
   "source": [
    "#make a datafram from car and input into the prepare_X function to get feature matrix"
   ]
  },
  {
   "cell_type": "code",
   "execution_count": 343,
   "id": "1502cba8",
   "metadata": {},
   "outputs": [
    {
     "data": {
      "text/html": [
       "<div>\n",
       "<style scoped>\n",
       "    .dataframe tbody tr th:only-of-type {\n",
       "        vertical-align: middle;\n",
       "    }\n",
       "\n",
       "    .dataframe tbody tr th {\n",
       "        vertical-align: top;\n",
       "    }\n",
       "\n",
       "    .dataframe thead th {\n",
       "        text-align: right;\n",
       "    }\n",
       "</style>\n",
       "<table border=\"1\" class=\"dataframe\">\n",
       "  <thead>\n",
       "    <tr style=\"text-align: right;\">\n",
       "      <th></th>\n",
       "      <th>make</th>\n",
       "      <th>model</th>\n",
       "      <th>year</th>\n",
       "      <th>engine_fuel_type</th>\n",
       "      <th>engine_hp</th>\n",
       "      <th>engine_cylinders</th>\n",
       "      <th>transmission_type</th>\n",
       "      <th>driven_wheels</th>\n",
       "      <th>number_of_doors</th>\n",
       "      <th>market_category</th>\n",
       "      <th>vehicle_size</th>\n",
       "      <th>vehicle_style</th>\n",
       "      <th>highway_mpg</th>\n",
       "      <th>city_mpg</th>\n",
       "      <th>popularity</th>\n",
       "    </tr>\n",
       "  </thead>\n",
       "  <tbody>\n",
       "    <tr>\n",
       "      <th>0</th>\n",
       "      <td>toyota</td>\n",
       "      <td>sienna</td>\n",
       "      <td>2015</td>\n",
       "      <td>regular_unleaded</td>\n",
       "      <td>266.0</td>\n",
       "      <td>6.0</td>\n",
       "      <td>automatic</td>\n",
       "      <td>front_wheel_drive</td>\n",
       "      <td>4.0</td>\n",
       "      <td>NaN</td>\n",
       "      <td>large</td>\n",
       "      <td>passenger_minivan</td>\n",
       "      <td>25</td>\n",
       "      <td>18</td>\n",
       "      <td>2031</td>\n",
       "    </tr>\n",
       "  </tbody>\n",
       "</table>\n",
       "</div>"
      ],
      "text/plain": [
       "     make   model  year  engine_fuel_type  engine_hp  engine_cylinders  \\\n",
       "0  toyota  sienna  2015  regular_unleaded      266.0               6.0   \n",
       "\n",
       "  transmission_type      driven_wheels  number_of_doors  market_category  \\\n",
       "0         automatic  front_wheel_drive              4.0              NaN   \n",
       "\n",
       "  vehicle_size      vehicle_style  highway_mpg  city_mpg  popularity  \n",
       "0        large  passenger_minivan           25        18        2031  "
      ]
     },
     "execution_count": 343,
     "metadata": {},
     "output_type": "execute_result"
    }
   ],
   "source": [
    "df_random_car = pd.DataFrame([car])\n",
    "df_random_car"
   ]
  },
  {
   "cell_type": "code",
   "execution_count": 346,
   "id": "caabcd4c",
   "metadata": {},
   "outputs": [
    {
     "data": {
      "text/plain": [
       "array([[2.660e+02, 6.000e+00, 2.500e+01, 1.800e+01, 2.031e+03, 2.000e+00,\n",
       "        0.000e+00, 0.000e+00, 1.000e+00, 0.000e+00, 0.000e+00, 0.000e+00,\n",
       "        1.000e+00, 0.000e+00, 0.000e+00, 0.000e+00, 0.000e+00, 0.000e+00,\n",
       "        0.000e+00, 1.000e+00, 0.000e+00, 0.000e+00, 0.000e+00, 0.000e+00,\n",
       "        1.000e+00, 0.000e+00, 0.000e+00, 0.000e+00, 0.000e+00, 1.000e+00,\n",
       "        0.000e+00, 0.000e+00, 0.000e+00, 0.000e+00, 0.000e+00, 0.000e+00,\n",
       "        0.000e+00, 0.000e+00, 0.000e+00, 0.000e+00, 1.000e+00, 0.000e+00,\n",
       "        0.000e+00, 0.000e+00, 0.000e+00, 0.000e+00]])"
      ]
     },
     "execution_count": 346,
     "metadata": {},
     "output_type": "execute_result"
    }
   ],
   "source": [
    "X_random_car = prepare_X(df_random_car)\n",
    "X_random_car"
   ]
  },
  {
   "cell_type": "code",
   "execution_count": 350,
   "id": "fde5733e",
   "metadata": {},
   "outputs": [
    {
     "data": {
      "text/plain": [
       "10.672928293011129"
      ]
     },
     "execution_count": 350,
     "metadata": {},
     "output_type": "execute_result"
    }
   ],
   "source": [
    "# get predictions of the car\n",
    "\n",
    "y_pred = w0 + X_random_car.dot(w)\n",
    "y_pred = y_pred[0]\n",
    "y_pred"
   ]
  },
  {
   "cell_type": "code",
   "execution_count": 353,
   "id": "e5626a33",
   "metadata": {},
   "outputs": [
    {
     "data": {
      "text/plain": [
       "43170.174432582346"
      ]
     },
     "execution_count": 353,
     "metadata": {},
     "output_type": "execute_result"
    }
   ],
   "source": [
    "# take the exponential to get the logarithm off\n",
    "\n",
    "np.expm1(y_pred)"
   ]
  },
  {
   "cell_type": "code",
   "execution_count": 354,
   "id": "77fd9428",
   "metadata": {},
   "outputs": [
    {
     "data": {
      "text/plain": [
       "35000.00000000001"
      ]
     },
     "execution_count": 354,
     "metadata": {},
     "output_type": "execute_result"
    }
   ],
   "source": [
    "#compare the predicted price to actual price: note the difference in price \n",
    "\n",
    "np.expm1(y_test[20])"
   ]
  },
  {
   "cell_type": "code",
   "execution_count": null,
   "id": "c06ac7be",
   "metadata": {},
   "outputs": [],
   "source": []
  }
 ],
 "metadata": {
  "kernelspec": {
   "display_name": "Python 3 (ipykernel)",
   "language": "python",
   "name": "python3"
  },
  "language_info": {
   "codemirror_mode": {
    "name": "ipython",
    "version": 3
   },
   "file_extension": ".py",
   "mimetype": "text/x-python",
   "name": "python",
   "nbconvert_exporter": "python",
   "pygments_lexer": "ipython3",
   "version": "3.9.12"
  }
 },
 "nbformat": 4,
 "nbformat_minor": 5
}
