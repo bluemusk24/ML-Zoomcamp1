{
 "cells": [
  {
   "cell_type": "code",
   "execution_count": 1,
   "id": "b8a41e8e",
   "metadata": {},
   "outputs": [],
   "source": [
    "import pandas as pd\n",
    "import numpy as np\n",
    "from matplotlib import pyplot as plt\n",
    "%matplotlib inline\n",
    "import seaborn as sns "
   ]
  },
  {
   "cell_type": "code",
   "execution_count": 2,
   "id": "87b91f3f",
   "metadata": {},
   "outputs": [
    {
     "data": {
      "text/html": [
       "<div>\n",
       "<style scoped>\n",
       "    .dataframe tbody tr th:only-of-type {\n",
       "        vertical-align: middle;\n",
       "    }\n",
       "\n",
       "    .dataframe tbody tr th {\n",
       "        vertical-align: top;\n",
       "    }\n",
       "\n",
       "    .dataframe thead th {\n",
       "        text-align: right;\n",
       "    }\n",
       "</style>\n",
       "<table border=\"1\" class=\"dataframe\">\n",
       "  <thead>\n",
       "    <tr style=\"text-align: right;\">\n",
       "      <th></th>\n",
       "      <th>Make</th>\n",
       "      <th>Model</th>\n",
       "      <th>Year</th>\n",
       "      <th>Engine Fuel Type</th>\n",
       "      <th>Engine HP</th>\n",
       "      <th>Engine Cylinders</th>\n",
       "      <th>Transmission Type</th>\n",
       "      <th>Driven_Wheels</th>\n",
       "      <th>Number of Doors</th>\n",
       "      <th>Market Category</th>\n",
       "      <th>Vehicle Size</th>\n",
       "      <th>Vehicle Style</th>\n",
       "      <th>highway MPG</th>\n",
       "      <th>city mpg</th>\n",
       "      <th>Popularity</th>\n",
       "      <th>MSRP</th>\n",
       "    </tr>\n",
       "  </thead>\n",
       "  <tbody>\n",
       "    <tr>\n",
       "      <th>0</th>\n",
       "      <td>BMW</td>\n",
       "      <td>1 Series M</td>\n",
       "      <td>2011</td>\n",
       "      <td>premium unleaded (required)</td>\n",
       "      <td>335.0</td>\n",
       "      <td>6.0</td>\n",
       "      <td>MANUAL</td>\n",
       "      <td>rear wheel drive</td>\n",
       "      <td>2.0</td>\n",
       "      <td>Factory Tuner,Luxury,High-Performance</td>\n",
       "      <td>Compact</td>\n",
       "      <td>Coupe</td>\n",
       "      <td>26</td>\n",
       "      <td>19</td>\n",
       "      <td>3916</td>\n",
       "      <td>46135</td>\n",
       "    </tr>\n",
       "    <tr>\n",
       "      <th>1</th>\n",
       "      <td>BMW</td>\n",
       "      <td>1 Series</td>\n",
       "      <td>2011</td>\n",
       "      <td>premium unleaded (required)</td>\n",
       "      <td>300.0</td>\n",
       "      <td>6.0</td>\n",
       "      <td>MANUAL</td>\n",
       "      <td>rear wheel drive</td>\n",
       "      <td>2.0</td>\n",
       "      <td>Luxury,Performance</td>\n",
       "      <td>Compact</td>\n",
       "      <td>Convertible</td>\n",
       "      <td>28</td>\n",
       "      <td>19</td>\n",
       "      <td>3916</td>\n",
       "      <td>40650</td>\n",
       "    </tr>\n",
       "    <tr>\n",
       "      <th>2</th>\n",
       "      <td>BMW</td>\n",
       "      <td>1 Series</td>\n",
       "      <td>2011</td>\n",
       "      <td>premium unleaded (required)</td>\n",
       "      <td>300.0</td>\n",
       "      <td>6.0</td>\n",
       "      <td>MANUAL</td>\n",
       "      <td>rear wheel drive</td>\n",
       "      <td>2.0</td>\n",
       "      <td>Luxury,High-Performance</td>\n",
       "      <td>Compact</td>\n",
       "      <td>Coupe</td>\n",
       "      <td>28</td>\n",
       "      <td>20</td>\n",
       "      <td>3916</td>\n",
       "      <td>36350</td>\n",
       "    </tr>\n",
       "    <tr>\n",
       "      <th>3</th>\n",
       "      <td>BMW</td>\n",
       "      <td>1 Series</td>\n",
       "      <td>2011</td>\n",
       "      <td>premium unleaded (required)</td>\n",
       "      <td>230.0</td>\n",
       "      <td>6.0</td>\n",
       "      <td>MANUAL</td>\n",
       "      <td>rear wheel drive</td>\n",
       "      <td>2.0</td>\n",
       "      <td>Luxury,Performance</td>\n",
       "      <td>Compact</td>\n",
       "      <td>Coupe</td>\n",
       "      <td>28</td>\n",
       "      <td>18</td>\n",
       "      <td>3916</td>\n",
       "      <td>29450</td>\n",
       "    </tr>\n",
       "    <tr>\n",
       "      <th>4</th>\n",
       "      <td>BMW</td>\n",
       "      <td>1 Series</td>\n",
       "      <td>2011</td>\n",
       "      <td>premium unleaded (required)</td>\n",
       "      <td>230.0</td>\n",
       "      <td>6.0</td>\n",
       "      <td>MANUAL</td>\n",
       "      <td>rear wheel drive</td>\n",
       "      <td>2.0</td>\n",
       "      <td>Luxury</td>\n",
       "      <td>Compact</td>\n",
       "      <td>Convertible</td>\n",
       "      <td>28</td>\n",
       "      <td>18</td>\n",
       "      <td>3916</td>\n",
       "      <td>34500</td>\n",
       "    </tr>\n",
       "  </tbody>\n",
       "</table>\n",
       "</div>"
      ],
      "text/plain": [
       "  Make       Model  Year             Engine Fuel Type  Engine HP  \\\n",
       "0  BMW  1 Series M  2011  premium unleaded (required)      335.0   \n",
       "1  BMW    1 Series  2011  premium unleaded (required)      300.0   \n",
       "2  BMW    1 Series  2011  premium unleaded (required)      300.0   \n",
       "3  BMW    1 Series  2011  premium unleaded (required)      230.0   \n",
       "4  BMW    1 Series  2011  premium unleaded (required)      230.0   \n",
       "\n",
       "   Engine Cylinders Transmission Type     Driven_Wheels  Number of Doors  \\\n",
       "0               6.0            MANUAL  rear wheel drive              2.0   \n",
       "1               6.0            MANUAL  rear wheel drive              2.0   \n",
       "2               6.0            MANUAL  rear wheel drive              2.0   \n",
       "3               6.0            MANUAL  rear wheel drive              2.0   \n",
       "4               6.0            MANUAL  rear wheel drive              2.0   \n",
       "\n",
       "                         Market Category Vehicle Size Vehicle Style  \\\n",
       "0  Factory Tuner,Luxury,High-Performance      Compact         Coupe   \n",
       "1                     Luxury,Performance      Compact   Convertible   \n",
       "2                Luxury,High-Performance      Compact         Coupe   \n",
       "3                     Luxury,Performance      Compact         Coupe   \n",
       "4                                 Luxury      Compact   Convertible   \n",
       "\n",
       "   highway MPG  city mpg  Popularity   MSRP  \n",
       "0           26        19        3916  46135  \n",
       "1           28        19        3916  40650  \n",
       "2           28        20        3916  36350  \n",
       "3           28        18        3916  29450  \n",
       "4           28        18        3916  34500  "
      ]
     },
     "execution_count": 2,
     "metadata": {},
     "output_type": "execute_result"
    }
   ],
   "source": [
    "df = pd.read_csv(\"C:\\\\Users\\\\emman\\\\Desktop\\\\ML-Zoomcamp  projects\\\\car price prediction data.csv\")\n",
    "df.head()"
   ]
  },
  {
   "cell_type": "code",
   "execution_count": 3,
   "id": "a7a9b7cb",
   "metadata": {},
   "outputs": [
    {
     "data": {
      "text/plain": [
       "Index(['Make', 'Model', 'Year', 'Engine Fuel Type', 'Engine HP',\n",
       "       'Engine Cylinders', 'Transmission Type', 'Driven_Wheels',\n",
       "       'Number of Doors', 'Market Category', 'Vehicle Size', 'Vehicle Style',\n",
       "       'highway MPG', 'city mpg', 'Popularity', 'MSRP'],\n",
       "      dtype='object')"
      ]
     },
     "execution_count": 3,
     "metadata": {},
     "output_type": "execute_result"
    }
   ],
   "source": [
    "df.columns"
   ]
  },
  {
   "cell_type": "code",
   "execution_count": 4,
   "id": "af9c1bbf",
   "metadata": {},
   "outputs": [],
   "source": [
    "data = df.drop(['Engine Fuel Type','Driven_Wheels',\n",
    "       'Number of Doors', 'Market Category', 'Vehicle Size', 'Popularity'], axis=1)"
   ]
  },
  {
   "cell_type": "code",
   "execution_count": 5,
   "id": "aa14b5e6",
   "metadata": {},
   "outputs": [
    {
     "data": {
      "text/html": [
       "<div>\n",
       "<style scoped>\n",
       "    .dataframe tbody tr th:only-of-type {\n",
       "        vertical-align: middle;\n",
       "    }\n",
       "\n",
       "    .dataframe tbody tr th {\n",
       "        vertical-align: top;\n",
       "    }\n",
       "\n",
       "    .dataframe thead th {\n",
       "        text-align: right;\n",
       "    }\n",
       "</style>\n",
       "<table border=\"1\" class=\"dataframe\">\n",
       "  <thead>\n",
       "    <tr style=\"text-align: right;\">\n",
       "      <th></th>\n",
       "      <th>Make</th>\n",
       "      <th>Model</th>\n",
       "      <th>Year</th>\n",
       "      <th>Engine HP</th>\n",
       "      <th>Engine Cylinders</th>\n",
       "      <th>Transmission Type</th>\n",
       "      <th>Vehicle Style</th>\n",
       "      <th>highway MPG</th>\n",
       "      <th>city mpg</th>\n",
       "      <th>MSRP</th>\n",
       "    </tr>\n",
       "  </thead>\n",
       "  <tbody>\n",
       "    <tr>\n",
       "      <th>0</th>\n",
       "      <td>BMW</td>\n",
       "      <td>1 Series M</td>\n",
       "      <td>2011</td>\n",
       "      <td>335.0</td>\n",
       "      <td>6.0</td>\n",
       "      <td>MANUAL</td>\n",
       "      <td>Coupe</td>\n",
       "      <td>26</td>\n",
       "      <td>19</td>\n",
       "      <td>46135</td>\n",
       "    </tr>\n",
       "    <tr>\n",
       "      <th>1</th>\n",
       "      <td>BMW</td>\n",
       "      <td>1 Series</td>\n",
       "      <td>2011</td>\n",
       "      <td>300.0</td>\n",
       "      <td>6.0</td>\n",
       "      <td>MANUAL</td>\n",
       "      <td>Convertible</td>\n",
       "      <td>28</td>\n",
       "      <td>19</td>\n",
       "      <td>40650</td>\n",
       "    </tr>\n",
       "    <tr>\n",
       "      <th>2</th>\n",
       "      <td>BMW</td>\n",
       "      <td>1 Series</td>\n",
       "      <td>2011</td>\n",
       "      <td>300.0</td>\n",
       "      <td>6.0</td>\n",
       "      <td>MANUAL</td>\n",
       "      <td>Coupe</td>\n",
       "      <td>28</td>\n",
       "      <td>20</td>\n",
       "      <td>36350</td>\n",
       "    </tr>\n",
       "    <tr>\n",
       "      <th>3</th>\n",
       "      <td>BMW</td>\n",
       "      <td>1 Series</td>\n",
       "      <td>2011</td>\n",
       "      <td>230.0</td>\n",
       "      <td>6.0</td>\n",
       "      <td>MANUAL</td>\n",
       "      <td>Coupe</td>\n",
       "      <td>28</td>\n",
       "      <td>18</td>\n",
       "      <td>29450</td>\n",
       "    </tr>\n",
       "    <tr>\n",
       "      <th>4</th>\n",
       "      <td>BMW</td>\n",
       "      <td>1 Series</td>\n",
       "      <td>2011</td>\n",
       "      <td>230.0</td>\n",
       "      <td>6.0</td>\n",
       "      <td>MANUAL</td>\n",
       "      <td>Convertible</td>\n",
       "      <td>28</td>\n",
       "      <td>18</td>\n",
       "      <td>34500</td>\n",
       "    </tr>\n",
       "  </tbody>\n",
       "</table>\n",
       "</div>"
      ],
      "text/plain": [
       "  Make       Model  Year  Engine HP  Engine Cylinders Transmission Type  \\\n",
       "0  BMW  1 Series M  2011      335.0               6.0            MANUAL   \n",
       "1  BMW    1 Series  2011      300.0               6.0            MANUAL   \n",
       "2  BMW    1 Series  2011      300.0               6.0            MANUAL   \n",
       "3  BMW    1 Series  2011      230.0               6.0            MANUAL   \n",
       "4  BMW    1 Series  2011      230.0               6.0            MANUAL   \n",
       "\n",
       "  Vehicle Style  highway MPG  city mpg   MSRP  \n",
       "0         Coupe           26        19  46135  \n",
       "1   Convertible           28        19  40650  \n",
       "2         Coupe           28        20  36350  \n",
       "3         Coupe           28        18  29450  \n",
       "4   Convertible           28        18  34500  "
      ]
     },
     "execution_count": 5,
     "metadata": {},
     "output_type": "execute_result"
    }
   ],
   "source": [
    "data.head()"
   ]
  },
  {
   "cell_type": "markdown",
   "id": "0cdb0a35",
   "metadata": {},
   "source": [
    "# Data Preparation:"
   ]
  },
  {
   "cell_type": "markdown",
   "id": "05e33688",
   "metadata": {},
   "source": [
    "#Select only the features from above and transform their names and records to lower cases"
   ]
  },
  {
   "cell_type": "code",
   "execution_count": 6,
   "id": "84729410",
   "metadata": {},
   "outputs": [
    {
     "data": {
      "text/html": [
       "<div>\n",
       "<style scoped>\n",
       "    .dataframe tbody tr th:only-of-type {\n",
       "        vertical-align: middle;\n",
       "    }\n",
       "\n",
       "    .dataframe tbody tr th {\n",
       "        vertical-align: top;\n",
       "    }\n",
       "\n",
       "    .dataframe thead th {\n",
       "        text-align: right;\n",
       "    }\n",
       "</style>\n",
       "<table border=\"1\" class=\"dataframe\">\n",
       "  <thead>\n",
       "    <tr style=\"text-align: right;\">\n",
       "      <th></th>\n",
       "      <th>make</th>\n",
       "      <th>model</th>\n",
       "      <th>year</th>\n",
       "      <th>engine_hp</th>\n",
       "      <th>engine_cylinders</th>\n",
       "      <th>transmission_type</th>\n",
       "      <th>vehicle_style</th>\n",
       "      <th>highway_mpg</th>\n",
       "      <th>city_mpg</th>\n",
       "      <th>msrp</th>\n",
       "    </tr>\n",
       "  </thead>\n",
       "  <tbody>\n",
       "    <tr>\n",
       "      <th>0</th>\n",
       "      <td>BMW</td>\n",
       "      <td>1 Series M</td>\n",
       "      <td>2011</td>\n",
       "      <td>335.0</td>\n",
       "      <td>6.0</td>\n",
       "      <td>MANUAL</td>\n",
       "      <td>Coupe</td>\n",
       "      <td>26</td>\n",
       "      <td>19</td>\n",
       "      <td>46135</td>\n",
       "    </tr>\n",
       "    <tr>\n",
       "      <th>1</th>\n",
       "      <td>BMW</td>\n",
       "      <td>1 Series</td>\n",
       "      <td>2011</td>\n",
       "      <td>300.0</td>\n",
       "      <td>6.0</td>\n",
       "      <td>MANUAL</td>\n",
       "      <td>Convertible</td>\n",
       "      <td>28</td>\n",
       "      <td>19</td>\n",
       "      <td>40650</td>\n",
       "    </tr>\n",
       "    <tr>\n",
       "      <th>2</th>\n",
       "      <td>BMW</td>\n",
       "      <td>1 Series</td>\n",
       "      <td>2011</td>\n",
       "      <td>300.0</td>\n",
       "      <td>6.0</td>\n",
       "      <td>MANUAL</td>\n",
       "      <td>Coupe</td>\n",
       "      <td>28</td>\n",
       "      <td>20</td>\n",
       "      <td>36350</td>\n",
       "    </tr>\n",
       "    <tr>\n",
       "      <th>3</th>\n",
       "      <td>BMW</td>\n",
       "      <td>1 Series</td>\n",
       "      <td>2011</td>\n",
       "      <td>230.0</td>\n",
       "      <td>6.0</td>\n",
       "      <td>MANUAL</td>\n",
       "      <td>Coupe</td>\n",
       "      <td>28</td>\n",
       "      <td>18</td>\n",
       "      <td>29450</td>\n",
       "    </tr>\n",
       "    <tr>\n",
       "      <th>4</th>\n",
       "      <td>BMW</td>\n",
       "      <td>1 Series</td>\n",
       "      <td>2011</td>\n",
       "      <td>230.0</td>\n",
       "      <td>6.0</td>\n",
       "      <td>MANUAL</td>\n",
       "      <td>Convertible</td>\n",
       "      <td>28</td>\n",
       "      <td>18</td>\n",
       "      <td>34500</td>\n",
       "    </tr>\n",
       "  </tbody>\n",
       "</table>\n",
       "</div>"
      ],
      "text/plain": [
       "  make       model  year  engine_hp  engine_cylinders transmission_type  \\\n",
       "0  BMW  1 Series M  2011      335.0               6.0            MANUAL   \n",
       "1  BMW    1 Series  2011      300.0               6.0            MANUAL   \n",
       "2  BMW    1 Series  2011      300.0               6.0            MANUAL   \n",
       "3  BMW    1 Series  2011      230.0               6.0            MANUAL   \n",
       "4  BMW    1 Series  2011      230.0               6.0            MANUAL   \n",
       "\n",
       "  vehicle_style  highway_mpg  city_mpg   msrp  \n",
       "0         Coupe           26        19  46135  \n",
       "1   Convertible           28        19  40650  \n",
       "2         Coupe           28        20  36350  \n",
       "3         Coupe           28        18  29450  \n",
       "4   Convertible           28        18  34500  "
      ]
     },
     "execution_count": 6,
     "metadata": {},
     "output_type": "execute_result"
    }
   ],
   "source": [
    "data.columns = data.columns.str.lower().str.replace(' ','_')\n",
    "data.head()"
   ]
  },
  {
   "cell_type": "code",
   "execution_count": 7,
   "id": "743b2e4e",
   "metadata": {},
   "outputs": [
    {
     "data": {
      "text/plain": [
       "['make', 'model', 'transmission_type', 'vehicle_style']"
      ]
     },
     "execution_count": 7,
     "metadata": {},
     "output_type": "execute_result"
    }
   ],
   "source": [
    "categorical_features = list(data.dtypes[data.dtypes == 'object'].index)\n",
    "categorical_features"
   ]
  },
  {
   "cell_type": "code",
   "execution_count": 8,
   "id": "bea68be7",
   "metadata": {},
   "outputs": [],
   "source": [
    "for c in categorical_features:\n",
    "    data[c] = data[c].str.lower().str.replace(' ','_')"
   ]
  },
  {
   "cell_type": "code",
   "execution_count": 9,
   "id": "36eb50f6",
   "metadata": {},
   "outputs": [
    {
     "data": {
      "text/html": [
       "<div>\n",
       "<style scoped>\n",
       "    .dataframe tbody tr th:only-of-type {\n",
       "        vertical-align: middle;\n",
       "    }\n",
       "\n",
       "    .dataframe tbody tr th {\n",
       "        vertical-align: top;\n",
       "    }\n",
       "\n",
       "    .dataframe thead th {\n",
       "        text-align: right;\n",
       "    }\n",
       "</style>\n",
       "<table border=\"1\" class=\"dataframe\">\n",
       "  <thead>\n",
       "    <tr style=\"text-align: right;\">\n",
       "      <th></th>\n",
       "      <th>make</th>\n",
       "      <th>model</th>\n",
       "      <th>year</th>\n",
       "      <th>engine_hp</th>\n",
       "      <th>engine_cylinders</th>\n",
       "      <th>transmission_type</th>\n",
       "      <th>vehicle_style</th>\n",
       "      <th>highway_mpg</th>\n",
       "      <th>city_mpg</th>\n",
       "      <th>msrp</th>\n",
       "    </tr>\n",
       "  </thead>\n",
       "  <tbody>\n",
       "    <tr>\n",
       "      <th>0</th>\n",
       "      <td>bmw</td>\n",
       "      <td>1_series_m</td>\n",
       "      <td>2011</td>\n",
       "      <td>335.0</td>\n",
       "      <td>6.0</td>\n",
       "      <td>manual</td>\n",
       "      <td>coupe</td>\n",
       "      <td>26</td>\n",
       "      <td>19</td>\n",
       "      <td>46135</td>\n",
       "    </tr>\n",
       "    <tr>\n",
       "      <th>1</th>\n",
       "      <td>bmw</td>\n",
       "      <td>1_series</td>\n",
       "      <td>2011</td>\n",
       "      <td>300.0</td>\n",
       "      <td>6.0</td>\n",
       "      <td>manual</td>\n",
       "      <td>convertible</td>\n",
       "      <td>28</td>\n",
       "      <td>19</td>\n",
       "      <td>40650</td>\n",
       "    </tr>\n",
       "    <tr>\n",
       "      <th>2</th>\n",
       "      <td>bmw</td>\n",
       "      <td>1_series</td>\n",
       "      <td>2011</td>\n",
       "      <td>300.0</td>\n",
       "      <td>6.0</td>\n",
       "      <td>manual</td>\n",
       "      <td>coupe</td>\n",
       "      <td>28</td>\n",
       "      <td>20</td>\n",
       "      <td>36350</td>\n",
       "    </tr>\n",
       "    <tr>\n",
       "      <th>3</th>\n",
       "      <td>bmw</td>\n",
       "      <td>1_series</td>\n",
       "      <td>2011</td>\n",
       "      <td>230.0</td>\n",
       "      <td>6.0</td>\n",
       "      <td>manual</td>\n",
       "      <td>coupe</td>\n",
       "      <td>28</td>\n",
       "      <td>18</td>\n",
       "      <td>29450</td>\n",
       "    </tr>\n",
       "    <tr>\n",
       "      <th>4</th>\n",
       "      <td>bmw</td>\n",
       "      <td>1_series</td>\n",
       "      <td>2011</td>\n",
       "      <td>230.0</td>\n",
       "      <td>6.0</td>\n",
       "      <td>manual</td>\n",
       "      <td>convertible</td>\n",
       "      <td>28</td>\n",
       "      <td>18</td>\n",
       "      <td>34500</td>\n",
       "    </tr>\n",
       "  </tbody>\n",
       "</table>\n",
       "</div>"
      ],
      "text/plain": [
       "  make       model  year  engine_hp  engine_cylinders transmission_type  \\\n",
       "0  bmw  1_series_m  2011      335.0               6.0            manual   \n",
       "1  bmw    1_series  2011      300.0               6.0            manual   \n",
       "2  bmw    1_series  2011      300.0               6.0            manual   \n",
       "3  bmw    1_series  2011      230.0               6.0            manual   \n",
       "4  bmw    1_series  2011      230.0               6.0            manual   \n",
       "\n",
       "  vehicle_style  highway_mpg  city_mpg   msrp  \n",
       "0         coupe           26        19  46135  \n",
       "1   convertible           28        19  40650  \n",
       "2         coupe           28        20  36350  \n",
       "3         coupe           28        18  29450  \n",
       "4   convertible           28        18  34500  "
      ]
     },
     "execution_count": 9,
     "metadata": {},
     "output_type": "execute_result"
    }
   ],
   "source": [
    "data.head()"
   ]
  },
  {
   "cell_type": "markdown",
   "id": "9350e8ae",
   "metadata": {},
   "source": [
    "#Fill in the missing values of the selected features with 0."
   ]
  },
  {
   "cell_type": "code",
   "execution_count": 10,
   "id": "119ad5e0",
   "metadata": {},
   "outputs": [
    {
     "data": {
      "text/plain": [
       "make                  0\n",
       "model                 0\n",
       "year                  0\n",
       "engine_hp            69\n",
       "engine_cylinders     30\n",
       "transmission_type     0\n",
       "vehicle_style         0\n",
       "highway_mpg           0\n",
       "city_mpg              0\n",
       "msrp                  0\n",
       "dtype: int64"
      ]
     },
     "execution_count": 10,
     "metadata": {},
     "output_type": "execute_result"
    }
   ],
   "source": [
    "data.isnull().sum()             # missing values of features"
   ]
  },
  {
   "cell_type": "code",
   "execution_count": 11,
   "id": "74d265a8",
   "metadata": {},
   "outputs": [
    {
     "data": {
      "text/plain": [
       "make                 0\n",
       "model                0\n",
       "year                 0\n",
       "engine_hp            0\n",
       "engine_cylinders     0\n",
       "transmission_type    0\n",
       "vehicle_style        0\n",
       "highway_mpg          0\n",
       "city_mpg             0\n",
       "msrp                 0\n",
       "dtype: int64"
      ]
     },
     "execution_count": 11,
     "metadata": {},
     "output_type": "execute_result"
    }
   ],
   "source": [
    "data = data.fillna(0)               # filled values of features\n",
    "data.isnull().sum()"
   ]
  },
  {
   "cell_type": "markdown",
   "id": "7e2fcaf3",
   "metadata": {},
   "source": [
    "#Rename MSRP variable to price."
   ]
  },
  {
   "cell_type": "code",
   "execution_count": 12,
   "id": "b29b0a38",
   "metadata": {},
   "outputs": [
    {
     "data": {
      "text/html": [
       "<div>\n",
       "<style scoped>\n",
       "    .dataframe tbody tr th:only-of-type {\n",
       "        vertical-align: middle;\n",
       "    }\n",
       "\n",
       "    .dataframe tbody tr th {\n",
       "        vertical-align: top;\n",
       "    }\n",
       "\n",
       "    .dataframe thead th {\n",
       "        text-align: right;\n",
       "    }\n",
       "</style>\n",
       "<table border=\"1\" class=\"dataframe\">\n",
       "  <thead>\n",
       "    <tr style=\"text-align: right;\">\n",
       "      <th></th>\n",
       "      <th>make</th>\n",
       "      <th>model</th>\n",
       "      <th>year</th>\n",
       "      <th>engine_hp</th>\n",
       "      <th>engine_cylinders</th>\n",
       "      <th>transmission_type</th>\n",
       "      <th>vehicle_style</th>\n",
       "      <th>highway_mpg</th>\n",
       "      <th>city_mpg</th>\n",
       "      <th>price</th>\n",
       "    </tr>\n",
       "  </thead>\n",
       "  <tbody>\n",
       "    <tr>\n",
       "      <th>0</th>\n",
       "      <td>bmw</td>\n",
       "      <td>1_series_m</td>\n",
       "      <td>2011</td>\n",
       "      <td>335.0</td>\n",
       "      <td>6.0</td>\n",
       "      <td>manual</td>\n",
       "      <td>coupe</td>\n",
       "      <td>26</td>\n",
       "      <td>19</td>\n",
       "      <td>46135</td>\n",
       "    </tr>\n",
       "    <tr>\n",
       "      <th>1</th>\n",
       "      <td>bmw</td>\n",
       "      <td>1_series</td>\n",
       "      <td>2011</td>\n",
       "      <td>300.0</td>\n",
       "      <td>6.0</td>\n",
       "      <td>manual</td>\n",
       "      <td>convertible</td>\n",
       "      <td>28</td>\n",
       "      <td>19</td>\n",
       "      <td>40650</td>\n",
       "    </tr>\n",
       "    <tr>\n",
       "      <th>2</th>\n",
       "      <td>bmw</td>\n",
       "      <td>1_series</td>\n",
       "      <td>2011</td>\n",
       "      <td>300.0</td>\n",
       "      <td>6.0</td>\n",
       "      <td>manual</td>\n",
       "      <td>coupe</td>\n",
       "      <td>28</td>\n",
       "      <td>20</td>\n",
       "      <td>36350</td>\n",
       "    </tr>\n",
       "    <tr>\n",
       "      <th>3</th>\n",
       "      <td>bmw</td>\n",
       "      <td>1_series</td>\n",
       "      <td>2011</td>\n",
       "      <td>230.0</td>\n",
       "      <td>6.0</td>\n",
       "      <td>manual</td>\n",
       "      <td>coupe</td>\n",
       "      <td>28</td>\n",
       "      <td>18</td>\n",
       "      <td>29450</td>\n",
       "    </tr>\n",
       "    <tr>\n",
       "      <th>4</th>\n",
       "      <td>bmw</td>\n",
       "      <td>1_series</td>\n",
       "      <td>2011</td>\n",
       "      <td>230.0</td>\n",
       "      <td>6.0</td>\n",
       "      <td>manual</td>\n",
       "      <td>convertible</td>\n",
       "      <td>28</td>\n",
       "      <td>18</td>\n",
       "      <td>34500</td>\n",
       "    </tr>\n",
       "  </tbody>\n",
       "</table>\n",
       "</div>"
      ],
      "text/plain": [
       "  make       model  year  engine_hp  engine_cylinders transmission_type  \\\n",
       "0  bmw  1_series_m  2011      335.0               6.0            manual   \n",
       "1  bmw    1_series  2011      300.0               6.0            manual   \n",
       "2  bmw    1_series  2011      300.0               6.0            manual   \n",
       "3  bmw    1_series  2011      230.0               6.0            manual   \n",
       "4  bmw    1_series  2011      230.0               6.0            manual   \n",
       "\n",
       "  vehicle_style  highway_mpg  city_mpg  price  \n",
       "0         coupe           26        19  46135  \n",
       "1   convertible           28        19  40650  \n",
       "2         coupe           28        20  36350  \n",
       "3         coupe           28        18  29450  \n",
       "4   convertible           28        18  34500  "
      ]
     },
     "execution_count": 12,
     "metadata": {},
     "output_type": "execute_result"
    }
   ],
   "source": [
    "data = data.rename(columns={'msrp':'price'})\n",
    "data.head()"
   ]
  },
  {
   "cell_type": "markdown",
   "id": "086cd8f5",
   "metadata": {},
   "source": [
    "#1. What is the most frequent observation (mode) for the column transmission_type?"
   ]
  },
  {
   "cell_type": "code",
   "execution_count": 13,
   "id": "02f3127f",
   "metadata": {},
   "outputs": [
    {
     "data": {
      "text/plain": [
       "0    automatic\n",
       "Name: transmission_type, dtype: object"
      ]
     },
     "execution_count": 13,
     "metadata": {},
     "output_type": "execute_result"
    }
   ],
   "source": [
    "data['transmission_type'].mode()"
   ]
  },
  {
   "cell_type": "markdown",
   "id": "b3b4a1d6",
   "metadata": {},
   "source": [
    "#2. Create the correlation matrix for the numerical features of your dataset. In a correlation matrix, you compute the correlation coefficient between every pair of features in the dataset. What are the two features that have the biggest correlation in this dataset?"
   ]
  },
  {
   "cell_type": "code",
   "execution_count": 14,
   "id": "b92f6814",
   "metadata": {},
   "outputs": [
    {
     "data": {
      "text/plain": [
       "make                  object\n",
       "model                 object\n",
       "year                   int64\n",
       "engine_hp            float64\n",
       "engine_cylinders     float64\n",
       "transmission_type     object\n",
       "vehicle_style         object\n",
       "highway_mpg            int64\n",
       "city_mpg               int64\n",
       "price                  int64\n",
       "dtype: object"
      ]
     },
     "execution_count": 14,
     "metadata": {},
     "output_type": "execute_result"
    }
   ],
   "source": [
    "data.dtypes"
   ]
  },
  {
   "cell_type": "code",
   "execution_count": 15,
   "id": "95b319c5",
   "metadata": {},
   "outputs": [
    {
     "data": {
      "text/plain": [
       "['year', 'engine_hp', 'engine_cylinders', 'highway_mpg', 'city_mpg']"
      ]
     },
     "execution_count": 15,
     "metadata": {},
     "output_type": "execute_result"
    }
   ],
   "source": [
    "numerical_features = ['year','engine_hp','engine_cylinders','highway_mpg','city_mpg']\n",
    "numerical_features"
   ]
  },
  {
   "cell_type": "code",
   "execution_count": 16,
   "id": "e098f136",
   "metadata": {},
   "outputs": [
    {
     "data": {
      "text/plain": [
       "year                0.227590\n",
       "engine_hp           0.650095\n",
       "engine_cylinders    0.526274\n",
       "highway_mpg        -0.160043\n",
       "city_mpg           -0.157676\n",
       "dtype: float64"
      ]
     },
     "execution_count": 16,
     "metadata": {},
     "output_type": "execute_result"
    }
   ],
   "source": [
    "data[numerical_features].corrwith(data['price'])"
   ]
  },
  {
   "cell_type": "markdown",
   "id": "bdba7967",
   "metadata": {},
   "source": [
    "#Now we need to turn the price variable from numeric into a binary format.\n",
    "\n",
    "#Let's create a variable above_average which is 1 if the price is above its mean value and 0 otherwise."
   ]
  },
  {
   "cell_type": "code",
   "execution_count": 17,
   "id": "caa9365f",
   "metadata": {},
   "outputs": [
    {
     "data": {
      "text/plain": [
       "40594.737032063116"
      ]
     },
     "execution_count": 17,
     "metadata": {},
     "output_type": "execute_result"
    }
   ],
   "source": [
    "data['price'].mean()"
   ]
  },
  {
   "cell_type": "code",
   "execution_count": 18,
   "id": "a90beee5",
   "metadata": {},
   "outputs": [
    {
     "data": {
      "text/html": [
       "<div>\n",
       "<style scoped>\n",
       "    .dataframe tbody tr th:only-of-type {\n",
       "        vertical-align: middle;\n",
       "    }\n",
       "\n",
       "    .dataframe tbody tr th {\n",
       "        vertical-align: top;\n",
       "    }\n",
       "\n",
       "    .dataframe thead th {\n",
       "        text-align: right;\n",
       "    }\n",
       "</style>\n",
       "<table border=\"1\" class=\"dataframe\">\n",
       "  <thead>\n",
       "    <tr style=\"text-align: right;\">\n",
       "      <th></th>\n",
       "      <th>make</th>\n",
       "      <th>model</th>\n",
       "      <th>year</th>\n",
       "      <th>engine_hp</th>\n",
       "      <th>engine_cylinders</th>\n",
       "      <th>transmission_type</th>\n",
       "      <th>vehicle_style</th>\n",
       "      <th>highway_mpg</th>\n",
       "      <th>city_mpg</th>\n",
       "      <th>price</th>\n",
       "      <th>above_average</th>\n",
       "    </tr>\n",
       "  </thead>\n",
       "  <tbody>\n",
       "    <tr>\n",
       "      <th>10090</th>\n",
       "      <td>pontiac</td>\n",
       "      <td>sunfire</td>\n",
       "      <td>2004</td>\n",
       "      <td>140.0</td>\n",
       "      <td>4.0</td>\n",
       "      <td>manual</td>\n",
       "      <td>coupe</td>\n",
       "      <td>33</td>\n",
       "      <td>23</td>\n",
       "      <td>14930</td>\n",
       "      <td>0</td>\n",
       "    </tr>\n",
       "    <tr>\n",
       "      <th>412</th>\n",
       "      <td>bmw</td>\n",
       "      <td>4_series_gran_coupe</td>\n",
       "      <td>2015</td>\n",
       "      <td>240.0</td>\n",
       "      <td>4.0</td>\n",
       "      <td>automatic</td>\n",
       "      <td>sedan</td>\n",
       "      <td>34</td>\n",
       "      <td>23</td>\n",
       "      <td>40300</td>\n",
       "      <td>0</td>\n",
       "    </tr>\n",
       "    <tr>\n",
       "      <th>2671</th>\n",
       "      <td>chevrolet</td>\n",
       "      <td>c/k_2500_series</td>\n",
       "      <td>1998</td>\n",
       "      <td>255.0</td>\n",
       "      <td>8.0</td>\n",
       "      <td>manual</td>\n",
       "      <td>extended_cab_pickup</td>\n",
       "      <td>18</td>\n",
       "      <td>12</td>\n",
       "      <td>3360</td>\n",
       "      <td>0</td>\n",
       "    </tr>\n",
       "    <tr>\n",
       "      <th>1991</th>\n",
       "      <td>pontiac</td>\n",
       "      <td>bonneville</td>\n",
       "      <td>2005</td>\n",
       "      <td>275.0</td>\n",
       "      <td>8.0</td>\n",
       "      <td>automatic</td>\n",
       "      <td>sedan</td>\n",
       "      <td>22</td>\n",
       "      <td>15</td>\n",
       "      <td>35585</td>\n",
       "      <td>0</td>\n",
       "    </tr>\n",
       "    <tr>\n",
       "      <th>6447</th>\n",
       "      <td>subaru</td>\n",
       "      <td>loyale</td>\n",
       "      <td>1993</td>\n",
       "      <td>90.0</td>\n",
       "      <td>4.0</td>\n",
       "      <td>manual</td>\n",
       "      <td>wagon</td>\n",
       "      <td>26</td>\n",
       "      <td>21</td>\n",
       "      <td>2000</td>\n",
       "      <td>0</td>\n",
       "    </tr>\n",
       "    <tr>\n",
       "      <th>1773</th>\n",
       "      <td>subaru</td>\n",
       "      <td>b9_tribeca</td>\n",
       "      <td>2007</td>\n",
       "      <td>245.0</td>\n",
       "      <td>6.0</td>\n",
       "      <td>automatic</td>\n",
       "      <td>4dr_suv</td>\n",
       "      <td>21</td>\n",
       "      <td>16</td>\n",
       "      <td>35495</td>\n",
       "      <td>0</td>\n",
       "    </tr>\n",
       "    <tr>\n",
       "      <th>7774</th>\n",
       "      <td>infiniti</td>\n",
       "      <td>q50</td>\n",
       "      <td>2015</td>\n",
       "      <td>328.0</td>\n",
       "      <td>6.0</td>\n",
       "      <td>automatic</td>\n",
       "      <td>sedan</td>\n",
       "      <td>29</td>\n",
       "      <td>20</td>\n",
       "      <td>43650</td>\n",
       "      <td>1</td>\n",
       "    </tr>\n",
       "  </tbody>\n",
       "</table>\n",
       "</div>"
      ],
      "text/plain": [
       "            make                model  year  engine_hp  engine_cylinders  \\\n",
       "10090    pontiac              sunfire  2004      140.0               4.0   \n",
       "412          bmw  4_series_gran_coupe  2015      240.0               4.0   \n",
       "2671   chevrolet      c/k_2500_series  1998      255.0               8.0   \n",
       "1991     pontiac           bonneville  2005      275.0               8.0   \n",
       "6447      subaru               loyale  1993       90.0               4.0   \n",
       "1773      subaru           b9_tribeca  2007      245.0               6.0   \n",
       "7774    infiniti                  q50  2015      328.0               6.0   \n",
       "\n",
       "      transmission_type        vehicle_style  highway_mpg  city_mpg  price  \\\n",
       "10090            manual                coupe           33        23  14930   \n",
       "412           automatic                sedan           34        23  40300   \n",
       "2671             manual  extended_cab_pickup           18        12   3360   \n",
       "1991          automatic                sedan           22        15  35585   \n",
       "6447             manual                wagon           26        21   2000   \n",
       "1773          automatic              4dr_suv           21        16  35495   \n",
       "7774          automatic                sedan           29        20  43650   \n",
       "\n",
       "       above_average  \n",
       "10090              0  \n",
       "412                0  \n",
       "2671               0  \n",
       "1991               0  \n",
       "6447               0  \n",
       "1773               0  \n",
       "7774               1  "
      ]
     },
     "execution_count": 18,
     "metadata": {},
     "output_type": "execute_result"
    }
   ],
   "source": [
    "data['above_average'] = data['price'] / data['price'].mean()\n",
    "data['above_average'] = (data['above_average'] > 1).astype(int)\n",
    "data.sample(7)"
   ]
  },
  {
   "cell_type": "markdown",
   "id": "d542652c",
   "metadata": {},
   "source": [
    "#Split your data in train/val/test sets with 60%/20%/20% distribution.\n",
    "\n",
    "#Use Scikit-Learn for that (the train_test_split function) and set the seed to 42.\n",
    "\n",
    "#Make sure that the target value (above_average) is not in your dataframe."
   ]
  },
  {
   "cell_type": "code",
   "execution_count": 19,
   "id": "7ade65a0",
   "metadata": {},
   "outputs": [],
   "source": [
    "from sklearn.model_selection import train_test_split"
   ]
  },
  {
   "cell_type": "code",
   "execution_count": 20,
   "id": "dbcb9eb5",
   "metadata": {},
   "outputs": [],
   "source": [
    "data_full_train, data_test = train_test_split(data, test_size=0.2, random_state=42)"
   ]
  },
  {
   "cell_type": "code",
   "execution_count": 21,
   "id": "07b4c4c7",
   "metadata": {},
   "outputs": [
    {
     "data": {
      "text/plain": [
       "(9531, 2383)"
      ]
     },
     "execution_count": 21,
     "metadata": {},
     "output_type": "execute_result"
    }
   ],
   "source": [
    "len(data_full_train), len(data_test)"
   ]
  },
  {
   "cell_type": "code",
   "execution_count": 22,
   "id": "0ae2fa75",
   "metadata": {},
   "outputs": [],
   "source": [
    "data_train, data_val = train_test_split(data_full_train, test_size=0.25, random_state=42)"
   ]
  },
  {
   "cell_type": "code",
   "execution_count": 23,
   "id": "ae0f1559",
   "metadata": {},
   "outputs": [
    {
     "data": {
      "text/plain": [
       "(7148, 2383)"
      ]
     },
     "execution_count": 23,
     "metadata": {},
     "output_type": "execute_result"
    }
   ],
   "source": [
    "len(data_train), len(data_val)"
   ]
  },
  {
   "cell_type": "code",
   "execution_count": 24,
   "id": "95dc7852",
   "metadata": {},
   "outputs": [],
   "source": [
    "data_train = data_train.reset_index(drop=True)"
   ]
  },
  {
   "cell_type": "code",
   "execution_count": 25,
   "id": "d3c2fba5",
   "metadata": {},
   "outputs": [],
   "source": [
    "data_val = data_val.reset_index(drop=True)"
   ]
  },
  {
   "cell_type": "code",
   "execution_count": 26,
   "id": "88fb5d13",
   "metadata": {},
   "outputs": [],
   "source": [
    "data_test = data_test.reset_index(drop=True)"
   ]
  },
  {
   "cell_type": "code",
   "execution_count": 27,
   "id": "1a994902",
   "metadata": {},
   "outputs": [
    {
     "data": {
      "text/html": [
       "<div>\n",
       "<style scoped>\n",
       "    .dataframe tbody tr th:only-of-type {\n",
       "        vertical-align: middle;\n",
       "    }\n",
       "\n",
       "    .dataframe tbody tr th {\n",
       "        vertical-align: top;\n",
       "    }\n",
       "\n",
       "    .dataframe thead th {\n",
       "        text-align: right;\n",
       "    }\n",
       "</style>\n",
       "<table border=\"1\" class=\"dataframe\">\n",
       "  <thead>\n",
       "    <tr style=\"text-align: right;\">\n",
       "      <th></th>\n",
       "      <th>make</th>\n",
       "      <th>model</th>\n",
       "      <th>year</th>\n",
       "      <th>engine_hp</th>\n",
       "      <th>engine_cylinders</th>\n",
       "      <th>transmission_type</th>\n",
       "      <th>vehicle_style</th>\n",
       "      <th>highway_mpg</th>\n",
       "      <th>city_mpg</th>\n",
       "      <th>price</th>\n",
       "      <th>above_average</th>\n",
       "    </tr>\n",
       "  </thead>\n",
       "  <tbody>\n",
       "    <tr>\n",
       "      <th>0</th>\n",
       "      <td>mitsubishi</td>\n",
       "      <td>endeavor</td>\n",
       "      <td>2011</td>\n",
       "      <td>225.0</td>\n",
       "      <td>6.0</td>\n",
       "      <td>automatic</td>\n",
       "      <td>4dr_suv</td>\n",
       "      <td>19</td>\n",
       "      <td>15</td>\n",
       "      <td>33599</td>\n",
       "      <td>0</td>\n",
       "    </tr>\n",
       "    <tr>\n",
       "      <th>1</th>\n",
       "      <td>kia</td>\n",
       "      <td>borrego</td>\n",
       "      <td>2009</td>\n",
       "      <td>276.0</td>\n",
       "      <td>6.0</td>\n",
       "      <td>automatic</td>\n",
       "      <td>4dr_suv</td>\n",
       "      <td>21</td>\n",
       "      <td>17</td>\n",
       "      <td>26245</td>\n",
       "      <td>0</td>\n",
       "    </tr>\n",
       "    <tr>\n",
       "      <th>2</th>\n",
       "      <td>lamborghini</td>\n",
       "      <td>gallardo</td>\n",
       "      <td>2012</td>\n",
       "      <td>570.0</td>\n",
       "      <td>10.0</td>\n",
       "      <td>manual</td>\n",
       "      <td>convertible</td>\n",
       "      <td>20</td>\n",
       "      <td>12</td>\n",
       "      <td>248000</td>\n",
       "      <td>1</td>\n",
       "    </tr>\n",
       "    <tr>\n",
       "      <th>3</th>\n",
       "      <td>chevrolet</td>\n",
       "      <td>colorado</td>\n",
       "      <td>2016</td>\n",
       "      <td>200.0</td>\n",
       "      <td>4.0</td>\n",
       "      <td>automatic</td>\n",
       "      <td>crew_cab_pickup</td>\n",
       "      <td>27</td>\n",
       "      <td>20</td>\n",
       "      <td>24990</td>\n",
       "      <td>0</td>\n",
       "    </tr>\n",
       "    <tr>\n",
       "      <th>4</th>\n",
       "      <td>pontiac</td>\n",
       "      <td>vibe</td>\n",
       "      <td>2009</td>\n",
       "      <td>158.0</td>\n",
       "      <td>4.0</td>\n",
       "      <td>automatic</td>\n",
       "      <td>4dr_hatchback</td>\n",
       "      <td>26</td>\n",
       "      <td>20</td>\n",
       "      <td>20475</td>\n",
       "      <td>0</td>\n",
       "    </tr>\n",
       "  </tbody>\n",
       "</table>\n",
       "</div>"
      ],
      "text/plain": [
       "          make     model  year  engine_hp  engine_cylinders transmission_type  \\\n",
       "0   mitsubishi  endeavor  2011      225.0               6.0         automatic   \n",
       "1          kia   borrego  2009      276.0               6.0         automatic   \n",
       "2  lamborghini  gallardo  2012      570.0              10.0            manual   \n",
       "3    chevrolet  colorado  2016      200.0               4.0         automatic   \n",
       "4      pontiac      vibe  2009      158.0               4.0         automatic   \n",
       "\n",
       "     vehicle_style  highway_mpg  city_mpg   price  above_average  \n",
       "0          4dr_suv           19        15   33599              0  \n",
       "1          4dr_suv           21        17   26245              0  \n",
       "2      convertible           20        12  248000              1  \n",
       "3  crew_cab_pickup           27        20   24990              0  \n",
       "4    4dr_hatchback           26        20   20475              0  "
      ]
     },
     "execution_count": 27,
     "metadata": {},
     "output_type": "execute_result"
    }
   ],
   "source": [
    "data_train.head()"
   ]
  },
  {
   "cell_type": "code",
   "execution_count": 28,
   "id": "7a416077",
   "metadata": {},
   "outputs": [
    {
     "data": {
      "text/html": [
       "<div>\n",
       "<style scoped>\n",
       "    .dataframe tbody tr th:only-of-type {\n",
       "        vertical-align: middle;\n",
       "    }\n",
       "\n",
       "    .dataframe tbody tr th {\n",
       "        vertical-align: top;\n",
       "    }\n",
       "\n",
       "    .dataframe thead th {\n",
       "        text-align: right;\n",
       "    }\n",
       "</style>\n",
       "<table border=\"1\" class=\"dataframe\">\n",
       "  <thead>\n",
       "    <tr style=\"text-align: right;\">\n",
       "      <th></th>\n",
       "      <th>make</th>\n",
       "      <th>model</th>\n",
       "      <th>year</th>\n",
       "      <th>engine_hp</th>\n",
       "      <th>engine_cylinders</th>\n",
       "      <th>transmission_type</th>\n",
       "      <th>vehicle_style</th>\n",
       "      <th>highway_mpg</th>\n",
       "      <th>city_mpg</th>\n",
       "      <th>price</th>\n",
       "      <th>above_average</th>\n",
       "    </tr>\n",
       "  </thead>\n",
       "  <tbody>\n",
       "    <tr>\n",
       "      <th>0</th>\n",
       "      <td>volkswagen</td>\n",
       "      <td>beetle</td>\n",
       "      <td>2015</td>\n",
       "      <td>210.0</td>\n",
       "      <td>4.0</td>\n",
       "      <td>manual</td>\n",
       "      <td>2dr_hatchback</td>\n",
       "      <td>31</td>\n",
       "      <td>23</td>\n",
       "      <td>28675</td>\n",
       "      <td>0</td>\n",
       "    </tr>\n",
       "    <tr>\n",
       "      <th>1</th>\n",
       "      <td>audi</td>\n",
       "      <td>sq5</td>\n",
       "      <td>2015</td>\n",
       "      <td>354.0</td>\n",
       "      <td>6.0</td>\n",
       "      <td>automatic</td>\n",
       "      <td>4dr_suv</td>\n",
       "      <td>24</td>\n",
       "      <td>17</td>\n",
       "      <td>60200</td>\n",
       "      <td>1</td>\n",
       "    </tr>\n",
       "    <tr>\n",
       "      <th>2</th>\n",
       "      <td>pontiac</td>\n",
       "      <td>grand_am</td>\n",
       "      <td>2005</td>\n",
       "      <td>140.0</td>\n",
       "      <td>4.0</td>\n",
       "      <td>automatic</td>\n",
       "      <td>sedan</td>\n",
       "      <td>31</td>\n",
       "      <td>22</td>\n",
       "      <td>20090</td>\n",
       "      <td>0</td>\n",
       "    </tr>\n",
       "    <tr>\n",
       "      <th>3</th>\n",
       "      <td>nissan</td>\n",
       "      <td>350z</td>\n",
       "      <td>2009</td>\n",
       "      <td>306.0</td>\n",
       "      <td>6.0</td>\n",
       "      <td>manual</td>\n",
       "      <td>convertible</td>\n",
       "      <td>24</td>\n",
       "      <td>17</td>\n",
       "      <td>39220</td>\n",
       "      <td>0</td>\n",
       "    </tr>\n",
       "    <tr>\n",
       "      <th>4</th>\n",
       "      <td>ford</td>\n",
       "      <td>e-150</td>\n",
       "      <td>1996</td>\n",
       "      <td>199.0</td>\n",
       "      <td>6.0</td>\n",
       "      <td>automatic</td>\n",
       "      <td>passenger_van</td>\n",
       "      <td>15</td>\n",
       "      <td>11</td>\n",
       "      <td>2000</td>\n",
       "      <td>0</td>\n",
       "    </tr>\n",
       "  </tbody>\n",
       "</table>\n",
       "</div>"
      ],
      "text/plain": [
       "         make     model  year  engine_hp  engine_cylinders transmission_type  \\\n",
       "0  volkswagen    beetle  2015      210.0               4.0            manual   \n",
       "1        audi       sq5  2015      354.0               6.0         automatic   \n",
       "2     pontiac  grand_am  2005      140.0               4.0         automatic   \n",
       "3      nissan      350z  2009      306.0               6.0            manual   \n",
       "4        ford     e-150  1996      199.0               6.0         automatic   \n",
       "\n",
       "   vehicle_style  highway_mpg  city_mpg  price  above_average  \n",
       "0  2dr_hatchback           31        23  28675              0  \n",
       "1        4dr_suv           24        17  60200              1  \n",
       "2          sedan           31        22  20090              0  \n",
       "3    convertible           24        17  39220              0  \n",
       "4  passenger_van           15        11   2000              0  "
      ]
     },
     "execution_count": 28,
     "metadata": {},
     "output_type": "execute_result"
    }
   ],
   "source": [
    "data_val.head()"
   ]
  },
  {
   "cell_type": "code",
   "execution_count": 29,
   "id": "4d4a47bd",
   "metadata": {},
   "outputs": [
    {
     "data": {
      "text/html": [
       "<div>\n",
       "<style scoped>\n",
       "    .dataframe tbody tr th:only-of-type {\n",
       "        vertical-align: middle;\n",
       "    }\n",
       "\n",
       "    .dataframe tbody tr th {\n",
       "        vertical-align: top;\n",
       "    }\n",
       "\n",
       "    .dataframe thead th {\n",
       "        text-align: right;\n",
       "    }\n",
       "</style>\n",
       "<table border=\"1\" class=\"dataframe\">\n",
       "  <thead>\n",
       "    <tr style=\"text-align: right;\">\n",
       "      <th></th>\n",
       "      <th>make</th>\n",
       "      <th>model</th>\n",
       "      <th>year</th>\n",
       "      <th>engine_hp</th>\n",
       "      <th>engine_cylinders</th>\n",
       "      <th>transmission_type</th>\n",
       "      <th>vehicle_style</th>\n",
       "      <th>highway_mpg</th>\n",
       "      <th>city_mpg</th>\n",
       "      <th>price</th>\n",
       "      <th>above_average</th>\n",
       "    </tr>\n",
       "  </thead>\n",
       "  <tbody>\n",
       "    <tr>\n",
       "      <th>0</th>\n",
       "      <td>gmc</td>\n",
       "      <td>envoy_xl</td>\n",
       "      <td>2005</td>\n",
       "      <td>275.0</td>\n",
       "      <td>6.0</td>\n",
       "      <td>automatic</td>\n",
       "      <td>4dr_suv</td>\n",
       "      <td>18</td>\n",
       "      <td>13</td>\n",
       "      <td>29695</td>\n",
       "      <td>0</td>\n",
       "    </tr>\n",
       "    <tr>\n",
       "      <th>1</th>\n",
       "      <td>volkswagen</td>\n",
       "      <td>passat</td>\n",
       "      <td>2016</td>\n",
       "      <td>170.0</td>\n",
       "      <td>4.0</td>\n",
       "      <td>automatic</td>\n",
       "      <td>sedan</td>\n",
       "      <td>38</td>\n",
       "      <td>25</td>\n",
       "      <td>30495</td>\n",
       "      <td>0</td>\n",
       "    </tr>\n",
       "    <tr>\n",
       "      <th>2</th>\n",
       "      <td>honda</td>\n",
       "      <td>odyssey</td>\n",
       "      <td>2016</td>\n",
       "      <td>248.0</td>\n",
       "      <td>6.0</td>\n",
       "      <td>automatic</td>\n",
       "      <td>passenger_minivan</td>\n",
       "      <td>28</td>\n",
       "      <td>19</td>\n",
       "      <td>37650</td>\n",
       "      <td>0</td>\n",
       "    </tr>\n",
       "    <tr>\n",
       "      <th>3</th>\n",
       "      <td>chevrolet</td>\n",
       "      <td>cruze</td>\n",
       "      <td>2015</td>\n",
       "      <td>138.0</td>\n",
       "      <td>4.0</td>\n",
       "      <td>manual</td>\n",
       "      <td>sedan</td>\n",
       "      <td>36</td>\n",
       "      <td>25</td>\n",
       "      <td>16170</td>\n",
       "      <td>0</td>\n",
       "    </tr>\n",
       "    <tr>\n",
       "      <th>4</th>\n",
       "      <td>volvo</td>\n",
       "      <td>740</td>\n",
       "      <td>1991</td>\n",
       "      <td>162.0</td>\n",
       "      <td>4.0</td>\n",
       "      <td>automatic</td>\n",
       "      <td>sedan</td>\n",
       "      <td>20</td>\n",
       "      <td>17</td>\n",
       "      <td>2000</td>\n",
       "      <td>0</td>\n",
       "    </tr>\n",
       "  </tbody>\n",
       "</table>\n",
       "</div>"
      ],
      "text/plain": [
       "         make     model  year  engine_hp  engine_cylinders transmission_type  \\\n",
       "0         gmc  envoy_xl  2005      275.0               6.0         automatic   \n",
       "1  volkswagen    passat  2016      170.0               4.0         automatic   \n",
       "2       honda   odyssey  2016      248.0               6.0         automatic   \n",
       "3   chevrolet     cruze  2015      138.0               4.0            manual   \n",
       "4       volvo       740  1991      162.0               4.0         automatic   \n",
       "\n",
       "       vehicle_style  highway_mpg  city_mpg  price  above_average  \n",
       "0            4dr_suv           18        13  29695              0  \n",
       "1              sedan           38        25  30495              0  \n",
       "2  passenger_minivan           28        19  37650              0  \n",
       "3              sedan           36        25  16170              0  \n",
       "4              sedan           20        17   2000              0  "
      ]
     },
     "execution_count": 29,
     "metadata": {},
     "output_type": "execute_result"
    }
   ],
   "source": [
    "data_test.head()"
   ]
  },
  {
   "cell_type": "code",
   "execution_count": 30,
   "id": "970a285c",
   "metadata": {},
   "outputs": [],
   "source": [
    "y_train = data_train['above_average'].values\n",
    "y_val = data_val['above_average'].values\n",
    "y_test = data_test['above_average']. values"
   ]
  },
  {
   "cell_type": "code",
   "execution_count": 31,
   "id": "2ab8a4c1",
   "metadata": {},
   "outputs": [],
   "source": [
    "del data_train['above_average']\n",
    "del data_val['above_average']\n",
    "del data_test['above_average']"
   ]
  },
  {
   "cell_type": "code",
   "execution_count": 32,
   "id": "8fa97487",
   "metadata": {},
   "outputs": [
    {
     "data": {
      "text/plain": [
       "make                 0\n",
       "model                0\n",
       "year                 0\n",
       "engine_hp            0\n",
       "engine_cylinders     0\n",
       "transmission_type    0\n",
       "vehicle_style        0\n",
       "highway_mpg          0\n",
       "city_mpg             0\n",
       "price                0\n",
       "above_average        0\n",
       "dtype: int64"
      ]
     },
     "execution_count": 32,
     "metadata": {},
     "output_type": "execute_result"
    }
   ],
   "source": [
    "data_full_train = data_full_train.reset_index(drop=True)\n",
    "data_full_train.isnull().sum()"
   ]
  },
  {
   "cell_type": "code",
   "execution_count": 33,
   "id": "80debbeb",
   "metadata": {},
   "outputs": [
    {
     "data": {
      "text/html": [
       "<div>\n",
       "<style scoped>\n",
       "    .dataframe tbody tr th:only-of-type {\n",
       "        vertical-align: middle;\n",
       "    }\n",
       "\n",
       "    .dataframe tbody tr th {\n",
       "        vertical-align: top;\n",
       "    }\n",
       "\n",
       "    .dataframe thead th {\n",
       "        text-align: right;\n",
       "    }\n",
       "</style>\n",
       "<table border=\"1\" class=\"dataframe\">\n",
       "  <thead>\n",
       "    <tr style=\"text-align: right;\">\n",
       "      <th></th>\n",
       "      <th>make</th>\n",
       "      <th>model</th>\n",
       "      <th>year</th>\n",
       "      <th>engine_hp</th>\n",
       "      <th>engine_cylinders</th>\n",
       "      <th>transmission_type</th>\n",
       "      <th>vehicle_style</th>\n",
       "      <th>highway_mpg</th>\n",
       "      <th>city_mpg</th>\n",
       "      <th>price</th>\n",
       "      <th>above_average</th>\n",
       "    </tr>\n",
       "  </thead>\n",
       "  <tbody>\n",
       "    <tr>\n",
       "      <th>0</th>\n",
       "      <td>cadillac</td>\n",
       "      <td>ct6</td>\n",
       "      <td>2016</td>\n",
       "      <td>265.0</td>\n",
       "      <td>4.0</td>\n",
       "      <td>automatic</td>\n",
       "      <td>sedan</td>\n",
       "      <td>31</td>\n",
       "      <td>22</td>\n",
       "      <td>53495</td>\n",
       "      <td>1</td>\n",
       "    </tr>\n",
       "    <tr>\n",
       "      <th>1</th>\n",
       "      <td>mercedes-benz</td>\n",
       "      <td>gls-class</td>\n",
       "      <td>2017</td>\n",
       "      <td>449.0</td>\n",
       "      <td>8.0</td>\n",
       "      <td>automatic</td>\n",
       "      <td>4dr_suv</td>\n",
       "      <td>18</td>\n",
       "      <td>14</td>\n",
       "      <td>93850</td>\n",
       "      <td>1</td>\n",
       "    </tr>\n",
       "    <tr>\n",
       "      <th>2</th>\n",
       "      <td>kia</td>\n",
       "      <td>forte</td>\n",
       "      <td>2016</td>\n",
       "      <td>173.0</td>\n",
       "      <td>4.0</td>\n",
       "      <td>automatic</td>\n",
       "      <td>coupe</td>\n",
       "      <td>34</td>\n",
       "      <td>25</td>\n",
       "      <td>19890</td>\n",
       "      <td>0</td>\n",
       "    </tr>\n",
       "    <tr>\n",
       "      <th>3</th>\n",
       "      <td>dodge</td>\n",
       "      <td>ram_250</td>\n",
       "      <td>1993</td>\n",
       "      <td>180.0</td>\n",
       "      <td>6.0</td>\n",
       "      <td>manual</td>\n",
       "      <td>regular_cab_pickup</td>\n",
       "      <td>16</td>\n",
       "      <td>11</td>\n",
       "      <td>2000</td>\n",
       "      <td>0</td>\n",
       "    </tr>\n",
       "    <tr>\n",
       "      <th>4</th>\n",
       "      <td>hyundai</td>\n",
       "      <td>tiburon</td>\n",
       "      <td>2008</td>\n",
       "      <td>172.0</td>\n",
       "      <td>6.0</td>\n",
       "      <td>automatic</td>\n",
       "      <td>2dr_hatchback</td>\n",
       "      <td>24</td>\n",
       "      <td>17</td>\n",
       "      <td>21270</td>\n",
       "      <td>0</td>\n",
       "    </tr>\n",
       "  </tbody>\n",
       "</table>\n",
       "</div>"
      ],
      "text/plain": [
       "            make      model  year  engine_hp  engine_cylinders  \\\n",
       "0       cadillac        ct6  2016      265.0               4.0   \n",
       "1  mercedes-benz  gls-class  2017      449.0               8.0   \n",
       "2            kia      forte  2016      173.0               4.0   \n",
       "3          dodge    ram_250  1993      180.0               6.0   \n",
       "4        hyundai    tiburon  2008      172.0               6.0   \n",
       "\n",
       "  transmission_type       vehicle_style  highway_mpg  city_mpg  price  \\\n",
       "0         automatic               sedan           31        22  53495   \n",
       "1         automatic             4dr_suv           18        14  93850   \n",
       "2         automatic               coupe           34        25  19890   \n",
       "3            manual  regular_cab_pickup           16        11   2000   \n",
       "4         automatic       2dr_hatchback           24        17  21270   \n",
       "\n",
       "   above_average  \n",
       "0              1  \n",
       "1              1  \n",
       "2              0  \n",
       "3              0  \n",
       "4              0  "
      ]
     },
     "execution_count": 33,
     "metadata": {},
     "output_type": "execute_result"
    }
   ],
   "source": [
    "data_full_train.head()"
   ]
  },
  {
   "cell_type": "code",
   "execution_count": 34,
   "id": "8853e2e0",
   "metadata": {},
   "outputs": [
    {
     "data": {
      "text/plain": [
       "0    6893\n",
       "1    2638\n",
       "Name: above_average, dtype: int64"
      ]
     },
     "execution_count": 34,
     "metadata": {},
     "output_type": "execute_result"
    }
   ],
   "source": [
    "data_full_train['above_average'].value_counts()"
   ]
  },
  {
   "cell_type": "code",
   "execution_count": 35,
   "id": "5ac6bcc6",
   "metadata": {},
   "outputs": [
    {
     "data": {
      "text/plain": [
       "0    0.723219\n",
       "1    0.276781\n",
       "Name: above_average, dtype: float64"
      ]
     },
     "execution_count": 35,
     "metadata": {},
     "output_type": "execute_result"
    }
   ],
   "source": [
    "data_full_train['above_average'].value_counts(normalize=True)"
   ]
  },
  {
   "cell_type": "markdown",
   "id": "bbc665d5",
   "metadata": {},
   "source": [
    "#3. Calculate the mutual information score between above_average and other categorical variables in our dataset. Use the training set only. Round the scores to 2 decimals using round(score, 2)."
   ]
  },
  {
   "cell_type": "code",
   "execution_count": 36,
   "id": "cc92d2fd",
   "metadata": {},
   "outputs": [
    {
     "data": {
      "text/plain": [
       "0.28"
      ]
     },
     "execution_count": 36,
     "metadata": {},
     "output_type": "execute_result"
    }
   ],
   "source": [
    "global_above_avg_rate = data_full_train['above_average'].mean()\n",
    "round(global_above_avg_rate,2)"
   ]
  },
  {
   "cell_type": "code",
   "execution_count": 37,
   "id": "17721dec",
   "metadata": {},
   "outputs": [
    {
     "data": {
      "text/plain": [
       "['make', 'model', 'transmission_type', 'vehicle_style']"
      ]
     },
     "execution_count": 37,
     "metadata": {},
     "output_type": "execute_result"
    }
   ],
   "source": [
    "categorical_features = list(data_full_train.dtypes[data_full_train.dtypes == 'object'].index)\n",
    "categorical_features"
   ]
  },
  {
   "cell_type": "code",
   "execution_count": 38,
   "id": "8c0e799a",
   "metadata": {},
   "outputs": [],
   "source": [
    "from IPython.display import display"
   ]
  },
  {
   "cell_type": "code",
   "execution_count": 39,
   "id": "18dea771",
   "metadata": {},
   "outputs": [
    {
     "name": "stdout",
     "output_type": "stream",
     "text": [
      "make\n"
     ]
    },
    {
     "data": {
      "text/html": [
       "<div>\n",
       "<style scoped>\n",
       "    .dataframe tbody tr th:only-of-type {\n",
       "        vertical-align: middle;\n",
       "    }\n",
       "\n",
       "    .dataframe tbody tr th {\n",
       "        vertical-align: top;\n",
       "    }\n",
       "\n",
       "    .dataframe thead th {\n",
       "        text-align: right;\n",
       "    }\n",
       "</style>\n",
       "<table border=\"1\" class=\"dataframe\">\n",
       "  <thead>\n",
       "    <tr style=\"text-align: right;\">\n",
       "      <th></th>\n",
       "      <th>mean</th>\n",
       "      <th>count</th>\n",
       "      <th>diff</th>\n",
       "      <th>risk</th>\n",
       "    </tr>\n",
       "    <tr>\n",
       "      <th>make</th>\n",
       "      <th></th>\n",
       "      <th></th>\n",
       "      <th></th>\n",
       "      <th></th>\n",
       "    </tr>\n",
       "  </thead>\n",
       "  <tbody>\n",
       "    <tr>\n",
       "      <th>acura</th>\n",
       "      <td>0.391089</td>\n",
       "      <td>202</td>\n",
       "      <td>0.114308</td>\n",
       "      <td>1.412991</td>\n",
       "    </tr>\n",
       "    <tr>\n",
       "      <th>alfa_romeo</th>\n",
       "      <td>1.000000</td>\n",
       "      <td>5</td>\n",
       "      <td>0.723219</td>\n",
       "      <td>3.612964</td>\n",
       "    </tr>\n",
       "    <tr>\n",
       "      <th>aston_martin</th>\n",
       "      <td>1.000000</td>\n",
       "      <td>74</td>\n",
       "      <td>0.723219</td>\n",
       "      <td>3.612964</td>\n",
       "    </tr>\n",
       "    <tr>\n",
       "      <th>audi</th>\n",
       "      <td>0.654412</td>\n",
       "      <td>272</td>\n",
       "      <td>0.377631</td>\n",
       "      <td>2.364366</td>\n",
       "    </tr>\n",
       "    <tr>\n",
       "      <th>bentley</th>\n",
       "      <td>1.000000</td>\n",
       "      <td>55</td>\n",
       "      <td>0.723219</td>\n",
       "      <td>3.612964</td>\n",
       "    </tr>\n",
       "    <tr>\n",
       "      <th>bmw</th>\n",
       "      <td>0.822064</td>\n",
       "      <td>281</td>\n",
       "      <td>0.545283</td>\n",
       "      <td>2.970088</td>\n",
       "    </tr>\n",
       "    <tr>\n",
       "      <th>bugatti</th>\n",
       "      <td>1.000000</td>\n",
       "      <td>3</td>\n",
       "      <td>0.723219</td>\n",
       "      <td>3.612964</td>\n",
       "    </tr>\n",
       "    <tr>\n",
       "      <th>buick</th>\n",
       "      <td>0.123377</td>\n",
       "      <td>154</td>\n",
       "      <td>-0.153404</td>\n",
       "      <td>0.445755</td>\n",
       "    </tr>\n",
       "    <tr>\n",
       "      <th>cadillac</th>\n",
       "      <td>0.881988</td>\n",
       "      <td>322</td>\n",
       "      <td>0.605207</td>\n",
       "      <td>3.186590</td>\n",
       "    </tr>\n",
       "    <tr>\n",
       "      <th>chevrolet</th>\n",
       "      <td>0.181313</td>\n",
       "      <td>899</td>\n",
       "      <td>-0.095468</td>\n",
       "      <td>0.655076</td>\n",
       "    </tr>\n",
       "    <tr>\n",
       "      <th>chrysler</th>\n",
       "      <td>0.084967</td>\n",
       "      <td>153</td>\n",
       "      <td>-0.191814</td>\n",
       "      <td>0.306984</td>\n",
       "    </tr>\n",
       "    <tr>\n",
       "      <th>dodge</th>\n",
       "      <td>0.086957</td>\n",
       "      <td>506</td>\n",
       "      <td>-0.189825</td>\n",
       "      <td>0.314171</td>\n",
       "    </tr>\n",
       "    <tr>\n",
       "      <th>ferrari</th>\n",
       "      <td>1.000000</td>\n",
       "      <td>50</td>\n",
       "      <td>0.723219</td>\n",
       "      <td>3.612964</td>\n",
       "    </tr>\n",
       "    <tr>\n",
       "      <th>fiat</th>\n",
       "      <td>0.000000</td>\n",
       "      <td>45</td>\n",
       "      <td>-0.276781</td>\n",
       "      <td>0.000000</td>\n",
       "    </tr>\n",
       "    <tr>\n",
       "      <th>ford</th>\n",
       "      <td>0.150355</td>\n",
       "      <td>705</td>\n",
       "      <td>-0.126426</td>\n",
       "      <td>0.543226</td>\n",
       "    </tr>\n",
       "    <tr>\n",
       "      <th>genesis</th>\n",
       "      <td>1.000000</td>\n",
       "      <td>3</td>\n",
       "      <td>0.723219</td>\n",
       "      <td>3.612964</td>\n",
       "    </tr>\n",
       "    <tr>\n",
       "      <th>gmc</th>\n",
       "      <td>0.228426</td>\n",
       "      <td>394</td>\n",
       "      <td>-0.048355</td>\n",
       "      <td>0.825296</td>\n",
       "    </tr>\n",
       "    <tr>\n",
       "      <th>honda</th>\n",
       "      <td>0.031161</td>\n",
       "      <td>353</td>\n",
       "      <td>-0.245620</td>\n",
       "      <td>0.112585</td>\n",
       "    </tr>\n",
       "    <tr>\n",
       "      <th>hummer</th>\n",
       "      <td>0.250000</td>\n",
       "      <td>12</td>\n",
       "      <td>-0.026781</td>\n",
       "      <td>0.903241</td>\n",
       "    </tr>\n",
       "    <tr>\n",
       "      <th>hyundai</th>\n",
       "      <td>0.033058</td>\n",
       "      <td>242</td>\n",
       "      <td>-0.243723</td>\n",
       "      <td>0.119437</td>\n",
       "    </tr>\n",
       "    <tr>\n",
       "      <th>infiniti</th>\n",
       "      <td>0.593407</td>\n",
       "      <td>273</td>\n",
       "      <td>0.316626</td>\n",
       "      <td>2.143957</td>\n",
       "    </tr>\n",
       "    <tr>\n",
       "      <th>kia</th>\n",
       "      <td>0.065217</td>\n",
       "      <td>184</td>\n",
       "      <td>-0.211564</td>\n",
       "      <td>0.235628</td>\n",
       "    </tr>\n",
       "    <tr>\n",
       "      <th>lamborghini</th>\n",
       "      <td>1.000000</td>\n",
       "      <td>42</td>\n",
       "      <td>0.723219</td>\n",
       "      <td>3.612964</td>\n",
       "    </tr>\n",
       "    <tr>\n",
       "      <th>land_rover</th>\n",
       "      <td>0.750000</td>\n",
       "      <td>104</td>\n",
       "      <td>0.473219</td>\n",
       "      <td>2.709723</td>\n",
       "    </tr>\n",
       "    <tr>\n",
       "      <th>lexus</th>\n",
       "      <td>0.590909</td>\n",
       "      <td>154</td>\n",
       "      <td>0.314128</td>\n",
       "      <td>2.134933</td>\n",
       "    </tr>\n",
       "    <tr>\n",
       "      <th>lincoln</th>\n",
       "      <td>0.598485</td>\n",
       "      <td>132</td>\n",
       "      <td>0.321704</td>\n",
       "      <td>2.162304</td>\n",
       "    </tr>\n",
       "    <tr>\n",
       "      <th>lotus</th>\n",
       "      <td>1.000000</td>\n",
       "      <td>28</td>\n",
       "      <td>0.723219</td>\n",
       "      <td>3.612964</td>\n",
       "    </tr>\n",
       "    <tr>\n",
       "      <th>maserati</th>\n",
       "      <td>1.000000</td>\n",
       "      <td>45</td>\n",
       "      <td>0.723219</td>\n",
       "      <td>3.612964</td>\n",
       "    </tr>\n",
       "    <tr>\n",
       "      <th>maybach</th>\n",
       "      <td>1.000000</td>\n",
       "      <td>14</td>\n",
       "      <td>0.723219</td>\n",
       "      <td>3.612964</td>\n",
       "    </tr>\n",
       "    <tr>\n",
       "      <th>mazda</th>\n",
       "      <td>0.005935</td>\n",
       "      <td>337</td>\n",
       "      <td>-0.270846</td>\n",
       "      <td>0.021442</td>\n",
       "    </tr>\n",
       "    <tr>\n",
       "      <th>mclaren</th>\n",
       "      <td>1.000000</td>\n",
       "      <td>4</td>\n",
       "      <td>0.723219</td>\n",
       "      <td>3.612964</td>\n",
       "    </tr>\n",
       "    <tr>\n",
       "      <th>mercedes-benz</th>\n",
       "      <td>0.698925</td>\n",
       "      <td>279</td>\n",
       "      <td>0.422144</td>\n",
       "      <td>2.525190</td>\n",
       "    </tr>\n",
       "    <tr>\n",
       "      <th>mitsubishi</th>\n",
       "      <td>0.000000</td>\n",
       "      <td>178</td>\n",
       "      <td>-0.276781</td>\n",
       "      <td>0.000000</td>\n",
       "    </tr>\n",
       "    <tr>\n",
       "      <th>nissan</th>\n",
       "      <td>0.164352</td>\n",
       "      <td>432</td>\n",
       "      <td>-0.112429</td>\n",
       "      <td>0.593797</td>\n",
       "    </tr>\n",
       "    <tr>\n",
       "      <th>oldsmobile</th>\n",
       "      <td>0.000000</td>\n",
       "      <td>117</td>\n",
       "      <td>-0.276781</td>\n",
       "      <td>0.000000</td>\n",
       "    </tr>\n",
       "    <tr>\n",
       "      <th>plymouth</th>\n",
       "      <td>0.014925</td>\n",
       "      <td>67</td>\n",
       "      <td>-0.261856</td>\n",
       "      <td>0.053925</td>\n",
       "    </tr>\n",
       "    <tr>\n",
       "      <th>pontiac</th>\n",
       "      <td>0.000000</td>\n",
       "      <td>146</td>\n",
       "      <td>-0.276781</td>\n",
       "      <td>0.000000</td>\n",
       "    </tr>\n",
       "    <tr>\n",
       "      <th>porsche</th>\n",
       "      <td>0.906542</td>\n",
       "      <td>107</td>\n",
       "      <td>0.629761</td>\n",
       "      <td>3.275304</td>\n",
       "    </tr>\n",
       "    <tr>\n",
       "      <th>rolls-royce</th>\n",
       "      <td>1.000000</td>\n",
       "      <td>27</td>\n",
       "      <td>0.723219</td>\n",
       "      <td>3.612964</td>\n",
       "    </tr>\n",
       "    <tr>\n",
       "      <th>saab</th>\n",
       "      <td>0.268817</td>\n",
       "      <td>93</td>\n",
       "      <td>-0.007964</td>\n",
       "      <td>0.971227</td>\n",
       "    </tr>\n",
       "    <tr>\n",
       "      <th>scion</th>\n",
       "      <td>0.000000</td>\n",
       "      <td>48</td>\n",
       "      <td>-0.276781</td>\n",
       "      <td>0.000000</td>\n",
       "    </tr>\n",
       "    <tr>\n",
       "      <th>spyker</th>\n",
       "      <td>1.000000</td>\n",
       "      <td>3</td>\n",
       "      <td>0.723219</td>\n",
       "      <td>3.612964</td>\n",
       "    </tr>\n",
       "    <tr>\n",
       "      <th>subaru</th>\n",
       "      <td>0.000000</td>\n",
       "      <td>194</td>\n",
       "      <td>-0.276781</td>\n",
       "      <td>0.000000</td>\n",
       "    </tr>\n",
       "    <tr>\n",
       "      <th>suzuki</th>\n",
       "      <td>0.000000</td>\n",
       "      <td>293</td>\n",
       "      <td>-0.276781</td>\n",
       "      <td>0.000000</td>\n",
       "    </tr>\n",
       "    <tr>\n",
       "      <th>tesla</th>\n",
       "      <td>1.000000</td>\n",
       "      <td>15</td>\n",
       "      <td>0.723219</td>\n",
       "      <td>3.612964</td>\n",
       "    </tr>\n",
       "    <tr>\n",
       "      <th>toyota</th>\n",
       "      <td>0.174873</td>\n",
       "      <td>589</td>\n",
       "      <td>-0.101908</td>\n",
       "      <td>0.631809</td>\n",
       "    </tr>\n",
       "    <tr>\n",
       "      <th>volkswagen</th>\n",
       "      <td>0.049849</td>\n",
       "      <td>662</td>\n",
       "      <td>-0.226932</td>\n",
       "      <td>0.180102</td>\n",
       "    </tr>\n",
       "    <tr>\n",
       "      <th>volvo</th>\n",
       "      <td>0.393162</td>\n",
       "      <td>234</td>\n",
       "      <td>0.116381</td>\n",
       "      <td>1.420482</td>\n",
       "    </tr>\n",
       "  </tbody>\n",
       "</table>\n",
       "</div>"
      ],
      "text/plain": [
       "                   mean  count      diff      risk\n",
       "make                                              \n",
       "acura          0.391089    202  0.114308  1.412991\n",
       "alfa_romeo     1.000000      5  0.723219  3.612964\n",
       "aston_martin   1.000000     74  0.723219  3.612964\n",
       "audi           0.654412    272  0.377631  2.364366\n",
       "bentley        1.000000     55  0.723219  3.612964\n",
       "bmw            0.822064    281  0.545283  2.970088\n",
       "bugatti        1.000000      3  0.723219  3.612964\n",
       "buick          0.123377    154 -0.153404  0.445755\n",
       "cadillac       0.881988    322  0.605207  3.186590\n",
       "chevrolet      0.181313    899 -0.095468  0.655076\n",
       "chrysler       0.084967    153 -0.191814  0.306984\n",
       "dodge          0.086957    506 -0.189825  0.314171\n",
       "ferrari        1.000000     50  0.723219  3.612964\n",
       "fiat           0.000000     45 -0.276781  0.000000\n",
       "ford           0.150355    705 -0.126426  0.543226\n",
       "genesis        1.000000      3  0.723219  3.612964\n",
       "gmc            0.228426    394 -0.048355  0.825296\n",
       "honda          0.031161    353 -0.245620  0.112585\n",
       "hummer         0.250000     12 -0.026781  0.903241\n",
       "hyundai        0.033058    242 -0.243723  0.119437\n",
       "infiniti       0.593407    273  0.316626  2.143957\n",
       "kia            0.065217    184 -0.211564  0.235628\n",
       "lamborghini    1.000000     42  0.723219  3.612964\n",
       "land_rover     0.750000    104  0.473219  2.709723\n",
       "lexus          0.590909    154  0.314128  2.134933\n",
       "lincoln        0.598485    132  0.321704  2.162304\n",
       "lotus          1.000000     28  0.723219  3.612964\n",
       "maserati       1.000000     45  0.723219  3.612964\n",
       "maybach        1.000000     14  0.723219  3.612964\n",
       "mazda          0.005935    337 -0.270846  0.021442\n",
       "mclaren        1.000000      4  0.723219  3.612964\n",
       "mercedes-benz  0.698925    279  0.422144  2.525190\n",
       "mitsubishi     0.000000    178 -0.276781  0.000000\n",
       "nissan         0.164352    432 -0.112429  0.593797\n",
       "oldsmobile     0.000000    117 -0.276781  0.000000\n",
       "plymouth       0.014925     67 -0.261856  0.053925\n",
       "pontiac        0.000000    146 -0.276781  0.000000\n",
       "porsche        0.906542    107  0.629761  3.275304\n",
       "rolls-royce    1.000000     27  0.723219  3.612964\n",
       "saab           0.268817     93 -0.007964  0.971227\n",
       "scion          0.000000     48 -0.276781  0.000000\n",
       "spyker         1.000000      3  0.723219  3.612964\n",
       "subaru         0.000000    194 -0.276781  0.000000\n",
       "suzuki         0.000000    293 -0.276781  0.000000\n",
       "tesla          1.000000     15  0.723219  3.612964\n",
       "toyota         0.174873    589 -0.101908  0.631809\n",
       "volkswagen     0.049849    662 -0.226932  0.180102\n",
       "volvo          0.393162    234  0.116381  1.420482"
      ]
     },
     "metadata": {},
     "output_type": "display_data"
    },
    {
     "name": "stdout",
     "output_type": "stream",
     "text": [
      "\n",
      "\n",
      "model\n"
     ]
    },
    {
     "data": {
      "text/html": [
       "<div>\n",
       "<style scoped>\n",
       "    .dataframe tbody tr th:only-of-type {\n",
       "        vertical-align: middle;\n",
       "    }\n",
       "\n",
       "    .dataframe tbody tr th {\n",
       "        vertical-align: top;\n",
       "    }\n",
       "\n",
       "    .dataframe thead th {\n",
       "        text-align: right;\n",
       "    }\n",
       "</style>\n",
       "<table border=\"1\" class=\"dataframe\">\n",
       "  <thead>\n",
       "    <tr style=\"text-align: right;\">\n",
       "      <th></th>\n",
       "      <th>mean</th>\n",
       "      <th>count</th>\n",
       "      <th>diff</th>\n",
       "      <th>risk</th>\n",
       "    </tr>\n",
       "    <tr>\n",
       "      <th>model</th>\n",
       "      <th></th>\n",
       "      <th></th>\n",
       "      <th></th>\n",
       "      <th></th>\n",
       "    </tr>\n",
       "  </thead>\n",
       "  <tbody>\n",
       "    <tr>\n",
       "      <th>100</th>\n",
       "      <td>0.000000</td>\n",
       "      <td>11</td>\n",
       "      <td>-0.276781</td>\n",
       "      <td>0.000000</td>\n",
       "    </tr>\n",
       "    <tr>\n",
       "      <th>124_spider</th>\n",
       "      <td>0.000000</td>\n",
       "      <td>2</td>\n",
       "      <td>-0.276781</td>\n",
       "      <td>0.000000</td>\n",
       "    </tr>\n",
       "    <tr>\n",
       "      <th>190-class</th>\n",
       "      <td>0.000000</td>\n",
       "      <td>4</td>\n",
       "      <td>-0.276781</td>\n",
       "      <td>0.000000</td>\n",
       "    </tr>\n",
       "    <tr>\n",
       "      <th>1_series</th>\n",
       "      <td>0.416667</td>\n",
       "      <td>12</td>\n",
       "      <td>0.139886</td>\n",
       "      <td>1.505402</td>\n",
       "    </tr>\n",
       "    <tr>\n",
       "      <th>2</th>\n",
       "      <td>0.000000</td>\n",
       "      <td>10</td>\n",
       "      <td>-0.276781</td>\n",
       "      <td>0.000000</td>\n",
       "    </tr>\n",
       "    <tr>\n",
       "      <th>...</th>\n",
       "      <td>...</td>\n",
       "      <td>...</td>\n",
       "      <td>...</td>\n",
       "      <td>...</td>\n",
       "    </tr>\n",
       "    <tr>\n",
       "      <th>z3</th>\n",
       "      <td>0.000000</td>\n",
       "      <td>8</td>\n",
       "      <td>-0.276781</td>\n",
       "      <td>0.000000</td>\n",
       "    </tr>\n",
       "    <tr>\n",
       "      <th>z4</th>\n",
       "      <td>1.000000</td>\n",
       "      <td>6</td>\n",
       "      <td>0.723219</td>\n",
       "      <td>3.612964</td>\n",
       "    </tr>\n",
       "    <tr>\n",
       "      <th>z4_m</th>\n",
       "      <td>1.000000</td>\n",
       "      <td>4</td>\n",
       "      <td>0.723219</td>\n",
       "      <td>3.612964</td>\n",
       "    </tr>\n",
       "    <tr>\n",
       "      <th>z8</th>\n",
       "      <td>1.000000</td>\n",
       "      <td>2</td>\n",
       "      <td>0.723219</td>\n",
       "      <td>3.612964</td>\n",
       "    </tr>\n",
       "    <tr>\n",
       "      <th>zdx</th>\n",
       "      <td>1.000000</td>\n",
       "      <td>5</td>\n",
       "      <td>0.723219</td>\n",
       "      <td>3.612964</td>\n",
       "    </tr>\n",
       "  </tbody>\n",
       "</table>\n",
       "<p>902 rows × 4 columns</p>\n",
       "</div>"
      ],
      "text/plain": [
       "                mean  count      diff      risk\n",
       "model                                          \n",
       "100         0.000000     11 -0.276781  0.000000\n",
       "124_spider  0.000000      2 -0.276781  0.000000\n",
       "190-class   0.000000      4 -0.276781  0.000000\n",
       "1_series    0.416667     12  0.139886  1.505402\n",
       "2           0.000000     10 -0.276781  0.000000\n",
       "...              ...    ...       ...       ...\n",
       "z3          0.000000      8 -0.276781  0.000000\n",
       "z4          1.000000      6  0.723219  3.612964\n",
       "z4_m        1.000000      4  0.723219  3.612964\n",
       "z8          1.000000      2  0.723219  3.612964\n",
       "zdx         1.000000      5  0.723219  3.612964\n",
       "\n",
       "[902 rows x 4 columns]"
      ]
     },
     "metadata": {},
     "output_type": "display_data"
    },
    {
     "name": "stdout",
     "output_type": "stream",
     "text": [
      "\n",
      "\n",
      "transmission_type\n"
     ]
    },
    {
     "data": {
      "text/html": [
       "<div>\n",
       "<style scoped>\n",
       "    .dataframe tbody tr th:only-of-type {\n",
       "        vertical-align: middle;\n",
       "    }\n",
       "\n",
       "    .dataframe tbody tr th {\n",
       "        vertical-align: top;\n",
       "    }\n",
       "\n",
       "    .dataframe thead th {\n",
       "        text-align: right;\n",
       "    }\n",
       "</style>\n",
       "<table border=\"1\" class=\"dataframe\">\n",
       "  <thead>\n",
       "    <tr style=\"text-align: right;\">\n",
       "      <th></th>\n",
       "      <th>mean</th>\n",
       "      <th>count</th>\n",
       "      <th>diff</th>\n",
       "      <th>risk</th>\n",
       "    </tr>\n",
       "    <tr>\n",
       "      <th>transmission_type</th>\n",
       "      <th></th>\n",
       "      <th></th>\n",
       "      <th></th>\n",
       "      <th></th>\n",
       "    </tr>\n",
       "  </thead>\n",
       "  <tbody>\n",
       "    <tr>\n",
       "      <th>automated_manual</th>\n",
       "      <td>0.474206</td>\n",
       "      <td>504</td>\n",
       "      <td>0.197425</td>\n",
       "      <td>1.713291</td>\n",
       "    </tr>\n",
       "    <tr>\n",
       "      <th>automatic</th>\n",
       "      <td>0.310017</td>\n",
       "      <td>6619</td>\n",
       "      <td>0.033236</td>\n",
       "      <td>1.120079</td>\n",
       "    </tr>\n",
       "    <tr>\n",
       "      <th>direct_drive</th>\n",
       "      <td>0.458333</td>\n",
       "      <td>48</td>\n",
       "      <td>0.181552</td>\n",
       "      <td>1.655942</td>\n",
       "    </tr>\n",
       "    <tr>\n",
       "      <th>manual</th>\n",
       "      <td>0.138652</td>\n",
       "      <td>2344</td>\n",
       "      <td>-0.138129</td>\n",
       "      <td>0.500944</td>\n",
       "    </tr>\n",
       "    <tr>\n",
       "      <th>unknown</th>\n",
       "      <td>0.000000</td>\n",
       "      <td>16</td>\n",
       "      <td>-0.276781</td>\n",
       "      <td>0.000000</td>\n",
       "    </tr>\n",
       "  </tbody>\n",
       "</table>\n",
       "</div>"
      ],
      "text/plain": [
       "                       mean  count      diff      risk\n",
       "transmission_type                                     \n",
       "automated_manual   0.474206    504  0.197425  1.713291\n",
       "automatic          0.310017   6619  0.033236  1.120079\n",
       "direct_drive       0.458333     48  0.181552  1.655942\n",
       "manual             0.138652   2344 -0.138129  0.500944\n",
       "unknown            0.000000     16 -0.276781  0.000000"
      ]
     },
     "metadata": {},
     "output_type": "display_data"
    },
    {
     "name": "stdout",
     "output_type": "stream",
     "text": [
      "\n",
      "\n",
      "vehicle_style\n"
     ]
    },
    {
     "data": {
      "text/html": [
       "<div>\n",
       "<style scoped>\n",
       "    .dataframe tbody tr th:only-of-type {\n",
       "        vertical-align: middle;\n",
       "    }\n",
       "\n",
       "    .dataframe tbody tr th {\n",
       "        vertical-align: top;\n",
       "    }\n",
       "\n",
       "    .dataframe thead th {\n",
       "        text-align: right;\n",
       "    }\n",
       "</style>\n",
       "<table border=\"1\" class=\"dataframe\">\n",
       "  <thead>\n",
       "    <tr style=\"text-align: right;\">\n",
       "      <th></th>\n",
       "      <th>mean</th>\n",
       "      <th>count</th>\n",
       "      <th>diff</th>\n",
       "      <th>risk</th>\n",
       "    </tr>\n",
       "    <tr>\n",
       "      <th>vehicle_style</th>\n",
       "      <th></th>\n",
       "      <th></th>\n",
       "      <th></th>\n",
       "      <th></th>\n",
       "    </tr>\n",
       "  </thead>\n",
       "  <tbody>\n",
       "    <tr>\n",
       "      <th>2dr_hatchback</th>\n",
       "      <td>0.000000</td>\n",
       "      <td>421</td>\n",
       "      <td>-0.276781</td>\n",
       "      <td>0.000000</td>\n",
       "    </tr>\n",
       "    <tr>\n",
       "      <th>2dr_suv</th>\n",
       "      <td>0.035398</td>\n",
       "      <td>113</td>\n",
       "      <td>-0.241383</td>\n",
       "      <td>0.127893</td>\n",
       "    </tr>\n",
       "    <tr>\n",
       "      <th>4dr_hatchback</th>\n",
       "      <td>0.046099</td>\n",
       "      <td>564</td>\n",
       "      <td>-0.230682</td>\n",
       "      <td>0.166555</td>\n",
       "    </tr>\n",
       "    <tr>\n",
       "      <th>4dr_suv</th>\n",
       "      <td>0.374619</td>\n",
       "      <td>1970</td>\n",
       "      <td>0.097838</td>\n",
       "      <td>1.353486</td>\n",
       "    </tr>\n",
       "    <tr>\n",
       "      <th>cargo_minivan</th>\n",
       "      <td>0.000000</td>\n",
       "      <td>60</td>\n",
       "      <td>-0.276781</td>\n",
       "      <td>0.000000</td>\n",
       "    </tr>\n",
       "    <tr>\n",
       "      <th>cargo_van</th>\n",
       "      <td>0.000000</td>\n",
       "      <td>73</td>\n",
       "      <td>-0.276781</td>\n",
       "      <td>0.000000</td>\n",
       "    </tr>\n",
       "    <tr>\n",
       "      <th>convertible</th>\n",
       "      <td>0.555380</td>\n",
       "      <td>632</td>\n",
       "      <td>0.278599</td>\n",
       "      <td>2.006567</td>\n",
       "    </tr>\n",
       "    <tr>\n",
       "      <th>convertible_suv</th>\n",
       "      <td>0.153846</td>\n",
       "      <td>26</td>\n",
       "      <td>-0.122935</td>\n",
       "      <td>0.555841</td>\n",
       "    </tr>\n",
       "    <tr>\n",
       "      <th>coupe</th>\n",
       "      <td>0.496257</td>\n",
       "      <td>935</td>\n",
       "      <td>0.219476</td>\n",
       "      <td>1.792958</td>\n",
       "    </tr>\n",
       "    <tr>\n",
       "      <th>crew_cab_pickup</th>\n",
       "      <td>0.337017</td>\n",
       "      <td>543</td>\n",
       "      <td>0.060236</td>\n",
       "      <td>1.217629</td>\n",
       "    </tr>\n",
       "    <tr>\n",
       "      <th>extended_cab_pickup</th>\n",
       "      <td>0.064646</td>\n",
       "      <td>495</td>\n",
       "      <td>-0.212135</td>\n",
       "      <td>0.233565</td>\n",
       "    </tr>\n",
       "    <tr>\n",
       "      <th>passenger_minivan</th>\n",
       "      <td>0.079646</td>\n",
       "      <td>339</td>\n",
       "      <td>-0.197135</td>\n",
       "      <td>0.287758</td>\n",
       "    </tr>\n",
       "    <tr>\n",
       "      <th>passenger_van</th>\n",
       "      <td>0.083333</td>\n",
       "      <td>96</td>\n",
       "      <td>-0.193448</td>\n",
       "      <td>0.301080</td>\n",
       "    </tr>\n",
       "    <tr>\n",
       "      <th>regular_cab_pickup</th>\n",
       "      <td>0.006711</td>\n",
       "      <td>298</td>\n",
       "      <td>-0.270070</td>\n",
       "      <td>0.024248</td>\n",
       "    </tr>\n",
       "    <tr>\n",
       "      <th>sedan</th>\n",
       "      <td>0.290543</td>\n",
       "      <td>2485</td>\n",
       "      <td>0.013762</td>\n",
       "      <td>1.049722</td>\n",
       "    </tr>\n",
       "    <tr>\n",
       "      <th>wagon</th>\n",
       "      <td>0.160083</td>\n",
       "      <td>481</td>\n",
       "      <td>-0.116698</td>\n",
       "      <td>0.578375</td>\n",
       "    </tr>\n",
       "  </tbody>\n",
       "</table>\n",
       "</div>"
      ],
      "text/plain": [
       "                         mean  count      diff      risk\n",
       "vehicle_style                                           \n",
       "2dr_hatchback        0.000000    421 -0.276781  0.000000\n",
       "2dr_suv              0.035398    113 -0.241383  0.127893\n",
       "4dr_hatchback        0.046099    564 -0.230682  0.166555\n",
       "4dr_suv              0.374619   1970  0.097838  1.353486\n",
       "cargo_minivan        0.000000     60 -0.276781  0.000000\n",
       "cargo_van            0.000000     73 -0.276781  0.000000\n",
       "convertible          0.555380    632  0.278599  2.006567\n",
       "convertible_suv      0.153846     26 -0.122935  0.555841\n",
       "coupe                0.496257    935  0.219476  1.792958\n",
       "crew_cab_pickup      0.337017    543  0.060236  1.217629\n",
       "extended_cab_pickup  0.064646    495 -0.212135  0.233565\n",
       "passenger_minivan    0.079646    339 -0.197135  0.287758\n",
       "passenger_van        0.083333     96 -0.193448  0.301080\n",
       "regular_cab_pickup   0.006711    298 -0.270070  0.024248\n",
       "sedan                0.290543   2485  0.013762  1.049722\n",
       "wagon                0.160083    481 -0.116698  0.578375"
      ]
     },
     "metadata": {},
     "output_type": "display_data"
    },
    {
     "name": "stdout",
     "output_type": "stream",
     "text": [
      "\n",
      "\n"
     ]
    }
   ],
   "source": [
    "for x in categorical_features:\n",
    "    print(x)\n",
    "    data_group = data_full_train.groupby(x)['above_average'].agg(['mean','count'])\n",
    "    data_group['diff'] = data_group['mean'] - global_above_avg_rate\n",
    "    data_group['risk'] = data_group['mean'] / global_above_avg_rate\n",
    "    display(data_group)\n",
    "    print()\n",
    "    print()"
   ]
  },
  {
   "cell_type": "code",
   "execution_count": 40,
   "id": "94eb558a",
   "metadata": {},
   "outputs": [],
   "source": [
    "from sklearn.metrics import mutual_info_score"
   ]
  },
  {
   "cell_type": "code",
   "execution_count": 41,
   "id": "51db2d20",
   "metadata": {},
   "outputs": [
    {
     "data": {
      "text/plain": [
       "model                0.46\n",
       "make                 0.24\n",
       "vehicle_style        0.08\n",
       "transmission_type    0.02\n",
       "dtype: float64"
      ]
     },
     "execution_count": 41,
     "metadata": {},
     "output_type": "execute_result"
    }
   ],
   "source": [
    "score = data_full_train[categorical_features].apply(lambda categorical_features : mutual_info_score(data_full_train['above_average'], categorical_features))\n",
    "round(score.sort_values(ascending=False),2)"
   ]
  },
  {
   "cell_type": "markdown",
   "id": "a6acb0f5",
   "metadata": {},
   "source": [
    "#4. Now let's train a logistic regression.\n",
    "\n",
    "#Remember that we have several categorical variables in the dataset. Include them using one-hot encoding.\n",
    "\n",
    "#Fit the model on the training dataset.\n",
    "\n",
    "#To make sure the results are reproducible across different versions of Scikit-Learn, fit the model with these parameters:\n",
    "\n",
    "#model = LogisticRegression(solver='liblinear', C=10, max_iter=1000, random_state=42)\n",
    "\n",
    "#Calculate the accuracy on the validation dataset and round it to 2 decimal digits."
   ]
  },
  {
   "cell_type": "code",
   "execution_count": 42,
   "id": "6f859bc5",
   "metadata": {},
   "outputs": [],
   "source": [
    "dict_train = data_train[categorical_features + numerical_features].to_dict(orient='records')"
   ]
  },
  {
   "cell_type": "code",
   "execution_count": 87,
   "id": "7a695aa7",
   "metadata": {},
   "outputs": [],
   "source": [
    "from sklearn.feature_extraction import DictVectorizer"
   ]
  },
  {
   "cell_type": "code",
   "execution_count": 88,
   "id": "a49be1dd",
   "metadata": {},
   "outputs": [],
   "source": [
    "dv = DictVectorizer(sparse=False)"
   ]
  },
  {
   "cell_type": "code",
   "execution_count": 89,
   "id": "697fa02f",
   "metadata": {},
   "outputs": [
    {
     "data": {
      "text/plain": [
       "array([[1.500e+01, 6.000e+00, 2.250e+02, ..., 0.000e+00, 0.000e+00,\n",
       "        2.011e+03],\n",
       "       [1.700e+01, 6.000e+00, 2.760e+02, ..., 0.000e+00, 0.000e+00,\n",
       "        2.009e+03],\n",
       "       [1.200e+01, 1.000e+01, 5.700e+02, ..., 0.000e+00, 0.000e+00,\n",
       "        2.012e+03],\n",
       "       ...,\n",
       "       [1.700e+01, 6.000e+00, 2.600e+02, ..., 0.000e+00, 0.000e+00,\n",
       "        2.012e+03],\n",
       "       [1.900e+01, 4.000e+00, 1.360e+02, ..., 0.000e+00, 0.000e+00,\n",
       "        1.993e+03],\n",
       "       [1.700e+01, 6.000e+00, 3.650e+02, ..., 1.000e+00, 0.000e+00,\n",
       "        2.015e+03]])"
      ]
     },
     "execution_count": 89,
     "metadata": {},
     "output_type": "execute_result"
    }
   ],
   "source": [
    "X_train = dv.fit_transform(dict_train)\n",
    "X_train"
   ]
  },
  {
   "cell_type": "code",
   "execution_count": 90,
   "id": "34111bf9",
   "metadata": {},
   "outputs": [],
   "source": [
    "dict_val = data_val[categorical_features + numerical_features].to_dict(orient='records')"
   ]
  },
  {
   "cell_type": "code",
   "execution_count": 91,
   "id": "08084d7c",
   "metadata": {},
   "outputs": [
    {
     "data": {
      "text/plain": [
       "array([[2.300e+01, 4.000e+00, 2.100e+02, ..., 0.000e+00, 0.000e+00,\n",
       "        2.015e+03],\n",
       "       [1.700e+01, 6.000e+00, 3.540e+02, ..., 0.000e+00, 0.000e+00,\n",
       "        2.015e+03],\n",
       "       [2.200e+01, 4.000e+00, 1.400e+02, ..., 1.000e+00, 0.000e+00,\n",
       "        2.005e+03],\n",
       "       ...,\n",
       "       [1.200e+01, 6.000e+00, 1.900e+02, ..., 0.000e+00, 0.000e+00,\n",
       "        2.003e+03],\n",
       "       [1.400e+01, 8.000e+00, 4.300e+02, ..., 0.000e+00, 0.000e+00,\n",
       "        2.015e+03],\n",
       "       [1.800e+01, 6.000e+00, 3.210e+02, ..., 1.000e+00, 0.000e+00,\n",
       "        2.015e+03]])"
      ]
     },
     "execution_count": 91,
     "metadata": {},
     "output_type": "execute_result"
    }
   ],
   "source": [
    "X_val = dv.transform(dict_val)\n",
    "X_val"
   ]
  },
  {
   "cell_type": "code",
   "execution_count": 92,
   "id": "82a7a0b7",
   "metadata": {},
   "outputs": [],
   "source": [
    "from sklearn.linear_model import LogisticRegression"
   ]
  },
  {
   "cell_type": "code",
   "execution_count": 93,
   "id": "33254658",
   "metadata": {},
   "outputs": [],
   "source": [
    "LogReg_model = LogisticRegression(solver='liblinear', C=10, max_iter=1000, random_state=42)"
   ]
  },
  {
   "cell_type": "code",
   "execution_count": 94,
   "id": "35094d6d",
   "metadata": {},
   "outputs": [
    {
     "data": {
      "text/plain": [
       "LogisticRegression(C=10, max_iter=1000, random_state=42, solver='liblinear')"
      ]
     },
     "execution_count": 94,
     "metadata": {},
     "output_type": "execute_result"
    }
   ],
   "source": [
    "LogReg_model.fit(X_train, y_train)"
   ]
  },
  {
   "cell_type": "code",
   "execution_count": 102,
   "id": "9ed38388",
   "metadata": {},
   "outputs": [
    {
     "data": {
      "text/plain": [
       "array([4.47467556e-04, 9.97408254e-01, 9.69186415e-05, ...,\n",
       "       1.16567405e-04, 9.89365634e-01, 9.89637335e-01])"
      ]
     },
     "execution_count": 102,
     "metadata": {},
     "output_type": "execute_result"
    }
   ],
   "source": [
    "y_pred = LogReg_model.predict_proba(X_val)[:,1]\n",
    "y_pred"
   ]
  },
  {
   "cell_type": "code",
   "execution_count": 103,
   "id": "8123035e",
   "metadata": {},
   "outputs": [],
   "source": [
    "y_pred = y_pred >= 0.5"
   ]
  },
  {
   "cell_type": "code",
   "execution_count": 106,
   "id": "99250d0d",
   "metadata": {},
   "outputs": [
    {
     "data": {
      "text/plain": [
       "0.95"
      ]
     },
     "execution_count": 106,
     "metadata": {},
     "output_type": "execute_result"
    }
   ],
   "source": [
    "accuracy = (y_val == y_pred).mean()\n",
    "round(accuracy,2)"
   ]
  },
  {
   "cell_type": "code",
   "execution_count": 107,
   "id": "be17a51d",
   "metadata": {},
   "outputs": [],
   "source": [
    "from sklearn.metrics import r2_score"
   ]
  },
  {
   "cell_type": "code",
   "execution_count": 109,
   "id": "71d1d09a",
   "metadata": {},
   "outputs": [
    {
     "data": {
      "text/plain": [
       "0.73"
      ]
     },
     "execution_count": 109,
     "metadata": {},
     "output_type": "execute_result"
    }
   ],
   "source": [
    "round(r2_score(y_val, y_pred),2)      #sklearn to confirm the % of how well regression prediction fit the data."
   ]
  },
  {
   "cell_type": "code",
   "execution_count": 110,
   "id": "e7f6d9e5",
   "metadata": {},
   "outputs": [],
   "source": [
    "from sklearn.metrics import accuracy_score    "
   ]
  },
  {
   "cell_type": "code",
   "execution_count": 112,
   "id": "fc27f4ab",
   "metadata": {},
   "outputs": [
    {
     "data": {
      "text/plain": [
       "0.95"
      ]
     },
     "execution_count": 112,
     "metadata": {},
     "output_type": "execute_result"
    }
   ],
   "source": [
    "round(accuracy_score(y_val, y_pred),2)         #using sklearn to confirm the accuracy of the model."
   ]
  },
  {
   "cell_type": "markdown",
   "id": "ccd9bae6",
   "metadata": {},
   "source": [
    "#5. Let's find the least useful feature using the feature elimination technique.\n",
    "\n",
    "#Train a model with all these features (using the same parameters as in Q4).\n",
    "\n",
    "#Now exclude each feature from this set and train a model without it. Record the accuracy for each model.\n",
    "\n",
    "#For each feature, calculate the difference between the original accuracy and the accuracy without the feature."
   ]
  },
  {
   "cell_type": "code",
   "execution_count": 113,
   "id": "c6bf0227",
   "metadata": {},
   "outputs": [
    {
     "data": {
      "text/plain": [
       "['make', 'model', 'transmission_type', 'vehicle_style']"
      ]
     },
     "execution_count": 113,
     "metadata": {},
     "output_type": "execute_result"
    }
   ],
   "source": [
    "categorical_features"
   ]
  },
  {
   "cell_type": "code",
   "execution_count": 114,
   "id": "dca7edee",
   "metadata": {},
   "outputs": [
    {
     "data": {
      "text/plain": [
       "['year', 'engine_hp', 'engine_cylinders', 'highway_mpg', 'city_mpg']"
      ]
     },
     "execution_count": 114,
     "metadata": {},
     "output_type": "execute_result"
    }
   ],
   "source": [
    "numerical_features"
   ]
  },
  {
   "cell_type": "code",
   "execution_count": 115,
   "id": "559e114f",
   "metadata": {},
   "outputs": [],
   "source": [
    "feature_no_year = ['make', 'model', 'transmission_type', 'vehicle_style','engine_hp', 'engine_cylinders', \n",
    "                   'highway_mpg', 'city_mpg']"
   ]
  },
  {
   "cell_type": "code",
   "execution_count": 116,
   "id": "0b127041",
   "metadata": {},
   "outputs": [],
   "source": [
    "dict_no_year = data_train[feature_no_year].to_dict(orient='records')"
   ]
  },
  {
   "cell_type": "code",
   "execution_count": 117,
   "id": "8a78ccf5",
   "metadata": {},
   "outputs": [],
   "source": [
    "X_no_year = dv.fit_transform(dict_no_year)"
   ]
  },
  {
   "cell_type": "code",
   "execution_count": 118,
   "id": "a081ec0a",
   "metadata": {},
   "outputs": [
    {
     "data": {
      "text/plain": [
       "LogisticRegression(C=10, max_iter=1000, random_state=42, solver='liblinear')"
      ]
     },
     "execution_count": 118,
     "metadata": {},
     "output_type": "execute_result"
    }
   ],
   "source": [
    "model_year = LogReg_model.fit(X_no_year,y_train)\n",
    "model_year"
   ]
  },
  {
   "cell_type": "code",
   "execution_count": 119,
   "id": "8e8de690",
   "metadata": {},
   "outputs": [
    {
     "data": {
      "text/plain": [
       "0.9559317291550083"
      ]
     },
     "execution_count": 119,
     "metadata": {},
     "output_type": "execute_result"
    }
   ],
   "source": [
    "accuracy_year = model_year.score(X_no_year, y_train)\n",
    "accuracy_year"
   ]
  },
  {
   "cell_type": "code",
   "execution_count": 120,
   "id": "f9e4b3c2",
   "metadata": {},
   "outputs": [
    {
     "data": {
      "text/plain": [
       "-0.01"
      ]
     },
     "execution_count": 120,
     "metadata": {},
     "output_type": "execute_result"
    }
   ],
   "source": [
    "diff_in_accuracy_year = accuracy - accuracy_year\n",
    "round(diff_in_accuracy_year,2)"
   ]
  },
  {
   "cell_type": "code",
   "execution_count": 121,
   "id": "7dbe365d",
   "metadata": {},
   "outputs": [],
   "source": [
    "feature_no_engineHP = ['make', 'model', 'transmission_type', 'vehicle_style', 'year', 'engine_cylinders', \n",
    "                       'highway_mpg', 'city_mpg']"
   ]
  },
  {
   "cell_type": "code",
   "execution_count": 122,
   "id": "1c1d77c0",
   "metadata": {},
   "outputs": [],
   "source": [
    "dict_no_engineHP = data_train[feature_no_engineHP].to_dict(orient='records')"
   ]
  },
  {
   "cell_type": "code",
   "execution_count": 123,
   "id": "14346a94",
   "metadata": {},
   "outputs": [],
   "source": [
    "X_no_engineHP = dv.fit_transform(dict_no_engineHP)"
   ]
  },
  {
   "cell_type": "code",
   "execution_count": 124,
   "id": "f8b0a52c",
   "metadata": {},
   "outputs": [
    {
     "data": {
      "text/plain": [
       "LogisticRegression(C=10, max_iter=1000, random_state=42, solver='liblinear')"
      ]
     },
     "execution_count": 124,
     "metadata": {},
     "output_type": "execute_result"
    }
   ],
   "source": [
    "model_engineHP = LogReg_model.fit(X_no_engineHP,y_train)\n",
    "model_engineHP"
   ]
  },
  {
   "cell_type": "code",
   "execution_count": 125,
   "id": "e2a4778b",
   "metadata": {},
   "outputs": [
    {
     "data": {
      "text/plain": [
       "0.9383044208170117"
      ]
     },
     "execution_count": 125,
     "metadata": {},
     "output_type": "execute_result"
    }
   ],
   "source": [
    "accuracy_engineHP = model_engineHP.score(X_no_engineHP, y_train)\n",
    "accuracy_engineHP"
   ]
  },
  {
   "cell_type": "code",
   "execution_count": 126,
   "id": "65191f44",
   "metadata": {},
   "outputs": [
    {
     "data": {
      "text/plain": [
       "0.01"
      ]
     },
     "execution_count": 126,
     "metadata": {},
     "output_type": "execute_result"
    }
   ],
   "source": [
    "diff_in_accuracy_engineHP = accuracy - accuracy_engineHP\n",
    "round(diff_in_accuracy_engineHP,2)"
   ]
  },
  {
   "cell_type": "code",
   "execution_count": 127,
   "id": "2b3f6f85",
   "metadata": {},
   "outputs": [],
   "source": [
    "feature_no_trans_type = ['year', 'engine_hp', 'engine_cylinders', 'highway_mpg', 'city_mpg', 'make', \n",
    "                         'model', 'vehicle_style']"
   ]
  },
  {
   "cell_type": "code",
   "execution_count": 128,
   "id": "029ffb6b",
   "metadata": {},
   "outputs": [],
   "source": [
    "dict_no_trans_type = data_train[feature_no_trans_type].to_dict(orient='records')"
   ]
  },
  {
   "cell_type": "code",
   "execution_count": 129,
   "id": "3cd8e06f",
   "metadata": {},
   "outputs": [],
   "source": [
    "X_no_trans_type = dv.fit_transform(dict_no_trans_type)"
   ]
  },
  {
   "cell_type": "code",
   "execution_count": 130,
   "id": "c64d43c8",
   "metadata": {},
   "outputs": [
    {
     "data": {
      "text/plain": [
       "LogisticRegression(C=10, max_iter=1000, random_state=42, solver='liblinear')"
      ]
     },
     "execution_count": 130,
     "metadata": {},
     "output_type": "execute_result"
    }
   ],
   "source": [
    "model_trans_type = LogReg_model.fit(X_no_trans_type, y_train)\n",
    "model_trans_type"
   ]
  },
  {
   "cell_type": "code",
   "execution_count": 131,
   "id": "c6b56487",
   "metadata": {},
   "outputs": [
    {
     "data": {
      "text/plain": [
       "0.9492165640738668"
      ]
     },
     "execution_count": 131,
     "metadata": {},
     "output_type": "execute_result"
    }
   ],
   "source": [
    "accuracy_trans_type = model_trans_type.score(X_no_trans_type, y_train)\n",
    "accuracy_trans_type"
   ]
  },
  {
   "cell_type": "code",
   "execution_count": 132,
   "id": "b334168c",
   "metadata": {},
   "outputs": [
    {
     "data": {
      "text/plain": [
       "-0.0"
      ]
     },
     "execution_count": 132,
     "metadata": {},
     "output_type": "execute_result"
    }
   ],
   "source": [
    "diff_in_accuracy_trans_type = accuracy - accuracy_trans_type\n",
    "round(diff_in_accuracy_trans_type,2)"
   ]
  },
  {
   "cell_type": "code",
   "execution_count": 133,
   "id": "ed4fd9fa",
   "metadata": {},
   "outputs": [],
   "source": [
    "feature_no_city_mpg = ['make', 'model', 'transmission_type', 'vehicle_style', 'year', 'engine_hp',\n",
    "                       'engine_cylinders', 'highway_mpg']"
   ]
  },
  {
   "cell_type": "code",
   "execution_count": 134,
   "id": "020f6475",
   "metadata": {},
   "outputs": [],
   "source": [
    "dict_no_city_mpg = data_train[feature_no_city_mpg].to_dict(orient='records')"
   ]
  },
  {
   "cell_type": "code",
   "execution_count": 135,
   "id": "91f0e128",
   "metadata": {},
   "outputs": [],
   "source": [
    "X_no_city_mpg = dv.fit_transform(dict_no_city_mpg)"
   ]
  },
  {
   "cell_type": "code",
   "execution_count": 136,
   "id": "4b4e25b7",
   "metadata": {},
   "outputs": [
    {
     "data": {
      "text/plain": [
       "LogisticRegression(C=10, max_iter=1000, random_state=42, solver='liblinear')"
      ]
     },
     "execution_count": 136,
     "metadata": {},
     "output_type": "execute_result"
    }
   ],
   "source": [
    "model_city_mpg = LogReg_model.fit(X_no_city_mpg, y_train)\n",
    "model_city_mpg"
   ]
  },
  {
   "cell_type": "code",
   "execution_count": 137,
   "id": "28b82032",
   "metadata": {},
   "outputs": [
    {
     "data": {
      "text/plain": [
       "0.9552322327923894"
      ]
     },
     "execution_count": 137,
     "metadata": {},
     "output_type": "execute_result"
    }
   ],
   "source": [
    "accuracy_city_mpg = model_city_mpg.score(X_no_city_mpg, y_train)\n",
    "accuracy_city_mpg"
   ]
  },
  {
   "cell_type": "code",
   "execution_count": 145,
   "id": "0c461373",
   "metadata": {},
   "outputs": [
    {
     "data": {
      "text/plain": [
       "-0.01"
      ]
     },
     "execution_count": 145,
     "metadata": {},
     "output_type": "execute_result"
    }
   ],
   "source": [
    "diff_in_accuracy_city_mpg = accuracy - accuracy_city_mpg\n",
    "round(diff_in_accuracy_city_mpg,2)"
   ]
  },
  {
   "cell_type": "code",
   "execution_count": 146,
   "id": "2d3097fd",
   "metadata": {},
   "outputs": [],
   "source": [
    "smallest_diff = pd.DataFrame({'year' : diff_in_accuracy_year, 'engine_hp' : diff_in_accuracy_engineHP, \n",
    "                             'transmission_type' : diff_in_accuracy_trans_type, 'city_mpg' : diff_in_accuracy_city_mpg}, \n",
    "                             index = [0])"
   ]
  },
  {
   "cell_type": "code",
   "execution_count": 147,
   "id": "138265ad",
   "metadata": {},
   "outputs": [
    {
     "data": {
      "text/html": [
       "<div>\n",
       "<style scoped>\n",
       "    .dataframe tbody tr th:only-of-type {\n",
       "        vertical-align: middle;\n",
       "    }\n",
       "\n",
       "    .dataframe tbody tr th {\n",
       "        vertical-align: top;\n",
       "    }\n",
       "\n",
       "    .dataframe thead th {\n",
       "        text-align: right;\n",
       "    }\n",
       "</style>\n",
       "<table border=\"1\" class=\"dataframe\">\n",
       "  <thead>\n",
       "    <tr style=\"text-align: right;\">\n",
       "      <th></th>\n",
       "      <th>year</th>\n",
       "      <th>engine_hp</th>\n",
       "      <th>transmission_type</th>\n",
       "      <th>city_mpg</th>\n",
       "    </tr>\n",
       "  </thead>\n",
       "  <tbody>\n",
       "    <tr>\n",
       "      <th>0</th>\n",
       "      <td>-0.010485</td>\n",
       "      <td>0.007142</td>\n",
       "      <td>-0.00377</td>\n",
       "      <td>-0.009785</td>\n",
       "    </tr>\n",
       "  </tbody>\n",
       "</table>\n",
       "</div>"
      ],
      "text/plain": [
       "       year  engine_hp  transmission_type  city_mpg\n",
       "0 -0.010485   0.007142           -0.00377 -0.009785"
      ]
     },
     "execution_count": 147,
     "metadata": {},
     "output_type": "execute_result"
    }
   ],
   "source": [
    "smallest_diff"
   ]
  },
  {
   "cell_type": "markdown",
   "id": "0a92efa2",
   "metadata": {},
   "source": [
    "#6. For this question, we'll see how to use a linear regression model from Scikit-Learn.\n",
    "\n",
    "#We'll need to use the original column price. Apply the logarithmic transformation to this column.\n",
    "\n",
    "#Fit the Ridge regression model on the training data with a solver 'sag'. Set the seed to 42.\n",
    "\n",
    "#This model also has a parameter alpha. Let's try the following values: [0, 0.01, 0.1, 1, 10].\n",
    "\n",
    "#Round your RMSE scores to 3 decimal digits."
   ]
  },
  {
   "cell_type": "code",
   "execution_count": 148,
   "id": "d13d9211",
   "metadata": {},
   "outputs": [
    {
     "data": {
      "text/html": [
       "<div>\n",
       "<style scoped>\n",
       "    .dataframe tbody tr th:only-of-type {\n",
       "        vertical-align: middle;\n",
       "    }\n",
       "\n",
       "    .dataframe tbody tr th {\n",
       "        vertical-align: top;\n",
       "    }\n",
       "\n",
       "    .dataframe thead th {\n",
       "        text-align: right;\n",
       "    }\n",
       "</style>\n",
       "<table border=\"1\" class=\"dataframe\">\n",
       "  <thead>\n",
       "    <tr style=\"text-align: right;\">\n",
       "      <th></th>\n",
       "      <th>make</th>\n",
       "      <th>model</th>\n",
       "      <th>year</th>\n",
       "      <th>engine_hp</th>\n",
       "      <th>engine_cylinders</th>\n",
       "      <th>transmission_type</th>\n",
       "      <th>vehicle_style</th>\n",
       "      <th>highway_mpg</th>\n",
       "      <th>city_mpg</th>\n",
       "      <th>price</th>\n",
       "    </tr>\n",
       "  </thead>\n",
       "  <tbody>\n",
       "    <tr>\n",
       "      <th>0</th>\n",
       "      <td>mitsubishi</td>\n",
       "      <td>endeavor</td>\n",
       "      <td>2011</td>\n",
       "      <td>225.0</td>\n",
       "      <td>6.0</td>\n",
       "      <td>automatic</td>\n",
       "      <td>4dr_suv</td>\n",
       "      <td>19</td>\n",
       "      <td>15</td>\n",
       "      <td>33599</td>\n",
       "    </tr>\n",
       "    <tr>\n",
       "      <th>1</th>\n",
       "      <td>kia</td>\n",
       "      <td>borrego</td>\n",
       "      <td>2009</td>\n",
       "      <td>276.0</td>\n",
       "      <td>6.0</td>\n",
       "      <td>automatic</td>\n",
       "      <td>4dr_suv</td>\n",
       "      <td>21</td>\n",
       "      <td>17</td>\n",
       "      <td>26245</td>\n",
       "    </tr>\n",
       "    <tr>\n",
       "      <th>2</th>\n",
       "      <td>lamborghini</td>\n",
       "      <td>gallardo</td>\n",
       "      <td>2012</td>\n",
       "      <td>570.0</td>\n",
       "      <td>10.0</td>\n",
       "      <td>manual</td>\n",
       "      <td>convertible</td>\n",
       "      <td>20</td>\n",
       "      <td>12</td>\n",
       "      <td>248000</td>\n",
       "    </tr>\n",
       "    <tr>\n",
       "      <th>3</th>\n",
       "      <td>chevrolet</td>\n",
       "      <td>colorado</td>\n",
       "      <td>2016</td>\n",
       "      <td>200.0</td>\n",
       "      <td>4.0</td>\n",
       "      <td>automatic</td>\n",
       "      <td>crew_cab_pickup</td>\n",
       "      <td>27</td>\n",
       "      <td>20</td>\n",
       "      <td>24990</td>\n",
       "    </tr>\n",
       "    <tr>\n",
       "      <th>4</th>\n",
       "      <td>pontiac</td>\n",
       "      <td>vibe</td>\n",
       "      <td>2009</td>\n",
       "      <td>158.0</td>\n",
       "      <td>4.0</td>\n",
       "      <td>automatic</td>\n",
       "      <td>4dr_hatchback</td>\n",
       "      <td>26</td>\n",
       "      <td>20</td>\n",
       "      <td>20475</td>\n",
       "    </tr>\n",
       "  </tbody>\n",
       "</table>\n",
       "</div>"
      ],
      "text/plain": [
       "          make     model  year  engine_hp  engine_cylinders transmission_type  \\\n",
       "0   mitsubishi  endeavor  2011      225.0               6.0         automatic   \n",
       "1          kia   borrego  2009      276.0               6.0         automatic   \n",
       "2  lamborghini  gallardo  2012      570.0              10.0            manual   \n",
       "3    chevrolet  colorado  2016      200.0               4.0         automatic   \n",
       "4      pontiac      vibe  2009      158.0               4.0         automatic   \n",
       "\n",
       "     vehicle_style  highway_mpg  city_mpg   price  \n",
       "0          4dr_suv           19        15   33599  \n",
       "1          4dr_suv           21        17   26245  \n",
       "2      convertible           20        12  248000  \n",
       "3  crew_cab_pickup           27        20   24990  \n",
       "4    4dr_hatchback           26        20   20475  "
      ]
     },
     "execution_count": 148,
     "metadata": {},
     "output_type": "execute_result"
    }
   ],
   "source": [
    "data_train.head()"
   ]
  },
  {
   "cell_type": "code",
   "execution_count": 149,
   "id": "359a3400",
   "metadata": {},
   "outputs": [
    {
     "data": {
      "text/html": [
       "<div>\n",
       "<style scoped>\n",
       "    .dataframe tbody tr th:only-of-type {\n",
       "        vertical-align: middle;\n",
       "    }\n",
       "\n",
       "    .dataframe tbody tr th {\n",
       "        vertical-align: top;\n",
       "    }\n",
       "\n",
       "    .dataframe thead th {\n",
       "        text-align: right;\n",
       "    }\n",
       "</style>\n",
       "<table border=\"1\" class=\"dataframe\">\n",
       "  <thead>\n",
       "    <tr style=\"text-align: right;\">\n",
       "      <th></th>\n",
       "      <th>make</th>\n",
       "      <th>model</th>\n",
       "      <th>year</th>\n",
       "      <th>engine_hp</th>\n",
       "      <th>engine_cylinders</th>\n",
       "      <th>transmission_type</th>\n",
       "      <th>vehicle_style</th>\n",
       "      <th>highway_mpg</th>\n",
       "      <th>city_mpg</th>\n",
       "      <th>price</th>\n",
       "    </tr>\n",
       "  </thead>\n",
       "  <tbody>\n",
       "    <tr>\n",
       "      <th>0</th>\n",
       "      <td>volkswagen</td>\n",
       "      <td>beetle</td>\n",
       "      <td>2015</td>\n",
       "      <td>210.0</td>\n",
       "      <td>4.0</td>\n",
       "      <td>manual</td>\n",
       "      <td>2dr_hatchback</td>\n",
       "      <td>31</td>\n",
       "      <td>23</td>\n",
       "      <td>28675</td>\n",
       "    </tr>\n",
       "    <tr>\n",
       "      <th>1</th>\n",
       "      <td>audi</td>\n",
       "      <td>sq5</td>\n",
       "      <td>2015</td>\n",
       "      <td>354.0</td>\n",
       "      <td>6.0</td>\n",
       "      <td>automatic</td>\n",
       "      <td>4dr_suv</td>\n",
       "      <td>24</td>\n",
       "      <td>17</td>\n",
       "      <td>60200</td>\n",
       "    </tr>\n",
       "    <tr>\n",
       "      <th>2</th>\n",
       "      <td>pontiac</td>\n",
       "      <td>grand_am</td>\n",
       "      <td>2005</td>\n",
       "      <td>140.0</td>\n",
       "      <td>4.0</td>\n",
       "      <td>automatic</td>\n",
       "      <td>sedan</td>\n",
       "      <td>31</td>\n",
       "      <td>22</td>\n",
       "      <td>20090</td>\n",
       "    </tr>\n",
       "    <tr>\n",
       "      <th>3</th>\n",
       "      <td>nissan</td>\n",
       "      <td>350z</td>\n",
       "      <td>2009</td>\n",
       "      <td>306.0</td>\n",
       "      <td>6.0</td>\n",
       "      <td>manual</td>\n",
       "      <td>convertible</td>\n",
       "      <td>24</td>\n",
       "      <td>17</td>\n",
       "      <td>39220</td>\n",
       "    </tr>\n",
       "    <tr>\n",
       "      <th>4</th>\n",
       "      <td>ford</td>\n",
       "      <td>e-150</td>\n",
       "      <td>1996</td>\n",
       "      <td>199.0</td>\n",
       "      <td>6.0</td>\n",
       "      <td>automatic</td>\n",
       "      <td>passenger_van</td>\n",
       "      <td>15</td>\n",
       "      <td>11</td>\n",
       "      <td>2000</td>\n",
       "    </tr>\n",
       "  </tbody>\n",
       "</table>\n",
       "</div>"
      ],
      "text/plain": [
       "         make     model  year  engine_hp  engine_cylinders transmission_type  \\\n",
       "0  volkswagen    beetle  2015      210.0               4.0            manual   \n",
       "1        audi       sq5  2015      354.0               6.0         automatic   \n",
       "2     pontiac  grand_am  2005      140.0               4.0         automatic   \n",
       "3      nissan      350z  2009      306.0               6.0            manual   \n",
       "4        ford     e-150  1996      199.0               6.0         automatic   \n",
       "\n",
       "   vehicle_style  highway_mpg  city_mpg  price  \n",
       "0  2dr_hatchback           31        23  28675  \n",
       "1        4dr_suv           24        17  60200  \n",
       "2          sedan           31        22  20090  \n",
       "3    convertible           24        17  39220  \n",
       "4  passenger_van           15        11   2000  "
      ]
     },
     "execution_count": 149,
     "metadata": {},
     "output_type": "execute_result"
    }
   ],
   "source": [
    "data_val.head()"
   ]
  },
  {
   "cell_type": "code",
   "execution_count": 150,
   "id": "81b5a12e",
   "metadata": {},
   "outputs": [],
   "source": [
    "data_train['price'] = np.log1p(data_train['price'])\n",
    "data_val['price'] = np.log1p(data_val['price'])"
   ]
  },
  {
   "cell_type": "code",
   "execution_count": 151,
   "id": "dbf6b551",
   "metadata": {},
   "outputs": [
    {
     "data": {
      "text/html": [
       "<div>\n",
       "<style scoped>\n",
       "    .dataframe tbody tr th:only-of-type {\n",
       "        vertical-align: middle;\n",
       "    }\n",
       "\n",
       "    .dataframe tbody tr th {\n",
       "        vertical-align: top;\n",
       "    }\n",
       "\n",
       "    .dataframe thead th {\n",
       "        text-align: right;\n",
       "    }\n",
       "</style>\n",
       "<table border=\"1\" class=\"dataframe\">\n",
       "  <thead>\n",
       "    <tr style=\"text-align: right;\">\n",
       "      <th></th>\n",
       "      <th>make</th>\n",
       "      <th>model</th>\n",
       "      <th>year</th>\n",
       "      <th>engine_hp</th>\n",
       "      <th>engine_cylinders</th>\n",
       "      <th>transmission_type</th>\n",
       "      <th>vehicle_style</th>\n",
       "      <th>highway_mpg</th>\n",
       "      <th>city_mpg</th>\n",
       "      <th>price</th>\n",
       "    </tr>\n",
       "  </thead>\n",
       "  <tbody>\n",
       "    <tr>\n",
       "      <th>0</th>\n",
       "      <td>mitsubishi</td>\n",
       "      <td>endeavor</td>\n",
       "      <td>2011</td>\n",
       "      <td>225.0</td>\n",
       "      <td>6.0</td>\n",
       "      <td>automatic</td>\n",
       "      <td>4dr_suv</td>\n",
       "      <td>19</td>\n",
       "      <td>15</td>\n",
       "      <td>10.422281</td>\n",
       "    </tr>\n",
       "    <tr>\n",
       "      <th>1</th>\n",
       "      <td>kia</td>\n",
       "      <td>borrego</td>\n",
       "      <td>2009</td>\n",
       "      <td>276.0</td>\n",
       "      <td>6.0</td>\n",
       "      <td>automatic</td>\n",
       "      <td>4dr_suv</td>\n",
       "      <td>21</td>\n",
       "      <td>17</td>\n",
       "      <td>10.175269</td>\n",
       "    </tr>\n",
       "    <tr>\n",
       "      <th>2</th>\n",
       "      <td>lamborghini</td>\n",
       "      <td>gallardo</td>\n",
       "      <td>2012</td>\n",
       "      <td>570.0</td>\n",
       "      <td>10.0</td>\n",
       "      <td>manual</td>\n",
       "      <td>convertible</td>\n",
       "      <td>20</td>\n",
       "      <td>12</td>\n",
       "      <td>12.421188</td>\n",
       "    </tr>\n",
       "    <tr>\n",
       "      <th>3</th>\n",
       "      <td>chevrolet</td>\n",
       "      <td>colorado</td>\n",
       "      <td>2016</td>\n",
       "      <td>200.0</td>\n",
       "      <td>4.0</td>\n",
       "      <td>automatic</td>\n",
       "      <td>crew_cab_pickup</td>\n",
       "      <td>27</td>\n",
       "      <td>20</td>\n",
       "      <td>10.126271</td>\n",
       "    </tr>\n",
       "    <tr>\n",
       "      <th>4</th>\n",
       "      <td>pontiac</td>\n",
       "      <td>vibe</td>\n",
       "      <td>2009</td>\n",
       "      <td>158.0</td>\n",
       "      <td>4.0</td>\n",
       "      <td>automatic</td>\n",
       "      <td>4dr_hatchback</td>\n",
       "      <td>26</td>\n",
       "      <td>20</td>\n",
       "      <td>9.927009</td>\n",
       "    </tr>\n",
       "  </tbody>\n",
       "</table>\n",
       "</div>"
      ],
      "text/plain": [
       "          make     model  year  engine_hp  engine_cylinders transmission_type  \\\n",
       "0   mitsubishi  endeavor  2011      225.0               6.0         automatic   \n",
       "1          kia   borrego  2009      276.0               6.0         automatic   \n",
       "2  lamborghini  gallardo  2012      570.0              10.0            manual   \n",
       "3    chevrolet  colorado  2016      200.0               4.0         automatic   \n",
       "4      pontiac      vibe  2009      158.0               4.0         automatic   \n",
       "\n",
       "     vehicle_style  highway_mpg  city_mpg      price  \n",
       "0          4dr_suv           19        15  10.422281  \n",
       "1          4dr_suv           21        17  10.175269  \n",
       "2      convertible           20        12  12.421188  \n",
       "3  crew_cab_pickup           27        20  10.126271  \n",
       "4    4dr_hatchback           26        20   9.927009  "
      ]
     },
     "execution_count": 151,
     "metadata": {},
     "output_type": "execute_result"
    }
   ],
   "source": [
    "data_train.head()"
   ]
  },
  {
   "cell_type": "code",
   "execution_count": 152,
   "id": "b871f9bb",
   "metadata": {},
   "outputs": [
    {
     "data": {
      "text/html": [
       "<div>\n",
       "<style scoped>\n",
       "    .dataframe tbody tr th:only-of-type {\n",
       "        vertical-align: middle;\n",
       "    }\n",
       "\n",
       "    .dataframe tbody tr th {\n",
       "        vertical-align: top;\n",
       "    }\n",
       "\n",
       "    .dataframe thead th {\n",
       "        text-align: right;\n",
       "    }\n",
       "</style>\n",
       "<table border=\"1\" class=\"dataframe\">\n",
       "  <thead>\n",
       "    <tr style=\"text-align: right;\">\n",
       "      <th></th>\n",
       "      <th>make</th>\n",
       "      <th>model</th>\n",
       "      <th>year</th>\n",
       "      <th>engine_hp</th>\n",
       "      <th>engine_cylinders</th>\n",
       "      <th>transmission_type</th>\n",
       "      <th>vehicle_style</th>\n",
       "      <th>highway_mpg</th>\n",
       "      <th>city_mpg</th>\n",
       "      <th>price</th>\n",
       "    </tr>\n",
       "  </thead>\n",
       "  <tbody>\n",
       "    <tr>\n",
       "      <th>0</th>\n",
       "      <td>volkswagen</td>\n",
       "      <td>beetle</td>\n",
       "      <td>2015</td>\n",
       "      <td>210.0</td>\n",
       "      <td>4.0</td>\n",
       "      <td>manual</td>\n",
       "      <td>2dr_hatchback</td>\n",
       "      <td>31</td>\n",
       "      <td>23</td>\n",
       "      <td>10.263816</td>\n",
       "    </tr>\n",
       "    <tr>\n",
       "      <th>1</th>\n",
       "      <td>audi</td>\n",
       "      <td>sq5</td>\n",
       "      <td>2015</td>\n",
       "      <td>354.0</td>\n",
       "      <td>6.0</td>\n",
       "      <td>automatic</td>\n",
       "      <td>4dr_suv</td>\n",
       "      <td>24</td>\n",
       "      <td>17</td>\n",
       "      <td>11.005444</td>\n",
       "    </tr>\n",
       "    <tr>\n",
       "      <th>2</th>\n",
       "      <td>pontiac</td>\n",
       "      <td>grand_am</td>\n",
       "      <td>2005</td>\n",
       "      <td>140.0</td>\n",
       "      <td>4.0</td>\n",
       "      <td>automatic</td>\n",
       "      <td>sedan</td>\n",
       "      <td>31</td>\n",
       "      <td>22</td>\n",
       "      <td>9.908027</td>\n",
       "    </tr>\n",
       "    <tr>\n",
       "      <th>3</th>\n",
       "      <td>nissan</td>\n",
       "      <td>350z</td>\n",
       "      <td>2009</td>\n",
       "      <td>306.0</td>\n",
       "      <td>6.0</td>\n",
       "      <td>manual</td>\n",
       "      <td>convertible</td>\n",
       "      <td>24</td>\n",
       "      <td>17</td>\n",
       "      <td>10.576968</td>\n",
       "    </tr>\n",
       "    <tr>\n",
       "      <th>4</th>\n",
       "      <td>ford</td>\n",
       "      <td>e-150</td>\n",
       "      <td>1996</td>\n",
       "      <td>199.0</td>\n",
       "      <td>6.0</td>\n",
       "      <td>automatic</td>\n",
       "      <td>passenger_van</td>\n",
       "      <td>15</td>\n",
       "      <td>11</td>\n",
       "      <td>7.601402</td>\n",
       "    </tr>\n",
       "  </tbody>\n",
       "</table>\n",
       "</div>"
      ],
      "text/plain": [
       "         make     model  year  engine_hp  engine_cylinders transmission_type  \\\n",
       "0  volkswagen    beetle  2015      210.0               4.0            manual   \n",
       "1        audi       sq5  2015      354.0               6.0         automatic   \n",
       "2     pontiac  grand_am  2005      140.0               4.0         automatic   \n",
       "3      nissan      350z  2009      306.0               6.0            manual   \n",
       "4        ford     e-150  1996      199.0               6.0         automatic   \n",
       "\n",
       "   vehicle_style  highway_mpg  city_mpg      price  \n",
       "0  2dr_hatchback           31        23  10.263816  \n",
       "1        4dr_suv           24        17  11.005444  \n",
       "2          sedan           31        22   9.908027  \n",
       "3    convertible           24        17  10.576968  \n",
       "4  passenger_van           15        11   7.601402  "
      ]
     },
     "execution_count": 152,
     "metadata": {},
     "output_type": "execute_result"
    }
   ],
   "source": [
    "data_val.head()"
   ]
  },
  {
   "cell_type": "code",
   "execution_count": 153,
   "id": "c1a88ddf",
   "metadata": {},
   "outputs": [],
   "source": [
    "new_dict_train = data_train.to_dict(orient='records')"
   ]
  },
  {
   "cell_type": "code",
   "execution_count": 154,
   "id": "6989d15c",
   "metadata": {},
   "outputs": [],
   "source": [
    "X_train = dv.fit_transform(new_dict_train)"
   ]
  },
  {
   "cell_type": "code",
   "execution_count": 155,
   "id": "0d3f1ec3",
   "metadata": {},
   "outputs": [],
   "source": [
    "new_dict_val = data_val.to_dict(orient='records')"
   ]
  },
  {
   "cell_type": "code",
   "execution_count": 156,
   "id": "becc6c8b",
   "metadata": {},
   "outputs": [],
   "source": [
    "X_val = dv.transform(new_dict_val)"
   ]
  },
  {
   "cell_type": "code",
   "execution_count": 157,
   "id": "c72dbbb2",
   "metadata": {},
   "outputs": [],
   "source": [
    "#y_full_train = np.concatenate([y_train, y_val])"
   ]
  },
  {
   "cell_type": "code",
   "execution_count": 158,
   "id": "499de682",
   "metadata": {},
   "outputs": [],
   "source": [
    "from sklearn.linear_model import Ridge"
   ]
  },
  {
   "cell_type": "code",
   "execution_count": 159,
   "id": "08af2ec3",
   "metadata": {},
   "outputs": [],
   "source": [
    "from sklearn.metrics import mean_squared_error"
   ]
  },
  {
   "cell_type": "code",
   "execution_count": 160,
   "id": "73e4bc17",
   "metadata": {},
   "outputs": [],
   "source": [
    "alpha = [0, 0.01, 0.1, 1, 10]"
   ]
  },
  {
   "cell_type": "code",
   "execution_count": 161,
   "id": "be6c7efb",
   "metadata": {},
   "outputs": [],
   "source": [
    "# if alpha = 0 \n",
    "\n",
    "model_ridge = Ridge(solver='sag', alpha=0, random_state=42)"
   ]
  },
  {
   "cell_type": "code",
   "execution_count": 162,
   "id": "66ae2315",
   "metadata": {},
   "outputs": [
    {
     "data": {
      "text/plain": [
       "Ridge(alpha=0, random_state=42, solver='sag')"
      ]
     },
     "execution_count": 162,
     "metadata": {},
     "output_type": "execute_result"
    }
   ],
   "source": [
    "model_ridge.fit(X_train, y_train)"
   ]
  },
  {
   "cell_type": "code",
   "execution_count": 163,
   "id": "ee9da57b",
   "metadata": {},
   "outputs": [
    {
     "data": {
      "text/plain": [
       "array([0.15482491, 0.6593281 , 0.08341906, ..., 0.07830357, 0.7682632 ,\n",
       "       0.5931935 ])"
      ]
     },
     "execution_count": 163,
     "metadata": {},
     "output_type": "execute_result"
    }
   ],
   "source": [
    "y_pred_1 = model_ridge.predict(X_val)\n",
    "y_pred_1"
   ]
  },
  {
   "cell_type": "code",
   "execution_count": 164,
   "id": "5ae56d9a",
   "metadata": {},
   "outputs": [
    {
     "data": {
      "text/plain": [
       "0.09110035402877921"
      ]
     },
     "execution_count": 164,
     "metadata": {},
     "output_type": "execute_result"
    }
   ],
   "source": [
    "mse_1 = mean_squared_error(y_val, y_pred_1)\n",
    "mse_1"
   ]
  },
  {
   "cell_type": "code",
   "execution_count": 165,
   "id": "7234806a",
   "metadata": {},
   "outputs": [
    {
     "data": {
      "text/plain": [
       "0.302"
      ]
     },
     "execution_count": 165,
     "metadata": {},
     "output_type": "execute_result"
    }
   ],
   "source": [
    "rmse_1 = np.sqrt(mse_1)\n",
    "rmse_1.round(3)"
   ]
  },
  {
   "cell_type": "code",
   "execution_count": 166,
   "id": "59e69301",
   "metadata": {},
   "outputs": [],
   "source": [
    "# if alpha = 0.01\n",
    "\n",
    "model_ridge = Ridge(solver='sag', alpha=0.01, random_state=42)"
   ]
  },
  {
   "cell_type": "code",
   "execution_count": 167,
   "id": "f3206304",
   "metadata": {},
   "outputs": [
    {
     "data": {
      "text/plain": [
       "Ridge(alpha=0.01, random_state=42, solver='sag')"
      ]
     },
     "execution_count": 167,
     "metadata": {},
     "output_type": "execute_result"
    }
   ],
   "source": [
    "model_ridge.fit(X_train, y_train)"
   ]
  },
  {
   "cell_type": "code",
   "execution_count": 168,
   "id": "64ea3854",
   "metadata": {},
   "outputs": [
    {
     "data": {
      "text/plain": [
       "array([0.15482511, 0.65932776, 0.08341876, ..., 0.07830338, 0.7682632 ,\n",
       "       0.59319313])"
      ]
     },
     "execution_count": 168,
     "metadata": {},
     "output_type": "execute_result"
    }
   ],
   "source": [
    "y_pred_2 = model_ridge.predict(X_val)\n",
    "y_pred_2"
   ]
  },
  {
   "cell_type": "code",
   "execution_count": 169,
   "id": "facacb0a",
   "metadata": {},
   "outputs": [
    {
     "data": {
      "text/plain": [
       "0.09110038468158982"
      ]
     },
     "execution_count": 169,
     "metadata": {},
     "output_type": "execute_result"
    }
   ],
   "source": [
    "mse_2 = mean_squared_error(y_val, y_pred_2)\n",
    "mse_2"
   ]
  },
  {
   "cell_type": "code",
   "execution_count": 170,
   "id": "82ea47ae",
   "metadata": {},
   "outputs": [
    {
     "data": {
      "text/plain": [
       "0.302"
      ]
     },
     "execution_count": 170,
     "metadata": {},
     "output_type": "execute_result"
    }
   ],
   "source": [
    "rmse_2 = np.sqrt(mse_2)\n",
    "rmse_2.round(3)"
   ]
  },
  {
   "cell_type": "code",
   "execution_count": 171,
   "id": "f48b074b",
   "metadata": {},
   "outputs": [],
   "source": [
    "# if alpha = 0.1\n",
    "\n",
    "model_ridge = Ridge(solver='sag', alpha=0.1, random_state=42)"
   ]
  },
  {
   "cell_type": "code",
   "execution_count": 172,
   "id": "75cf8533",
   "metadata": {},
   "outputs": [
    {
     "data": {
      "text/plain": [
       "Ridge(alpha=0.1, random_state=42, solver='sag')"
      ]
     },
     "execution_count": 172,
     "metadata": {},
     "output_type": "execute_result"
    }
   ],
   "source": [
    "model_ridge.fit(X_train, y_train)"
   ]
  },
  {
   "cell_type": "code",
   "execution_count": 173,
   "id": "84f51f12",
   "metadata": {},
   "outputs": [
    {
     "data": {
      "text/plain": [
       "array([0.15482695, 0.65932472, 0.0834161 , ..., 0.07830166, 0.76826324,\n",
       "       0.59318973])"
      ]
     },
     "execution_count": 173,
     "metadata": {},
     "output_type": "execute_result"
    }
   ],
   "source": [
    "y_pred_3 = model_ridge.predict(X_val)\n",
    "y_pred_3"
   ]
  },
  {
   "cell_type": "code",
   "execution_count": 174,
   "id": "1f29d558",
   "metadata": {},
   "outputs": [
    {
     "data": {
      "text/plain": [
       "0.09110066055672253"
      ]
     },
     "execution_count": 174,
     "metadata": {},
     "output_type": "execute_result"
    }
   ],
   "source": [
    "mse_3 = mean_squared_error(y_val, y_pred_3)\n",
    "mse_3"
   ]
  },
  {
   "cell_type": "code",
   "execution_count": 175,
   "id": "dc3bd9d0",
   "metadata": {},
   "outputs": [
    {
     "data": {
      "text/plain": [
       "0.302"
      ]
     },
     "execution_count": 175,
     "metadata": {},
     "output_type": "execute_result"
    }
   ],
   "source": [
    "rmse_3 = np.sqrt(mse_3)\n",
    "rmse_3.round(3)"
   ]
  },
  {
   "cell_type": "code",
   "execution_count": 176,
   "id": "4b4d356c",
   "metadata": {},
   "outputs": [],
   "source": [
    "# if alpha = 1\n",
    "\n",
    "model_ridge = Ridge(solver='sag', alpha=1, random_state=42)"
   ]
  },
  {
   "cell_type": "code",
   "execution_count": 177,
   "id": "fbc82281",
   "metadata": {},
   "outputs": [
    {
     "data": {
      "text/plain": [
       "Ridge(alpha=1, random_state=42, solver='sag')"
      ]
     },
     "execution_count": 177,
     "metadata": {},
     "output_type": "execute_result"
    }
   ],
   "source": [
    "model_ridge.fit(X_train, y_train)"
   ]
  },
  {
   "cell_type": "code",
   "execution_count": 178,
   "id": "b14d8fd1",
   "metadata": {},
   "outputs": [
    {
     "data": {
      "text/plain": [
       "array([0.15484531, 0.65929429, 0.08338948, ..., 0.07828444, 0.76826366,\n",
       "       0.59315576])"
      ]
     },
     "execution_count": 178,
     "metadata": {},
     "output_type": "execute_result"
    }
   ],
   "source": [
    "y_pred_4 = model_ridge.predict(X_val)\n",
    "y_pred_4"
   ]
  },
  {
   "cell_type": "code",
   "execution_count": 179,
   "id": "fe79a298",
   "metadata": {},
   "outputs": [
    {
     "data": {
      "text/plain": [
       "0.0911034191503324"
      ]
     },
     "execution_count": 179,
     "metadata": {},
     "output_type": "execute_result"
    }
   ],
   "source": [
    "mse_4 = mean_squared_error(y_val, y_pred_4)\n",
    "mse_4"
   ]
  },
  {
   "cell_type": "code",
   "execution_count": 180,
   "id": "b9b71dc0",
   "metadata": {},
   "outputs": [
    {
     "data": {
      "text/plain": [
       "0.302"
      ]
     },
     "execution_count": 180,
     "metadata": {},
     "output_type": "execute_result"
    }
   ],
   "source": [
    "rmse_4 = np.sqrt(mse_4)\n",
    "rmse_4.round(3)"
   ]
  },
  {
   "cell_type": "code",
   "execution_count": 181,
   "id": "03416daa",
   "metadata": {},
   "outputs": [],
   "source": [
    "# if alpha = 10\n",
    "\n",
    "model_ridge = Ridge(solver='sag', alpha=10, random_state=42)"
   ]
  },
  {
   "cell_type": "code",
   "execution_count": 182,
   "id": "08049b80",
   "metadata": {},
   "outputs": [
    {
     "data": {
      "text/plain": [
       "Ridge(alpha=10, random_state=42, solver='sag')"
      ]
     },
     "execution_count": 182,
     "metadata": {},
     "output_type": "execute_result"
    }
   ],
   "source": [
    "model_ridge.fit(X_train, y_train)"
   ]
  },
  {
   "cell_type": "code",
   "execution_count": 183,
   "id": "97db1646",
   "metadata": {},
   "outputs": [
    {
     "data": {
      "text/plain": [
       "array([0.15532449, 0.65842449, 0.08291721, ..., 0.07788546, 0.76835162,\n",
       "       0.59208133])"
      ]
     },
     "execution_count": 183,
     "metadata": {},
     "output_type": "execute_result"
    }
   ],
   "source": [
    "y_pred_5 = model_ridge.predict(X_val)\n",
    "y_pred_5"
   ]
  },
  {
   "cell_type": "code",
   "execution_count": 184,
   "id": "9da475f3",
   "metadata": {},
   "outputs": [
    {
     "data": {
      "text/plain": [
       "0.09119821133749974"
      ]
     },
     "execution_count": 184,
     "metadata": {},
     "output_type": "execute_result"
    }
   ],
   "source": [
    "mse_5 = mean_squared_error(y_val, y_pred_5)\n",
    "mse_5"
   ]
  },
  {
   "cell_type": "code",
   "execution_count": 185,
   "id": "487a1ea8",
   "metadata": {},
   "outputs": [
    {
     "data": {
      "text/plain": [
       "0.302"
      ]
     },
     "execution_count": 185,
     "metadata": {},
     "output_type": "execute_result"
    }
   ],
   "source": [
    "rmse_5 = np.sqrt(mse_5)\n",
    "rmse_5.round(3)"
   ]
  },
  {
   "cell_type": "code",
   "execution_count": null,
   "id": "083c07f3",
   "metadata": {},
   "outputs": [],
   "source": []
  }
 ],
 "metadata": {
  "kernelspec": {
   "display_name": "Python 3 (ipykernel)",
   "language": "python",
   "name": "python3"
  },
  "language_info": {
   "codemirror_mode": {
    "name": "ipython",
    "version": 3
   },
   "file_extension": ".py",
   "mimetype": "text/x-python",
   "name": "python",
   "nbconvert_exporter": "python",
   "pygments_lexer": "ipython3",
   "version": "3.9.12"
  }
 },
 "nbformat": 4,
 "nbformat_minor": 5
}
