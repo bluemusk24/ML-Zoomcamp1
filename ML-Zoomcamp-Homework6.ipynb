{
 "cells": [
  {
   "cell_type": "code",
   "execution_count": 1,
   "id": "8646b3d1",
   "metadata": {},
   "outputs": [],
   "source": [
    "import numpy as np\n",
    "import pandas as pd\n",
    "import seaborn as sns\n",
    "import matplotlib.pyplot as plt\n",
    "%matplotlib inline"
   ]
  },
  {
   "cell_type": "code",
   "execution_count": 2,
   "id": "cad33bfa",
   "metadata": {},
   "outputs": [],
   "source": [
    "df = pd.read_csv(\"C:\\\\Users\\\\emman\\\\Desktop\\\\ML-Zoomcamp\\\\raw.githubusercontent.com_alexeygrigorev_datasets_master_housing.csv\")"
   ]
  },
  {
   "cell_type": "code",
   "execution_count": 3,
   "id": "a047256d",
   "metadata": {},
   "outputs": [
    {
     "data": {
      "text/html": [
       "<div>\n",
       "<style scoped>\n",
       "    .dataframe tbody tr th:only-of-type {\n",
       "        vertical-align: middle;\n",
       "    }\n",
       "\n",
       "    .dataframe tbody tr th {\n",
       "        vertical-align: top;\n",
       "    }\n",
       "\n",
       "    .dataframe thead th {\n",
       "        text-align: right;\n",
       "    }\n",
       "</style>\n",
       "<table border=\"1\" class=\"dataframe\">\n",
       "  <thead>\n",
       "    <tr style=\"text-align: right;\">\n",
       "      <th></th>\n",
       "      <th>longitude</th>\n",
       "      <th>latitude</th>\n",
       "      <th>housing_median_age</th>\n",
       "      <th>total_rooms</th>\n",
       "      <th>total_bedrooms</th>\n",
       "      <th>population</th>\n",
       "      <th>households</th>\n",
       "      <th>median_income</th>\n",
       "      <th>median_house_value</th>\n",
       "      <th>ocean_proximity</th>\n",
       "    </tr>\n",
       "  </thead>\n",
       "  <tbody>\n",
       "    <tr>\n",
       "      <th>0</th>\n",
       "      <td>-122.23</td>\n",
       "      <td>37.88</td>\n",
       "      <td>41.0</td>\n",
       "      <td>880.0</td>\n",
       "      <td>129.0</td>\n",
       "      <td>322.0</td>\n",
       "      <td>126.0</td>\n",
       "      <td>8.3252</td>\n",
       "      <td>452600.0</td>\n",
       "      <td>NEAR BAY</td>\n",
       "    </tr>\n",
       "    <tr>\n",
       "      <th>1</th>\n",
       "      <td>-122.22</td>\n",
       "      <td>37.86</td>\n",
       "      <td>21.0</td>\n",
       "      <td>7099.0</td>\n",
       "      <td>1106.0</td>\n",
       "      <td>2401.0</td>\n",
       "      <td>1138.0</td>\n",
       "      <td>8.3014</td>\n",
       "      <td>358500.0</td>\n",
       "      <td>NEAR BAY</td>\n",
       "    </tr>\n",
       "    <tr>\n",
       "      <th>2</th>\n",
       "      <td>-122.24</td>\n",
       "      <td>37.85</td>\n",
       "      <td>52.0</td>\n",
       "      <td>1467.0</td>\n",
       "      <td>190.0</td>\n",
       "      <td>496.0</td>\n",
       "      <td>177.0</td>\n",
       "      <td>7.2574</td>\n",
       "      <td>352100.0</td>\n",
       "      <td>NEAR BAY</td>\n",
       "    </tr>\n",
       "    <tr>\n",
       "      <th>3</th>\n",
       "      <td>-122.25</td>\n",
       "      <td>37.85</td>\n",
       "      <td>52.0</td>\n",
       "      <td>1274.0</td>\n",
       "      <td>235.0</td>\n",
       "      <td>558.0</td>\n",
       "      <td>219.0</td>\n",
       "      <td>5.6431</td>\n",
       "      <td>341300.0</td>\n",
       "      <td>NEAR BAY</td>\n",
       "    </tr>\n",
       "    <tr>\n",
       "      <th>4</th>\n",
       "      <td>-122.25</td>\n",
       "      <td>37.85</td>\n",
       "      <td>52.0</td>\n",
       "      <td>1627.0</td>\n",
       "      <td>280.0</td>\n",
       "      <td>565.0</td>\n",
       "      <td>259.0</td>\n",
       "      <td>3.8462</td>\n",
       "      <td>342200.0</td>\n",
       "      <td>NEAR BAY</td>\n",
       "    </tr>\n",
       "  </tbody>\n",
       "</table>\n",
       "</div>"
      ],
      "text/plain": [
       "   longitude  latitude  housing_median_age  total_rooms  total_bedrooms  \\\n",
       "0    -122.23     37.88                41.0        880.0           129.0   \n",
       "1    -122.22     37.86                21.0       7099.0          1106.0   \n",
       "2    -122.24     37.85                52.0       1467.0           190.0   \n",
       "3    -122.25     37.85                52.0       1274.0           235.0   \n",
       "4    -122.25     37.85                52.0       1627.0           280.0   \n",
       "\n",
       "   population  households  median_income  median_house_value ocean_proximity  \n",
       "0       322.0       126.0         8.3252            452600.0        NEAR BAY  \n",
       "1      2401.0      1138.0         8.3014            358500.0        NEAR BAY  \n",
       "2       496.0       177.0         7.2574            352100.0        NEAR BAY  \n",
       "3       558.0       219.0         5.6431            341300.0        NEAR BAY  \n",
       "4       565.0       259.0         3.8462            342200.0        NEAR BAY  "
      ]
     },
     "execution_count": 3,
     "metadata": {},
     "output_type": "execute_result"
    }
   ],
   "source": [
    "df.head()"
   ]
  },
  {
   "cell_type": "markdown",
   "id": "c87f5a25",
   "metadata": {},
   "source": [
    "#First, keep only the records where ocean_proximity is either '<1H OCEAN' or 'INLAND'"
   ]
  },
  {
   "cell_type": "code",
   "execution_count": 4,
   "id": "b3d5b710",
   "metadata": {},
   "outputs": [
    {
     "data": {
      "text/plain": [
       "<1H OCEAN     9136\n",
       "INLAND        6551\n",
       "NEAR OCEAN    2658\n",
       "NEAR BAY      2290\n",
       "ISLAND           5\n",
       "Name: ocean_proximity, dtype: int64"
      ]
     },
     "execution_count": 4,
     "metadata": {},
     "output_type": "execute_result"
    }
   ],
   "source": [
    "df['ocean_proximity'].value_counts()"
   ]
  },
  {
   "cell_type": "code",
   "execution_count": 5,
   "id": "46cb1905",
   "metadata": {},
   "outputs": [],
   "source": [
    "df = df[(df['ocean_proximity'] == '<1H OCEAN') | (df['ocean_proximity'] == 'INLAND')]"
   ]
  },
  {
   "cell_type": "code",
   "execution_count": 6,
   "id": "b87d96dc",
   "metadata": {},
   "outputs": [
    {
     "data": {
      "text/plain": [
       "<1H OCEAN    9136\n",
       "INLAND       6551\n",
       "Name: ocean_proximity, dtype: int64"
      ]
     },
     "execution_count": 6,
     "metadata": {},
     "output_type": "execute_result"
    }
   ],
   "source": [
    "df['ocean_proximity'].value_counts()"
   ]
  },
  {
   "cell_type": "code",
   "execution_count": 7,
   "id": "a626fa15",
   "metadata": {},
   "outputs": [
    {
     "data": {
      "text/html": [
       "<div>\n",
       "<style scoped>\n",
       "    .dataframe tbody tr th:only-of-type {\n",
       "        vertical-align: middle;\n",
       "    }\n",
       "\n",
       "    .dataframe tbody tr th {\n",
       "        vertical-align: top;\n",
       "    }\n",
       "\n",
       "    .dataframe thead th {\n",
       "        text-align: right;\n",
       "    }\n",
       "</style>\n",
       "<table border=\"1\" class=\"dataframe\">\n",
       "  <thead>\n",
       "    <tr style=\"text-align: right;\">\n",
       "      <th></th>\n",
       "      <th>701</th>\n",
       "      <th>830</th>\n",
       "      <th>859</th>\n",
       "      <th>860</th>\n",
       "      <th>861</th>\n",
       "      <th>862</th>\n",
       "      <th>863</th>\n",
       "      <th>870</th>\n",
       "      <th>880</th>\n",
       "      <th>881</th>\n",
       "      <th>...</th>\n",
       "      <th>20630</th>\n",
       "      <th>20631</th>\n",
       "      <th>20632</th>\n",
       "      <th>20633</th>\n",
       "      <th>20634</th>\n",
       "      <th>20635</th>\n",
       "      <th>20636</th>\n",
       "      <th>20637</th>\n",
       "      <th>20638</th>\n",
       "      <th>20639</th>\n",
       "    </tr>\n",
       "  </thead>\n",
       "  <tbody>\n",
       "    <tr>\n",
       "      <th>longitude</th>\n",
       "      <td>-121.97</td>\n",
       "      <td>-121.99</td>\n",
       "      <td>-121.97</td>\n",
       "      <td>-121.96</td>\n",
       "      <td>-121.98</td>\n",
       "      <td>-121.99</td>\n",
       "      <td>-122.0</td>\n",
       "      <td>-121.93</td>\n",
       "      <td>-121.99</td>\n",
       "      <td>-121.99</td>\n",
       "      <td>...</td>\n",
       "      <td>-121.32</td>\n",
       "      <td>-121.4</td>\n",
       "      <td>-121.45</td>\n",
       "      <td>-121.53</td>\n",
       "      <td>-121.56</td>\n",
       "      <td>-121.09</td>\n",
       "      <td>-121.21</td>\n",
       "      <td>-121.22</td>\n",
       "      <td>-121.32</td>\n",
       "      <td>-121.24</td>\n",
       "    </tr>\n",
       "    <tr>\n",
       "      <th>latitude</th>\n",
       "      <td>37.64</td>\n",
       "      <td>37.61</td>\n",
       "      <td>37.57</td>\n",
       "      <td>37.58</td>\n",
       "      <td>37.58</td>\n",
       "      <td>37.58</td>\n",
       "      <td>37.58</td>\n",
       "      <td>37.49</td>\n",
       "      <td>37.56</td>\n",
       "      <td>37.56</td>\n",
       "      <td>...</td>\n",
       "      <td>39.29</td>\n",
       "      <td>39.33</td>\n",
       "      <td>39.26</td>\n",
       "      <td>39.19</td>\n",
       "      <td>39.27</td>\n",
       "      <td>39.48</td>\n",
       "      <td>39.49</td>\n",
       "      <td>39.43</td>\n",
       "      <td>39.43</td>\n",
       "      <td>39.37</td>\n",
       "    </tr>\n",
       "    <tr>\n",
       "      <th>housing_median_age</th>\n",
       "      <td>32.0</td>\n",
       "      <td>9.0</td>\n",
       "      <td>21.0</td>\n",
       "      <td>15.0</td>\n",
       "      <td>20.0</td>\n",
       "      <td>31.0</td>\n",
       "      <td>6.0</td>\n",
       "      <td>5.0</td>\n",
       "      <td>18.0</td>\n",
       "      <td>20.0</td>\n",
       "      <td>...</td>\n",
       "      <td>11.0</td>\n",
       "      <td>15.0</td>\n",
       "      <td>15.0</td>\n",
       "      <td>27.0</td>\n",
       "      <td>28.0</td>\n",
       "      <td>25.0</td>\n",
       "      <td>18.0</td>\n",
       "      <td>17.0</td>\n",
       "      <td>18.0</td>\n",
       "      <td>16.0</td>\n",
       "    </tr>\n",
       "    <tr>\n",
       "      <th>total_rooms</th>\n",
       "      <td>1283.0</td>\n",
       "      <td>3666.0</td>\n",
       "      <td>4342.0</td>\n",
       "      <td>3575.0</td>\n",
       "      <td>4126.0</td>\n",
       "      <td>2878.0</td>\n",
       "      <td>4405.0</td>\n",
       "      <td>1150.0</td>\n",
       "      <td>5505.0</td>\n",
       "      <td>6462.0</td>\n",
       "      <td>...</td>\n",
       "      <td>2640.0</td>\n",
       "      <td>2655.0</td>\n",
       "      <td>2319.0</td>\n",
       "      <td>2080.0</td>\n",
       "      <td>2332.0</td>\n",
       "      <td>1665.0</td>\n",
       "      <td>697.0</td>\n",
       "      <td>2254.0</td>\n",
       "      <td>1860.0</td>\n",
       "      <td>2785.0</td>\n",
       "    </tr>\n",
       "    <tr>\n",
       "      <th>total_bedrooms</th>\n",
       "      <td>194.0</td>\n",
       "      <td>711.0</td>\n",
       "      <td>783.0</td>\n",
       "      <td>597.0</td>\n",
       "      <td>1031.0</td>\n",
       "      <td>478.0</td>\n",
       "      <td>717.0</td>\n",
       "      <td>311.0</td>\n",
       "      <td>1005.0</td>\n",
       "      <td>1294.0</td>\n",
       "      <td>...</td>\n",
       "      <td>505.0</td>\n",
       "      <td>493.0</td>\n",
       "      <td>416.0</td>\n",
       "      <td>412.0</td>\n",
       "      <td>395.0</td>\n",
       "      <td>374.0</td>\n",
       "      <td>150.0</td>\n",
       "      <td>485.0</td>\n",
       "      <td>409.0</td>\n",
       "      <td>616.0</td>\n",
       "    </tr>\n",
       "    <tr>\n",
       "      <th>population</th>\n",
       "      <td>485.0</td>\n",
       "      <td>2341.0</td>\n",
       "      <td>2172.0</td>\n",
       "      <td>1777.0</td>\n",
       "      <td>2079.0</td>\n",
       "      <td>1276.0</td>\n",
       "      <td>2071.0</td>\n",
       "      <td>648.0</td>\n",
       "      <td>2641.0</td>\n",
       "      <td>3288.0</td>\n",
       "      <td>...</td>\n",
       "      <td>1257.0</td>\n",
       "      <td>1200.0</td>\n",
       "      <td>1047.0</td>\n",
       "      <td>1082.0</td>\n",
       "      <td>1041.0</td>\n",
       "      <td>845.0</td>\n",
       "      <td>356.0</td>\n",
       "      <td>1007.0</td>\n",
       "      <td>741.0</td>\n",
       "      <td>1387.0</td>\n",
       "    </tr>\n",
       "    <tr>\n",
       "      <th>households</th>\n",
       "      <td>171.0</td>\n",
       "      <td>703.0</td>\n",
       "      <td>789.0</td>\n",
       "      <td>559.0</td>\n",
       "      <td>975.0</td>\n",
       "      <td>485.0</td>\n",
       "      <td>688.0</td>\n",
       "      <td>245.0</td>\n",
       "      <td>971.0</td>\n",
       "      <td>1235.0</td>\n",
       "      <td>...</td>\n",
       "      <td>445.0</td>\n",
       "      <td>432.0</td>\n",
       "      <td>385.0</td>\n",
       "      <td>382.0</td>\n",
       "      <td>344.0</td>\n",
       "      <td>330.0</td>\n",
       "      <td>114.0</td>\n",
       "      <td>433.0</td>\n",
       "      <td>349.0</td>\n",
       "      <td>530.0</td>\n",
       "    </tr>\n",
       "    <tr>\n",
       "      <th>median_income</th>\n",
       "      <td>6.0574</td>\n",
       "      <td>4.6458</td>\n",
       "      <td>4.6146</td>\n",
       "      <td>5.7192</td>\n",
       "      <td>3.6832</td>\n",
       "      <td>6.2073</td>\n",
       "      <td>5.8151</td>\n",
       "      <td>3.5714</td>\n",
       "      <td>5.0</td>\n",
       "      <td>4.3393</td>\n",
       "      <td>...</td>\n",
       "      <td>3.5673</td>\n",
       "      <td>3.5179</td>\n",
       "      <td>3.125</td>\n",
       "      <td>2.5495</td>\n",
       "      <td>3.7125</td>\n",
       "      <td>1.5603</td>\n",
       "      <td>2.5568</td>\n",
       "      <td>1.7</td>\n",
       "      <td>1.8672</td>\n",
       "      <td>2.3886</td>\n",
       "    </tr>\n",
       "    <tr>\n",
       "      <th>median_house_value</th>\n",
       "      <td>431000.0</td>\n",
       "      <td>217000.0</td>\n",
       "      <td>247600.0</td>\n",
       "      <td>283500.0</td>\n",
       "      <td>216900.0</td>\n",
       "      <td>282500.0</td>\n",
       "      <td>295600.0</td>\n",
       "      <td>300000.0</td>\n",
       "      <td>269700.0</td>\n",
       "      <td>231200.0</td>\n",
       "      <td>...</td>\n",
       "      <td>112000.0</td>\n",
       "      <td>107200.0</td>\n",
       "      <td>115600.0</td>\n",
       "      <td>98300.0</td>\n",
       "      <td>116800.0</td>\n",
       "      <td>78100.0</td>\n",
       "      <td>77100.0</td>\n",
       "      <td>92300.0</td>\n",
       "      <td>84700.0</td>\n",
       "      <td>89400.0</td>\n",
       "    </tr>\n",
       "    <tr>\n",
       "      <th>ocean_proximity</th>\n",
       "      <td>&lt;1H OCEAN</td>\n",
       "      <td>&lt;1H OCEAN</td>\n",
       "      <td>&lt;1H OCEAN</td>\n",
       "      <td>&lt;1H OCEAN</td>\n",
       "      <td>&lt;1H OCEAN</td>\n",
       "      <td>&lt;1H OCEAN</td>\n",
       "      <td>&lt;1H OCEAN</td>\n",
       "      <td>&lt;1H OCEAN</td>\n",
       "      <td>&lt;1H OCEAN</td>\n",
       "      <td>&lt;1H OCEAN</td>\n",
       "      <td>...</td>\n",
       "      <td>INLAND</td>\n",
       "      <td>INLAND</td>\n",
       "      <td>INLAND</td>\n",
       "      <td>INLAND</td>\n",
       "      <td>INLAND</td>\n",
       "      <td>INLAND</td>\n",
       "      <td>INLAND</td>\n",
       "      <td>INLAND</td>\n",
       "      <td>INLAND</td>\n",
       "      <td>INLAND</td>\n",
       "    </tr>\n",
       "  </tbody>\n",
       "</table>\n",
       "<p>10 rows × 15687 columns</p>\n",
       "</div>"
      ],
      "text/plain": [
       "                        701        830        859        860        861    \\\n",
       "longitude             -121.97    -121.99    -121.97    -121.96    -121.98   \n",
       "latitude                37.64      37.61      37.57      37.58      37.58   \n",
       "housing_median_age       32.0        9.0       21.0       15.0       20.0   \n",
       "total_rooms            1283.0     3666.0     4342.0     3575.0     4126.0   \n",
       "total_bedrooms          194.0      711.0      783.0      597.0     1031.0   \n",
       "population              485.0     2341.0     2172.0     1777.0     2079.0   \n",
       "households              171.0      703.0      789.0      559.0      975.0   \n",
       "median_income          6.0574     4.6458     4.6146     5.7192     3.6832   \n",
       "median_house_value   431000.0   217000.0   247600.0   283500.0   216900.0   \n",
       "ocean_proximity     <1H OCEAN  <1H OCEAN  <1H OCEAN  <1H OCEAN  <1H OCEAN   \n",
       "\n",
       "                        862        863        870        880        881    \\\n",
       "longitude             -121.99     -122.0    -121.93    -121.99    -121.99   \n",
       "latitude                37.58      37.58      37.49      37.56      37.56   \n",
       "housing_median_age       31.0        6.0        5.0       18.0       20.0   \n",
       "total_rooms            2878.0     4405.0     1150.0     5505.0     6462.0   \n",
       "total_bedrooms          478.0      717.0      311.0     1005.0     1294.0   \n",
       "population             1276.0     2071.0      648.0     2641.0     3288.0   \n",
       "households              485.0      688.0      245.0      971.0     1235.0   \n",
       "median_income          6.2073     5.8151     3.5714        5.0     4.3393   \n",
       "median_house_value   282500.0   295600.0   300000.0   269700.0   231200.0   \n",
       "ocean_proximity     <1H OCEAN  <1H OCEAN  <1H OCEAN  <1H OCEAN  <1H OCEAN   \n",
       "\n",
       "                    ...     20630     20631     20632    20633     20634  \\\n",
       "longitude           ...   -121.32    -121.4   -121.45  -121.53   -121.56   \n",
       "latitude            ...     39.29     39.33     39.26    39.19     39.27   \n",
       "housing_median_age  ...      11.0      15.0      15.0     27.0      28.0   \n",
       "total_rooms         ...    2640.0    2655.0    2319.0   2080.0    2332.0   \n",
       "total_bedrooms      ...     505.0     493.0     416.0    412.0     395.0   \n",
       "population          ...    1257.0    1200.0    1047.0   1082.0    1041.0   \n",
       "households          ...     445.0     432.0     385.0    382.0     344.0   \n",
       "median_income       ...    3.5673    3.5179     3.125   2.5495    3.7125   \n",
       "median_house_value  ...  112000.0  107200.0  115600.0  98300.0  116800.0   \n",
       "ocean_proximity     ...    INLAND    INLAND    INLAND   INLAND    INLAND   \n",
       "\n",
       "                      20635    20636    20637    20638    20639  \n",
       "longitude           -121.09  -121.21  -121.22  -121.32  -121.24  \n",
       "latitude              39.48    39.49    39.43    39.43    39.37  \n",
       "housing_median_age     25.0     18.0     17.0     18.0     16.0  \n",
       "total_rooms          1665.0    697.0   2254.0   1860.0   2785.0  \n",
       "total_bedrooms        374.0    150.0    485.0    409.0    616.0  \n",
       "population            845.0    356.0   1007.0    741.0   1387.0  \n",
       "households            330.0    114.0    433.0    349.0    530.0  \n",
       "median_income        1.5603   2.5568      1.7   1.8672   2.3886  \n",
       "median_house_value  78100.0  77100.0  92300.0  84700.0  89400.0  \n",
       "ocean_proximity      INLAND   INLAND   INLAND   INLAND   INLAND  \n",
       "\n",
       "[10 rows x 15687 columns]"
      ]
     },
     "execution_count": 7,
     "metadata": {},
     "output_type": "execute_result"
    }
   ],
   "source": [
    "df.T"
   ]
  },
  {
   "cell_type": "markdown",
   "id": "cf567540",
   "metadata": {},
   "source": [
    "#Fill missing values with zeros."
   ]
  },
  {
   "cell_type": "code",
   "execution_count": 8,
   "id": "b22793ee",
   "metadata": {},
   "outputs": [
    {
     "data": {
      "text/plain": [
       "longitude               0\n",
       "latitude                0\n",
       "housing_median_age      0\n",
       "total_rooms             0\n",
       "total_bedrooms        157\n",
       "population              0\n",
       "households              0\n",
       "median_income           0\n",
       "median_house_value      0\n",
       "ocean_proximity         0\n",
       "dtype: int64"
      ]
     },
     "execution_count": 8,
     "metadata": {},
     "output_type": "execute_result"
    }
   ],
   "source": [
    "df.isnull().sum()"
   ]
  },
  {
   "cell_type": "code",
   "execution_count": 9,
   "id": "23840c89",
   "metadata": {},
   "outputs": [
    {
     "data": {
      "text/plain": [
       "longitude             0\n",
       "latitude              0\n",
       "housing_median_age    0\n",
       "total_rooms           0\n",
       "total_bedrooms        0\n",
       "population            0\n",
       "households            0\n",
       "median_income         0\n",
       "median_house_value    0\n",
       "ocean_proximity       0\n",
       "dtype: int64"
      ]
     },
     "execution_count": 9,
     "metadata": {},
     "output_type": "execute_result"
    }
   ],
   "source": [
    "df['total_bedrooms'] = df['total_bedrooms'].fillna(0)\n",
    "df.isna().sum()"
   ]
  },
  {
   "cell_type": "markdown",
   "id": "d10d0b6f",
   "metadata": {},
   "source": [
    "#Apply the log transform to median_house_value."
   ]
  },
  {
   "cell_type": "code",
   "execution_count": 10,
   "id": "0900e722",
   "metadata": {},
   "outputs": [
    {
     "data": {
      "text/plain": [
       "701      12.973863\n",
       "830      12.287653\n",
       "859      12.419570\n",
       "860      12.554967\n",
       "861      12.287192\n",
       "           ...    \n",
       "20635    11.265745\n",
       "20636    11.252859\n",
       "20637    11.432799\n",
       "20638    11.346871\n",
       "20639    11.400876\n",
       "Name: median_house_value, Length: 15687, dtype: float64"
      ]
     },
     "execution_count": 10,
     "metadata": {},
     "output_type": "execute_result"
    }
   ],
   "source": [
    "df['median_house_value'] = np.log(df['median_house_value'])\n",
    "df['median_house_value']"
   ]
  },
  {
   "cell_type": "markdown",
   "id": "6adb3c29",
   "metadata": {},
   "source": [
    "#Do train/validation/test split with 60%/20%/20% distribution. Use the train_test_split function and set the random_state parameter to 1."
   ]
  },
  {
   "cell_type": "code",
   "execution_count": 11,
   "id": "e2dc0f07",
   "metadata": {},
   "outputs": [],
   "source": [
    "from sklearn.model_selection import train_test_split"
   ]
  },
  {
   "cell_type": "code",
   "execution_count": 12,
   "id": "d7596a01",
   "metadata": {},
   "outputs": [],
   "source": [
    "df_full, df_test = train_test_split(df, test_size=0.2, random_state=1)\n",
    "df_train, df_val = train_test_split(df_full, test_size=0.25, random_state=1)"
   ]
  },
  {
   "cell_type": "code",
   "execution_count": 13,
   "id": "c09d3f7e",
   "metadata": {},
   "outputs": [],
   "source": [
    "df_train = df_train.reset_index(drop=True)\n",
    "df_val = df_val.reset_index(drop=True)\n",
    "df_test = df_test.reset_index(drop=True)"
   ]
  },
  {
   "cell_type": "code",
   "execution_count": 14,
   "id": "6dc1b61f",
   "metadata": {},
   "outputs": [],
   "source": [
    "#get y values\n",
    "\n",
    "y_train = df_train['median_house_value'].values\n",
    "y_val = df_val['median_house_value'].values\n",
    "y_test = df_test['median_house_value'].values"
   ]
  },
  {
   "cell_type": "code",
   "execution_count": 15,
   "id": "b91d1126",
   "metadata": {},
   "outputs": [],
   "source": [
    "# delete the target values from the dataframe\n",
    "\n",
    "del df_train['median_house_value']\n",
    "del df_val['median_house_value']\n",
    "del df_test['median_house_value']"
   ]
  },
  {
   "cell_type": "code",
   "execution_count": 16,
   "id": "85c9fe31",
   "metadata": {},
   "outputs": [
    {
     "data": {
      "text/html": [
       "<div>\n",
       "<style scoped>\n",
       "    .dataframe tbody tr th:only-of-type {\n",
       "        vertical-align: middle;\n",
       "    }\n",
       "\n",
       "    .dataframe tbody tr th {\n",
       "        vertical-align: top;\n",
       "    }\n",
       "\n",
       "    .dataframe thead th {\n",
       "        text-align: right;\n",
       "    }\n",
       "</style>\n",
       "<table border=\"1\" class=\"dataframe\">\n",
       "  <thead>\n",
       "    <tr style=\"text-align: right;\">\n",
       "      <th></th>\n",
       "      <th>longitude</th>\n",
       "      <th>latitude</th>\n",
       "      <th>housing_median_age</th>\n",
       "      <th>total_rooms</th>\n",
       "      <th>total_bedrooms</th>\n",
       "      <th>population</th>\n",
       "      <th>households</th>\n",
       "      <th>median_income</th>\n",
       "      <th>ocean_proximity</th>\n",
       "    </tr>\n",
       "  </thead>\n",
       "  <tbody>\n",
       "    <tr>\n",
       "      <th>0</th>\n",
       "      <td>-120.25</td>\n",
       "      <td>37.93</td>\n",
       "      <td>13.0</td>\n",
       "      <td>493.0</td>\n",
       "      <td>76.0</td>\n",
       "      <td>196.0</td>\n",
       "      <td>68.0</td>\n",
       "      <td>3.3750</td>\n",
       "      <td>INLAND</td>\n",
       "    </tr>\n",
       "    <tr>\n",
       "      <th>1</th>\n",
       "      <td>-118.40</td>\n",
       "      <td>34.00</td>\n",
       "      <td>10.0</td>\n",
       "      <td>1526.0</td>\n",
       "      <td>339.0</td>\n",
       "      <td>705.0</td>\n",
       "      <td>268.0</td>\n",
       "      <td>5.8083</td>\n",
       "      <td>&lt;1H OCEAN</td>\n",
       "    </tr>\n",
       "    <tr>\n",
       "      <th>2</th>\n",
       "      <td>-121.67</td>\n",
       "      <td>38.85</td>\n",
       "      <td>46.0</td>\n",
       "      <td>645.0</td>\n",
       "      <td>131.0</td>\n",
       "      <td>410.0</td>\n",
       "      <td>122.0</td>\n",
       "      <td>1.7417</td>\n",
       "      <td>INLAND</td>\n",
       "    </tr>\n",
       "    <tr>\n",
       "      <th>3</th>\n",
       "      <td>-118.14</td>\n",
       "      <td>33.88</td>\n",
       "      <td>24.0</td>\n",
       "      <td>3305.0</td>\n",
       "      <td>982.0</td>\n",
       "      <td>2085.0</td>\n",
       "      <td>881.0</td>\n",
       "      <td>2.6641</td>\n",
       "      <td>&lt;1H OCEAN</td>\n",
       "    </tr>\n",
       "    <tr>\n",
       "      <th>4</th>\n",
       "      <td>-118.11</td>\n",
       "      <td>33.92</td>\n",
       "      <td>34.0</td>\n",
       "      <td>1414.0</td>\n",
       "      <td>263.0</td>\n",
       "      <td>983.0</td>\n",
       "      <td>264.0</td>\n",
       "      <td>4.1767</td>\n",
       "      <td>&lt;1H OCEAN</td>\n",
       "    </tr>\n",
       "  </tbody>\n",
       "</table>\n",
       "</div>"
      ],
      "text/plain": [
       "   longitude  latitude  housing_median_age  total_rooms  total_bedrooms  \\\n",
       "0    -120.25     37.93                13.0        493.0            76.0   \n",
       "1    -118.40     34.00                10.0       1526.0           339.0   \n",
       "2    -121.67     38.85                46.0        645.0           131.0   \n",
       "3    -118.14     33.88                24.0       3305.0           982.0   \n",
       "4    -118.11     33.92                34.0       1414.0           263.0   \n",
       "\n",
       "   population  households  median_income ocean_proximity  \n",
       "0       196.0        68.0         3.3750          INLAND  \n",
       "1       705.0       268.0         5.8083       <1H OCEAN  \n",
       "2       410.0       122.0         1.7417          INLAND  \n",
       "3      2085.0       881.0         2.6641       <1H OCEAN  \n",
       "4       983.0       264.0         4.1767       <1H OCEAN  "
      ]
     },
     "execution_count": 16,
     "metadata": {},
     "output_type": "execute_result"
    }
   ],
   "source": [
    "df_train.head()"
   ]
  },
  {
   "cell_type": "code",
   "execution_count": 17,
   "id": "8423a299",
   "metadata": {},
   "outputs": [
    {
     "data": {
      "text/html": [
       "<div>\n",
       "<style scoped>\n",
       "    .dataframe tbody tr th:only-of-type {\n",
       "        vertical-align: middle;\n",
       "    }\n",
       "\n",
       "    .dataframe tbody tr th {\n",
       "        vertical-align: top;\n",
       "    }\n",
       "\n",
       "    .dataframe thead th {\n",
       "        text-align: right;\n",
       "    }\n",
       "</style>\n",
       "<table border=\"1\" class=\"dataframe\">\n",
       "  <thead>\n",
       "    <tr style=\"text-align: right;\">\n",
       "      <th></th>\n",
       "      <th>longitude</th>\n",
       "      <th>latitude</th>\n",
       "      <th>housing_median_age</th>\n",
       "      <th>total_rooms</th>\n",
       "      <th>total_bedrooms</th>\n",
       "      <th>population</th>\n",
       "      <th>households</th>\n",
       "      <th>median_income</th>\n",
       "      <th>ocean_proximity</th>\n",
       "    </tr>\n",
       "  </thead>\n",
       "  <tbody>\n",
       "    <tr>\n",
       "      <th>0</th>\n",
       "      <td>-122.74</td>\n",
       "      <td>38.48</td>\n",
       "      <td>12.0</td>\n",
       "      <td>4174.0</td>\n",
       "      <td>670.0</td>\n",
       "      <td>1882.0</td>\n",
       "      <td>647.0</td>\n",
       "      <td>4.5510</td>\n",
       "      <td>&lt;1H OCEAN</td>\n",
       "    </tr>\n",
       "    <tr>\n",
       "      <th>1</th>\n",
       "      <td>-121.67</td>\n",
       "      <td>36.93</td>\n",
       "      <td>22.0</td>\n",
       "      <td>569.0</td>\n",
       "      <td>132.0</td>\n",
       "      <td>542.0</td>\n",
       "      <td>125.0</td>\n",
       "      <td>2.1875</td>\n",
       "      <td>&lt;1H OCEAN</td>\n",
       "    </tr>\n",
       "    <tr>\n",
       "      <th>2</th>\n",
       "      <td>-120.90</td>\n",
       "      <td>39.95</td>\n",
       "      <td>20.0</td>\n",
       "      <td>1349.0</td>\n",
       "      <td>238.0</td>\n",
       "      <td>601.0</td>\n",
       "      <td>203.0</td>\n",
       "      <td>3.5417</td>\n",
       "      <td>INLAND</td>\n",
       "    </tr>\n",
       "    <tr>\n",
       "      <th>3</th>\n",
       "      <td>-118.14</td>\n",
       "      <td>34.02</td>\n",
       "      <td>44.0</td>\n",
       "      <td>1715.0</td>\n",
       "      <td>460.0</td>\n",
       "      <td>1740.0</td>\n",
       "      <td>423.0</td>\n",
       "      <td>2.7019</td>\n",
       "      <td>&lt;1H OCEAN</td>\n",
       "    </tr>\n",
       "    <tr>\n",
       "      <th>4</th>\n",
       "      <td>-118.11</td>\n",
       "      <td>33.80</td>\n",
       "      <td>36.0</td>\n",
       "      <td>1837.0</td>\n",
       "      <td>319.0</td>\n",
       "      <td>810.0</td>\n",
       "      <td>305.0</td>\n",
       "      <td>4.3897</td>\n",
       "      <td>&lt;1H OCEAN</td>\n",
       "    </tr>\n",
       "  </tbody>\n",
       "</table>\n",
       "</div>"
      ],
      "text/plain": [
       "   longitude  latitude  housing_median_age  total_rooms  total_bedrooms  \\\n",
       "0    -122.74     38.48                12.0       4174.0           670.0   \n",
       "1    -121.67     36.93                22.0        569.0           132.0   \n",
       "2    -120.90     39.95                20.0       1349.0           238.0   \n",
       "3    -118.14     34.02                44.0       1715.0           460.0   \n",
       "4    -118.11     33.80                36.0       1837.0           319.0   \n",
       "\n",
       "   population  households  median_income ocean_proximity  \n",
       "0      1882.0       647.0         4.5510       <1H OCEAN  \n",
       "1       542.0       125.0         2.1875       <1H OCEAN  \n",
       "2       601.0       203.0         3.5417          INLAND  \n",
       "3      1740.0       423.0         2.7019       <1H OCEAN  \n",
       "4       810.0       305.0         4.3897       <1H OCEAN  "
      ]
     },
     "execution_count": 17,
     "metadata": {},
     "output_type": "execute_result"
    }
   ],
   "source": [
    "df_val.head()"
   ]
  },
  {
   "cell_type": "code",
   "execution_count": 18,
   "id": "45907253",
   "metadata": {},
   "outputs": [
    {
     "data": {
      "text/html": [
       "<div>\n",
       "<style scoped>\n",
       "    .dataframe tbody tr th:only-of-type {\n",
       "        vertical-align: middle;\n",
       "    }\n",
       "\n",
       "    .dataframe tbody tr th {\n",
       "        vertical-align: top;\n",
       "    }\n",
       "\n",
       "    .dataframe thead th {\n",
       "        text-align: right;\n",
       "    }\n",
       "</style>\n",
       "<table border=\"1\" class=\"dataframe\">\n",
       "  <thead>\n",
       "    <tr style=\"text-align: right;\">\n",
       "      <th></th>\n",
       "      <th>longitude</th>\n",
       "      <th>latitude</th>\n",
       "      <th>housing_median_age</th>\n",
       "      <th>total_rooms</th>\n",
       "      <th>total_bedrooms</th>\n",
       "      <th>population</th>\n",
       "      <th>households</th>\n",
       "      <th>median_income</th>\n",
       "      <th>ocean_proximity</th>\n",
       "    </tr>\n",
       "  </thead>\n",
       "  <tbody>\n",
       "    <tr>\n",
       "      <th>0</th>\n",
       "      <td>-122.02</td>\n",
       "      <td>37.32</td>\n",
       "      <td>27.0</td>\n",
       "      <td>4336.0</td>\n",
       "      <td>754.0</td>\n",
       "      <td>2009.0</td>\n",
       "      <td>734.0</td>\n",
       "      <td>6.3923</td>\n",
       "      <td>&lt;1H OCEAN</td>\n",
       "    </tr>\n",
       "    <tr>\n",
       "      <th>1</th>\n",
       "      <td>-121.32</td>\n",
       "      <td>37.97</td>\n",
       "      <td>43.0</td>\n",
       "      <td>2453.0</td>\n",
       "      <td>490.0</td>\n",
       "      <td>1093.0</td>\n",
       "      <td>438.0</td>\n",
       "      <td>2.9107</td>\n",
       "      <td>INLAND</td>\n",
       "    </tr>\n",
       "    <tr>\n",
       "      <th>2</th>\n",
       "      <td>-115.37</td>\n",
       "      <td>32.81</td>\n",
       "      <td>23.0</td>\n",
       "      <td>1458.0</td>\n",
       "      <td>294.0</td>\n",
       "      <td>866.0</td>\n",
       "      <td>275.0</td>\n",
       "      <td>2.3594</td>\n",
       "      <td>INLAND</td>\n",
       "    </tr>\n",
       "    <tr>\n",
       "      <th>3</th>\n",
       "      <td>-118.02</td>\n",
       "      <td>34.08</td>\n",
       "      <td>31.0</td>\n",
       "      <td>2402.0</td>\n",
       "      <td>632.0</td>\n",
       "      <td>2830.0</td>\n",
       "      <td>603.0</td>\n",
       "      <td>2.3333</td>\n",
       "      <td>INLAND</td>\n",
       "    </tr>\n",
       "    <tr>\n",
       "      <th>4</th>\n",
       "      <td>-120.50</td>\n",
       "      <td>37.30</td>\n",
       "      <td>29.0</td>\n",
       "      <td>1572.0</td>\n",
       "      <td>456.0</td>\n",
       "      <td>1697.0</td>\n",
       "      <td>429.0</td>\n",
       "      <td>1.7600</td>\n",
       "      <td>INLAND</td>\n",
       "    </tr>\n",
       "  </tbody>\n",
       "</table>\n",
       "</div>"
      ],
      "text/plain": [
       "   longitude  latitude  housing_median_age  total_rooms  total_bedrooms  \\\n",
       "0    -122.02     37.32                27.0       4336.0           754.0   \n",
       "1    -121.32     37.97                43.0       2453.0           490.0   \n",
       "2    -115.37     32.81                23.0       1458.0           294.0   \n",
       "3    -118.02     34.08                31.0       2402.0           632.0   \n",
       "4    -120.50     37.30                29.0       1572.0           456.0   \n",
       "\n",
       "   population  households  median_income ocean_proximity  \n",
       "0      2009.0       734.0         6.3923       <1H OCEAN  \n",
       "1      1093.0       438.0         2.9107          INLAND  \n",
       "2       866.0       275.0         2.3594          INLAND  \n",
       "3      2830.0       603.0         2.3333          INLAND  \n",
       "4      1697.0       429.0         1.7600          INLAND  "
      ]
     },
     "execution_count": 18,
     "metadata": {},
     "output_type": "execute_result"
    }
   ],
   "source": [
    "df_test.head()"
   ]
  },
  {
   "cell_type": "markdown",
   "id": "5767ad08",
   "metadata": {},
   "source": [
    "#Use DictVectorizer(sparse=True) to turn the dataframes into matrices."
   ]
  },
  {
   "cell_type": "code",
   "execution_count": 19,
   "id": "937200d2",
   "metadata": {},
   "outputs": [],
   "source": [
    "from sklearn.feature_extraction import DictVectorizer"
   ]
  },
  {
   "cell_type": "code",
   "execution_count": 20,
   "id": "f3def87f",
   "metadata": {},
   "outputs": [],
   "source": [
    "dv = DictVectorizer(sparse=True)"
   ]
  },
  {
   "cell_type": "code",
   "execution_count": 21,
   "id": "72b91d5c",
   "metadata": {},
   "outputs": [],
   "source": [
    "dict_train = df_train.to_dict(orient='records')"
   ]
  },
  {
   "cell_type": "code",
   "execution_count": 22,
   "id": "b334f7b7",
   "metadata": {},
   "outputs": [],
   "source": [
    "X_train = dv.fit_transform(dict_train)"
   ]
  },
  {
   "cell_type": "code",
   "execution_count": 23,
   "id": "63c8f461",
   "metadata": {},
   "outputs": [],
   "source": [
    "X_train = X_train.toarray()"
   ]
  },
  {
   "cell_type": "code",
   "execution_count": 24,
   "id": "2acaa327",
   "metadata": {},
   "outputs": [
    {
     "data": {
      "text/plain": [
       "array([[  68.  ,   13.  ,   37.93, ...,  196.  ,   76.  ,  493.  ],\n",
       "       [ 268.  ,   10.  ,   34.  , ...,  705.  ,  339.  , 1526.  ],\n",
       "       [ 122.  ,   46.  ,   38.85, ...,  410.  ,  131.  ,  645.  ],\n",
       "       ...,\n",
       "       [ 551.  ,   26.  ,   34.01, ..., 1720.  ,  598.  , 3042.  ],\n",
       "       [ 239.  ,   35.  ,   34.03, ..., 1015.  ,  249.  , 1375.  ],\n",
       "       [ 245.  ,   25.  ,   36.8 , ..., 1050.  ,  255.  , 1270.  ]])"
      ]
     },
     "execution_count": 24,
     "metadata": {},
     "output_type": "execute_result"
    }
   ],
   "source": [
    "X_train"
   ]
  },
  {
   "cell_type": "code",
   "execution_count": 25,
   "id": "a03ed0a7",
   "metadata": {},
   "outputs": [],
   "source": [
    "dict_val = df_val.to_dict(orient='records')\n",
    "X_val = dv.transform(dict_val)"
   ]
  },
  {
   "cell_type": "code",
   "execution_count": 26,
   "id": "793db887",
   "metadata": {},
   "outputs": [],
   "source": [
    "X_val = X_val.toarray()"
   ]
  },
  {
   "cell_type": "code",
   "execution_count": 27,
   "id": "1e3aaaed",
   "metadata": {},
   "outputs": [
    {
     "data": {
      "text/plain": [
       "array([[ 647.  ,   12.  ,   38.48, ..., 1882.  ,  670.  , 4174.  ],\n",
       "       [ 125.  ,   22.  ,   36.93, ...,  542.  ,  132.  ,  569.  ],\n",
       "       [ 203.  ,   20.  ,   39.95, ...,  601.  ,  238.  , 1349.  ],\n",
       "       ...,\n",
       "       [ 343.  ,   25.  ,   33.76, ...,  581.  ,  547.  , 2616.  ],\n",
       "       [ 316.  ,   21.  ,   36.73, ..., 1347.  ,  358.  , 1702.  ],\n",
       "       [ 859.  ,   24.  ,   34.06, ..., 2174.  ,  952.  , 4043.  ]])"
      ]
     },
     "execution_count": 27,
     "metadata": {},
     "output_type": "execute_result"
    }
   ],
   "source": [
    "X_val"
   ]
  },
  {
   "cell_type": "code",
   "execution_count": 28,
   "id": "e1b36e7a",
   "metadata": {},
   "outputs": [
    {
     "name": "stderr",
     "output_type": "stream",
     "text": [
      "C:\\Users\\emman\\anaconda3\\lib\\site-packages\\sklearn\\utils\\deprecation.py:87: FutureWarning: Function get_feature_names is deprecated; get_feature_names is deprecated in 1.0 and will be removed in 1.2. Please use get_feature_names_out instead.\n",
      "  warnings.warn(msg, category=FutureWarning)\n"
     ]
    },
    {
     "data": {
      "text/plain": [
       "['households',\n",
       " 'housing_median_age',\n",
       " 'latitude',\n",
       " 'longitude',\n",
       " 'median_income',\n",
       " 'ocean_proximity=<1H OCEAN',\n",
       " 'ocean_proximity=INLAND',\n",
       " 'population',\n",
       " 'total_bedrooms',\n",
       " 'total_rooms']"
      ]
     },
     "execution_count": 28,
     "metadata": {},
     "output_type": "execute_result"
    }
   ],
   "source": [
    "feature_names = dv.get_feature_names()\n",
    "feature_names"
   ]
  },
  {
   "cell_type": "markdown",
   "id": "8f21f3c1",
   "metadata": {},
   "source": [
    "# Question 1."
   ]
  },
  {
   "cell_type": "markdown",
   "id": "5e56f7d7",
   "metadata": {},
   "source": [
    "#Let's train a decision tree regressor to predict the median_house_value variable.\n",
    "\n",
    "#Train a model with max_depth=1.\n",
    "\n",
    "#Which feature is used for splitting the data?"
   ]
  },
  {
   "cell_type": "code",
   "execution_count": 29,
   "id": "7a4e0fa9",
   "metadata": {},
   "outputs": [],
   "source": [
    "from sklearn.tree import DecisionTreeRegressor, export_text"
   ]
  },
  {
   "cell_type": "code",
   "execution_count": 30,
   "id": "6172f060",
   "metadata": {},
   "outputs": [],
   "source": [
    "stump = DecisionTreeRegressor(max_depth=1)"
   ]
  },
  {
   "cell_type": "code",
   "execution_count": 31,
   "id": "663eaad5",
   "metadata": {},
   "outputs": [
    {
     "data": {
      "text/plain": [
       "DecisionTreeRegressor(max_depth=1)"
      ]
     },
     "execution_count": 31,
     "metadata": {},
     "output_type": "execute_result"
    }
   ],
   "source": [
    "stump.fit(X_train, y_train)"
   ]
  },
  {
   "cell_type": "code",
   "execution_count": 32,
   "id": "eb0fba5f",
   "metadata": {},
   "outputs": [
    {
     "data": {
      "text/plain": [
       "array([12.30066427, 12.30066427, 11.60679717, ..., 11.60679717,\n",
       "       11.60679717, 11.60679717])"
      ]
     },
     "execution_count": 32,
     "metadata": {},
     "output_type": "execute_result"
    }
   ],
   "source": [
    "y_pred = stump.predict(X_val)\n",
    "y_pred"
   ]
  },
  {
   "cell_type": "code",
   "execution_count": 33,
   "id": "509aee55",
   "metadata": {},
   "outputs": [],
   "source": [
    "from sklearn.metrics import mean_squared_error"
   ]
  },
  {
   "cell_type": "code",
   "execution_count": 34,
   "id": "5e8e3f90",
   "metadata": {},
   "outputs": [
    {
     "data": {
      "text/plain": [
       "0.20402313995041776"
      ]
     },
     "execution_count": 34,
     "metadata": {},
     "output_type": "execute_result"
    }
   ],
   "source": [
    "mse = mean_squared_error(y_val, y_pred)\n",
    "mse"
   ]
  },
  {
   "cell_type": "code",
   "execution_count": 35,
   "id": "ad03cbea",
   "metadata": {},
   "outputs": [
    {
     "data": {
      "text/plain": [
       "0.45168920725474254"
      ]
     },
     "execution_count": 35,
     "metadata": {},
     "output_type": "execute_result"
    }
   ],
   "source": [
    "rmse = np.sqrt(mse)\n",
    "rmse"
   ]
  },
  {
   "cell_type": "code",
   "execution_count": 36,
   "id": "a4d3652e",
   "metadata": {},
   "outputs": [
    {
     "name": "stdout",
     "output_type": "stream",
     "text": [
      "|--- ocean_proximity=INLAND <= 0.50\n",
      "|   |--- value: [12.30]\n",
      "|--- ocean_proximity=INLAND >  0.50\n",
      "|   |--- value: [11.61]\n",
      "\n"
     ]
    }
   ],
   "source": [
    "print(export_text(stump, feature_names = feature_names))"
   ]
  },
  {
   "cell_type": "markdown",
   "id": "c0ed80af",
   "metadata": {},
   "source": [
    "# Question 2"
   ]
  },
  {
   "cell_type": "markdown",
   "id": "3a6d5327",
   "metadata": {},
   "source": [
    "#Train a random forest model with these parameters:\n",
    "\n",
    "#n_estimators=10\n",
    "#random_state=1\n",
    "#n_jobs=-1 (optional - to make training faster)\n",
    "\n",
    "#What's the RMSE of this model on validation?"
   ]
  },
  {
   "cell_type": "code",
   "execution_count": 37,
   "id": "9a62189e",
   "metadata": {},
   "outputs": [],
   "source": [
    "from sklearn.ensemble import RandomForestRegressor"
   ]
  },
  {
   "cell_type": "code",
   "execution_count": 38,
   "id": "c2d640ad",
   "metadata": {},
   "outputs": [],
   "source": [
    "rfr = RandomForestRegressor(n_estimators=10, random_state=1, n_jobs=-1)"
   ]
  },
  {
   "cell_type": "code",
   "execution_count": 39,
   "id": "b0a953ba",
   "metadata": {},
   "outputs": [
    {
     "data": {
      "text/plain": [
       "RandomForestRegressor(n_estimators=10, n_jobs=-1, random_state=1)"
      ]
     },
     "execution_count": 39,
     "metadata": {},
     "output_type": "execute_result"
    }
   ],
   "source": [
    "rfr.fit(X_train, y_train)"
   ]
  },
  {
   "cell_type": "code",
   "execution_count": 40,
   "id": "b4568c54",
   "metadata": {},
   "outputs": [
    {
     "data": {
      "text/plain": [
       "array([12.25506827, 12.07467659, 11.59777905, ..., 11.72981962,\n",
       "       11.24840573, 11.64112568])"
      ]
     },
     "execution_count": 40,
     "metadata": {},
     "output_type": "execute_result"
    }
   ],
   "source": [
    "y_pred = rfr.predict(X_val)\n",
    "y_pred"
   ]
  },
  {
   "cell_type": "code",
   "execution_count": 41,
   "id": "4a3ad707",
   "metadata": {},
   "outputs": [
    {
     "data": {
      "text/plain": [
       "0.06021672434682838"
      ]
     },
     "execution_count": 41,
     "metadata": {},
     "output_type": "execute_result"
    }
   ],
   "source": [
    "mse = mean_squared_error(y_val, y_pred)\n",
    "mse"
   ]
  },
  {
   "cell_type": "code",
   "execution_count": 42,
   "id": "cc85f1a1",
   "metadata": {},
   "outputs": [
    {
     "name": "stdout",
     "output_type": "stream",
     "text": [
      "rmse : 0.245\n"
     ]
    }
   ],
   "source": [
    "print('rmse :', np.sqrt(mse).round(3))"
   ]
  },
  {
   "cell_type": "markdown",
   "id": "84bf8e05",
   "metadata": {},
   "source": [
    "# Question 3"
   ]
  },
  {
   "cell_type": "markdown",
   "id": "fbcdb97c",
   "metadata": {},
   "source": [
    "#Now let's experiment with the n_estimators parameter\n",
    "#Try different values of this parameter from 10 to 200 with step 10.\n",
    "#Set random_state to 1.\n",
    "#Evaluate the model on the validation dataset.\n",
    "\n",
    "#After which value of n_estimators does RMSE stop improving? Consider 3 decimal places for retrieving the answer."
   ]
  },
  {
   "cell_type": "code",
   "execution_count": 43,
   "id": "4e271a9c",
   "metadata": {},
   "outputs": [
    {
     "data": {
      "text/plain": [
       "array([ 10,  20,  30,  40,  50,  60,  70,  80,  90, 100, 110, 120, 130,\n",
       "       140, 150, 160, 170, 180, 190, 200])"
      ]
     },
     "execution_count": 43,
     "metadata": {},
     "output_type": "execute_result"
    }
   ],
   "source": [
    "n = np.arange(10, 201, 10)\n",
    "n"
   ]
  },
  {
   "cell_type": "code",
   "execution_count": 44,
   "id": "5994680b",
   "metadata": {},
   "outputs": [
    {
     "name": "stdout",
     "output_type": "stream",
     "text": [
      "rmse: 10 --> 0.245\n",
      "rmse: 20 --> 0.239\n",
      "rmse: 30 --> 0.237\n",
      "rmse: 40 --> 0.235\n",
      "rmse: 50 --> 0.235\n",
      "rmse: 60 --> 0.235\n",
      "rmse: 70 --> 0.235\n",
      "rmse: 80 --> 0.235\n",
      "rmse: 90 --> 0.234\n",
      "rmse: 100 --> 0.234\n",
      "rmse: 110 --> 0.234\n",
      "rmse: 120 --> 0.234\n",
      "rmse: 130 --> 0.234\n",
      "rmse: 140 --> 0.234\n",
      "rmse: 150 --> 0.234\n",
      "rmse: 160 --> 0.233\n",
      "rmse: 170 --> 0.233\n",
      "rmse: 180 --> 0.234\n",
      "rmse: 190 --> 0.234\n",
      "rmse: 200 --> 0.234\n"
     ]
    }
   ],
   "source": [
    "for n in np.arange(10, 201, 10):\n",
    "    \n",
    "    rfr = RandomForestRegressor(n_estimators=n, random_state=1, n_jobs=-1)\n",
    "    rfr.fit(X_train, y_train)\n",
    "    y_pred = rfr.predict(X_val)\n",
    "    \n",
    "    mse = mean_squared_error(y_val, y_pred)\n",
    "    \n",
    "    print('rmse: %s --> %.3f' % (n, np.sqrt(mse)))"
   ]
  },
  {
   "cell_type": "code",
   "execution_count": 45,
   "id": "0080673d",
   "metadata": {},
   "outputs": [],
   "source": [
    "# do the above in a dataframe\n",
    "\n",
    "scores = []\n",
    "for n in np.arange(10, 201, 10):\n",
    "    \n",
    "    rfr = RandomForestRegressor(n_estimators=n, random_state=1, n_jobs=-1)\n",
    "    rfr.fit(X_train, y_train)\n",
    "    y_pred = rfr.predict(X_val)\n",
    "    \n",
    "    mse = mean_squared_error(y_val, y_pred)\n",
    "    rmse = np.sqrt(mse).round(3)\n",
    "    scores.append((n, rmse))"
   ]
  },
  {
   "cell_type": "code",
   "execution_count": 46,
   "id": "804db155",
   "metadata": {},
   "outputs": [],
   "source": [
    "df_scores = pd.DataFrame(scores, columns=['n_estimators', 'rmse'])"
   ]
  },
  {
   "cell_type": "code",
   "execution_count": 47,
   "id": "462ef533",
   "metadata": {},
   "outputs": [
    {
     "data": {
      "text/html": [
       "<div>\n",
       "<style scoped>\n",
       "    .dataframe tbody tr th:only-of-type {\n",
       "        vertical-align: middle;\n",
       "    }\n",
       "\n",
       "    .dataframe tbody tr th {\n",
       "        vertical-align: top;\n",
       "    }\n",
       "\n",
       "    .dataframe thead th {\n",
       "        text-align: right;\n",
       "    }\n",
       "</style>\n",
       "<table border=\"1\" class=\"dataframe\">\n",
       "  <thead>\n",
       "    <tr style=\"text-align: right;\">\n",
       "      <th></th>\n",
       "      <th>n_estimators</th>\n",
       "      <th>rmse</th>\n",
       "    </tr>\n",
       "  </thead>\n",
       "  <tbody>\n",
       "    <tr>\n",
       "      <th>16</th>\n",
       "      <td>170</td>\n",
       "      <td>0.233</td>\n",
       "    </tr>\n",
       "    <tr>\n",
       "      <th>15</th>\n",
       "      <td>160</td>\n",
       "      <td>0.233</td>\n",
       "    </tr>\n",
       "    <tr>\n",
       "      <th>9</th>\n",
       "      <td>100</td>\n",
       "      <td>0.234</td>\n",
       "    </tr>\n",
       "    <tr>\n",
       "      <th>17</th>\n",
       "      <td>180</td>\n",
       "      <td>0.234</td>\n",
       "    </tr>\n",
       "    <tr>\n",
       "      <th>14</th>\n",
       "      <td>150</td>\n",
       "      <td>0.234</td>\n",
       "    </tr>\n",
       "  </tbody>\n",
       "</table>\n",
       "</div>"
      ],
      "text/plain": [
       "    n_estimators   rmse\n",
       "16           170  0.233\n",
       "15           160  0.233\n",
       "9            100  0.234\n",
       "17           180  0.234\n",
       "14           150  0.234"
      ]
     },
     "execution_count": 47,
     "metadata": {},
     "output_type": "execute_result"
    }
   ],
   "source": [
    "df_scores.sort_values(by='rmse', ascending=True).head()"
   ]
  },
  {
   "cell_type": "code",
   "execution_count": 48,
   "id": "0c72a82c",
   "metadata": {},
   "outputs": [
    {
     "data": {
      "text/plain": [
       "Text(0, 0.5, 'RMSE')"
      ]
     },
     "execution_count": 48,
     "metadata": {},
     "output_type": "execute_result"
    },
    {
     "data": {
      "image/png": "[encoded data removed]",
      "text/plain": [
       "<Figure size 432x288 with 1 Axes>"
      ]
     },
     "metadata": {
      "needs_background": "light"
     },
     "output_type": "display_data"
    }
   ],
   "source": [
    "plt.plot(df_scores['n_estimators'], df_scores['rmse'])\n",
    "plt.xlabel('n_estimators')\n",
    "plt.ylabel('RMSE')"
   ]
  },
  {
   "cell_type": "code",
   "execution_count": 49,
   "id": "b0d665d4",
   "metadata": {},
   "outputs": [
    {
     "data": {
      "text/plain": [
       "<AxesSubplot:xlabel='n_estimators', ylabel='rmse'>"
      ]
     },
     "execution_count": 49,
     "metadata": {},
     "output_type": "execute_result"
    },
    {
     "data": {
      "image/png": "[encoded data removed]",
      "text/plain": [
       "<Figure size 432x288 with 1 Axes>"
      ]
     },
     "metadata": {
      "needs_background": "light"
     },
     "output_type": "display_data"
    }
   ],
   "source": [
    "sns.lineplot(data=df_scores, x='n_estimators', y='rmse')"
   ]
  },
  {
   "cell_type": "markdown",
   "id": "a6ba4e3d",
   "metadata": {},
   "source": [
    "# Question 4"
   ]
  },
  {
   "cell_type": "markdown",
   "id": "7a892fdd",
   "metadata": {},
   "source": [
    "#Let's select the best max_depth:\n",
    "\n",
    "#Try different values of max_depth: [10, 15, 20, 25]\n",
    "#For each of these values,\n",
    "#try different values of n_estimators from 10 till 200 (with step 10)\n",
    "#calculate the mean RMSE\n",
    "#Fix the random seed: random_state=1\n",
    "\n",
    "#What's the best max_depth, using the mean RMSE?"
   ]
  },
  {
   "cell_type": "code",
   "execution_count": 50,
   "id": "0b62c351",
   "metadata": {},
   "outputs": [
    {
     "data": {
      "text/plain": [
       "array([10, 15, 20, 25])"
      ]
     },
     "execution_count": 50,
     "metadata": {},
     "output_type": "execute_result"
    }
   ],
   "source": [
    "np.arange(10, 26, 5)"
   ]
  },
  {
   "cell_type": "code",
   "execution_count": 51,
   "id": "754f50d5",
   "metadata": {},
   "outputs": [],
   "source": [
    "scores = []\n",
    "\n",
    "for d in np.arange(10, 26, 5):\n",
    "    for n in np.arange(10, 201, 10):\n",
    "        rfr = RandomForestRegressor(max_depth=d, n_estimators=n, random_state=1, n_jobs=-1)\n",
    "        rfr.fit(X_train, y_train)\n",
    "        \n",
    "        y_pred = rfr.predict(X_val)\n",
    "        mse = mean_squared_error(y_val, y_pred)\n",
    "        rmse = np.sqrt(mse)\n",
    "        \n",
    "        scores.append((d, n, rmse))"
   ]
  },
  {
   "cell_type": "code",
   "execution_count": 52,
   "id": "d34badec",
   "metadata": {},
   "outputs": [
    {
     "data": {
      "text/html": [
       "<div>\n",
       "<style scoped>\n",
       "    .dataframe tbody tr th:only-of-type {\n",
       "        vertical-align: middle;\n",
       "    }\n",
       "\n",
       "    .dataframe tbody tr th {\n",
       "        vertical-align: top;\n",
       "    }\n",
       "\n",
       "    .dataframe thead th {\n",
       "        text-align: right;\n",
       "    }\n",
       "</style>\n",
       "<table border=\"1\" class=\"dataframe\">\n",
       "  <thead>\n",
       "    <tr style=\"text-align: right;\">\n",
       "      <th></th>\n",
       "      <th>max_depth</th>\n",
       "      <th>n_estimators</th>\n",
       "      <th>rmse</th>\n",
       "    </tr>\n",
       "  </thead>\n",
       "  <tbody>\n",
       "    <tr>\n",
       "      <th>0</th>\n",
       "      <td>10</td>\n",
       "      <td>10</td>\n",
       "      <td>0.251031</td>\n",
       "    </tr>\n",
       "    <tr>\n",
       "      <th>1</th>\n",
       "      <td>10</td>\n",
       "      <td>20</td>\n",
       "      <td>0.247365</td>\n",
       "    </tr>\n",
       "    <tr>\n",
       "      <th>2</th>\n",
       "      <td>10</td>\n",
       "      <td>30</td>\n",
       "      <td>0.246326</td>\n",
       "    </tr>\n",
       "    <tr>\n",
       "      <th>3</th>\n",
       "      <td>10</td>\n",
       "      <td>40</td>\n",
       "      <td>0.245064</td>\n",
       "    </tr>\n",
       "    <tr>\n",
       "      <th>4</th>\n",
       "      <td>10</td>\n",
       "      <td>50</td>\n",
       "      <td>0.245402</td>\n",
       "    </tr>\n",
       "  </tbody>\n",
       "</table>\n",
       "</div>"
      ],
      "text/plain": [
       "   max_depth  n_estimators      rmse\n",
       "0         10            10  0.251031\n",
       "1         10            20  0.247365\n",
       "2         10            30  0.246326\n",
       "3         10            40  0.245064\n",
       "4         10            50  0.245402"
      ]
     },
     "execution_count": 52,
     "metadata": {},
     "output_type": "execute_result"
    }
   ],
   "source": [
    "df_scores = pd.DataFrame(scores, columns=['max_depth', 'n_estimators', 'rmse'])\n",
    "df_scores.head()"
   ]
  },
  {
   "cell_type": "code",
   "execution_count": 53,
   "id": "0b476811",
   "metadata": {},
   "outputs": [
    {
     "data": {
      "text/html": [
       "<div>\n",
       "<style scoped>\n",
       "    .dataframe tbody tr th:only-of-type {\n",
       "        vertical-align: middle;\n",
       "    }\n",
       "\n",
       "    .dataframe tbody tr th {\n",
       "        vertical-align: top;\n",
       "    }\n",
       "\n",
       "    .dataframe thead th {\n",
       "        text-align: right;\n",
       "    }\n",
       "</style>\n",
       "<table border=\"1\" class=\"dataframe\">\n",
       "  <thead>\n",
       "    <tr style=\"text-align: right;\">\n",
       "      <th></th>\n",
       "      <th>max_depth</th>\n",
       "      <th>n_estimators</th>\n",
       "      <th>rmse</th>\n",
       "    </tr>\n",
       "  </thead>\n",
       "  <tbody>\n",
       "    <tr>\n",
       "      <th>55</th>\n",
       "      <td>20</td>\n",
       "      <td>160</td>\n",
       "      <td>0.232994</td>\n",
       "    </tr>\n",
       "    <tr>\n",
       "      <th>56</th>\n",
       "      <td>20</td>\n",
       "      <td>170</td>\n",
       "      <td>0.233037</td>\n",
       "    </tr>\n",
       "    <tr>\n",
       "      <th>54</th>\n",
       "      <td>20</td>\n",
       "      <td>150</td>\n",
       "      <td>0.233109</td>\n",
       "    </tr>\n",
       "    <tr>\n",
       "      <th>53</th>\n",
       "      <td>20</td>\n",
       "      <td>140</td>\n",
       "      <td>0.233118</td>\n",
       "    </tr>\n",
       "    <tr>\n",
       "      <th>57</th>\n",
       "      <td>20</td>\n",
       "      <td>180</td>\n",
       "      <td>0.233279</td>\n",
       "    </tr>\n",
       "    <tr>\n",
       "      <th>...</th>\n",
       "      <td>...</td>\n",
       "      <td>...</td>\n",
       "      <td>...</td>\n",
       "    </tr>\n",
       "    <tr>\n",
       "      <th>8</th>\n",
       "      <td>10</td>\n",
       "      <td>90</td>\n",
       "      <td>0.245530</td>\n",
       "    </tr>\n",
       "    <tr>\n",
       "      <th>7</th>\n",
       "      <td>10</td>\n",
       "      <td>80</td>\n",
       "      <td>0.245668</td>\n",
       "    </tr>\n",
       "    <tr>\n",
       "      <th>2</th>\n",
       "      <td>10</td>\n",
       "      <td>30</td>\n",
       "      <td>0.246326</td>\n",
       "    </tr>\n",
       "    <tr>\n",
       "      <th>1</th>\n",
       "      <td>10</td>\n",
       "      <td>20</td>\n",
       "      <td>0.247365</td>\n",
       "    </tr>\n",
       "    <tr>\n",
       "      <th>0</th>\n",
       "      <td>10</td>\n",
       "      <td>10</td>\n",
       "      <td>0.251031</td>\n",
       "    </tr>\n",
       "  </tbody>\n",
       "</table>\n",
       "<p>80 rows × 3 columns</p>\n",
       "</div>"
      ],
      "text/plain": [
       "    max_depth  n_estimators      rmse\n",
       "55         20           160  0.232994\n",
       "56         20           170  0.233037\n",
       "54         20           150  0.233109\n",
       "53         20           140  0.233118\n",
       "57         20           180  0.233279\n",
       "..        ...           ...       ...\n",
       "8          10            90  0.245530\n",
       "7          10            80  0.245668\n",
       "2          10            30  0.246326\n",
       "1          10            20  0.247365\n",
       "0          10            10  0.251031\n",
       "\n",
       "[80 rows x 3 columns]"
      ]
     },
     "execution_count": 53,
     "metadata": {},
     "output_type": "execute_result"
    }
   ],
   "source": [
    "df_scores.sort_values(by='rmse', ascending=True)"
   ]
  },
  {
   "cell_type": "code",
   "execution_count": 54,
   "id": "f8dbb3fc",
   "metadata": {},
   "outputs": [
    {
     "data": {
      "text/plain": [
       "<matplotlib.legend.Legend at 0x1dd0f02d130>"
      ]
     },
     "execution_count": 54,
     "metadata": {},
     "output_type": "execute_result"
    },
    {
     "data": {
      "image/png": "[encoded data removed]",
      "text/plain": [
       "<Figure size 432x288 with 1 Axes>"
      ]
     },
     "metadata": {
      "needs_background": "light"
     },
     "output_type": "display_data"
    }
   ],
   "source": [
    "for d in np.arange(10,26,5):\n",
    "    df_subset = df_scores[df_scores['max_depth'] == d]\n",
    "    plt.plot(df_subset['n_estimators'], df_subset['rmse'], label = 'max_depth=%s' % d)\n",
    "    plt.ylabel('RMSE')\n",
    "    plt.xlabel('num of trees')\n",
    "    \n",
    "plt.legend()                      "
   ]
  },
  {
   "cell_type": "markdown",
   "id": "15d10091",
   "metadata": {},
   "source": [
    "# Question 5"
   ]
  },
  {
   "cell_type": "markdown",
   "id": "274b7678",
   "metadata": {},
   "source": [
    "#Train the model with these parameters:\n",
    "#n_estimators=10,\n",
    "#max_depth=20,\n",
    "#random_state=1,\n",
    "#n_jobs=-1 (optional)\n",
    "\n",
    "#Get the feature importance information from this model: What's the most important feature?"
   ]
  },
  {
   "cell_type": "code",
   "execution_count": 55,
   "id": "905d62dc",
   "metadata": {},
   "outputs": [],
   "source": [
    "rfr = RandomForestRegressor(n_estimators=10, max_depth=20, random_state=1, n_jobs=-1)"
   ]
  },
  {
   "cell_type": "code",
   "execution_count": 56,
   "id": "2b7aabfd",
   "metadata": {},
   "outputs": [
    {
     "data": {
      "text/plain": [
       "RandomForestRegressor(max_depth=20, n_estimators=10, n_jobs=-1, random_state=1)"
      ]
     },
     "execution_count": 56,
     "metadata": {},
     "output_type": "execute_result"
    }
   ],
   "source": [
    "rfr.fit(X_train, y_train)"
   ]
  },
  {
   "cell_type": "code",
   "execution_count": 57,
   "id": "a65bd75b",
   "metadata": {},
   "outputs": [
    {
     "data": {
      "text/plain": [
       "array([0.01455543, 0.03032307, 0.1015149 , 0.08709334, 0.33574968,\n",
       "       0.03529711, 0.33098244, 0.02834515, 0.01515447, 0.0209844 ])"
      ]
     },
     "execution_count": 57,
     "metadata": {},
     "output_type": "execute_result"
    }
   ],
   "source": [
    "rfr.feature_importances_"
   ]
  },
  {
   "cell_type": "code",
   "execution_count": 58,
   "id": "9b703733",
   "metadata": {},
   "outputs": [
    {
     "data": {
      "text/plain": [
       "array(['households', 'housing_median_age', 'latitude', 'longitude',\n",
       "       'median_income', 'ocean_proximity=<1H OCEAN',\n",
       "       'ocean_proximity=INLAND', 'population', 'total_bedrooms',\n",
       "       'total_rooms'], dtype=object)"
      ]
     },
     "execution_count": 58,
     "metadata": {},
     "output_type": "execute_result"
    }
   ],
   "source": [
    "dv.get_feature_names_out()"
   ]
  },
  {
   "cell_type": "code",
   "execution_count": 59,
   "id": "35924ed1",
   "metadata": {},
   "outputs": [
    {
     "data": {
      "text/plain": [
       "[(0.014555433639129112, 'households'),\n",
       " (0.015154470388830596, 'total_bedrooms'),\n",
       " (0.02098439729588685, 'total_rooms'),\n",
       " (0.028345150071234615, 'population'),\n",
       " (0.030323074073114614, 'housing_median_age'),\n",
       " (0.035297113178256095, 'ocean_proximity=<1H OCEAN'),\n",
       " (0.08709333928795959, 'longitude'),\n",
       " (0.1015149049221652, 'latitude'),\n",
       " (0.33098243681580797, 'ocean_proximity=INLAND'),\n",
       " (0.3357496803276153, 'median_income')]"
      ]
     },
     "execution_count": 59,
     "metadata": {},
     "output_type": "execute_result"
    }
   ],
   "source": [
    "feature_importance = list(zip(rfr.feature_importances_, dv.get_feature_names_out()))\n",
    "feature_importance.sort()\n",
    "feature_importance"
   ]
  },
  {
   "cell_type": "markdown",
   "id": "a9ef7887",
   "metadata": {},
   "source": [
    "# Question 6"
   ]
  },
  {
   "cell_type": "markdown",
   "id": "ed311eb0",
   "metadata": {},
   "source": [
    "#Now let's train an XGBoost model! For this question, we'll tune the eta parameter:\n",
    "\n",
    "#Create DMatrix for train and validation\n",
    "\n",
    "#Create a watchlist\n",
    "\n",
    "#Train a model with these parameters for 100 rounds:\n",
    "\n",
    "#Now change eta from 0.3 to 0.1.\n",
    "\n",
    "#Which eta leads to the best RMSE score on the validation dataset?"
   ]
  },
  {
   "cell_type": "code",
   "execution_count": 60,
   "id": "6c3c1836",
   "metadata": {},
   "outputs": [
    {
     "name": "stdout",
     "output_type": "stream",
     "text": [
      "Requirement already satisfied: xgboost in c:\\users\\emman\\anaconda3\\lib\\site-packages (2.0.0)\n",
      "Requirement already satisfied: scipy in c:\\users\\emman\\anaconda3\\lib\\site-packages (from xgboost) (1.7.3)\n",
      "Requirement already satisfied: numpy in c:\\users\\emman\\anaconda3\\lib\\site-packages (from xgboost) (1.22.4)\n"
     ]
    }
   ],
   "source": [
    "!pip install xgboost"
   ]
  },
  {
   "cell_type": "code",
   "execution_count": 61,
   "id": "656bcc34",
   "metadata": {},
   "outputs": [],
   "source": [
    "import xgboost as xgb"
   ]
  },
  {
   "cell_type": "code",
   "execution_count": 62,
   "id": "04b6cd97",
   "metadata": {},
   "outputs": [
    {
     "data": {
      "text/plain": [
       "['households',\n",
       " 'housing_median_age',\n",
       " 'latitude',\n",
       " 'longitude',\n",
       " 'median_income',\n",
       " 'ocean_proximity=<1H OCEAN',\n",
       " 'ocean_proximity=INLAND',\n",
       " 'population',\n",
       " 'total_bedrooms',\n",
       " 'total_rooms']"
      ]
     },
     "execution_count": 62,
     "metadata": {},
     "output_type": "execute_result"
    }
   ],
   "source": [
    "feature_names"
   ]
  },
  {
   "cell_type": "code",
   "execution_count": 63,
   "id": "bf7ee1cc",
   "metadata": {},
   "outputs": [
    {
     "data": {
      "text/plain": [
       "['households',\n",
       " 'housing_median_age',\n",
       " 'latitude',\n",
       " 'longitude',\n",
       " 'median_income',\n",
       " 'ocean_proximity_1H OCEAN',\n",
       " 'ocean_proximity=INLAND',\n",
       " 'population',\n",
       " 'total_bedrooms',\n",
       " 'total_rooms']"
      ]
     },
     "execution_count": 63,
     "metadata": {},
     "output_type": "execute_result"
    }
   ],
   "source": [
    "feature_names[5] = feature_names[5].replace('=<', '_')\n",
    "feature_names"
   ]
  },
  {
   "cell_type": "code",
   "execution_count": 64,
   "id": "48e8e46a",
   "metadata": {},
   "outputs": [],
   "source": [
    "dtrain = xgb.DMatrix(X_train, label=y_train, feature_names=feature_names)\n",
    "dval = xgb.DMatrix(X_val, label=y_val, feature_names=feature_names)"
   ]
  },
  {
   "cell_type": "code",
   "execution_count": 65,
   "id": "a014fee7",
   "metadata": {},
   "outputs": [],
   "source": [
    "xgb_params = {\n",
    "    'eta': 0.3,\n",
    "    'max_depth': 6,\n",
    "    'min_child_weight': 1,\n",
    "    \n",
    "    'objective': 'reg:squarederror',\n",
    "    'nthread': 8,\n",
    "    \n",
    "    'seed': 1,\n",
    "    'verbosity': 1\n",
    "}\n",
    "\n",
    "model = xgb.train(xgb_params, dtrain, num_boost_round=100)"
   ]
  },
  {
   "cell_type": "code",
   "execution_count": 66,
   "id": "159824b7",
   "metadata": {},
   "outputs": [],
   "source": [
    "y_pred = model.predict(dval)"
   ]
  },
  {
   "cell_type": "code",
   "execution_count": 67,
   "id": "0bfc5044",
   "metadata": {},
   "outputs": [
    {
     "data": {
      "text/plain": [
       "0.0523181084310268"
      ]
     },
     "execution_count": 67,
     "metadata": {},
     "output_type": "execute_result"
    }
   ],
   "source": [
    "mse = mean_squared_error(y_val, y_pred)\n",
    "mse"
   ]
  },
  {
   "cell_type": "code",
   "execution_count": 68,
   "id": "fe15512a",
   "metadata": {},
   "outputs": [
    {
     "name": "stdout",
     "output_type": "stream",
     "text": [
      "rmse : 0.3 --> 0.22873152041427697\n"
     ]
    }
   ],
   "source": [
    "print('rmse :', '%s --> %s' % (xgb_params['eta'], np.sqrt(mse)))"
   ]
  },
  {
   "cell_type": "code",
   "execution_count": 69,
   "id": "a1ebd69f",
   "metadata": {},
   "outputs": [],
   "source": [
    "xgb_params = {\n",
    "    'eta': 0.1,\n",
    "    'max_depth': 6,\n",
    "    'min_child_weight': 1,\n",
    "    \n",
    "    'objective': 'reg:squarederror',\n",
    "    'nthread': 8,\n",
    "    \n",
    "    'seed': 1,\n",
    "    'verbosity': 1\n",
    "}\n",
    "\n",
    "model = xgb.train(xgb_params, dtrain, num_boost_round=100)"
   ]
  },
  {
   "cell_type": "code",
   "execution_count": 70,
   "id": "a7771db3",
   "metadata": {},
   "outputs": [
    {
     "data": {
      "text/plain": [
       "0.05386629861289511"
      ]
     },
     "execution_count": 70,
     "metadata": {},
     "output_type": "execute_result"
    }
   ],
   "source": [
    "y_pred = model.predict(dval)\n",
    "mse = mean_squared_error(y_val, y_pred)\n",
    "mse"
   ]
  },
  {
   "cell_type": "code",
   "execution_count": 71,
   "id": "f7735a53",
   "metadata": {},
   "outputs": [
    {
     "name": "stdout",
     "output_type": "stream",
     "text": [
      "rmse : 0.1 --> 0.23209114290057498\n"
     ]
    }
   ],
   "source": [
    "print('rmse :', '%s --> %s' % (xgb_params['eta'], np.sqrt(mse)))"
   ]
  },
  {
   "cell_type": "markdown",
   "id": "0805e2d6",
   "metadata": {},
   "source": [
    "#Watchlist resolution below:"
   ]
  },
  {
   "cell_type": "code",
   "execution_count": 72,
   "id": "6d3fa00f",
   "metadata": {},
   "outputs": [],
   "source": [
    "watchlist = [(dtrain, 'train'), (dval, 'val')]"
   ]
  },
  {
   "cell_type": "code",
   "execution_count": 73,
   "id": "85280754",
   "metadata": {},
   "outputs": [
    {
     "name": "stdout",
     "output_type": "stream",
     "text": [
      "[0]\ttrain-rmse:0.44351\tval-rmse:0.44250\n",
      "[5]\ttrain-rmse:0.25338\tval-rmse:0.27463\n",
      "[10]\ttrain-rmse:0.21445\tval-rmse:0.25179\n",
      "[15]\ttrain-rmse:0.19858\tval-rmse:0.24523\n",
      "[20]\ttrain-rmse:0.18524\tval-rmse:0.23978\n",
      "[25]\ttrain-rmse:0.17757\tval-rmse:0.23830\n",
      "[30]\ttrain-rmse:0.16888\tval-rmse:0.23571\n",
      "[35]\ttrain-rmse:0.16113\tval-rmse:0.23416\n",
      "[40]\ttrain-rmse:0.15542\tval-rmse:0.23319\n",
      "[45]\ttrain-rmse:0.14941\tval-rmse:0.23190\n",
      "[50]\ttrain-rmse:0.14536\tval-rmse:0.23225\n",
      "[55]\ttrain-rmse:0.14150\tval-rmse:0.23197\n",
      "[60]\ttrain-rmse:0.13719\tval-rmse:0.23139\n",
      "[65]\ttrain-rmse:0.13260\tval-rmse:0.23158\n",
      "[70]\ttrain-rmse:0.12943\tval-rmse:0.23068\n",
      "[75]\ttrain-rmse:0.12555\tval-rmse:0.23039\n",
      "[80]\ttrain-rmse:0.12192\tval-rmse:0.22886\n",
      "[85]\ttrain-rmse:0.11854\tval-rmse:0.22888\n",
      "[90]\ttrain-rmse:0.11504\tval-rmse:0.22877\n",
      "[95]\ttrain-rmse:0.11266\tval-rmse:0.22865\n",
      "[99]\ttrain-rmse:0.11043\tval-rmse:0.22873\n"
     ]
    }
   ],
   "source": [
    "xgb_params = {\n",
    "    'eta': 0.3,\n",
    "    'max_depth': 6,\n",
    "    'min_child_weight': 1,\n",
    "    \n",
    "    'objective': 'reg:squarederror',\n",
    "    'nthread': 8,\n",
    "    \n",
    "    'seed': 1,\n",
    "    'verbosity': 1\n",
    "}\n",
    "\n",
    "model = xgb.train(xgb_params, dtrain, evals=watchlist, verbose_eval=5, num_boost_round=100)"
   ]
  },
  {
   "cell_type": "code",
   "execution_count": 74,
   "id": "1efea823",
   "metadata": {},
   "outputs": [],
   "source": [
    "%%capture output\n",
    "\n",
    "xgb_params = {\n",
    "    'eta': 0.3,\n",
    "    'max_depth': 6,\n",
    "    'min_child_weight': 1,\n",
    "    \n",
    "    'objective': 'reg:squarederror',\n",
    "    'nthread': 8,\n",
    "    \n",
    "    'seed': 1,\n",
    "    'verbosity': 1\n",
    "}\n",
    "\n",
    "model = xgb.train(xgb_params, dtrain, evals=watchlist, verbose_eval=5, num_boost_round=100)"
   ]
  },
  {
   "cell_type": "code",
   "execution_count": 75,
   "id": "e8c5f82b",
   "metadata": {},
   "outputs": [
    {
     "data": {
      "text/plain": [
       "'[0]\\ttrain-rmse:0.44351\\tval-rmse:0.44250\\n[5]\\ttrain-rmse:0.25338\\tval-rmse:0.27463\\n[10]\\ttrain-rmse:0.21445\\tval-rmse:0.25179\\n[15]\\ttrain-rmse:0.19858\\tval-rmse:0.24523\\n[20]\\ttrain-rmse:0.18524\\tval-rmse:0.23978\\n[25]\\ttrain-rmse:0.17757\\tval-rmse:0.23830\\n[30]\\ttrain-rmse:0.16888\\tval-rmse:0.23571\\n[35]\\ttrain-rmse:0.16113\\tval-rmse:0.23416\\n[40]\\ttrain-rmse:0.15542\\tval-rmse:0.23319\\n[45]\\ttrain-rmse:0.14941\\tval-rmse:0.23190\\n[50]\\ttrain-rmse:0.14536\\tval-rmse:0.23225\\n[55]\\ttrain-rmse:0.14150\\tval-rmse:0.23197\\n[60]\\ttrain-rmse:0.13719\\tval-rmse:0.23139\\n[65]\\ttrain-rmse:0.13260\\tval-rmse:0.23158\\n[70]\\ttrain-rmse:0.12943\\tval-rmse:0.23068\\n[75]\\ttrain-rmse:0.12555\\tval-rmse:0.23039\\n[80]\\ttrain-rmse:0.12192\\tval-rmse:0.22886\\n[85]\\ttrain-rmse:0.11854\\tval-rmse:0.22888\\n[90]\\ttrain-rmse:0.11504\\tval-rmse:0.22877\\n[95]\\ttrain-rmse:0.11266\\tval-rmse:0.22865\\n[99]\\ttrain-rmse:0.11043\\tval-rmse:0.22873\\n'"
      ]
     },
     "execution_count": 75,
     "metadata": {},
     "output_type": "execute_result"
    }
   ],
   "source": [
    "output.stdout"
   ]
  },
  {
   "cell_type": "code",
   "execution_count": 76,
   "id": "830b5a13",
   "metadata": {},
   "outputs": [],
   "source": [
    "results = []\n",
    "\n",
    "def parse_xgb_output(output):\n",
    "   \n",
    "    for line in output.stdout.strip().split('\\n'):\n",
    "        it_line, train_line, val_line = line.split('\\t')\n",
    "        \n",
    "        it = int(it_line.strip('[]'))\n",
    "        train= float(train_line.split(':')[1])\n",
    "        val= float(val_line.split(':')[1])\n",
    "        \n",
    "        \n",
    "        results.append((it, train, val))\n",
    "        \n",
    "    columns = ['num_iter', 'train_rmse', 'val_rmse']\n",
    "    df_results = pd.DataFrame(results, columns=columns)\n",
    "    return df_results"
   ]
  },
  {
   "cell_type": "code",
   "execution_count": 77,
   "id": "2da8f012",
   "metadata": {},
   "outputs": [
    {
     "data": {
      "text/html": [
       "<div>\n",
       "<style scoped>\n",
       "    .dataframe tbody tr th:only-of-type {\n",
       "        vertical-align: middle;\n",
       "    }\n",
       "\n",
       "    .dataframe tbody tr th {\n",
       "        vertical-align: top;\n",
       "    }\n",
       "\n",
       "    .dataframe thead th {\n",
       "        text-align: right;\n",
       "    }\n",
       "</style>\n",
       "<table border=\"1\" class=\"dataframe\">\n",
       "  <thead>\n",
       "    <tr style=\"text-align: right;\">\n",
       "      <th></th>\n",
       "      <th>num_iter</th>\n",
       "      <th>train_rmse</th>\n",
       "      <th>val_rmse</th>\n",
       "    </tr>\n",
       "  </thead>\n",
       "  <tbody>\n",
       "    <tr>\n",
       "      <th>0</th>\n",
       "      <td>0</td>\n",
       "      <td>0.44351</td>\n",
       "      <td>0.44250</td>\n",
       "    </tr>\n",
       "    <tr>\n",
       "      <th>1</th>\n",
       "      <td>5</td>\n",
       "      <td>0.25338</td>\n",
       "      <td>0.27463</td>\n",
       "    </tr>\n",
       "    <tr>\n",
       "      <th>2</th>\n",
       "      <td>10</td>\n",
       "      <td>0.21445</td>\n",
       "      <td>0.25179</td>\n",
       "    </tr>\n",
       "    <tr>\n",
       "      <th>3</th>\n",
       "      <td>15</td>\n",
       "      <td>0.19858</td>\n",
       "      <td>0.24523</td>\n",
       "    </tr>\n",
       "    <tr>\n",
       "      <th>4</th>\n",
       "      <td>20</td>\n",
       "      <td>0.18524</td>\n",
       "      <td>0.23978</td>\n",
       "    </tr>\n",
       "    <tr>\n",
       "      <th>5</th>\n",
       "      <td>25</td>\n",
       "      <td>0.17757</td>\n",
       "      <td>0.23830</td>\n",
       "    </tr>\n",
       "    <tr>\n",
       "      <th>6</th>\n",
       "      <td>30</td>\n",
       "      <td>0.16888</td>\n",
       "      <td>0.23571</td>\n",
       "    </tr>\n",
       "    <tr>\n",
       "      <th>7</th>\n",
       "      <td>35</td>\n",
       "      <td>0.16113</td>\n",
       "      <td>0.23416</td>\n",
       "    </tr>\n",
       "    <tr>\n",
       "      <th>8</th>\n",
       "      <td>40</td>\n",
       "      <td>0.15542</td>\n",
       "      <td>0.23319</td>\n",
       "    </tr>\n",
       "    <tr>\n",
       "      <th>9</th>\n",
       "      <td>45</td>\n",
       "      <td>0.14941</td>\n",
       "      <td>0.23190</td>\n",
       "    </tr>\n",
       "    <tr>\n",
       "      <th>10</th>\n",
       "      <td>50</td>\n",
       "      <td>0.14536</td>\n",
       "      <td>0.23225</td>\n",
       "    </tr>\n",
       "    <tr>\n",
       "      <th>11</th>\n",
       "      <td>55</td>\n",
       "      <td>0.14150</td>\n",
       "      <td>0.23197</td>\n",
       "    </tr>\n",
       "    <tr>\n",
       "      <th>12</th>\n",
       "      <td>60</td>\n",
       "      <td>0.13719</td>\n",
       "      <td>0.23139</td>\n",
       "    </tr>\n",
       "    <tr>\n",
       "      <th>13</th>\n",
       "      <td>65</td>\n",
       "      <td>0.13260</td>\n",
       "      <td>0.23158</td>\n",
       "    </tr>\n",
       "    <tr>\n",
       "      <th>14</th>\n",
       "      <td>70</td>\n",
       "      <td>0.12943</td>\n",
       "      <td>0.23068</td>\n",
       "    </tr>\n",
       "    <tr>\n",
       "      <th>15</th>\n",
       "      <td>75</td>\n",
       "      <td>0.12555</td>\n",
       "      <td>0.23039</td>\n",
       "    </tr>\n",
       "    <tr>\n",
       "      <th>16</th>\n",
       "      <td>80</td>\n",
       "      <td>0.12192</td>\n",
       "      <td>0.22886</td>\n",
       "    </tr>\n",
       "    <tr>\n",
       "      <th>17</th>\n",
       "      <td>85</td>\n",
       "      <td>0.11854</td>\n",
       "      <td>0.22888</td>\n",
       "    </tr>\n",
       "    <tr>\n",
       "      <th>18</th>\n",
       "      <td>90</td>\n",
       "      <td>0.11504</td>\n",
       "      <td>0.22877</td>\n",
       "    </tr>\n",
       "    <tr>\n",
       "      <th>19</th>\n",
       "      <td>95</td>\n",
       "      <td>0.11266</td>\n",
       "      <td>0.22865</td>\n",
       "    </tr>\n",
       "    <tr>\n",
       "      <th>20</th>\n",
       "      <td>99</td>\n",
       "      <td>0.11043</td>\n",
       "      <td>0.22873</td>\n",
       "    </tr>\n",
       "  </tbody>\n",
       "</table>\n",
       "</div>"
      ],
      "text/plain": [
       "    num_iter  train_rmse  val_rmse\n",
       "0          0     0.44351   0.44250\n",
       "1          5     0.25338   0.27463\n",
       "2         10     0.21445   0.25179\n",
       "3         15     0.19858   0.24523\n",
       "4         20     0.18524   0.23978\n",
       "5         25     0.17757   0.23830\n",
       "6         30     0.16888   0.23571\n",
       "7         35     0.16113   0.23416\n",
       "8         40     0.15542   0.23319\n",
       "9         45     0.14941   0.23190\n",
       "10        50     0.14536   0.23225\n",
       "11        55     0.14150   0.23197\n",
       "12        60     0.13719   0.23139\n",
       "13        65     0.13260   0.23158\n",
       "14        70     0.12943   0.23068\n",
       "15        75     0.12555   0.23039\n",
       "16        80     0.12192   0.22886\n",
       "17        85     0.11854   0.22888\n",
       "18        90     0.11504   0.22877\n",
       "19        95     0.11266   0.22865\n",
       "20        99     0.11043   0.22873"
      ]
     },
     "execution_count": 77,
     "metadata": {},
     "output_type": "execute_result"
    }
   ],
   "source": [
    "df_score = parse_xgb_output(output)\n",
    "df_score"
   ]
  },
  {
   "cell_type": "code",
   "execution_count": 78,
   "id": "50180aa9",
   "metadata": {},
   "outputs": [
    {
     "data": {
      "text/plain": [
       "<matplotlib.legend.Legend at 0x1dd7cdedf40>"
      ]
     },
     "execution_count": 78,
     "metadata": {},
     "output_type": "execute_result"
    },
    {
     "data": {
      "image/png": "[encoded data removed]",
      "text/plain": [
       "<Figure size 432x288 with 1 Axes>"
      ]
     },
     "metadata": {
      "needs_background": "light"
     },
     "output_type": "display_data"
    }
   ],
   "source": [
    "plt.plot(df_score['num_iter'], df_score['train_rmse'], label = 'train')\n",
    "plt.plot(df_score['num_iter'], df_score['val_rmse'], label = 'val')\n",
    "plt.legend()"
   ]
  },
  {
   "cell_type": "code",
   "execution_count": 79,
   "id": "067bd0e7",
   "metadata": {},
   "outputs": [],
   "source": [
    "scores = {}"
   ]
  },
  {
   "cell_type": "code",
   "execution_count": 80,
   "id": "1d96aaca",
   "metadata": {},
   "outputs": [],
   "source": [
    "%%capture output\n",
    "\n",
    "xgb_params = {\n",
    "    'eta': 0.3,\n",
    "    'max_depth': 6,\n",
    "    'min_child_weight': 1,\n",
    "    \n",
    "    'objective': 'reg:squarederror',\n",
    "    'nthread': 8,\n",
    "    \n",
    "    'seed': 1,\n",
    "    'verbosity': 1\n",
    "}\n",
    "\n",
    "model = xgb.train(xgb_params, dtrain, evals=watchlist, verbose_eval=5, num_boost_round=100)"
   ]
  },
  {
   "cell_type": "code",
   "execution_count": 81,
   "id": "c6d6e2d0",
   "metadata": {},
   "outputs": [
    {
     "data": {
      "text/plain": [
       "'eta=0.3'"
      ]
     },
     "execution_count": 81,
     "metadata": {},
     "output_type": "execute_result"
    }
   ],
   "source": [
    "key = 'eta=%s' % (xgb_params['eta'])\n",
    "scores[key] = parse_xgb_output(output)\n",
    "key"
   ]
  },
  {
   "cell_type": "code",
   "execution_count": 82,
   "id": "e460fae3",
   "metadata": {},
   "outputs": [],
   "source": [
    "%%capture output\n",
    "\n",
    "xgb_params = {\n",
    "    'eta': 0.1,\n",
    "    'max_depth': 6,\n",
    "    'min_child_weight': 1,\n",
    "    \n",
    "    'objective': 'reg:squarederror',\n",
    "    'nthread': 8,\n",
    "    \n",
    "    'seed': 1,\n",
    "    'verbosity': 1\n",
    "}\n",
    "\n",
    "model = xgb.train(xgb_params, dtrain, evals=watchlist, verbose_eval=5, num_boost_round=100)"
   ]
  },
  {
   "cell_type": "code",
   "execution_count": 86,
   "id": "ec70ab44",
   "metadata": {},
   "outputs": [
    {
     "data": {
      "text/plain": [
       "'eta=0.1'"
      ]
     },
     "execution_count": 86,
     "metadata": {},
     "output_type": "execute_result"
    }
   ],
   "source": [
    "key = 'eta=%s' % (xgb_params['eta'])\n",
    "scores[key] = parse_xgb_output(output)\n",
    "key"
   ]
  },
  {
   "cell_type": "code",
   "execution_count": 87,
   "id": "79e9cab1",
   "metadata": {},
   "outputs": [
    {
     "data": {
      "text/plain": [
       "dict_keys(['eta=0.3', 'eta=0.1'])"
      ]
     },
     "execution_count": 87,
     "metadata": {},
     "output_type": "execute_result"
    }
   ],
   "source": [
    "scores.keys()"
   ]
  },
  {
   "cell_type": "code",
   "execution_count": 92,
   "id": "2923153a",
   "metadata": {},
   "outputs": [
    {
     "data": {
      "image/png": "[encoded data removed]",
      "text/plain": [
       "<Figure size 432x288 with 1 Axes>"
      ]
     },
     "metadata": {
      "needs_background": "light"
     },
     "output_type": "display_data"
    }
   ],
   "source": [
    "for key, df_score in scores.items():\n",
    "    sns.lineplot(data = df_score, x='num_iter', y='val_rmse', label=key)"
   ]
  },
  {
   "cell_type": "code",
   "execution_count": null,
   "id": "12a2433c",
   "metadata": {},
   "outputs": [],
   "source": []
  }
 ],
 "metadata": {
  "kernelspec": {
   "display_name": "Python 3 (ipykernel)",
   "language": "python",
   "name": "python3"
  },
  "language_info": {
   "codemirror_mode": {
    "name": "ipython",
    "version": 3
   },
   "file_extension": ".py",
   "mimetype": "text/x-python",
   "name": "python",
   "nbconvert_exporter": "python",
   "pygments_lexer": "ipython3",
   "version": "3.9.12"
  }
 },
 "nbformat": 4,
 "nbformat_minor": 5
}
