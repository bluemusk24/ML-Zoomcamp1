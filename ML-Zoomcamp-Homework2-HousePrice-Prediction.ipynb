{
 "cells": [
  {
   "cell_type": "code",
   "execution_count": 1,
   "id": "49a81b5e",
   "metadata": {},
   "outputs": [],
   "source": [
    "import numpy as np\n",
    "import pandas as pd\n",
    "import seaborn as sns\n",
    "import matplotlib.pyplot as plt\n",
    "%matplotlib inline"
   ]
  },
  {
   "cell_type": "markdown",
   "id": "020c3c36",
   "metadata": {},
   "source": [
    "# The goal of this homework is to create a regression model for predicting housing prices (column 'median_house_value')."
   ]
  },
  {
   "cell_type": "markdown",
   "id": "1e1314c0",
   "metadata": {},
   "source": [
    "#Exploratory Data Analysis (EDA)"
   ]
  },
  {
   "cell_type": "code",
   "execution_count": 2,
   "id": "1efb9377",
   "metadata": {},
   "outputs": [],
   "source": [
    "df = pd.read_csv(\"C:\\\\Users\\\\emman\\\\Desktop\\\\ML-Zoomcamp  projects\\\\raw.githubusercontent.com_alexeygrigorev_datasets_master_housing.csv\")"
   ]
  },
  {
   "cell_type": "code",
   "execution_count": 3,
   "id": "2c7a09c4",
   "metadata": {},
   "outputs": [
    {
     "data": {
      "text/html": [
       "<div>\n",
       "<style scoped>\n",
       "    .dataframe tbody tr th:only-of-type {\n",
       "        vertical-align: middle;\n",
       "    }\n",
       "\n",
       "    .dataframe tbody tr th {\n",
       "        vertical-align: top;\n",
       "    }\n",
       "\n",
       "    .dataframe thead th {\n",
       "        text-align: right;\n",
       "    }\n",
       "</style>\n",
       "<table border=\"1\" class=\"dataframe\">\n",
       "  <thead>\n",
       "    <tr style=\"text-align: right;\">\n",
       "      <th></th>\n",
       "      <th>longitude</th>\n",
       "      <th>latitude</th>\n",
       "      <th>housing_median_age</th>\n",
       "      <th>total_rooms</th>\n",
       "      <th>total_bedrooms</th>\n",
       "      <th>population</th>\n",
       "      <th>households</th>\n",
       "      <th>median_income</th>\n",
       "      <th>median_house_value</th>\n",
       "      <th>ocean_proximity</th>\n",
       "    </tr>\n",
       "  </thead>\n",
       "  <tbody>\n",
       "    <tr>\n",
       "      <th>0</th>\n",
       "      <td>-122.23</td>\n",
       "      <td>37.88</td>\n",
       "      <td>41.0</td>\n",
       "      <td>880.0</td>\n",
       "      <td>129.0</td>\n",
       "      <td>322.0</td>\n",
       "      <td>126.0</td>\n",
       "      <td>8.3252</td>\n",
       "      <td>452600.0</td>\n",
       "      <td>NEAR BAY</td>\n",
       "    </tr>\n",
       "    <tr>\n",
       "      <th>1</th>\n",
       "      <td>-122.22</td>\n",
       "      <td>37.86</td>\n",
       "      <td>21.0</td>\n",
       "      <td>7099.0</td>\n",
       "      <td>1106.0</td>\n",
       "      <td>2401.0</td>\n",
       "      <td>1138.0</td>\n",
       "      <td>8.3014</td>\n",
       "      <td>358500.0</td>\n",
       "      <td>NEAR BAY</td>\n",
       "    </tr>\n",
       "    <tr>\n",
       "      <th>2</th>\n",
       "      <td>-122.24</td>\n",
       "      <td>37.85</td>\n",
       "      <td>52.0</td>\n",
       "      <td>1467.0</td>\n",
       "      <td>190.0</td>\n",
       "      <td>496.0</td>\n",
       "      <td>177.0</td>\n",
       "      <td>7.2574</td>\n",
       "      <td>352100.0</td>\n",
       "      <td>NEAR BAY</td>\n",
       "    </tr>\n",
       "    <tr>\n",
       "      <th>3</th>\n",
       "      <td>-122.25</td>\n",
       "      <td>37.85</td>\n",
       "      <td>52.0</td>\n",
       "      <td>1274.0</td>\n",
       "      <td>235.0</td>\n",
       "      <td>558.0</td>\n",
       "      <td>219.0</td>\n",
       "      <td>5.6431</td>\n",
       "      <td>341300.0</td>\n",
       "      <td>NEAR BAY</td>\n",
       "    </tr>\n",
       "    <tr>\n",
       "      <th>4</th>\n",
       "      <td>-122.25</td>\n",
       "      <td>37.85</td>\n",
       "      <td>52.0</td>\n",
       "      <td>1627.0</td>\n",
       "      <td>280.0</td>\n",
       "      <td>565.0</td>\n",
       "      <td>259.0</td>\n",
       "      <td>3.8462</td>\n",
       "      <td>342200.0</td>\n",
       "      <td>NEAR BAY</td>\n",
       "    </tr>\n",
       "    <tr>\n",
       "      <th>...</th>\n",
       "      <td>...</td>\n",
       "      <td>...</td>\n",
       "      <td>...</td>\n",
       "      <td>...</td>\n",
       "      <td>...</td>\n",
       "      <td>...</td>\n",
       "      <td>...</td>\n",
       "      <td>...</td>\n",
       "      <td>...</td>\n",
       "      <td>...</td>\n",
       "    </tr>\n",
       "    <tr>\n",
       "      <th>20635</th>\n",
       "      <td>-121.09</td>\n",
       "      <td>39.48</td>\n",
       "      <td>25.0</td>\n",
       "      <td>1665.0</td>\n",
       "      <td>374.0</td>\n",
       "      <td>845.0</td>\n",
       "      <td>330.0</td>\n",
       "      <td>1.5603</td>\n",
       "      <td>78100.0</td>\n",
       "      <td>INLAND</td>\n",
       "    </tr>\n",
       "    <tr>\n",
       "      <th>20636</th>\n",
       "      <td>-121.21</td>\n",
       "      <td>39.49</td>\n",
       "      <td>18.0</td>\n",
       "      <td>697.0</td>\n",
       "      <td>150.0</td>\n",
       "      <td>356.0</td>\n",
       "      <td>114.0</td>\n",
       "      <td>2.5568</td>\n",
       "      <td>77100.0</td>\n",
       "      <td>INLAND</td>\n",
       "    </tr>\n",
       "    <tr>\n",
       "      <th>20637</th>\n",
       "      <td>-121.22</td>\n",
       "      <td>39.43</td>\n",
       "      <td>17.0</td>\n",
       "      <td>2254.0</td>\n",
       "      <td>485.0</td>\n",
       "      <td>1007.0</td>\n",
       "      <td>433.0</td>\n",
       "      <td>1.7000</td>\n",
       "      <td>92300.0</td>\n",
       "      <td>INLAND</td>\n",
       "    </tr>\n",
       "    <tr>\n",
       "      <th>20638</th>\n",
       "      <td>-121.32</td>\n",
       "      <td>39.43</td>\n",
       "      <td>18.0</td>\n",
       "      <td>1860.0</td>\n",
       "      <td>409.0</td>\n",
       "      <td>741.0</td>\n",
       "      <td>349.0</td>\n",
       "      <td>1.8672</td>\n",
       "      <td>84700.0</td>\n",
       "      <td>INLAND</td>\n",
       "    </tr>\n",
       "    <tr>\n",
       "      <th>20639</th>\n",
       "      <td>-121.24</td>\n",
       "      <td>39.37</td>\n",
       "      <td>16.0</td>\n",
       "      <td>2785.0</td>\n",
       "      <td>616.0</td>\n",
       "      <td>1387.0</td>\n",
       "      <td>530.0</td>\n",
       "      <td>2.3886</td>\n",
       "      <td>89400.0</td>\n",
       "      <td>INLAND</td>\n",
       "    </tr>\n",
       "  </tbody>\n",
       "</table>\n",
       "<p>20640 rows × 10 columns</p>\n",
       "</div>"
      ],
      "text/plain": [
       "       longitude  latitude  housing_median_age  total_rooms  total_bedrooms  \\\n",
       "0        -122.23     37.88                41.0        880.0           129.0   \n",
       "1        -122.22     37.86                21.0       7099.0          1106.0   \n",
       "2        -122.24     37.85                52.0       1467.0           190.0   \n",
       "3        -122.25     37.85                52.0       1274.0           235.0   \n",
       "4        -122.25     37.85                52.0       1627.0           280.0   \n",
       "...          ...       ...                 ...          ...             ...   \n",
       "20635    -121.09     39.48                25.0       1665.0           374.0   \n",
       "20636    -121.21     39.49                18.0        697.0           150.0   \n",
       "20637    -121.22     39.43                17.0       2254.0           485.0   \n",
       "20638    -121.32     39.43                18.0       1860.0           409.0   \n",
       "20639    -121.24     39.37                16.0       2785.0           616.0   \n",
       "\n",
       "       population  households  median_income  median_house_value  \\\n",
       "0           322.0       126.0         8.3252            452600.0   \n",
       "1          2401.0      1138.0         8.3014            358500.0   \n",
       "2           496.0       177.0         7.2574            352100.0   \n",
       "3           558.0       219.0         5.6431            341300.0   \n",
       "4           565.0       259.0         3.8462            342200.0   \n",
       "...           ...         ...            ...                 ...   \n",
       "20635       845.0       330.0         1.5603             78100.0   \n",
       "20636       356.0       114.0         2.5568             77100.0   \n",
       "20637      1007.0       433.0         1.7000             92300.0   \n",
       "20638       741.0       349.0         1.8672             84700.0   \n",
       "20639      1387.0       530.0         2.3886             89400.0   \n",
       "\n",
       "      ocean_proximity  \n",
       "0            NEAR BAY  \n",
       "1            NEAR BAY  \n",
       "2            NEAR BAY  \n",
       "3            NEAR BAY  \n",
       "4            NEAR BAY  \n",
       "...               ...  \n",
       "20635          INLAND  \n",
       "20636          INLAND  \n",
       "20637          INLAND  \n",
       "20638          INLAND  \n",
       "20639          INLAND  \n",
       "\n",
       "[20640 rows x 10 columns]"
      ]
     },
     "execution_count": 3,
     "metadata": {},
     "output_type": "execute_result"
    }
   ],
   "source": [
    "df"
   ]
  },
  {
   "cell_type": "markdown",
   "id": "020b633e",
   "metadata": {},
   "source": [
    "#1-Look at the median_house_value variable. Does it have a long tail? NO."
   ]
  },
  {
   "cell_type": "code",
   "execution_count": 4,
   "id": "4822a6cf",
   "metadata": {},
   "outputs": [
    {
     "name": "stderr",
     "output_type": "stream",
     "text": [
      "C:\\Users\\emman\\anaconda3\\lib\\site-packages\\seaborn\\distributions.py:2619: FutureWarning: `distplot` is a deprecated function and will be removed in a future version. Please adapt your code to use either `displot` (a figure-level function with similar flexibility) or `histplot` (an axes-level function for histograms).\n",
      "  warnings.warn(msg, FutureWarning)\n"
     ]
    },
    {
     "data": {
      "text/plain": [
       "<AxesSubplot:xlabel='median_house_value', ylabel='Density'>"
      ]
     },
     "execution_count": 4,
     "metadata": {},
     "output_type": "execute_result"
    },
    {
     "data": {
      "image/png": "[encoded data removed]",
      "text/plain": [
       "<Figure size 432x288 with 1 Axes>"
      ]
     },
     "metadata": {
      "needs_background": "light"
     },
     "output_type": "display_data"
    }
   ],
   "source": [
    "sns.distplot(df['median_house_value'])"
   ]
  },
  {
   "cell_type": "code",
   "execution_count": 5,
   "id": "a5570449",
   "metadata": {},
   "outputs": [
    {
     "data": {
      "text/plain": [
       "<AxesSubplot:xlabel='median_house_value', ylabel='Count'>"
      ]
     },
     "execution_count": 5,
     "metadata": {},
     "output_type": "execute_result"
    },
    {
     "data": {
      "image/png": "[encoded data removed]",
      "text/plain": [
       "<Figure size 432x288 with 1 Axes>"
      ]
     },
     "metadata": {
      "needs_background": "light"
     },
     "output_type": "display_data"
    }
   ],
   "source": [
    "sns.histplot(df['median_house_value'], bins=50)"
   ]
  },
  {
   "cell_type": "markdown",
   "id": "3c56cd99",
   "metadata": {},
   "source": [
    "#First, keep only the records where ocean_proximity is either '<1H OCEAN' or 'INLAND'"
   ]
  },
  {
   "cell_type": "code",
   "execution_count": 6,
   "id": "e991e369",
   "metadata": {},
   "outputs": [
    {
     "data": {
      "text/plain": [
       "array(['NEAR BAY', '<1H OCEAN', 'INLAND', 'NEAR OCEAN', 'ISLAND'],\n",
       "      dtype=object)"
      ]
     },
     "execution_count": 6,
     "metadata": {},
     "output_type": "execute_result"
    }
   ],
   "source": [
    "df['ocean_proximity'].unique()"
   ]
  },
  {
   "cell_type": "code",
   "execution_count": 7,
   "id": "c91ab9e1",
   "metadata": {},
   "outputs": [
    {
     "data": {
      "text/plain": [
       "<1H OCEAN     9136\n",
       "INLAND        6551\n",
       "NEAR OCEAN    2658\n",
       "NEAR BAY      2290\n",
       "ISLAND           5\n",
       "Name: ocean_proximity, dtype: int64"
      ]
     },
     "execution_count": 7,
     "metadata": {},
     "output_type": "execute_result"
    }
   ],
   "source": [
    "df['ocean_proximity'].value_counts()"
   ]
  },
  {
   "cell_type": "code",
   "execution_count": 8,
   "id": "591c59d5",
   "metadata": {},
   "outputs": [],
   "source": [
    "ocean_prox_1H_Inland = df[(df['ocean_proximity'] == '<1H OCEAN') | (df['ocean_proximity'] == 'INLAND')]"
   ]
  },
  {
   "cell_type": "code",
   "execution_count": 9,
   "id": "3f07ae2d",
   "metadata": {},
   "outputs": [
    {
     "data": {
      "text/html": [
       "<div>\n",
       "<style scoped>\n",
       "    .dataframe tbody tr th:only-of-type {\n",
       "        vertical-align: middle;\n",
       "    }\n",
       "\n",
       "    .dataframe tbody tr th {\n",
       "        vertical-align: top;\n",
       "    }\n",
       "\n",
       "    .dataframe thead th {\n",
       "        text-align: right;\n",
       "    }\n",
       "</style>\n",
       "<table border=\"1\" class=\"dataframe\">\n",
       "  <thead>\n",
       "    <tr style=\"text-align: right;\">\n",
       "      <th></th>\n",
       "      <th>longitude</th>\n",
       "      <th>latitude</th>\n",
       "      <th>housing_median_age</th>\n",
       "      <th>total_rooms</th>\n",
       "      <th>total_bedrooms</th>\n",
       "      <th>population</th>\n",
       "      <th>households</th>\n",
       "      <th>median_income</th>\n",
       "      <th>median_house_value</th>\n",
       "      <th>ocean_proximity</th>\n",
       "    </tr>\n",
       "  </thead>\n",
       "  <tbody>\n",
       "    <tr>\n",
       "      <th>701</th>\n",
       "      <td>-121.97</td>\n",
       "      <td>37.64</td>\n",
       "      <td>32.0</td>\n",
       "      <td>1283.0</td>\n",
       "      <td>194.0</td>\n",
       "      <td>485.0</td>\n",
       "      <td>171.0</td>\n",
       "      <td>6.0574</td>\n",
       "      <td>431000.0</td>\n",
       "      <td>&lt;1H OCEAN</td>\n",
       "    </tr>\n",
       "    <tr>\n",
       "      <th>830</th>\n",
       "      <td>-121.99</td>\n",
       "      <td>37.61</td>\n",
       "      <td>9.0</td>\n",
       "      <td>3666.0</td>\n",
       "      <td>711.0</td>\n",
       "      <td>2341.0</td>\n",
       "      <td>703.0</td>\n",
       "      <td>4.6458</td>\n",
       "      <td>217000.0</td>\n",
       "      <td>&lt;1H OCEAN</td>\n",
       "    </tr>\n",
       "    <tr>\n",
       "      <th>859</th>\n",
       "      <td>-121.97</td>\n",
       "      <td>37.57</td>\n",
       "      <td>21.0</td>\n",
       "      <td>4342.0</td>\n",
       "      <td>783.0</td>\n",
       "      <td>2172.0</td>\n",
       "      <td>789.0</td>\n",
       "      <td>4.6146</td>\n",
       "      <td>247600.0</td>\n",
       "      <td>&lt;1H OCEAN</td>\n",
       "    </tr>\n",
       "    <tr>\n",
       "      <th>860</th>\n",
       "      <td>-121.96</td>\n",
       "      <td>37.58</td>\n",
       "      <td>15.0</td>\n",
       "      <td>3575.0</td>\n",
       "      <td>597.0</td>\n",
       "      <td>1777.0</td>\n",
       "      <td>559.0</td>\n",
       "      <td>5.7192</td>\n",
       "      <td>283500.0</td>\n",
       "      <td>&lt;1H OCEAN</td>\n",
       "    </tr>\n",
       "    <tr>\n",
       "      <th>861</th>\n",
       "      <td>-121.98</td>\n",
       "      <td>37.58</td>\n",
       "      <td>20.0</td>\n",
       "      <td>4126.0</td>\n",
       "      <td>1031.0</td>\n",
       "      <td>2079.0</td>\n",
       "      <td>975.0</td>\n",
       "      <td>3.6832</td>\n",
       "      <td>216900.0</td>\n",
       "      <td>&lt;1H OCEAN</td>\n",
       "    </tr>\n",
       "    <tr>\n",
       "      <th>...</th>\n",
       "      <td>...</td>\n",
       "      <td>...</td>\n",
       "      <td>...</td>\n",
       "      <td>...</td>\n",
       "      <td>...</td>\n",
       "      <td>...</td>\n",
       "      <td>...</td>\n",
       "      <td>...</td>\n",
       "      <td>...</td>\n",
       "      <td>...</td>\n",
       "    </tr>\n",
       "    <tr>\n",
       "      <th>20635</th>\n",
       "      <td>-121.09</td>\n",
       "      <td>39.48</td>\n",
       "      <td>25.0</td>\n",
       "      <td>1665.0</td>\n",
       "      <td>374.0</td>\n",
       "      <td>845.0</td>\n",
       "      <td>330.0</td>\n",
       "      <td>1.5603</td>\n",
       "      <td>78100.0</td>\n",
       "      <td>INLAND</td>\n",
       "    </tr>\n",
       "    <tr>\n",
       "      <th>20636</th>\n",
       "      <td>-121.21</td>\n",
       "      <td>39.49</td>\n",
       "      <td>18.0</td>\n",
       "      <td>697.0</td>\n",
       "      <td>150.0</td>\n",
       "      <td>356.0</td>\n",
       "      <td>114.0</td>\n",
       "      <td>2.5568</td>\n",
       "      <td>77100.0</td>\n",
       "      <td>INLAND</td>\n",
       "    </tr>\n",
       "    <tr>\n",
       "      <th>20637</th>\n",
       "      <td>-121.22</td>\n",
       "      <td>39.43</td>\n",
       "      <td>17.0</td>\n",
       "      <td>2254.0</td>\n",
       "      <td>485.0</td>\n",
       "      <td>1007.0</td>\n",
       "      <td>433.0</td>\n",
       "      <td>1.7000</td>\n",
       "      <td>92300.0</td>\n",
       "      <td>INLAND</td>\n",
       "    </tr>\n",
       "    <tr>\n",
       "      <th>20638</th>\n",
       "      <td>-121.32</td>\n",
       "      <td>39.43</td>\n",
       "      <td>18.0</td>\n",
       "      <td>1860.0</td>\n",
       "      <td>409.0</td>\n",
       "      <td>741.0</td>\n",
       "      <td>349.0</td>\n",
       "      <td>1.8672</td>\n",
       "      <td>84700.0</td>\n",
       "      <td>INLAND</td>\n",
       "    </tr>\n",
       "    <tr>\n",
       "      <th>20639</th>\n",
       "      <td>-121.24</td>\n",
       "      <td>39.37</td>\n",
       "      <td>16.0</td>\n",
       "      <td>2785.0</td>\n",
       "      <td>616.0</td>\n",
       "      <td>1387.0</td>\n",
       "      <td>530.0</td>\n",
       "      <td>2.3886</td>\n",
       "      <td>89400.0</td>\n",
       "      <td>INLAND</td>\n",
       "    </tr>\n",
       "  </tbody>\n",
       "</table>\n",
       "<p>15687 rows × 10 columns</p>\n",
       "</div>"
      ],
      "text/plain": [
       "       longitude  latitude  housing_median_age  total_rooms  total_bedrooms  \\\n",
       "701      -121.97     37.64                32.0       1283.0           194.0   \n",
       "830      -121.99     37.61                 9.0       3666.0           711.0   \n",
       "859      -121.97     37.57                21.0       4342.0           783.0   \n",
       "860      -121.96     37.58                15.0       3575.0           597.0   \n",
       "861      -121.98     37.58                20.0       4126.0          1031.0   \n",
       "...          ...       ...                 ...          ...             ...   \n",
       "20635    -121.09     39.48                25.0       1665.0           374.0   \n",
       "20636    -121.21     39.49                18.0        697.0           150.0   \n",
       "20637    -121.22     39.43                17.0       2254.0           485.0   \n",
       "20638    -121.32     39.43                18.0       1860.0           409.0   \n",
       "20639    -121.24     39.37                16.0       2785.0           616.0   \n",
       "\n",
       "       population  households  median_income  median_house_value  \\\n",
       "701         485.0       171.0         6.0574            431000.0   \n",
       "830        2341.0       703.0         4.6458            217000.0   \n",
       "859        2172.0       789.0         4.6146            247600.0   \n",
       "860        1777.0       559.0         5.7192            283500.0   \n",
       "861        2079.0       975.0         3.6832            216900.0   \n",
       "...           ...         ...            ...                 ...   \n",
       "20635       845.0       330.0         1.5603             78100.0   \n",
       "20636       356.0       114.0         2.5568             77100.0   \n",
       "20637      1007.0       433.0         1.7000             92300.0   \n",
       "20638       741.0       349.0         1.8672             84700.0   \n",
       "20639      1387.0       530.0         2.3886             89400.0   \n",
       "\n",
       "      ocean_proximity  \n",
       "701         <1H OCEAN  \n",
       "830         <1H OCEAN  \n",
       "859         <1H OCEAN  \n",
       "860         <1H OCEAN  \n",
       "861         <1H OCEAN  \n",
       "...               ...  \n",
       "20635          INLAND  \n",
       "20636          INLAND  \n",
       "20637          INLAND  \n",
       "20638          INLAND  \n",
       "20639          INLAND  \n",
       "\n",
       "[15687 rows x 10 columns]"
      ]
     },
     "execution_count": 9,
     "metadata": {},
     "output_type": "execute_result"
    }
   ],
   "source": [
    "ocean_prox_1H_Inland"
   ]
  },
  {
   "cell_type": "code",
   "execution_count": 10,
   "id": "bbb6f3a7",
   "metadata": {},
   "outputs": [
    {
     "data": {
      "text/plain": [
       "<1H OCEAN    9136\n",
       "INLAND       6551\n",
       "Name: ocean_proximity, dtype: int64"
      ]
     },
     "execution_count": 10,
     "metadata": {},
     "output_type": "execute_result"
    }
   ],
   "source": [
    "# confirmation of either <1H OCEAN or INLAND\n",
    "\n",
    "ocean_prox_1H_Inland['ocean_proximity'].value_counts()"
   ]
  },
  {
   "cell_type": "code",
   "execution_count": 11,
   "id": "ad214787",
   "metadata": {},
   "outputs": [
    {
     "data": {
      "text/html": [
       "<div>\n",
       "<style scoped>\n",
       "    .dataframe tbody tr th:only-of-type {\n",
       "        vertical-align: middle;\n",
       "    }\n",
       "\n",
       "    .dataframe tbody tr th {\n",
       "        vertical-align: top;\n",
       "    }\n",
       "\n",
       "    .dataframe thead th {\n",
       "        text-align: right;\n",
       "    }\n",
       "</style>\n",
       "<table border=\"1\" class=\"dataframe\">\n",
       "  <thead>\n",
       "    <tr style=\"text-align: right;\">\n",
       "      <th></th>\n",
       "      <th>longitude</th>\n",
       "      <th>latitude</th>\n",
       "      <th>housing_median_age</th>\n",
       "      <th>total_rooms</th>\n",
       "      <th>total_bedrooms</th>\n",
       "      <th>population</th>\n",
       "      <th>households</th>\n",
       "      <th>median_income</th>\n",
       "      <th>median_house_value</th>\n",
       "      <th>ocean_proximity</th>\n",
       "    </tr>\n",
       "  </thead>\n",
       "  <tbody>\n",
       "    <tr>\n",
       "      <th>0</th>\n",
       "      <td>-121.97</td>\n",
       "      <td>37.64</td>\n",
       "      <td>32.0</td>\n",
       "      <td>1283.0</td>\n",
       "      <td>194.0</td>\n",
       "      <td>485.0</td>\n",
       "      <td>171.0</td>\n",
       "      <td>6.0574</td>\n",
       "      <td>431000.0</td>\n",
       "      <td>&lt;1H OCEAN</td>\n",
       "    </tr>\n",
       "    <tr>\n",
       "      <th>1</th>\n",
       "      <td>-121.99</td>\n",
       "      <td>37.61</td>\n",
       "      <td>9.0</td>\n",
       "      <td>3666.0</td>\n",
       "      <td>711.0</td>\n",
       "      <td>2341.0</td>\n",
       "      <td>703.0</td>\n",
       "      <td>4.6458</td>\n",
       "      <td>217000.0</td>\n",
       "      <td>&lt;1H OCEAN</td>\n",
       "    </tr>\n",
       "    <tr>\n",
       "      <th>2</th>\n",
       "      <td>-121.97</td>\n",
       "      <td>37.57</td>\n",
       "      <td>21.0</td>\n",
       "      <td>4342.0</td>\n",
       "      <td>783.0</td>\n",
       "      <td>2172.0</td>\n",
       "      <td>789.0</td>\n",
       "      <td>4.6146</td>\n",
       "      <td>247600.0</td>\n",
       "      <td>&lt;1H OCEAN</td>\n",
       "    </tr>\n",
       "    <tr>\n",
       "      <th>3</th>\n",
       "      <td>-121.96</td>\n",
       "      <td>37.58</td>\n",
       "      <td>15.0</td>\n",
       "      <td>3575.0</td>\n",
       "      <td>597.0</td>\n",
       "      <td>1777.0</td>\n",
       "      <td>559.0</td>\n",
       "      <td>5.7192</td>\n",
       "      <td>283500.0</td>\n",
       "      <td>&lt;1H OCEAN</td>\n",
       "    </tr>\n",
       "    <tr>\n",
       "      <th>4</th>\n",
       "      <td>-121.98</td>\n",
       "      <td>37.58</td>\n",
       "      <td>20.0</td>\n",
       "      <td>4126.0</td>\n",
       "      <td>1031.0</td>\n",
       "      <td>2079.0</td>\n",
       "      <td>975.0</td>\n",
       "      <td>3.6832</td>\n",
       "      <td>216900.0</td>\n",
       "      <td>&lt;1H OCEAN</td>\n",
       "    </tr>\n",
       "    <tr>\n",
       "      <th>...</th>\n",
       "      <td>...</td>\n",
       "      <td>...</td>\n",
       "      <td>...</td>\n",
       "      <td>...</td>\n",
       "      <td>...</td>\n",
       "      <td>...</td>\n",
       "      <td>...</td>\n",
       "      <td>...</td>\n",
       "      <td>...</td>\n",
       "      <td>...</td>\n",
       "    </tr>\n",
       "    <tr>\n",
       "      <th>15682</th>\n",
       "      <td>-121.09</td>\n",
       "      <td>39.48</td>\n",
       "      <td>25.0</td>\n",
       "      <td>1665.0</td>\n",
       "      <td>374.0</td>\n",
       "      <td>845.0</td>\n",
       "      <td>330.0</td>\n",
       "      <td>1.5603</td>\n",
       "      <td>78100.0</td>\n",
       "      <td>INLAND</td>\n",
       "    </tr>\n",
       "    <tr>\n",
       "      <th>15683</th>\n",
       "      <td>-121.21</td>\n",
       "      <td>39.49</td>\n",
       "      <td>18.0</td>\n",
       "      <td>697.0</td>\n",
       "      <td>150.0</td>\n",
       "      <td>356.0</td>\n",
       "      <td>114.0</td>\n",
       "      <td>2.5568</td>\n",
       "      <td>77100.0</td>\n",
       "      <td>INLAND</td>\n",
       "    </tr>\n",
       "    <tr>\n",
       "      <th>15684</th>\n",
       "      <td>-121.22</td>\n",
       "      <td>39.43</td>\n",
       "      <td>17.0</td>\n",
       "      <td>2254.0</td>\n",
       "      <td>485.0</td>\n",
       "      <td>1007.0</td>\n",
       "      <td>433.0</td>\n",
       "      <td>1.7000</td>\n",
       "      <td>92300.0</td>\n",
       "      <td>INLAND</td>\n",
       "    </tr>\n",
       "    <tr>\n",
       "      <th>15685</th>\n",
       "      <td>-121.32</td>\n",
       "      <td>39.43</td>\n",
       "      <td>18.0</td>\n",
       "      <td>1860.0</td>\n",
       "      <td>409.0</td>\n",
       "      <td>741.0</td>\n",
       "      <td>349.0</td>\n",
       "      <td>1.8672</td>\n",
       "      <td>84700.0</td>\n",
       "      <td>INLAND</td>\n",
       "    </tr>\n",
       "    <tr>\n",
       "      <th>15686</th>\n",
       "      <td>-121.24</td>\n",
       "      <td>39.37</td>\n",
       "      <td>16.0</td>\n",
       "      <td>2785.0</td>\n",
       "      <td>616.0</td>\n",
       "      <td>1387.0</td>\n",
       "      <td>530.0</td>\n",
       "      <td>2.3886</td>\n",
       "      <td>89400.0</td>\n",
       "      <td>INLAND</td>\n",
       "    </tr>\n",
       "  </tbody>\n",
       "</table>\n",
       "<p>15687 rows × 10 columns</p>\n",
       "</div>"
      ],
      "text/plain": [
       "       longitude  latitude  housing_median_age  total_rooms  total_bedrooms  \\\n",
       "0        -121.97     37.64                32.0       1283.0           194.0   \n",
       "1        -121.99     37.61                 9.0       3666.0           711.0   \n",
       "2        -121.97     37.57                21.0       4342.0           783.0   \n",
       "3        -121.96     37.58                15.0       3575.0           597.0   \n",
       "4        -121.98     37.58                20.0       4126.0          1031.0   \n",
       "...          ...       ...                 ...          ...             ...   \n",
       "15682    -121.09     39.48                25.0       1665.0           374.0   \n",
       "15683    -121.21     39.49                18.0        697.0           150.0   \n",
       "15684    -121.22     39.43                17.0       2254.0           485.0   \n",
       "15685    -121.32     39.43                18.0       1860.0           409.0   \n",
       "15686    -121.24     39.37                16.0       2785.0           616.0   \n",
       "\n",
       "       population  households  median_income  median_house_value  \\\n",
       "0           485.0       171.0         6.0574            431000.0   \n",
       "1          2341.0       703.0         4.6458            217000.0   \n",
       "2          2172.0       789.0         4.6146            247600.0   \n",
       "3          1777.0       559.0         5.7192            283500.0   \n",
       "4          2079.0       975.0         3.6832            216900.0   \n",
       "...           ...         ...            ...                 ...   \n",
       "15682       845.0       330.0         1.5603             78100.0   \n",
       "15683       356.0       114.0         2.5568             77100.0   \n",
       "15684      1007.0       433.0         1.7000             92300.0   \n",
       "15685       741.0       349.0         1.8672             84700.0   \n",
       "15686      1387.0       530.0         2.3886             89400.0   \n",
       "\n",
       "      ocean_proximity  \n",
       "0           <1H OCEAN  \n",
       "1           <1H OCEAN  \n",
       "2           <1H OCEAN  \n",
       "3           <1H OCEAN  \n",
       "4           <1H OCEAN  \n",
       "...               ...  \n",
       "15682          INLAND  \n",
       "15683          INLAND  \n",
       "15684          INLAND  \n",
       "15685          INLAND  \n",
       "15686          INLAND  \n",
       "\n",
       "[15687 rows x 10 columns]"
      ]
     },
     "execution_count": 11,
     "metadata": {},
     "output_type": "execute_result"
    }
   ],
   "source": [
    "# reset index of the dataset\n",
    "\n",
    "ocean_prox_1H_Inland = ocean_prox_1H_Inland.reset_index(drop=True)\n",
    "ocean_prox_1H_Inland"
   ]
  },
  {
   "cell_type": "markdown",
   "id": "03e17e16",
   "metadata": {},
   "source": [
    "#Next, use only the following columns:'latitude','longitude','housing_median_age','total_rooms','total_bedrooms','population','households','median_income','median_house_value'"
   ]
  },
  {
   "cell_type": "code",
   "execution_count": 12,
   "id": "e1a7ae30",
   "metadata": {},
   "outputs": [
    {
     "data": {
      "text/html": [
       "<div>\n",
       "<style scoped>\n",
       "    .dataframe tbody tr th:only-of-type {\n",
       "        vertical-align: middle;\n",
       "    }\n",
       "\n",
       "    .dataframe tbody tr th {\n",
       "        vertical-align: top;\n",
       "    }\n",
       "\n",
       "    .dataframe thead th {\n",
       "        text-align: right;\n",
       "    }\n",
       "</style>\n",
       "<table border=\"1\" class=\"dataframe\">\n",
       "  <thead>\n",
       "    <tr style=\"text-align: right;\">\n",
       "      <th></th>\n",
       "      <th>longitude</th>\n",
       "      <th>latitude</th>\n",
       "      <th>housing_median_age</th>\n",
       "      <th>total_rooms</th>\n",
       "      <th>total_bedrooms</th>\n",
       "      <th>population</th>\n",
       "      <th>households</th>\n",
       "      <th>median_income</th>\n",
       "      <th>median_house_value</th>\n",
       "    </tr>\n",
       "  </thead>\n",
       "  <tbody>\n",
       "    <tr>\n",
       "      <th>0</th>\n",
       "      <td>-121.97</td>\n",
       "      <td>37.64</td>\n",
       "      <td>32.0</td>\n",
       "      <td>1283.0</td>\n",
       "      <td>194.0</td>\n",
       "      <td>485.0</td>\n",
       "      <td>171.0</td>\n",
       "      <td>6.0574</td>\n",
       "      <td>431000.0</td>\n",
       "    </tr>\n",
       "    <tr>\n",
       "      <th>1</th>\n",
       "      <td>-121.99</td>\n",
       "      <td>37.61</td>\n",
       "      <td>9.0</td>\n",
       "      <td>3666.0</td>\n",
       "      <td>711.0</td>\n",
       "      <td>2341.0</td>\n",
       "      <td>703.0</td>\n",
       "      <td>4.6458</td>\n",
       "      <td>217000.0</td>\n",
       "    </tr>\n",
       "    <tr>\n",
       "      <th>2</th>\n",
       "      <td>-121.97</td>\n",
       "      <td>37.57</td>\n",
       "      <td>21.0</td>\n",
       "      <td>4342.0</td>\n",
       "      <td>783.0</td>\n",
       "      <td>2172.0</td>\n",
       "      <td>789.0</td>\n",
       "      <td>4.6146</td>\n",
       "      <td>247600.0</td>\n",
       "    </tr>\n",
       "    <tr>\n",
       "      <th>3</th>\n",
       "      <td>-121.96</td>\n",
       "      <td>37.58</td>\n",
       "      <td>15.0</td>\n",
       "      <td>3575.0</td>\n",
       "      <td>597.0</td>\n",
       "      <td>1777.0</td>\n",
       "      <td>559.0</td>\n",
       "      <td>5.7192</td>\n",
       "      <td>283500.0</td>\n",
       "    </tr>\n",
       "    <tr>\n",
       "      <th>4</th>\n",
       "      <td>-121.98</td>\n",
       "      <td>37.58</td>\n",
       "      <td>20.0</td>\n",
       "      <td>4126.0</td>\n",
       "      <td>1031.0</td>\n",
       "      <td>2079.0</td>\n",
       "      <td>975.0</td>\n",
       "      <td>3.6832</td>\n",
       "      <td>216900.0</td>\n",
       "    </tr>\n",
       "  </tbody>\n",
       "</table>\n",
       "</div>"
      ],
      "text/plain": [
       "   longitude  latitude  housing_median_age  total_rooms  total_bedrooms  \\\n",
       "0    -121.97     37.64                32.0       1283.0           194.0   \n",
       "1    -121.99     37.61                 9.0       3666.0           711.0   \n",
       "2    -121.97     37.57                21.0       4342.0           783.0   \n",
       "3    -121.96     37.58                15.0       3575.0           597.0   \n",
       "4    -121.98     37.58                20.0       4126.0          1031.0   \n",
       "\n",
       "   population  households  median_income  median_house_value  \n",
       "0       485.0       171.0         6.0574            431000.0  \n",
       "1      2341.0       703.0         4.6458            217000.0  \n",
       "2      2172.0       789.0         4.6146            247600.0  \n",
       "3      1777.0       559.0         5.7192            283500.0  \n",
       "4      2079.0       975.0         3.6832            216900.0  "
      ]
     },
     "execution_count": 12,
     "metadata": {},
     "output_type": "execute_result"
    }
   ],
   "source": [
    "ocean_cols = ocean_prox_1H_Inland.drop('ocean_proximity', axis=1)\n",
    "ocean_cols.head()"
   ]
  },
  {
   "cell_type": "code",
   "execution_count": 13,
   "id": "4a90583f",
   "metadata": {},
   "outputs": [
    {
     "data": {
      "text/plain": [
       "Index(['longitude', 'latitude', 'housing_median_age', 'total_rooms',\n",
       "       'total_bedrooms', 'population', 'households', 'median_income',\n",
       "       'median_house_value'],\n",
       "      dtype='object')"
      ]
     },
     "execution_count": 13,
     "metadata": {},
     "output_type": "execute_result"
    }
   ],
   "source": [
    "ocean_cols.columns"
   ]
  },
  {
   "cell_type": "code",
   "execution_count": 14,
   "id": "bf2c05ed",
   "metadata": {},
   "outputs": [
    {
     "data": {
      "text/plain": [
       "['longitude',\n",
       " 'latitude',\n",
       " 'housing_median_age',\n",
       " 'total_rooms',\n",
       " 'total_bedrooms',\n",
       " 'population',\n",
       " 'households',\n",
       " 'median_income',\n",
       " 'median_house_value']"
      ]
     },
     "execution_count": 14,
     "metadata": {},
     "output_type": "execute_result"
    }
   ],
   "source": [
    "ocean_string = list(ocean_cols.dtypes.index)\n",
    "ocean_string"
   ]
  },
  {
   "cell_type": "markdown",
   "id": "e08749ac",
   "metadata": {},
   "source": [
    "# 1. Missing Values"
   ]
  },
  {
   "cell_type": "code",
   "execution_count": 15,
   "id": "4e8a9df9",
   "metadata": {},
   "outputs": [
    {
     "data": {
      "text/plain": [
       "longitude               0\n",
       "latitude                0\n",
       "housing_median_age      0\n",
       "total_rooms             0\n",
       "total_bedrooms        157\n",
       "population              0\n",
       "households              0\n",
       "median_income           0\n",
       "median_house_value      0\n",
       "dtype: int64"
      ]
     },
     "execution_count": 15,
     "metadata": {},
     "output_type": "execute_result"
    }
   ],
   "source": [
    "ocean_cols.isnull().sum()"
   ]
  },
  {
   "cell_type": "markdown",
   "id": "b5ef5c7b",
   "metadata": {},
   "source": [
    "# 2. Median"
   ]
  },
  {
   "cell_type": "code",
   "execution_count": 16,
   "id": "6b1e8c80",
   "metadata": {},
   "outputs": [
    {
     "data": {
      "text/plain": [
       "longitude               -118.3700\n",
       "latitude                  34.1600\n",
       "housing_median_age        27.0000\n",
       "total_rooms             2118.0000\n",
       "total_bedrooms           432.0000\n",
       "population              1195.0000\n",
       "households               406.0000\n",
       "median_income              3.4688\n",
       "median_house_value    166900.0000\n",
       "dtype: float64"
      ]
     },
     "execution_count": 16,
     "metadata": {},
     "output_type": "execute_result"
    }
   ],
   "source": [
    "ocean_cols.median()"
   ]
  },
  {
   "cell_type": "markdown",
   "id": "36cdb766",
   "metadata": {},
   "source": [
    "# Prepare and split the dataset"
   ]
  },
  {
   "cell_type": "markdown",
   "id": "e1c29606",
   "metadata": {},
   "source": [
    "#Split your data in train/val/test sets, with 60%/20%/20% distribution.\n",
    "#Shuffle the dataset (the filtered one you created above), use seed 42.\n",
    "#Apply the log transformation to the median_house_value variable using the np.log1p() function."
   ]
  },
  {
   "cell_type": "code",
   "execution_count": 17,
   "id": "bdfc0e67",
   "metadata": {},
   "outputs": [],
   "source": [
    "n = len(ocean_cols)\n",
    "\n",
    "n_val = int(n * 0.2)\n",
    "n_test = int(n * 0.2)\n",
    "n_train = n - n_val - n_test"
   ]
  },
  {
   "cell_type": "code",
   "execution_count": 18,
   "id": "71358cc4",
   "metadata": {},
   "outputs": [
    {
     "data": {
      "text/plain": [
       "(15687, 3137, 3137, 9413)"
      ]
     },
     "execution_count": 18,
     "metadata": {},
     "output_type": "execute_result"
    }
   ],
   "source": [
    "n, n_val, n_test, n_train"
   ]
  },
  {
   "cell_type": "code",
   "execution_count": 19,
   "id": "d9d91b9a",
   "metadata": {},
   "outputs": [],
   "source": [
    "# the split dataset of train, val, test\n",
    "\n",
    "ocean_cols_train = ocean_cols.iloc[:n_train]\n",
    "\n",
    "ocean_cols_val = ocean_cols.iloc[n_train:n_train + n_val]\n",
    "\n",
    "ocean_cols_test = ocean_cols.iloc[n_train + n_val:]"
   ]
  },
  {
   "cell_type": "code",
   "execution_count": 20,
   "id": "c18f6dc9",
   "metadata": {},
   "outputs": [
    {
     "data": {
      "text/plain": [
       "(9413, 3137, 3137)"
      ]
     },
     "execution_count": 20,
     "metadata": {},
     "output_type": "execute_result"
    }
   ],
   "source": [
    "len(ocean_cols_train), len(ocean_cols_val), len(ocean_cols_test)   #confirmation if it's the same length."
   ]
  },
  {
   "cell_type": "code",
   "execution_count": 21,
   "id": "50a62a1c",
   "metadata": {},
   "outputs": [
    {
     "data": {
      "text/plain": [
       "array([15183,  4469,  9316, ...,  5390,   860,  7270])"
      ]
     },
     "execution_count": 21,
     "metadata": {},
     "output_type": "execute_result"
    }
   ],
   "source": [
    "idx = np.arange(n)\n",
    "np.random.seed(42)\n",
    "np.random.shuffle(idx)\n",
    "idx"
   ]
  },
  {
   "cell_type": "code",
   "execution_count": 22,
   "id": "ee801fc0",
   "metadata": {},
   "outputs": [],
   "source": [
    "ocean_cols_train = ocean_cols.iloc[idx[:n_train]]\n",
    "\n",
    "ocean_cols_val = ocean_cols.iloc[idx[n_train:n_train + n_val]]\n",
    "\n",
    "ocean_cols_test = ocean_cols.iloc[idx[n_train + n_val:]]"
   ]
  },
  {
   "cell_type": "code",
   "execution_count": 23,
   "id": "5e63646e",
   "metadata": {},
   "outputs": [],
   "source": [
    "ocean_cols_train = ocean_cols_train.reset_index(drop=True)\n",
    "\n",
    "ocean_cols_val = ocean_cols_val.reset_index(drop=True)\n",
    "\n",
    "ocean_cols_test = ocean_cols_test.reset_index(drop=True)"
   ]
  },
  {
   "cell_type": "code",
   "execution_count": 24,
   "id": "a4124a39",
   "metadata": {},
   "outputs": [
    {
     "data": {
      "text/html": [
       "<div>\n",
       "<style scoped>\n",
       "    .dataframe tbody tr th:only-of-type {\n",
       "        vertical-align: middle;\n",
       "    }\n",
       "\n",
       "    .dataframe tbody tr th {\n",
       "        vertical-align: top;\n",
       "    }\n",
       "\n",
       "    .dataframe thead th {\n",
       "        text-align: right;\n",
       "    }\n",
       "</style>\n",
       "<table border=\"1\" class=\"dataframe\">\n",
       "  <thead>\n",
       "    <tr style=\"text-align: right;\">\n",
       "      <th></th>\n",
       "      <th>longitude</th>\n",
       "      <th>latitude</th>\n",
       "      <th>housing_median_age</th>\n",
       "      <th>total_rooms</th>\n",
       "      <th>total_bedrooms</th>\n",
       "      <th>population</th>\n",
       "      <th>households</th>\n",
       "      <th>median_income</th>\n",
       "      <th>median_house_value</th>\n",
       "    </tr>\n",
       "  </thead>\n",
       "  <tbody>\n",
       "    <tr>\n",
       "      <th>0</th>\n",
       "      <td>-119.14</td>\n",
       "      <td>36.23</td>\n",
       "      <td>22.0</td>\n",
       "      <td>2935.0</td>\n",
       "      <td>523.0</td>\n",
       "      <td>1927.0</td>\n",
       "      <td>530.0</td>\n",
       "      <td>2.5875</td>\n",
       "      <td>70400.0</td>\n",
       "    </tr>\n",
       "    <tr>\n",
       "      <th>1</th>\n",
       "      <td>-117.79</td>\n",
       "      <td>34.12</td>\n",
       "      <td>16.0</td>\n",
       "      <td>2426.0</td>\n",
       "      <td>426.0</td>\n",
       "      <td>1319.0</td>\n",
       "      <td>446.0</td>\n",
       "      <td>4.8125</td>\n",
       "      <td>224500.0</td>\n",
       "    </tr>\n",
       "    <tr>\n",
       "      <th>2</th>\n",
       "      <td>-117.97</td>\n",
       "      <td>33.68</td>\n",
       "      <td>26.0</td>\n",
       "      <td>3653.0</td>\n",
       "      <td>568.0</td>\n",
       "      <td>1930.0</td>\n",
       "      <td>585.0</td>\n",
       "      <td>5.7301</td>\n",
       "      <td>260900.0</td>\n",
       "    </tr>\n",
       "    <tr>\n",
       "      <th>3</th>\n",
       "      <td>-118.03</td>\n",
       "      <td>34.10</td>\n",
       "      <td>32.0</td>\n",
       "      <td>2668.0</td>\n",
       "      <td>609.0</td>\n",
       "      <td>1512.0</td>\n",
       "      <td>541.0</td>\n",
       "      <td>2.9422</td>\n",
       "      <td>233100.0</td>\n",
       "    </tr>\n",
       "    <tr>\n",
       "      <th>4</th>\n",
       "      <td>-121.87</td>\n",
       "      <td>37.34</td>\n",
       "      <td>39.0</td>\n",
       "      <td>2479.0</td>\n",
       "      <td>541.0</td>\n",
       "      <td>1990.0</td>\n",
       "      <td>506.0</td>\n",
       "      <td>2.4306</td>\n",
       "      <td>289100.0</td>\n",
       "    </tr>\n",
       "  </tbody>\n",
       "</table>\n",
       "</div>"
      ],
      "text/plain": [
       "   longitude  latitude  housing_median_age  total_rooms  total_bedrooms  \\\n",
       "0    -119.14     36.23                22.0       2935.0           523.0   \n",
       "1    -117.79     34.12                16.0       2426.0           426.0   \n",
       "2    -117.97     33.68                26.0       3653.0           568.0   \n",
       "3    -118.03     34.10                32.0       2668.0           609.0   \n",
       "4    -121.87     37.34                39.0       2479.0           541.0   \n",
       "\n",
       "   population  households  median_income  median_house_value  \n",
       "0      1927.0       530.0         2.5875             70400.0  \n",
       "1      1319.0       446.0         4.8125            224500.0  \n",
       "2      1930.0       585.0         5.7301            260900.0  \n",
       "3      1512.0       541.0         2.9422            233100.0  \n",
       "4      1990.0       506.0         2.4306            289100.0  "
      ]
     },
     "execution_count": 24,
     "metadata": {},
     "output_type": "execute_result"
    }
   ],
   "source": [
    "ocean_cols_train.head()"
   ]
  },
  {
   "cell_type": "code",
   "execution_count": 25,
   "id": "677f1c15",
   "metadata": {},
   "outputs": [
    {
     "data": {
      "text/html": [
       "<div>\n",
       "<style scoped>\n",
       "    .dataframe tbody tr th:only-of-type {\n",
       "        vertical-align: middle;\n",
       "    }\n",
       "\n",
       "    .dataframe tbody tr th {\n",
       "        vertical-align: top;\n",
       "    }\n",
       "\n",
       "    .dataframe thead th {\n",
       "        text-align: right;\n",
       "    }\n",
       "</style>\n",
       "<table border=\"1\" class=\"dataframe\">\n",
       "  <thead>\n",
       "    <tr style=\"text-align: right;\">\n",
       "      <th></th>\n",
       "      <th>longitude</th>\n",
       "      <th>latitude</th>\n",
       "      <th>housing_median_age</th>\n",
       "      <th>total_rooms</th>\n",
       "      <th>total_bedrooms</th>\n",
       "      <th>population</th>\n",
       "      <th>households</th>\n",
       "      <th>median_income</th>\n",
       "      <th>median_house_value</th>\n",
       "    </tr>\n",
       "  </thead>\n",
       "  <tbody>\n",
       "    <tr>\n",
       "      <th>0</th>\n",
       "      <td>-120.09</td>\n",
       "      <td>37.02</td>\n",
       "      <td>9.0</td>\n",
       "      <td>1608.0</td>\n",
       "      <td>297.0</td>\n",
       "      <td>1057.0</td>\n",
       "      <td>295.0</td>\n",
       "      <td>3.7143</td>\n",
       "      <td>81600.0</td>\n",
       "    </tr>\n",
       "    <tr>\n",
       "      <th>1</th>\n",
       "      <td>-117.88</td>\n",
       "      <td>33.84</td>\n",
       "      <td>34.0</td>\n",
       "      <td>1410.0</td>\n",
       "      <td>214.0</td>\n",
       "      <td>837.0</td>\n",
       "      <td>240.0</td>\n",
       "      <td>6.1168</td>\n",
       "      <td>213900.0</td>\n",
       "    </tr>\n",
       "    <tr>\n",
       "      <th>2</th>\n",
       "      <td>-118.21</td>\n",
       "      <td>33.95</td>\n",
       "      <td>32.0</td>\n",
       "      <td>1116.0</td>\n",
       "      <td>328.0</td>\n",
       "      <td>1265.0</td>\n",
       "      <td>302.0</td>\n",
       "      <td>2.2950</td>\n",
       "      <td>155200.0</td>\n",
       "    </tr>\n",
       "    <tr>\n",
       "      <th>3</th>\n",
       "      <td>-119.32</td>\n",
       "      <td>36.32</td>\n",
       "      <td>29.0</td>\n",
       "      <td>2409.0</td>\n",
       "      <td>436.0</td>\n",
       "      <td>1142.0</td>\n",
       "      <td>440.0</td>\n",
       "      <td>3.6895</td>\n",
       "      <td>87700.0</td>\n",
       "    </tr>\n",
       "    <tr>\n",
       "      <th>4</th>\n",
       "      <td>-117.11</td>\n",
       "      <td>33.14</td>\n",
       "      <td>10.0</td>\n",
       "      <td>3208.0</td>\n",
       "      <td>636.0</td>\n",
       "      <td>1395.0</td>\n",
       "      <td>582.0</td>\n",
       "      <td>3.4455</td>\n",
       "      <td>190500.0</td>\n",
       "    </tr>\n",
       "  </tbody>\n",
       "</table>\n",
       "</div>"
      ],
      "text/plain": [
       "   longitude  latitude  housing_median_age  total_rooms  total_bedrooms  \\\n",
       "0    -120.09     37.02                 9.0       1608.0           297.0   \n",
       "1    -117.88     33.84                34.0       1410.0           214.0   \n",
       "2    -118.21     33.95                32.0       1116.0           328.0   \n",
       "3    -119.32     36.32                29.0       2409.0           436.0   \n",
       "4    -117.11     33.14                10.0       3208.0           636.0   \n",
       "\n",
       "   population  households  median_income  median_house_value  \n",
       "0      1057.0       295.0         3.7143             81600.0  \n",
       "1       837.0       240.0         6.1168            213900.0  \n",
       "2      1265.0       302.0         2.2950            155200.0  \n",
       "3      1142.0       440.0         3.6895             87700.0  \n",
       "4      1395.0       582.0         3.4455            190500.0  "
      ]
     },
     "execution_count": 25,
     "metadata": {},
     "output_type": "execute_result"
    }
   ],
   "source": [
    "ocean_cols_val.head()"
   ]
  },
  {
   "cell_type": "code",
   "execution_count": 26,
   "id": "459fcad7",
   "metadata": {},
   "outputs": [
    {
     "data": {
      "text/html": [
       "<div>\n",
       "<style scoped>\n",
       "    .dataframe tbody tr th:only-of-type {\n",
       "        vertical-align: middle;\n",
       "    }\n",
       "\n",
       "    .dataframe tbody tr th {\n",
       "        vertical-align: top;\n",
       "    }\n",
       "\n",
       "    .dataframe thead th {\n",
       "        text-align: right;\n",
       "    }\n",
       "</style>\n",
       "<table border=\"1\" class=\"dataframe\">\n",
       "  <thead>\n",
       "    <tr style=\"text-align: right;\">\n",
       "      <th></th>\n",
       "      <th>longitude</th>\n",
       "      <th>latitude</th>\n",
       "      <th>housing_median_age</th>\n",
       "      <th>total_rooms</th>\n",
       "      <th>total_bedrooms</th>\n",
       "      <th>population</th>\n",
       "      <th>households</th>\n",
       "      <th>median_income</th>\n",
       "      <th>median_house_value</th>\n",
       "    </tr>\n",
       "  </thead>\n",
       "  <tbody>\n",
       "    <tr>\n",
       "      <th>0</th>\n",
       "      <td>-117.44</td>\n",
       "      <td>33.90</td>\n",
       "      <td>23.0</td>\n",
       "      <td>4487.0</td>\n",
       "      <td>754.0</td>\n",
       "      <td>2609.0</td>\n",
       "      <td>778.0</td>\n",
       "      <td>4.2788</td>\n",
       "      <td>148700.0</td>\n",
       "    </tr>\n",
       "    <tr>\n",
       "      <th>1</th>\n",
       "      <td>-121.65</td>\n",
       "      <td>38.03</td>\n",
       "      <td>28.0</td>\n",
       "      <td>3144.0</td>\n",
       "      <td>694.0</td>\n",
       "      <td>1095.0</td>\n",
       "      <td>482.0</td>\n",
       "      <td>3.4402</td>\n",
       "      <td>192400.0</td>\n",
       "    </tr>\n",
       "    <tr>\n",
       "      <th>2</th>\n",
       "      <td>-121.85</td>\n",
       "      <td>37.25</td>\n",
       "      <td>20.0</td>\n",
       "      <td>3773.0</td>\n",
       "      <td>624.0</td>\n",
       "      <td>1965.0</td>\n",
       "      <td>607.0</td>\n",
       "      <td>5.4939</td>\n",
       "      <td>241200.0</td>\n",
       "    </tr>\n",
       "    <tr>\n",
       "      <th>3</th>\n",
       "      <td>-116.97</td>\n",
       "      <td>32.78</td>\n",
       "      <td>35.0</td>\n",
       "      <td>1113.0</td>\n",
       "      <td>236.0</td>\n",
       "      <td>681.0</td>\n",
       "      <td>246.0</td>\n",
       "      <td>2.9784</td>\n",
       "      <td>136400.0</td>\n",
       "    </tr>\n",
       "    <tr>\n",
       "      <th>4</th>\n",
       "      <td>-121.32</td>\n",
       "      <td>37.97</td>\n",
       "      <td>43.0</td>\n",
       "      <td>2453.0</td>\n",
       "      <td>490.0</td>\n",
       "      <td>1093.0</td>\n",
       "      <td>438.0</td>\n",
       "      <td>2.9107</td>\n",
       "      <td>88800.0</td>\n",
       "    </tr>\n",
       "  </tbody>\n",
       "</table>\n",
       "</div>"
      ],
      "text/plain": [
       "   longitude  latitude  housing_median_age  total_rooms  total_bedrooms  \\\n",
       "0    -117.44     33.90                23.0       4487.0           754.0   \n",
       "1    -121.65     38.03                28.0       3144.0           694.0   \n",
       "2    -121.85     37.25                20.0       3773.0           624.0   \n",
       "3    -116.97     32.78                35.0       1113.0           236.0   \n",
       "4    -121.32     37.97                43.0       2453.0           490.0   \n",
       "\n",
       "   population  households  median_income  median_house_value  \n",
       "0      2609.0       778.0         4.2788            148700.0  \n",
       "1      1095.0       482.0         3.4402            192400.0  \n",
       "2      1965.0       607.0         5.4939            241200.0  \n",
       "3       681.0       246.0         2.9784            136400.0  \n",
       "4      1093.0       438.0         2.9107             88800.0  "
      ]
     },
     "execution_count": 26,
     "metadata": {},
     "output_type": "execute_result"
    }
   ],
   "source": [
    "ocean_cols_test.head()"
   ]
  },
  {
   "cell_type": "code",
   "execution_count": 27,
   "id": "b4c60327",
   "metadata": {},
   "outputs": [
    {
     "data": {
      "text/plain": [
       "0        12.973866\n",
       "1        12.287657\n",
       "2        12.419574\n",
       "3        12.554971\n",
       "4        12.287196\n",
       "           ...    \n",
       "15682    11.265758\n",
       "15683    11.252872\n",
       "15684    11.432810\n",
       "15685    11.346883\n",
       "15686    11.400887\n",
       "Name: median_house_value, Length: 15687, dtype: float64"
      ]
     },
     "execution_count": 27,
     "metadata": {},
     "output_type": "execute_result"
    }
   ],
   "source": [
    "median_house_value = np.log1p(ocean_cols['median_house_value'])\n",
    "median_house_value"
   ]
  },
  {
   "cell_type": "code",
   "execution_count": 28,
   "id": "5d96b8e4",
   "metadata": {},
   "outputs": [
    {
     "data": {
      "text/plain": [
       "<AxesSubplot:xlabel='median_house_value', ylabel='Count'>"
      ]
     },
     "execution_count": 28,
     "metadata": {},
     "output_type": "execute_result"
    },
    {
     "data": {
      "image/png": "[encoded data removed]",
      "text/plain": [
       "<Figure size 432x288 with 1 Axes>"
      ]
     },
     "metadata": {
      "needs_background": "light"
     },
     "output_type": "display_data"
    }
   ],
   "source": [
    "sns.histplot(median_house_value, bins=50)                #plot of the np.log1p(median_house_value)"
   ]
  },
  {
   "cell_type": "markdown",
   "id": "549a7bb0",
   "metadata": {},
   "source": [
    "# Question 3. Missing values"
   ]
  },
  {
   "cell_type": "markdown",
   "id": "cbe8df3f",
   "metadata": {},
   "source": [
    "#We need to deal with missing values for the column from Q1.\n",
    "#We have two options: fill it with 0 or with the mean of this variable."
   ]
  },
  {
   "cell_type": "code",
   "execution_count": 29,
   "id": "18fb281a",
   "metadata": {},
   "outputs": [
    {
     "data": {
      "text/plain": [
       "longitude               0\n",
       "latitude                0\n",
       "housing_median_age      0\n",
       "total_rooms             0\n",
       "total_bedrooms        157\n",
       "population              0\n",
       "households              0\n",
       "median_income           0\n",
       "median_house_value      0\n",
       "dtype: int64"
      ]
     },
     "execution_count": 29,
     "metadata": {},
     "output_type": "execute_result"
    }
   ],
   "source": [
    "ocean_cols.isnull().sum()"
   ]
  },
  {
   "cell_type": "code",
   "execution_count": 30,
   "id": "28fe843a",
   "metadata": {},
   "outputs": [
    {
     "data": {
      "text/plain": [
       "False    15530\n",
       "True       157\n",
       "Name: total_bedrooms, dtype: int64"
      ]
     },
     "execution_count": 30,
     "metadata": {},
     "output_type": "execute_result"
    }
   ],
   "source": [
    "ocean_cols['total_bedrooms'].isnull().value_counts()"
   ]
  },
  {
   "cell_type": "code",
   "execution_count": 31,
   "id": "e9fc4916",
   "metadata": {},
   "outputs": [
    {
     "data": {
      "text/plain": [
       "541.2446877012235"
      ]
     },
     "execution_count": 31,
     "metadata": {},
     "output_type": "execute_result"
    }
   ],
   "source": [
    "total_bedrooms_mean = ocean_cols['total_bedrooms'].mean()\n",
    "total_bedrooms_mean"
   ]
  },
  {
   "cell_type": "code",
   "execution_count": 32,
   "id": "45582a6c",
   "metadata": {},
   "outputs": [],
   "source": [
    "total_bedrooms_zero = ocean_cols['total_bedrooms'].fillna(0)"
   ]
  },
  {
   "cell_type": "code",
   "execution_count": 33,
   "id": "95ff5074",
   "metadata": {},
   "outputs": [],
   "source": [
    "total_bedrooms_mean = ocean_cols['total_bedrooms'].fillna(total_bedrooms_mean)"
   ]
  },
  {
   "cell_type": "code",
   "execution_count": 34,
   "id": "3e6ea1cb",
   "metadata": {},
   "outputs": [
    {
     "data": {
      "text/plain": [
       "0"
      ]
     },
     "execution_count": 34,
     "metadata": {},
     "output_type": "execute_result"
    }
   ],
   "source": [
    "total_bedrooms_zero.isnull().sum()"
   ]
  },
  {
   "cell_type": "code",
   "execution_count": 35,
   "id": "0e93754c",
   "metadata": {},
   "outputs": [
    {
     "data": {
      "text/plain": [
       "0"
      ]
     },
     "execution_count": 35,
     "metadata": {},
     "output_type": "execute_result"
    }
   ],
   "source": [
    "total_bedrooms_mean.isnull().sum()"
   ]
  },
  {
   "cell_type": "code",
   "execution_count": 36,
   "id": "abf1a5d8",
   "metadata": {},
   "outputs": [
    {
     "data": {
      "text/plain": [
       "longitude               0\n",
       "latitude                0\n",
       "housing_median_age      0\n",
       "total_rooms             0\n",
       "total_bedrooms        157\n",
       "population              0\n",
       "households              0\n",
       "median_income           0\n",
       "median_house_value      0\n",
       "dtype: int64"
      ]
     },
     "execution_count": 36,
     "metadata": {},
     "output_type": "execute_result"
    }
   ],
   "source": [
    "ocean_cols.isnull().sum()"
   ]
  },
  {
   "cell_type": "markdown",
   "id": "47f48c18",
   "metadata": {},
   "source": [
    "#Try both options. For each, train a linear regression model without regularization using the code from the lessons.\n",
    "\n",
    "#Use the validation dataset to evaluate the models and compare the RMSE of each option.\n",
    "\n",
    "#Round the RMSE scores to 2 decimal digits using round(score, 2)"
   ]
  },
  {
   "cell_type": "code",
   "execution_count": 37,
   "id": "0f5c6a67",
   "metadata": {},
   "outputs": [],
   "source": [
    "# get the features X for each dataset\n",
    "\n",
    "X_train = ocean_cols_train.drop('median_house_value', axis=1).values\n",
    "\n",
    "X_val = ocean_cols_val.drop('median_house_value', axis=1).values\n",
    "\n",
    "X_test = ocean_cols_test.drop('median_house_value', axis=1).values"
   ]
  },
  {
   "cell_type": "code",
   "execution_count": 38,
   "id": "af7bec9e",
   "metadata": {},
   "outputs": [
    {
     "data": {
      "text/plain": [
       "(9413, 3137, 3137)"
      ]
     },
     "execution_count": 38,
     "metadata": {},
     "output_type": "execute_result"
    }
   ],
   "source": [
    "len(X_train), len(X_val), len(X_test)"
   ]
  },
  {
   "cell_type": "code",
   "execution_count": 39,
   "id": "730e65e4",
   "metadata": {},
   "outputs": [],
   "source": [
    "# get the target y for each dataset\n",
    "\n",
    "y_train = np.log1p(ocean_cols_train['median_house_value'].values)\n",
    "\n",
    "y_val = np.log1p(ocean_cols_val['median_house_value'].values)\n",
    "\n",
    "y_test = np.log1p(ocean_cols_test['median_house_value'].values)"
   ]
  },
  {
   "cell_type": "code",
   "execution_count": 40,
   "id": "2214e82a",
   "metadata": {},
   "outputs": [
    {
     "data": {
      "text/plain": [
       "(9413, 3137, 3137)"
      ]
     },
     "execution_count": 40,
     "metadata": {},
     "output_type": "execute_result"
    }
   ],
   "source": [
    "len(y_train), len(y_val), len(y_test)"
   ]
  },
  {
   "cell_type": "markdown",
   "id": "0aa9c48a",
   "metadata": {},
   "source": [
    "#use function to get our parameters for fillna(0)"
   ]
  },
  {
   "cell_type": "code",
   "execution_count": 41,
   "id": "9fd003ba",
   "metadata": {},
   "outputs": [],
   "source": [
    "def get_X(ocean_cols):\n",
    "    \n",
    "    ocean_cols = ocean_cols.drop('median_house_value', axis=1).fillna(0).values\n",
    "    X = ocean_cols\n",
    "    \n",
    "    return X"
   ]
  },
  {
   "cell_type": "code",
   "execution_count": 42,
   "id": "96266564",
   "metadata": {},
   "outputs": [],
   "source": [
    "def linear_regression(X, y):\n",
    "    \n",
    "    ones = np.ones(X.shape[0])\n",
    "    X = np.column_stack([ones, X])\n",
    "    \n",
    "    X_transpose = X.T\n",
    "    X_trans_dot = X_transpose.dot(X)\n",
    "    X_inv = np.linalg.inv(X_trans_dot)\n",
    "    \n",
    "    w_full = X_inv.dot(X_transpose).dot(y)\n",
    "    \n",
    "    return w_full[0], w_full[1:]"
   ]
  },
  {
   "cell_type": "code",
   "execution_count": 43,
   "id": "58718038",
   "metadata": {},
   "outputs": [],
   "source": [
    "def rmse(y, y_pred):\n",
    "    \n",
    "    error = y - y_pred\n",
    "    squared_error = error**2\n",
    "    mean_square_error = squared_error.mean()\n",
    "    score = np.sqrt(mean_square_error)\n",
    "    \n",
    "    return round(score, 2)"
   ]
  },
  {
   "cell_type": "code",
   "execution_count": 44,
   "id": "6d8221bb",
   "metadata": {},
   "outputs": [
    {
     "data": {
      "text/plain": [
       "0.34"
      ]
     },
     "execution_count": 44,
     "metadata": {},
     "output_type": "execute_result"
    }
   ],
   "source": [
    "X_train = get_X(ocean_cols_train)\n",
    "w0, w = linear_regression(X_train,y_train)\n",
    "\n",
    "X_val = get_X(ocean_cols_val)\n",
    "y_pred = w0 + X_val.dot(w)\n",
    "\n",
    "rmse(y_val,y_pred)"
   ]
  },
  {
   "cell_type": "markdown",
   "id": "fd309fd1",
   "metadata": {},
   "source": [
    "#use function to get our parameters for fillna(mean)"
   ]
  },
  {
   "cell_type": "code",
   "execution_count": 45,
   "id": "0296355e",
   "metadata": {},
   "outputs": [],
   "source": [
    "def get_X_mean(ocean_cols):\n",
    "    \n",
    "    ocean_cols = ocean_cols.drop('median_house_value', axis=1).fillna(ocean_cols.mean()).values\n",
    "    X = ocean_cols\n",
    "    \n",
    "    return X"
   ]
  },
  {
   "cell_type": "code",
   "execution_count": 46,
   "id": "19065f64",
   "metadata": {},
   "outputs": [
    {
     "data": {
      "text/plain": [
       "0.34"
      ]
     },
     "execution_count": 46,
     "metadata": {},
     "output_type": "execute_result"
    }
   ],
   "source": [
    "X_train = get_X_mean(ocean_cols_train)\n",
    "w0, w = linear_regression(X_train,y_train)\n",
    "\n",
    "X_val = get_X_mean(ocean_cols_val)\n",
    "y_pred = w0 + X_val.dot(w)\n",
    "\n",
    "rmse(y_val,y_pred)"
   ]
  },
  {
   "cell_type": "markdown",
   "id": "bf8d602c",
   "metadata": {},
   "source": [
    "# Question 4. Regularization"
   ]
  },
  {
   "cell_type": "markdown",
   "id": "8fc76faf",
   "metadata": {},
   "source": [
    "#Now let's train a regularized linear regression.\n",
    "\n",
    "#For this question, fill the NAs with 0.\n",
    "\n",
    "#Try different values of r from this list: [0, 0.000001, 0.0001, 0.001, 0.01, 0.1, 1, 5, 10].\n",
    "\n",
    "#Use RMSE to evaluate the model on the validation dataset.\n",
    "\n",
    "#Round the RMSE scores to 2 decimal digits.\n",
    "\n",
    "#Which r gives the best RMSE?"
   ]
  },
  {
   "cell_type": "code",
   "execution_count": 47,
   "id": "de6dfa66",
   "metadata": {},
   "outputs": [],
   "source": [
    "def get_X(ocean_cols):\n",
    "    \n",
    "    ocean_cols = ocean_cols.drop('median_house_value', axis=1).fillna(0).values\n",
    "    X = ocean_cols\n",
    "    \n",
    "    return X"
   ]
  },
  {
   "cell_type": "code",
   "execution_count": 48,
   "id": "dc666f5a",
   "metadata": {},
   "outputs": [],
   "source": [
    "def linear_regression_r(X, y, r):\n",
    "    \n",
    "    ones = np.ones(X.shape[0])\n",
    "    X = np.column_stack([ones, X])\n",
    "    \n",
    "    X_transpose = X.T\n",
    "    X_trans_dot = X_transpose.dot(X)\n",
    "    X_reg = X_trans_dot + r * np.eye(X_trans_dot.shape[0])\n",
    "    X_reg_inv = np.linalg.inv(X_reg)\n",
    "    \n",
    "    w_full = X_reg_inv.dot(X_transpose).dot(y)\n",
    "    \n",
    "    return w_full[0], w_full[1:]                   "
   ]
  },
  {
   "cell_type": "code",
   "execution_count": 49,
   "id": "4cb96db6",
   "metadata": {},
   "outputs": [
    {
     "name": "stdout",
     "output_type": "stream",
     "text": [
      "0 -9.763249477687737 0.34\n",
      "1e-06 -9.763228830502902 0.34\n",
      "0.0001 -9.761185235314796 0.34\n",
      "0.001 -9.74264624941128 0.34\n",
      "0.01 -9.561056193074688 0.34\n",
      "0.1 -8.058889769662885 0.34\n",
      "1 -3.1331542782853083 0.34\n",
      "5 -0.8410867975248791 0.35\n",
      "10 -0.4381172315427366 0.35\n"
     ]
    }
   ],
   "source": [
    "for r in [0, 0.000001, 0.0001, 0.001, 0.01, 0.1, 1, 5, 10]:\n",
    "    X_train = get_X(ocean_cols_train)\n",
    "    w0, w = linear_regression_r(X_train,y_train, r=r)\n",
    "\n",
    "    X_val = get_X(ocean_cols_val)\n",
    "    y_pred = w0 + X_val.dot(w)\n",
    "    score = rmse(y_val,y_pred)\n",
    "    \n",
    "    print(r, w0, round(score, 2))"
   ]
  },
  {
   "cell_type": "markdown",
   "id": "00c1a06f",
   "metadata": {},
   "source": [
    "# Question 5. Using a different Seed Value"
   ]
  },
  {
   "cell_type": "markdown",
   "id": "8b7bdb8d",
   "metadata": {},
   "source": [
    "#We used seed 42 for splitting the data. Let's find out how selecting the seed influences our score.\n",
    "\n",
    "#Try different seed values: [0, 1, 2, 3, 4, 5, 6, 7, 8, 9].\n",
    "\n",
    "#For each seed, do the train/validation/test split with 60%/20%/20% distribution.\n",
    "\n",
    "#Fill the missing values with 0 and train a model without regularization.\n",
    "\n",
    "#For each seed, evaluate the model on the validation dataset and collect the RMSE scores.\n",
    "\n",
    "#What's the standard deviation of all the scores? To compute the standard deviation, use np.std.\n",
    "\n",
    "#Round the result to 3 decimal digits (round(std, 3))"
   ]
  },
  {
   "cell_type": "code",
   "execution_count": 50,
   "id": "3fc449d2",
   "metadata": {},
   "outputs": [],
   "source": [
    "def get_X_seed(ocean_cols):\n",
    "    \n",
    "    ocean_cols = ocean_cols.drop('median_house_value', axis=1).fillna(0).values\n",
    "    seed_values = [0, 1, 2, 3, 4, 5, 6, 7, 8, 9]\n",
    "    \n",
    "    for s in seed_values:\n",
    "        n = len(ocean_cols)\n",
    "        n_val = int(n * 0.2)\n",
    "        n_test = int(n * 0.2)\n",
    "        n_train = n - n_val - n_test\n",
    "        idx = np.arange(n)\n",
    "        np.random.seed(s)\n",
    "        np.random.shuffle(idx)\n",
    "        \n",
    "    return ocean_cols[idx[:n_train]], ocean_cols[idx[n_train:n_train+n_val]], ocean_cols[idx[n_train+n_val:]]"
   ]
  },
  {
   "cell_type": "code",
   "execution_count": 51,
   "id": "5f94ff44",
   "metadata": {},
   "outputs": [
    {
     "data": {
      "text/plain": [
       "(array([[-117.05  ,   32.82  ,   16.    , ..., 1684.    ,  701.    ,\n",
       "            4.2312],\n",
       "        [-118.    ,   33.91  ,   19.    , ..., 2374.    ,  753.    ,\n",
       "            5.979 ],\n",
       "        [-121.96  ,   37.25  ,   35.    , ...,  484.    ,  174.    ,\n",
       "            6.1648],\n",
       "        ...,\n",
       "        [-117.01  ,   32.76  ,   22.    , ..., 1800.    ,  769.    ,\n",
       "            2.8594],\n",
       "        [-117.1   ,   34.57  ,    6.    , ..., 1938.    ,  724.    ,\n",
       "            3.1917],\n",
       "        [-118.03  ,   33.93  ,   35.    , ..., 1386.    ,  411.    ,\n",
       "            5.2736]]),\n",
       " array([[-1.2013e+02,  3.7930e+01,  5.0000e+00, ...,  5.8000e+01,\n",
       "          2.5000e+01,  1.6750e+00],\n",
       "        [-1.1906e+02,  3.5330e+01,  1.4000e+01, ...,  3.2780e+03,\n",
       "          1.0490e+03,  3.8117e+00],\n",
       "        [-1.1689e+02,  3.3930e+01,  2.9000e+01, ...,  2.4940e+03,\n",
       "          9.1200e+02,  2.0976e+00],\n",
       "        ...,\n",
       "        [-1.1699e+02,  3.2850e+01,  3.2000e+01, ...,  3.0250e+03,\n",
       "          9.4800e+02,  4.0931e+00],\n",
       "        [-1.2268e+02,  3.8480e+01,  1.5000e+01, ...,  7.1600e+02,\n",
       "          2.5900e+02,  5.3409e+00],\n",
       "        [-1.2195e+02,  3.7290e+01,  3.0000e+01, ...,  1.8340e+03,\n",
       "          8.2400e+02,  3.4505e+00]]),\n",
       " array([[-1.1808e+02,  3.4010e+01,  3.4000e+01, ...,  2.1220e+03,\n",
       "          5.2900e+02,  2.5969e+00],\n",
       "        [-1.2114e+02,  3.8160e+01,  1.4000e+01, ...,  1.3710e+03,\n",
       "          4.7900e+02,  3.5774e+00],\n",
       "        [-1.2147e+02,  3.8520e+01,  2.6000e+01, ...,  1.9710e+03,\n",
       "          5.6000e+02,  1.2575e+00],\n",
       "        ...,\n",
       "        [-1.1835e+02,  3.3910e+01,  3.1000e+01, ...,  1.6750e+03,\n",
       "          6.1200e+02,  3.5234e+00],\n",
       "        [-1.1843e+02,  3.4290e+01,  3.9000e+01, ...,  1.4990e+03,\n",
       "          3.9000e+02,  3.1212e+00],\n",
       "        [-1.1779e+02,  3.3700e+01,  1.6000e+01, ...,  3.7850e+03,\n",
       "          1.1140e+03,  6.3298e+00]]))"
      ]
     },
     "execution_count": 51,
     "metadata": {},
     "output_type": "execute_result"
    }
   ],
   "source": [
    "get_X_seed(ocean_cols)"
   ]
  },
  {
   "cell_type": "code",
   "execution_count": 52,
   "id": "db68d13c",
   "metadata": {},
   "outputs": [],
   "source": [
    "def linear_regression_seed(X, y, s):\n",
    "    \n",
    "    ones = np.ones(X.shape[0])\n",
    "    X = np.column_stack([ones, X])\n",
    "      \n",
    "    X_transpose = X.T\n",
    "    X_trans_dot = X_transpose.dot(X)\n",
    "    X_reg = X_trans_dot + r * np.eye(X_trans_dot.shape[0])\n",
    "    X_reg_inv = np.linalg.inv(X_reg)\n",
    "    \n",
    "    w_full = X_reg_inv.dot(X_transpose).dot(y)\n",
    "    \n",
    "    return w_full[0], w_full[1:]                      "
   ]
  },
  {
   "cell_type": "code",
   "execution_count": null,
   "id": "d96f5067",
   "metadata": {},
   "outputs": [],
   "source": [
    "for s in [0, 1, 2, 3, 4, 5, 6, 7, 8, 9]:\n",
    "    X_train = get_X_seed(ocean_cols_train)\n",
    "    w0, w = linear_regression_seed(X_train,y_train,s=s)\n",
    "\n",
    "    X_val = get_X_seed(ocean_cols_val)\n",
    "    y_pred = w0 + X_val.dot(w)\n",
    "    score = np.std(rmse(y_val,y_pred))\n",
    "    \n",
    "    print(s, w0, round(score, 2))"
   ]
  },
  {
   "cell_type": "markdown",
   "id": "0b148901",
   "metadata": {},
   "source": [
    "# Question 6"
   ]
  },
  {
   "cell_type": "markdown",
   "id": "2c54131e",
   "metadata": {},
   "source": [
    "#Split the dataset like previously, use seed 9.\n",
    "\n",
    "#Combine train and validation datasets.\n",
    "\n",
    "#Fill the missing values with 0 and train a model with r=0.001.\n",
    "\n",
    "#What's the RMSE on the test dataset?\n"
   ]
  },
  {
   "cell_type": "code",
   "execution_count": 53,
   "id": "8390f8a7",
   "metadata": {},
   "outputs": [],
   "source": [
    "m = len(ocean_cols)\n",
    "m_val = int(m * 0.2)\n",
    "m_test = int(m * 0.2)\n",
    "m_train = m - m_val - m_test"
   ]
  },
  {
   "cell_type": "code",
   "execution_count": 54,
   "id": "220b8e71",
   "metadata": {},
   "outputs": [
    {
     "data": {
      "text/plain": [
       "(15687, 3137, 3137, 9413)"
      ]
     },
     "execution_count": 54,
     "metadata": {},
     "output_type": "execute_result"
    }
   ],
   "source": [
    "m, m_val, m_test, m_train"
   ]
  },
  {
   "cell_type": "code",
   "execution_count": 55,
   "id": "18c5bc71",
   "metadata": {},
   "outputs": [],
   "source": [
    "idx = np.arange(m)\n",
    "np.random.seed(9)\n",
    "np.random.shuffle(idx)"
   ]
  },
  {
   "cell_type": "code",
   "execution_count": 56,
   "id": "d12d50b6",
   "metadata": {},
   "outputs": [
    {
     "data": {
      "text/plain": [
       "array([11994,  5634, 13629, ...,  6782,  4444,  8574])"
      ]
     },
     "execution_count": 56,
     "metadata": {},
     "output_type": "execute_result"
    }
   ],
   "source": [
    "idx"
   ]
  },
  {
   "cell_type": "code",
   "execution_count": 57,
   "id": "f7acea9b",
   "metadata": {},
   "outputs": [],
   "source": [
    "ocean_cols_train = ocean_cols.iloc[idx[:m_train]]\n",
    "\n",
    "ocean_cols_val = ocean_cols.iloc[idx[m_train:m_train + m_val]]\n",
    "\n",
    "ocean_cols_test = ocean_cols.iloc[idx[m_train + m_val:]]"
   ]
  },
  {
   "cell_type": "code",
   "execution_count": 58,
   "id": "c769d403",
   "metadata": {},
   "outputs": [],
   "source": [
    "ocean_cols_train = ocean_cols_train.reset_index(drop=True)\n",
    "\n",
    "ocean_cols_val = ocean_cols_val.reset_index(drop=True)\n",
    "\n",
    "ocean_cols_test = ocean_cols_test.reset_index(drop=True)"
   ]
  },
  {
   "cell_type": "code",
   "execution_count": 59,
   "id": "1970c786",
   "metadata": {},
   "outputs": [
    {
     "data": {
      "text/plain": [
       "(9413, 3137, 3137)"
      ]
     },
     "execution_count": 59,
     "metadata": {},
     "output_type": "execute_result"
    }
   ],
   "source": [
    "len(ocean_cols_train), len(ocean_cols_val), len(ocean_cols_test) "
   ]
  },
  {
   "cell_type": "code",
   "execution_count": 60,
   "id": "1a323571",
   "metadata": {},
   "outputs": [],
   "source": [
    "ocean_full_train = pd.concat([ocean_cols_train,ocean_cols_val])"
   ]
  },
  {
   "cell_type": "code",
   "execution_count": 61,
   "id": "521100ea",
   "metadata": {},
   "outputs": [
    {
     "data": {
      "text/html": [
       "<div>\n",
       "<style scoped>\n",
       "    .dataframe tbody tr th:only-of-type {\n",
       "        vertical-align: middle;\n",
       "    }\n",
       "\n",
       "    .dataframe tbody tr th {\n",
       "        vertical-align: top;\n",
       "    }\n",
       "\n",
       "    .dataframe thead th {\n",
       "        text-align: right;\n",
       "    }\n",
       "</style>\n",
       "<table border=\"1\" class=\"dataframe\">\n",
       "  <thead>\n",
       "    <tr style=\"text-align: right;\">\n",
       "      <th></th>\n",
       "      <th>longitude</th>\n",
       "      <th>latitude</th>\n",
       "      <th>housing_median_age</th>\n",
       "      <th>total_rooms</th>\n",
       "      <th>total_bedrooms</th>\n",
       "      <th>population</th>\n",
       "      <th>households</th>\n",
       "      <th>median_income</th>\n",
       "      <th>median_house_value</th>\n",
       "    </tr>\n",
       "  </thead>\n",
       "  <tbody>\n",
       "    <tr>\n",
       "      <th>0</th>\n",
       "      <td>-117.05</td>\n",
       "      <td>32.82</td>\n",
       "      <td>16.0</td>\n",
       "      <td>4046.0</td>\n",
       "      <td>731.0</td>\n",
       "      <td>1684.0</td>\n",
       "      <td>701.0</td>\n",
       "      <td>4.2312</td>\n",
       "      <td>197000.0</td>\n",
       "    </tr>\n",
       "    <tr>\n",
       "      <th>1</th>\n",
       "      <td>-118.00</td>\n",
       "      <td>33.91</td>\n",
       "      <td>19.0</td>\n",
       "      <td>5166.0</td>\n",
       "      <td>770.0</td>\n",
       "      <td>2374.0</td>\n",
       "      <td>753.0</td>\n",
       "      <td>5.9790</td>\n",
       "      <td>285200.0</td>\n",
       "    </tr>\n",
       "    <tr>\n",
       "      <th>2</th>\n",
       "      <td>-121.96</td>\n",
       "      <td>37.25</td>\n",
       "      <td>35.0</td>\n",
       "      <td>1018.0</td>\n",
       "      <td>169.0</td>\n",
       "      <td>484.0</td>\n",
       "      <td>174.0</td>\n",
       "      <td>6.1648</td>\n",
       "      <td>371900.0</td>\n",
       "    </tr>\n",
       "    <tr>\n",
       "      <th>3</th>\n",
       "      <td>-121.89</td>\n",
       "      <td>37.30</td>\n",
       "      <td>47.0</td>\n",
       "      <td>1604.0</td>\n",
       "      <td>284.0</td>\n",
       "      <td>639.0</td>\n",
       "      <td>278.0</td>\n",
       "      <td>5.8415</td>\n",
       "      <td>283300.0</td>\n",
       "    </tr>\n",
       "    <tr>\n",
       "      <th>4</th>\n",
       "      <td>-118.14</td>\n",
       "      <td>33.96</td>\n",
       "      <td>34.0</td>\n",
       "      <td>2744.0</td>\n",
       "      <td>541.0</td>\n",
       "      <td>1333.0</td>\n",
       "      <td>503.0</td>\n",
       "      <td>4.0536</td>\n",
       "      <td>277200.0</td>\n",
       "    </tr>\n",
       "    <tr>\n",
       "      <th>...</th>\n",
       "      <td>...</td>\n",
       "      <td>...</td>\n",
       "      <td>...</td>\n",
       "      <td>...</td>\n",
       "      <td>...</td>\n",
       "      <td>...</td>\n",
       "      <td>...</td>\n",
       "      <td>...</td>\n",
       "      <td>...</td>\n",
       "    </tr>\n",
       "    <tr>\n",
       "      <th>12545</th>\n",
       "      <td>-121.14</td>\n",
       "      <td>38.92</td>\n",
       "      <td>16.0</td>\n",
       "      <td>2069.0</td>\n",
       "      <td>312.0</td>\n",
       "      <td>889.0</td>\n",
       "      <td>299.0</td>\n",
       "      <td>4.6771</td>\n",
       "      <td>212000.0</td>\n",
       "    </tr>\n",
       "    <tr>\n",
       "      <th>12546</th>\n",
       "      <td>-118.25</td>\n",
       "      <td>33.93</td>\n",
       "      <td>42.0</td>\n",
       "      <td>763.0</td>\n",
       "      <td>191.0</td>\n",
       "      <td>754.0</td>\n",
       "      <td>174.0</td>\n",
       "      <td>2.0486</td>\n",
       "      <td>101800.0</td>\n",
       "    </tr>\n",
       "    <tr>\n",
       "      <th>12547</th>\n",
       "      <td>-116.99</td>\n",
       "      <td>32.85</td>\n",
       "      <td>32.0</td>\n",
       "      <td>5211.0</td>\n",
       "      <td>949.0</td>\n",
       "      <td>3025.0</td>\n",
       "      <td>948.0</td>\n",
       "      <td>4.0931</td>\n",
       "      <td>134200.0</td>\n",
       "    </tr>\n",
       "    <tr>\n",
       "      <th>12548</th>\n",
       "      <td>-122.68</td>\n",
       "      <td>38.48</td>\n",
       "      <td>15.0</td>\n",
       "      <td>1575.0</td>\n",
       "      <td>262.0</td>\n",
       "      <td>716.0</td>\n",
       "      <td>259.0</td>\n",
       "      <td>5.3409</td>\n",
       "      <td>244600.0</td>\n",
       "    </tr>\n",
       "    <tr>\n",
       "      <th>12549</th>\n",
       "      <td>-121.95</td>\n",
       "      <td>37.29</td>\n",
       "      <td>30.0</td>\n",
       "      <td>3734.0</td>\n",
       "      <td>813.0</td>\n",
       "      <td>1834.0</td>\n",
       "      <td>824.0</td>\n",
       "      <td>3.4505</td>\n",
       "      <td>260000.0</td>\n",
       "    </tr>\n",
       "  </tbody>\n",
       "</table>\n",
       "<p>12550 rows × 9 columns</p>\n",
       "</div>"
      ],
      "text/plain": [
       "       longitude  latitude  housing_median_age  total_rooms  total_bedrooms  \\\n",
       "0        -117.05     32.82                16.0       4046.0           731.0   \n",
       "1        -118.00     33.91                19.0       5166.0           770.0   \n",
       "2        -121.96     37.25                35.0       1018.0           169.0   \n",
       "3        -121.89     37.30                47.0       1604.0           284.0   \n",
       "4        -118.14     33.96                34.0       2744.0           541.0   \n",
       "...          ...       ...                 ...          ...             ...   \n",
       "12545    -121.14     38.92                16.0       2069.0           312.0   \n",
       "12546    -118.25     33.93                42.0        763.0           191.0   \n",
       "12547    -116.99     32.85                32.0       5211.0           949.0   \n",
       "12548    -122.68     38.48                15.0       1575.0           262.0   \n",
       "12549    -121.95     37.29                30.0       3734.0           813.0   \n",
       "\n",
       "       population  households  median_income  median_house_value  \n",
       "0          1684.0       701.0         4.2312            197000.0  \n",
       "1          2374.0       753.0         5.9790            285200.0  \n",
       "2           484.0       174.0         6.1648            371900.0  \n",
       "3           639.0       278.0         5.8415            283300.0  \n",
       "4          1333.0       503.0         4.0536            277200.0  \n",
       "...           ...         ...            ...                 ...  \n",
       "12545       889.0       299.0         4.6771            212000.0  \n",
       "12546       754.0       174.0         2.0486            101800.0  \n",
       "12547      3025.0       948.0         4.0931            134200.0  \n",
       "12548       716.0       259.0         5.3409            244600.0  \n",
       "12549      1834.0       824.0         3.4505            260000.0  \n",
       "\n",
       "[12550 rows x 9 columns]"
      ]
     },
     "execution_count": 61,
     "metadata": {},
     "output_type": "execute_result"
    }
   ],
   "source": [
    "ocean_full_train = ocean_full_train.reset_index(drop=True)\n",
    "ocean_full_train"
   ]
  },
  {
   "cell_type": "code",
   "execution_count": 62,
   "id": "7ff6a0bb",
   "metadata": {},
   "outputs": [
    {
     "data": {
      "text/plain": [
       "array([11.16196275, 12.32163544, 12.4718963 , ..., 12.53968723,\n",
       "       12.34279083, 11.97477721])"
      ]
     },
     "execution_count": 62,
     "metadata": {},
     "output_type": "execute_result"
    }
   ],
   "source": [
    "y_full_train = np.concatenate([y_train, y_val])\n",
    "y_full_train"
   ]
  },
  {
   "cell_type": "code",
   "execution_count": 63,
   "id": "25096cb9",
   "metadata": {},
   "outputs": [
    {
     "data": {
      "text/plain": [
       "0.56"
      ]
     },
     "execution_count": 63,
     "metadata": {},
     "output_type": "execute_result"
    }
   ],
   "source": [
    "r = 0.001\n",
    "X_full_train = get_X(ocean_full_train)\n",
    "w0, w = linear_regression_r(X_full_train, y_full_train, r=r)\n",
    "\n",
    "X_test = get_X(ocean_cols_test)\n",
    "y_pred = w0 + X_test.dot(w)\n",
    "score = rmse(y_test,y_pred)\n",
    "score"
   ]
  },
  {
   "cell_type": "code",
   "execution_count": 64,
   "id": "b55f7290",
   "metadata": {},
   "outputs": [
    {
     "name": "stdout",
     "output_type": "stream",
     "text": [
      "0.00024853941876812335\n",
      "mae :  0.4481965350198676\n",
      "mse :  0.31171975303682203\n",
      "rmse :  0.6694748203030997\n"
     ]
    }
   ],
   "source": [
    "#Using scikit learn:\n",
    "\n",
    "from sklearn.metrics import mean_absolute_error, mean_squared_error, r2_score\n",
    "print(r2_score(y_test,y_pred))\n",
    "print('mae : ', mean_absolute_error(y_test, y_pred))\n",
    "print('mse : ', mean_squared_error(y_test, y_pred))\n",
    "print('rmse : ', np.sqrt(mean_absolute_error(y_test, y_pred)))"
   ]
  },
  {
   "cell_type": "code",
   "execution_count": null,
   "id": "f5462f32",
   "metadata": {},
   "outputs": [],
   "source": []
  }
 ],
 "metadata": {
  "kernelspec": {
   "display_name": "Python 3 (ipykernel)",
   "language": "python",
   "name": "python3"
  },
  "language_info": {
   "codemirror_mode": {
    "name": "ipython",
    "version": 3
   },
   "file_extension": ".py",
   "mimetype": "text/x-python",
   "name": "python",
   "nbconvert_exporter": "python",
   "pygments_lexer": "ipython3",
   "version": "3.9.12"
  }
 },
 "nbformat": 4,
 "nbformat_minor": 5
}
